{
  "nbformat": 4,
  "nbformat_minor": 0,
  "metadata": {
    "colab": {
      "name": "1. Initial Setup.ipynb",
      "provenance": [],
      "collapsed_sections": [],
      "authorship_tag": "ABX9TyMccPSQLaDE8fmhMG7aMsa3",
      "include_colab_link": true
    },
    "kernelspec": {
      "name": "python3",
      "display_name": "Python 3"
    },
    "language_info": {
      "name": "python"
    }
  },
  "cells": [
    {
      "cell_type": "markdown",
      "metadata": {
        "id": "view-in-github",
        "colab_type": "text"
      },
      "source": [
        "<a href=\"https://colab.research.google.com/github/rahulkumar-datascientist/Detecting-Silent-Cardiac-Atrial-fibrillation-from-PPG-and-single-lead-ECG-Data-using-CNN-LSTM/blob/master/1.%20Initial_Setup.ipynb\" target=\"_parent\"><img src=\"https://colab.research.google.com/assets/colab-badge.svg\" alt=\"Open In Colab\"/></a>"
      ]
    },
    {
      "cell_type": "markdown",
      "metadata": {
        "id": "iSLwh-l7ubi2"
      },
      "source": [
        "## Installing necessary Data and Packages"
      ]
    },
    {
      "cell_type": "code",
      "metadata": {
        "id": "pAy2KZY-EG7e"
      },
      "source": [
        "# ! wget -r -N -c -np https://physionet.org/files/challenge-2017/1.0.0/training2017.zip"
      ],
      "execution_count": null,
      "outputs": []
    },
    {
      "cell_type": "code",
      "metadata": {
        "id": "hz9EaGJrDzKp"
      },
      "source": [
        "# !pip install wfdb\n",
        "# !pip install wget"
      ],
      "execution_count": null,
      "outputs": []
    },
    {
      "cell_type": "code",
      "metadata": {
        "id": "k1FHJZakAoA3"
      },
      "source": [
        "# pip install ecg_plot"
      ],
      "execution_count": null,
      "outputs": []
    },
    {
      "cell_type": "markdown",
      "metadata": {
        "id": "PdFqAWY3uyGa"
      },
      "source": [
        "## Extracting Data from downloaded zip file"
      ]
    },
    {
      "cell_type": "code",
      "metadata": {
        "colab": {
          "base_uri": "https://localhost:8080/"
        },
        "id": "3NsvhGBiKg0Y",
        "outputId": "f8e1864d-7575-417e-8b6e-bceea0bbc18b"
      },
      "source": [
        "%cd /content/drive/MyDrive/Colab Notebooks/Galenband Project"
      ],
      "execution_count": null,
      "outputs": [
        {
          "output_type": "stream",
          "text": [
            "/content/drive/MyDrive/Colab Notebooks/Galenband Project\n"
          ],
          "name": "stdout"
        }
      ]
    },
    {
      "cell_type": "code",
      "metadata": {
        "id": "L_Sav_kjEryj"
      },
      "source": [
        "# # DO NOT RUN AGAIN\n",
        "database_filename = \"training2017.zip\"\n",
        "\n",
        "with zipfile.ZipFile(database_filename, 'r') as zip_ref:\n",
        "  zip_ref.extractall(\"Data/.\")"
      ],
      "execution_count": null,
      "outputs": []
    },
    {
      "cell_type": "code",
      "metadata": {
        "colab": {
          "base_uri": "https://localhost:8080/"
        },
        "id": "sF0D78rcTHbD",
        "outputId": "e029ac3e-834e-463b-9f21-bb30d5b1f114"
      },
      "source": [
        "%cd /content/drive/MyDrive/Colab Notebooks/Galenband Project/Data/training2017"
      ],
      "execution_count": null,
      "outputs": [
        {
          "output_type": "stream",
          "text": [
            "/content/drive/MyDrive/Colab Notebooks/Galenband Project/Data/training2017\n"
          ],
          "name": "stdout"
        }
      ]
    }
  ]
}