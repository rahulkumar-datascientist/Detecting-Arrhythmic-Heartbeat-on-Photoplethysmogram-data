{
  "nbformat": 4,
  "nbformat_minor": 0,
  "metadata": {
    "colab": {
      "name": "3. LSTM models - PhysioNet.ipynb",
      "provenance": [],
      "collapsed_sections": [],
      "toc_visible": true,
      "mount_file_id": "1Wxb3QHSVoiPCS0dh7oprpmiBxEM80nKI",
      "authorship_tag": "ABX9TyMTIcpEkpk4D3p6sKKjcDK6",
      "include_colab_link": true
    },
    "kernelspec": {
      "name": "python3",
      "display_name": "Python 3"
    },
    "language_info": {
      "name": "python"
    }
  },
  "cells": [
    {
      "cell_type": "markdown",
      "metadata": {
        "id": "view-in-github",
        "colab_type": "text"
      },
      "source": [
        "<a href=\"https://colab.research.google.com/github/rahulkumar-datascientist/Detecting-Silent-Cardiac-Atrial-fibrillation-from-PPG-and-single-lead-ECG-Data-using-CNN-LSTM/blob/master/3.%20LSTM_models_PhysioNet.ipynb\" target=\"_parent\"><img src=\"https://colab.research.google.com/assets/colab-badge.svg\" alt=\"Open In Colab\"/></a>"
      ]
    },
    {
      "cell_type": "markdown",
      "metadata": {
        "id": "_zoVq3CVvEzb"
      },
      "source": [
        "# Importing Packages"
      ]
    },
    {
      "cell_type": "code",
      "metadata": {
        "id": "vUVbCLU8vBmy"
      },
      "source": [
        "import pandas as pd\n",
        "import numpy as np\n",
        "from scipy.io import loadmat\n",
        "import os, os.path\n",
        "import matplotlib.pyplot as plt\n",
        "pd.options.mode.chained_assignment = None  # default='warn'\n",
        "\n",
        "import zipfile\n",
        "import re\n",
        "import pickle\n",
        "import keras\n",
        "from sklearn.model_selection import train_test_split\n",
        "from keras.layers import Bidirectional, LSTM, Activation, Dense, Dropout, BatchNormalization, InputLayer, Conv1D, MaxPooling1D, Flatten\n",
        "from keras.models import Sequential, load_model\n",
        "from keras.callbacks import ModelCheckpoint\n",
        "from sklearn.utils import class_weight\n",
        "from sklearn.metrics import confusion_matrix, accuracy_score, precision_score, recall_score, f1_score\n"
      ],
      "execution_count": null,
      "outputs": []
    },
    {
      "cell_type": "markdown",
      "metadata": {
        "id": "gtx8accRnI0_"
      },
      "source": [
        "# Preparing the data according to the model Architecture"
      ]
    },
    {
      "cell_type": "code",
      "metadata": {
        "colab": {
          "base_uri": "https://localhost:8080/"
        },
        "id": "ZBdMqlhvp4-G",
        "outputId": "8081f9d7-88d9-4d75-d86c-bb94c2b95d06"
      },
      "source": [
        "%cd /content/drive/MyDrive/Colab Notebooks/Galenband Project"
      ],
      "execution_count": null,
      "outputs": [
        {
          "output_type": "stream",
          "text": [
            "/content/drive/MyDrive/Colab Notebooks/Galenband Project\n"
          ],
          "name": "stdout"
        }
      ]
    },
    {
      "cell_type": "code",
      "metadata": {
        "id": "wiclA_BRp4-I"
      },
      "source": [
        "# loading the saved dataframe\n",
        "train_normalised                  = pd.read_pickle('Dataframes/Train_normalised.pkl')\n",
        "train_normalised_aug              = pd.read_pickle('Dataframes/Train_normalised_aug.pkl')\n",
        "\n",
        "train_normalised_oversampled      = pd.read_pickle('Dataframes/train_normalised_oversampled.pkl')\n",
        "train_normalised_aug_oversampled  = pd.read_pickle('Dataframes/train_normalised_aug_oversampled.pkl')\n",
        "\n",
        "test_normalised                   = pd.read_pickle('Dataframes/Test_normalised.pkl')"
      ],
      "execution_count": null,
      "outputs": []
    },
    {
      "cell_type": "markdown",
      "metadata": {
        "id": "IF59fNsfwTbx"
      },
      "source": [
        "### Function to prepare train, test and validation data"
      ]
    },
    {
      "cell_type": "code",
      "metadata": {
        "id": "3UCdoq0zwK5K"
      },
      "source": [
        "def prepare_data(train_set, test_set, test_prop = 0.3):\n",
        "\n",
        "  # splitting the data into test and validation set\n",
        "  val_set, test_set = train_test_split(test_set, test_size=test_prop, random_state=42, shuffle=True)\n",
        "  \n",
        "  test_set.reset_index(drop=True, inplace=True)\n",
        "  val_set.reset_index(drop=True, inplace=True)\n",
        "\n",
        "  # Splitting into input and output variables\n",
        "  X_train = train_set.signals\n",
        "  Y_train = train_set.output_label\n",
        "\n",
        "  X_test = test_set.signals\n",
        "  Y_test = test_set.output_label\n",
        "\n",
        "  X_val = val_set.signals\n",
        "  Y_val = val_set.output_label\n",
        "\n",
        "  #####\n",
        "  input_train   = np.zeros((len(X_train), 9000), dtype='float32')\n",
        "  output_train = np.zeros(len(Y_train), dtype='float32')\n",
        "\n",
        "  input_test   = np.zeros((len(X_test), 9000), dtype='float32')\n",
        "  output_test = np.zeros(len(Y_test), dtype='float32')\n",
        "\n",
        "  input_val   = np.zeros((len(X_val), 9000), dtype='float32')\n",
        "  output_val = np.zeros(len(Y_val), dtype='float32')\n",
        "\n",
        "  # modeling X input\n",
        "  for index, value in enumerate(X_train):\n",
        "    input_train[index] = value[0]\n",
        "\n",
        "\n",
        "  for index, value in enumerate(X_test):\n",
        "    input_test[index] = value[0]\n",
        "\n",
        "\n",
        "  for index, value in enumerate(X_val):\n",
        "    input_val[index] = value[0]\n",
        "\n",
        "  \n",
        "  # class 0 = Normal, class 1 = Afib\n",
        "  # modeling Y output\n",
        "  for index,value in enumerate(Y_train):\n",
        "    if(value == 'N'):\n",
        "      output_train[index] = 0\n",
        "    else:\n",
        "      output_train[index] = 1\n",
        "\n",
        "  # modeling Y output\n",
        "  for index,value in enumerate(Y_test):\n",
        "    if(value == 'N'):\n",
        "      output_test[index] = 0\n",
        "    else:\n",
        "      output_test[index] = 1\n",
        "\n",
        "  # modeling Y output\n",
        "  for index,value in enumerate(Y_val):\n",
        "    if(value == 'N'):\n",
        "      output_val[index] = 0\n",
        "    else:\n",
        "      output_val[index] = 1\n",
        "\n",
        "  ## expanding the dimensions\n",
        "  input_train = input_train.reshape(len(input_train), 9000, 1)\n",
        "  output_train = output_train.reshape(len(output_train), 1)\n",
        "\n",
        "  input_test = input_test.reshape(len(input_test), 9000, 1)\n",
        "  output_test = output_test.reshape(len(output_test), 1)\n",
        "\n",
        "  input_val = input_val.reshape(len(input_val), 9000, 1)\n",
        "  output_val = output_val.reshape(len(output_val), 1)\n",
        "\n",
        "  ## return the data\n",
        "  return (input_train, output_train, input_test, output_test, input_val, output_val)\n",
        "\n"
      ],
      "execution_count": null,
      "outputs": []
    },
    {
      "cell_type": "markdown",
      "metadata": {
        "id": "0lUo4gVqnIv2"
      },
      "source": [
        "# 1. Models without Oversampling Technique "
      ]
    },
    {
      "cell_type": "markdown",
      "metadata": {
        "id": "HwaDwi6EnIpM"
      },
      "source": [
        "## 1.1 Model using Normal data"
      ]
    },
    {
      "cell_type": "code",
      "metadata": {
        "id": "fQ-7ROCMzTSH"
      },
      "source": [
        "input_train, output_train, input_test, output_test, input_val, output_val = prepare_data(train_normalised, test_normalised, 0.3)"
      ],
      "execution_count": null,
      "outputs": []
    },
    {
      "cell_type": "code",
      "metadata": {
        "colab": {
          "base_uri": "https://localhost:8080/"
        },
        "id": "CLlSS4Q4z3B3",
        "outputId": "1ff1a0fb-7cfe-456e-8520-84fed5267d2a"
      },
      "source": [
        "print(\"input train shape:\\t \", input_train.shape)\n",
        "print(\"output train shape:\\t \", output_train.shape)\n",
        "\n",
        "print(\"\\ninput test shape:\\t \", input_test.shape)\n",
        "print(\"output test shape:\\t \", output_test.shape)\n",
        "\n",
        "print(\"\\ninput val shape:\\t \", input_val.shape)\n",
        "print(\"output val shape:\\t \", output_val.shape)"
      ],
      "execution_count": null,
      "outputs": [
        {
          "output_type": "stream",
          "text": [
            "input train shape:\t  (3975, 9000, 1)\n",
            "output train shape:\t  (3975, 1)\n",
            "\n",
            "input test shape:\t  (504, 9000, 1)\n",
            "output test shape:\t  (504, 1)\n",
            "\n",
            "input val shape:\t  (1176, 9000, 1)\n",
            "output val shape:\t  (1176, 1)\n"
          ],
          "name": "stdout"
        }
      ]
    },
    {
      "cell_type": "markdown",
      "metadata": {
        "id": "lLcOX1a5oAk8"
      },
      "source": [
        "### 1.1.1 MODEL 1"
      ]
    },
    {
      "cell_type": "code",
      "metadata": {
        "id": "xM95uH233QPQ"
      },
      "source": [
        "# class_weights = class_weight.compute_class_weight('balanced',np.unique(output_train.flatten()), output_train.flatten())\n",
        "\n",
        "# class_weight_dict = dict(enumerate(class_weights))\n",
        "\n",
        "# class_weight_dict"
      ],
      "execution_count": null,
      "outputs": []
    },
    {
      "cell_type": "code",
      "metadata": {
        "id": "oUfVaT6e3QPR"
      },
      "source": [
        "# Defining parameter values\n",
        "epochs          = 50\n",
        "batch_size      = 16"
      ],
      "execution_count": null,
      "outputs": []
    },
    {
      "cell_type": "code",
      "metadata": {
        "colab": {
          "base_uri": "https://localhost:8080/"
        },
        "id": "KPccTiDx3QPS",
        "outputId": "87e70045-8f24-455b-9b37-894e85a9acbb"
      },
      "source": [
        "normal_nooversample_model_1 = Sequential()\n",
        "\n",
        "input_shape = (9000, 1)\n",
        "normal_nooversample_model_1.add(InputLayer(input_shape=input_shape))\n",
        "\n",
        "normal_nooversample_model_1.add(LSTM(64,activation = \"tanh\", return_sequences = True))\n",
        "normal_nooversample_model_1.add(Dropout(0.2))\n",
        "normal_nooversample_model_1.add(LSTM(32, activation = \"tanh\"))\n",
        "normal_nooversample_model_1.add(Dropout(0.2))\n",
        "normal_nooversample_model_1.add(Dense(32, activation='tanh'))\n",
        "normal_nooversample_model_1.add(BatchNormalization())\n",
        "normal_nooversample_model_1.add(Dense(1, activation = 'sigmoid'))\n",
        "\n",
        "normal_nooversample_model_1.summary()"
      ],
      "execution_count": null,
      "outputs": [
        {
          "output_type": "stream",
          "text": [
            "Model: \"sequential\"\n",
            "_________________________________________________________________\n",
            "Layer (type)                 Output Shape              Param #   \n",
            "=================================================================\n",
            "lstm (LSTM)                  (None, 9000, 64)          16896     \n",
            "_________________________________________________________________\n",
            "dropout (Dropout)            (None, 9000, 64)          0         \n",
            "_________________________________________________________________\n",
            "lstm_1 (LSTM)                (None, 32)                12416     \n",
            "_________________________________________________________________\n",
            "dropout_1 (Dropout)          (None, 32)                0         \n",
            "_________________________________________________________________\n",
            "dense (Dense)                (None, 32)                1056      \n",
            "_________________________________________________________________\n",
            "batch_normalization (BatchNo (None, 32)                128       \n",
            "_________________________________________________________________\n",
            "dense_1 (Dense)              (None, 1)                 33        \n",
            "=================================================================\n",
            "Total params: 30,529\n",
            "Trainable params: 30,465\n",
            "Non-trainable params: 64\n",
            "_________________________________________________________________\n"
          ],
          "name": "stdout"
        }
      ]
    },
    {
      "cell_type": "code",
      "metadata": {
        "id": "A1S1FTqN3QPS"
      },
      "source": [
        "# model training configuration \n",
        "normal_nooversample_model_1.compile(optimizer = keras.optimizers.Adam(),\n",
        "                                    loss      = keras.losses.BinaryCrossentropy(),\n",
        "                                    metrics   = [keras.metrics.BinaryAccuracy()])\n",
        "\n",
        "#SGD(learning_rate=0.01, decay=1e-6, momentum=0.9, nesterov=True)\n",
        "\n",
        "# Callback to reduce the learning rate when the validation loss has stopped improving\n",
        "reduce_lr = keras.callbacks.ReduceLROnPlateau(monitor = 'val_loss', factor = 0.1, patience = 25, mode = 'min')\n",
        "\n",
        "# Callback to stop training the model when the validation loss has stopped improving\n",
        "early_stop = keras.callbacks.EarlyStopping(monitor = 'val_loss', patience = 35, mode = 'min')\n",
        "\n",
        "# CHECKPOINT callback\n",
        "filepath = \"Training_models/LSTM Normal data/Model 1/ECG.epoch_{epoch:02d}.TL_{loss:.4f}.VL_{val_loss:.4f}.TA_{binary_accuracy:.2f}.VA_{val_binary_accuracy:.2f}.hdf5\"\n",
        "\n",
        "# Save training model when there is an improvement in validation_accuracy from the previous checkpint\n",
        "model_save = keras.callbacks.ModelCheckpoint(filepath, \n",
        "                                             monitor = 'val_binary_accuracy',\n",
        "                                             save_best_only=True, \n",
        "                                             mode = 'max')\n",
        "\n",
        "\n"
      ],
      "execution_count": null,
      "outputs": []
    },
    {
      "cell_type": "code",
      "metadata": {
        "colab": {
          "base_uri": "https://localhost:8080/"
        },
        "id": "9zwFBPZO3QPU",
        "outputId": "0fb50ba0-dabf-49ef-ec2c-b37346043d15"
      },
      "source": [
        "# Fitting the model\n",
        "normal_nooversample_model_1_his = normal_nooversample_model_1.fit(input_train, output_train,\n",
        "                                                                  batch_size = batch_size , epochs = epochs, \n",
        "                                                                  validation_data = (input_val, output_val),\n",
        "                                                                  # class_weight=class_weight_dict_1,\n",
        "                                                                  callbacks=[early_stop, reduce_lr,model_save])"
      ],
      "execution_count": null,
      "outputs": [
        {
          "output_type": "stream",
          "text": [
            "Epoch 1/50\n",
            "249/249 [==============================] - 135s 447ms/step - loss: 0.6144 - binary_accuracy: 0.7077 - val_loss: 0.3640 - val_binary_accuracy: 0.8929\n",
            "Epoch 2/50\n",
            "249/249 [==============================] - 110s 442ms/step - loss: 0.3836 - binary_accuracy: 0.8772 - val_loss: 0.3542 - val_binary_accuracy: 0.8929\n",
            "Epoch 3/50\n",
            "249/249 [==============================] - 110s 443ms/step - loss: 0.3965 - binary_accuracy: 0.8674 - val_loss: 0.3486 - val_binary_accuracy: 0.8929\n",
            "Epoch 4/50\n",
            "249/249 [==============================] - 111s 445ms/step - loss: 0.4043 - binary_accuracy: 0.8625 - val_loss: 0.3443 - val_binary_accuracy: 0.8929\n",
            "Epoch 5/50\n",
            "249/249 [==============================] - 111s 445ms/step - loss: 0.3799 - binary_accuracy: 0.8737 - val_loss: 0.3423 - val_binary_accuracy: 0.8929\n",
            "Epoch 6/50\n",
            "249/249 [==============================] - 111s 446ms/step - loss: 0.4032 - binary_accuracy: 0.8606 - val_loss: 0.3519 - val_binary_accuracy: 0.8929\n",
            "Epoch 7/50\n",
            "249/249 [==============================] - 111s 445ms/step - loss: 0.3764 - binary_accuracy: 0.8755 - val_loss: 0.3516 - val_binary_accuracy: 0.8929\n",
            "Epoch 8/50\n",
            "249/249 [==============================] - 111s 445ms/step - loss: 0.3668 - binary_accuracy: 0.8791 - val_loss: 0.3468 - val_binary_accuracy: 0.8929\n",
            "Epoch 9/50\n",
            "249/249 [==============================] - 111s 445ms/step - loss: 0.3919 - binary_accuracy: 0.8647 - val_loss: 0.3416 - val_binary_accuracy: 0.8929\n",
            "Epoch 10/50\n",
            "249/249 [==============================] - 111s 445ms/step - loss: 0.3849 - binary_accuracy: 0.8685 - val_loss: 0.3440 - val_binary_accuracy: 0.8929\n",
            "Epoch 11/50\n",
            "249/249 [==============================] - 111s 446ms/step - loss: 0.3917 - binary_accuracy: 0.8674 - val_loss: 0.3430 - val_binary_accuracy: 0.8929\n",
            "Epoch 12/50\n",
            "249/249 [==============================] - 111s 445ms/step - loss: 0.4013 - binary_accuracy: 0.8618 - val_loss: 0.3462 - val_binary_accuracy: 0.8929\n",
            "Epoch 13/50\n",
            "249/249 [==============================] - 111s 446ms/step - loss: 0.3889 - binary_accuracy: 0.8646 - val_loss: 0.3526 - val_binary_accuracy: 0.8929\n",
            "Epoch 14/50\n",
            "249/249 [==============================] - 110s 444ms/step - loss: 0.3826 - binary_accuracy: 0.8660 - val_loss: 0.3447 - val_binary_accuracy: 0.8929\n",
            "Epoch 15/50\n",
            "249/249 [==============================] - 111s 445ms/step - loss: 0.3701 - binary_accuracy: 0.8750 - val_loss: 0.3665 - val_binary_accuracy: 0.8929\n",
            "Epoch 16/50\n",
            "249/249 [==============================] - 111s 447ms/step - loss: 0.3667 - binary_accuracy: 0.8775 - val_loss: 0.3486 - val_binary_accuracy: 0.8929\n",
            "Epoch 17/50\n",
            "249/249 [==============================] - 111s 445ms/step - loss: 0.3660 - binary_accuracy: 0.8746 - val_loss: 0.3404 - val_binary_accuracy: 0.8929\n",
            "Epoch 18/50\n",
            "249/249 [==============================] - 111s 445ms/step - loss: 0.3761 - binary_accuracy: 0.8702 - val_loss: 0.3531 - val_binary_accuracy: 0.8929\n",
            "Epoch 19/50\n",
            "249/249 [==============================] - 111s 445ms/step - loss: 0.3735 - binary_accuracy: 0.8739 - val_loss: 0.3591 - val_binary_accuracy: 0.8878\n",
            "Epoch 20/50\n",
            "249/249 [==============================] - 111s 446ms/step - loss: 0.3611 - binary_accuracy: 0.8770 - val_loss: 0.3542 - val_binary_accuracy: 0.8895\n",
            "Epoch 21/50\n",
            "249/249 [==============================] - 111s 446ms/step - loss: 0.3644 - binary_accuracy: 0.8723 - val_loss: 0.3514 - val_binary_accuracy: 0.8912\n",
            "Epoch 22/50\n",
            "249/249 [==============================] - 111s 446ms/step - loss: 0.3835 - binary_accuracy: 0.8656 - val_loss: 0.3589 - val_binary_accuracy: 0.8878\n",
            "Epoch 23/50\n",
            "249/249 [==============================] - 111s 447ms/step - loss: 0.3738 - binary_accuracy: 0.8682 - val_loss: 0.3457 - val_binary_accuracy: 0.8878\n",
            "Epoch 24/50\n",
            "249/249 [==============================] - 111s 445ms/step - loss: 0.3682 - binary_accuracy: 0.8706 - val_loss: 0.3763 - val_binary_accuracy: 0.8878\n",
            "Epoch 25/50\n",
            "249/249 [==============================] - 111s 447ms/step - loss: 0.3783 - binary_accuracy: 0.8669 - val_loss: 0.3541 - val_binary_accuracy: 0.8852\n",
            "Epoch 26/50\n",
            "249/249 [==============================] - 111s 444ms/step - loss: 0.3731 - binary_accuracy: 0.8697 - val_loss: 0.3514 - val_binary_accuracy: 0.8886\n",
            "Epoch 27/50\n",
            "249/249 [==============================] - 111s 447ms/step - loss: 0.3703 - binary_accuracy: 0.8704 - val_loss: 0.3499 - val_binary_accuracy: 0.8844\n",
            "Epoch 28/50\n",
            "249/249 [==============================] - 111s 444ms/step - loss: 0.3550 - binary_accuracy: 0.8703 - val_loss: 0.3594 - val_binary_accuracy: 0.8844\n",
            "Epoch 29/50\n",
            "249/249 [==============================] - 111s 446ms/step - loss: 0.3467 - binary_accuracy: 0.8797 - val_loss: 0.3595 - val_binary_accuracy: 0.8784\n",
            "Epoch 30/50\n",
            "249/249 [==============================] - 111s 445ms/step - loss: 0.3446 - binary_accuracy: 0.8812 - val_loss: 0.3694 - val_binary_accuracy: 0.8759\n",
            "Epoch 31/50\n",
            "249/249 [==============================] - 111s 446ms/step - loss: 0.3457 - binary_accuracy: 0.8777 - val_loss: 0.3543 - val_binary_accuracy: 0.8886\n",
            "Epoch 32/50\n",
            "249/249 [==============================] - 111s 446ms/step - loss: 0.3584 - binary_accuracy: 0.8741 - val_loss: 0.3635 - val_binary_accuracy: 0.8784\n",
            "Epoch 33/50\n",
            "249/249 [==============================] - 111s 447ms/step - loss: 0.3410 - binary_accuracy: 0.8774 - val_loss: 0.3750 - val_binary_accuracy: 0.8784\n",
            "Epoch 34/50\n",
            "249/249 [==============================] - 111s 444ms/step - loss: 0.3305 - binary_accuracy: 0.8807 - val_loss: 0.3918 - val_binary_accuracy: 0.8716\n",
            "Epoch 35/50\n",
            "249/249 [==============================] - 111s 446ms/step - loss: 0.3354 - binary_accuracy: 0.8768 - val_loss: 0.3608 - val_binary_accuracy: 0.8844\n",
            "Epoch 36/50\n",
            "249/249 [==============================] - 111s 445ms/step - loss: 0.3268 - binary_accuracy: 0.8839 - val_loss: 0.3559 - val_binary_accuracy: 0.8861\n",
            "Epoch 37/50\n",
            "249/249 [==============================] - 111s 445ms/step - loss: 0.3259 - binary_accuracy: 0.8850 - val_loss: 0.3733 - val_binary_accuracy: 0.8835\n",
            "Epoch 38/50\n",
            "249/249 [==============================] - 111s 447ms/step - loss: 0.3328 - binary_accuracy: 0.8791 - val_loss: 0.3623 - val_binary_accuracy: 0.8810\n",
            "Epoch 39/50\n",
            "249/249 [==============================] - 111s 448ms/step - loss: 0.3264 - binary_accuracy: 0.8829 - val_loss: 0.3788 - val_binary_accuracy: 0.8699\n",
            "Epoch 40/50\n",
            "249/249 [==============================] - 110s 444ms/step - loss: 0.3179 - binary_accuracy: 0.8870 - val_loss: 0.3700 - val_binary_accuracy: 0.8776\n",
            "Epoch 41/50\n",
            "249/249 [==============================] - 111s 448ms/step - loss: 0.3006 - binary_accuracy: 0.8933 - val_loss: 0.4011 - val_binary_accuracy: 0.8554\n",
            "Epoch 42/50\n",
            "249/249 [==============================] - 111s 444ms/step - loss: 0.3117 - binary_accuracy: 0.8861 - val_loss: 0.3722 - val_binary_accuracy: 0.8801\n",
            "Epoch 43/50\n",
            "249/249 [==============================] - 111s 445ms/step - loss: 0.3118 - binary_accuracy: 0.8939 - val_loss: 0.3790 - val_binary_accuracy: 0.8690\n",
            "Epoch 44/50\n",
            "249/249 [==============================] - 111s 445ms/step - loss: 0.3075 - binary_accuracy: 0.8925 - val_loss: 0.3823 - val_binary_accuracy: 0.8707\n",
            "Epoch 45/50\n",
            "249/249 [==============================] - 111s 446ms/step - loss: 0.2796 - binary_accuracy: 0.9058 - val_loss: 0.3871 - val_binary_accuracy: 0.8682\n",
            "Epoch 46/50\n",
            "249/249 [==============================] - 111s 444ms/step - loss: 0.2950 - binary_accuracy: 0.8948 - val_loss: 0.3871 - val_binary_accuracy: 0.8682\n",
            "Epoch 47/50\n",
            "249/249 [==============================] - 111s 446ms/step - loss: 0.2865 - binary_accuracy: 0.8949 - val_loss: 0.3949 - val_binary_accuracy: 0.8614\n",
            "Epoch 48/50\n",
            "249/249 [==============================] - 110s 443ms/step - loss: 0.2870 - binary_accuracy: 0.9010 - val_loss: 0.3987 - val_binary_accuracy: 0.8571\n",
            "Epoch 49/50\n",
            "249/249 [==============================] - 110s 443ms/step - loss: 0.2817 - binary_accuracy: 0.9022 - val_loss: 0.3950 - val_binary_accuracy: 0.8648\n",
            "Epoch 50/50\n",
            "249/249 [==============================] - 111s 447ms/step - loss: 0.2721 - binary_accuracy: 0.9032 - val_loss: 0.3955 - val_binary_accuracy: 0.8648\n"
          ],
          "name": "stdout"
        }
      ]
    },
    {
      "cell_type": "code",
      "metadata": {
        "colab": {
          "base_uri": "https://localhost:8080/",
          "height": 573
        },
        "id": "2nbgVfJFrfIp",
        "outputId": "c34c8040-633a-4f53-e850-bf7753455c32"
      },
      "source": [
        "# list all data in history\n",
        "# print(model_history.history.keys())\n",
        "\n",
        "model_history = normal_nooversample_model_1_his\n",
        "\n",
        "# summarize history for accuracy\n",
        "plt.plot(model_history.history['binary_accuracy'])\n",
        "plt.plot(model_history.history['val_binary_accuracy'])\n",
        "plt.title('Model Accuracy')\n",
        "plt.ylabel('Accuracy')\n",
        "plt.xlabel('Epoch')\n",
        "# plt.ylim([0.60, 1.00])\n",
        "plt.legend(['Training', 'Validation'], loc='lower right')\n",
        "plt.show()\n",
        "\n",
        "# summarize history for loss\n",
        "plt.plot(model_history.history['loss'])\n",
        "plt.plot(model_history.history['val_loss'])\n",
        "plt.title('Model Loss')\n",
        "plt.ylabel('Loss')\n",
        "plt.xlabel('Epoch')\n",
        "plt.legend(['Training', 'Validation'], loc='best')\n",
        "plt.show()"
      ],
      "execution_count": null,
      "outputs": [
        {
          "output_type": "display_data",
          "data": {
            "image/png": "[encoded data removed]",
            "text/plain": [
              "<Figure size 432x288 with 1 Axes>"
            ]
          },
          "metadata": {
            "tags": [],
            "needs_background": "light"
          }
        },
        {
          "output_type": "display_data",
          "data": {
            "image/png": "[encoded data removed]",
            "text/plain": [
              "<Figure size 432x288 with 1 Axes>"
            ]
          },
          "metadata": {
            "tags": [],
            "needs_background": "light"
          }
        }
      ]
    },
    {
      "cell_type": "markdown",
      "metadata": {
        "id": "IgKrRrrWC4Zl"
      },
      "source": [
        "Model Evaluation"
      ]
    },
    {
      "cell_type": "code",
      "metadata": {
        "colab": {
          "base_uri": "https://localhost:8080/"
        },
        "id": "b5H76D6w7A0a",
        "outputId": "52fb4931-5bfc-45ff-e980-0326e920b3ad"
      },
      "source": [
        "# Load the Final model\n",
        "# model = keras.models.load_model('Training_models/CNN-LSTM Normal data/Model 1/ECG.epoch_29.TL_0.2979.VL_0.3098.TA_0.89.VA_0.90.hdf5')\n",
        "\n",
        "model = normal_nooversample_model_1\n",
        "\n",
        "test_scores = model.evaluate(input_test, output_test, verbose = 0)\n",
        "print(\"Test loss:\", test_scores[0])               # 0.1305         \n",
        "print(\"Test accuracy:\", test_scores[1])           # 0.9650"
      ],
      "execution_count": null,
      "outputs": [
        {
          "output_type": "stream",
          "text": [
            "Test loss: 0.4905490279197693\n",
            "Test accuracy: 0.8194444179534912\n"
          ],
          "name": "stdout"
        }
      ]
    },
    {
      "cell_type": "code",
      "metadata": {
        "id": "bXyU8nrxgQ4v",
        "colab": {
          "base_uri": "https://localhost:8080/"
        },
        "outputId": "c1cd397a-a591-4060-e618-ca1382f8010d"
      },
      "source": [
        "yhat = model.predict_classes(input_test)\n",
        "\n",
        "conf_matrix = confusion_matrix(output_test,yhat)"
      ],
      "execution_count": null,
      "outputs": [
        {
          "output_type": "stream",
          "text": [
            "/usr/local/lib/python3.7/dist-packages/keras/engine/sequential.py:450: UserWarning: `model.predict_classes()` is deprecated and will be removed after 2021-01-01. Please use instead:* `np.argmax(model.predict(x), axis=-1)`,   if your model does multi-class classification   (e.g. if it uses a `softmax` last-layer activation).* `(model.predict(x) > 0.5).astype(\"int32\")`,   if your model does binary classification   (e.g. if it uses a `sigmoid` last-layer activation).\n",
            "  warnings.warn('`model.predict_classes()` is deprecated and '\n"
          ],
          "name": "stderr"
        }
      ]
    },
    {
      "cell_type": "code",
      "metadata": {
        "colab": {
          "base_uri": "https://localhost:8080/",
          "height": 301
        },
        "id": "JtoOtmMGkv-u",
        "outputId": "de3e5e28-47a6-406f-a9fb-fa2dea6185fc"
      },
      "source": [
        "# Print the confusion matrix using Matplotlib\n",
        "\n",
        "fig, ax = plt.subplots()\n",
        "ax.matshow(conf_matrix, cmap=plt.cm.Blues, alpha=0.3)\n",
        "for i in range(conf_matrix.shape[0]):\n",
        "    for j in range(conf_matrix.shape[1]):\n",
        "        ax.text(x=j, y=i,s=conf_matrix[i, j], va='center', ha='center', size='xx-large')\n",
        " \n",
        "plt.xlabel('Predictions', fontsize=18)\n",
        "plt.ylabel('Actuals', fontsize=18)\n",
        "plt.title('Confusion Matrix', fontsize=18)\n",
        "plt.show()"
      ],
      "execution_count": null,
      "outputs": [
        {
          "output_type": "display_data",
          "data": {
            "image/png": "[encoded data removed]",
            "text/plain": [
              "<Figure size 432x288 with 1 Axes>"
            ]
          },
          "metadata": {
            "tags": [],
            "needs_background": "light"
          }
        }
      ]
    },
    {
      "cell_type": "code",
      "metadata": {
        "colab": {
          "base_uri": "https://localhost:8080/"
        },
        "id": "nCRBBxLjlm4e",
        "outputId": "5b0a5f4b-a303-4f6e-b975-363f51bdeb69"
      },
      "source": [
        "accuracy = accuracy_score(output_test, yhat)\n",
        "print('Accuracy:\\t\\t', round(accuracy,4))\n",
        "\n",
        "# precision tp / (tp + fp)\n",
        "precision = precision_score(output_test, yhat)\n",
        "print('Precision:\\t\\t', round(precision,4))\n",
        "\n",
        "# recall: tp / (tp + fn)\n",
        "recall = recall_score(output_test, yhat)\n",
        "print('Recall: \\t\\t', round(recall,4))\n",
        "\n",
        "# f1: 2 tp / (2 tp + fp + fn)\n",
        "f1 = f1_score(output_test, yhat)\n",
        "print('F1 score:\\t\\t', round(f1,4))"
      ],
      "execution_count": null,
      "outputs": [
        {
          "output_type": "stream",
          "text": [
            "Accuracy:\t\t 0.8194\n",
            "Precision:\t\t 0.3171\n",
            "Recall: \t\t 0.1711\n",
            "F1 score:\t\t 0.2222\n"
          ],
          "name": "stdout"
        }
      ]
    },
    {
      "cell_type": "markdown",
      "metadata": {
        "id": "Q6B5lMG7oAdz"
      },
      "source": [
        "### 1.1.2 MODEL 2"
      ]
    },
    {
      "cell_type": "code",
      "metadata": {
        "colab": {
          "base_uri": "https://localhost:8080/"
        },
        "id": "qHkuOBeGEWKQ",
        "outputId": "cf519070-1280-4c48-d42b-448e07bd032c"
      },
      "source": [
        "class_weights = class_weight.compute_class_weight('balanced',np.unique(output_train.flatten()), output_train.flatten())\n",
        "\n",
        "class_weight_dict = dict(enumerate(class_weights))\n",
        "\n",
        "class_weight_dict"
      ],
      "execution_count": null,
      "outputs": [
        {
          "output_type": "execute_result",
          "data": {
            "text/plain": [
              "{0: 0.5745880312228968, 1: 3.8517441860465116}"
            ]
          },
          "metadata": {
            "tags": []
          },
          "execution_count": 17
        }
      ]
    },
    {
      "cell_type": "code",
      "metadata": {
        "id": "jddbUgN4EWKS"
      },
      "source": [
        "# Defining parameter values\n",
        "epochs          = 60\n",
        "batch_size      = 16"
      ],
      "execution_count": null,
      "outputs": []
    },
    {
      "cell_type": "code",
      "metadata": {
        "colab": {
          "base_uri": "https://localhost:8080/"
        },
        "id": "-kyneof4EWKS",
        "outputId": "0da63768-55b5-4acc-f2f4-b80867faf2b0"
      },
      "source": [
        "normal_nooversample_model_2 = Sequential()\n",
        "\n",
        "input_shape = (9000, 1)\n",
        "normal_nooversample_model_2.add(InputLayer(input_shape=input_shape))\n",
        "\n",
        "normal_nooversample_model_2.add(LSTM(64,activation = \"tanh\", return_sequences = True))\n",
        "normal_nooversample_model_2.add(LSTM(32, activation = \"tanh\", return_sequences = True))\n",
        "normal_nooversample_model_2.add(LSTM(16, activation = \"tanh\"))\n",
        "\n",
        "normal_nooversample_model_2.add(Dropout(0.2))\n",
        "normal_nooversample_model_2.add(Dense(32, activation='tanh'))\n",
        "normal_nooversample_model_2.add(BatchNormalization())\n",
        "normal_nooversample_model_2.add(Dense(1, activation = 'sigmoid'))\n",
        "\n",
        "normal_nooversample_model_2.summary()"
      ],
      "execution_count": null,
      "outputs": [
        {
          "output_type": "stream",
          "text": [
            "Model: \"sequential_1\"\n",
            "_________________________________________________________________\n",
            "Layer (type)                 Output Shape              Param #   \n",
            "=================================================================\n",
            "lstm_2 (LSTM)                (None, 9000, 64)          16896     \n",
            "_________________________________________________________________\n",
            "lstm_3 (LSTM)                (None, 9000, 32)          12416     \n",
            "_________________________________________________________________\n",
            "lstm_4 (LSTM)                (None, 16)                3136      \n",
            "_________________________________________________________________\n",
            "dropout_2 (Dropout)          (None, 16)                0         \n",
            "_________________________________________________________________\n",
            "dense_2 (Dense)              (None, 32)                544       \n",
            "_________________________________________________________________\n",
            "batch_normalization_1 (Batch (None, 32)                128       \n",
            "_________________________________________________________________\n",
            "dense_3 (Dense)              (None, 1)                 33        \n",
            "=================================================================\n",
            "Total params: 33,153\n",
            "Trainable params: 33,089\n",
            "Non-trainable params: 64\n",
            "_________________________________________________________________\n"
          ],
          "name": "stdout"
        }
      ]
    },
    {
      "cell_type": "code",
      "metadata": {
        "id": "rSCilOxeEWKT"
      },
      "source": [
        "# model training configuration \n",
        "normal_nooversample_model_2.compile(optimizer = keras.optimizers.Adam(),\n",
        "                                    loss      = keras.losses.BinaryCrossentropy(),\n",
        "                                    metrics   = [keras.metrics.BinaryAccuracy()])\n",
        "\n",
        "#SGD(learning_rate=0.01, decay=1e-6, momentum=0.9, nesterov=True)\n",
        "\n",
        "# Callback to reduce the learning rate when the validation loss has stopped improving\n",
        "reduce_lr = keras.callbacks.ReduceLROnPlateau(monitor = 'val_loss', factor = 0.1, patience = 25, mode = 'min')\n",
        "\n",
        "# Callback to stop training the model when the validation loss has stopped improving\n",
        "early_stop = keras.callbacks.EarlyStopping(monitor = 'val_loss', patience = 35, mode = 'min')\n",
        "\n",
        "# CHECKPOINT callback\n",
        "filepath = \"Training_models/LSTM Normal data/Model 2/ECG.epoch_{epoch:02d}.TL_{loss:.4f}.VL_{val_loss:.4f}.TA_{binary_accuracy:.2f}.VA_{val_binary_accuracy:.2f}.hdf5\"\n",
        "\n",
        "# Save training model when there is an improvement in validation_accuracy from the previous checkpint\n",
        "model_save = keras.callbacks.ModelCheckpoint(filepath, \n",
        "                                             monitor = 'val_binary_accuracy',\n",
        "                                             save_best_only=True, \n",
        "                                             mode = 'max')\n",
        "\n",
        "\n"
      ],
      "execution_count": null,
      "outputs": []
    },
    {
      "cell_type": "code",
      "metadata": {
        "colab": {
          "base_uri": "https://localhost:8080/"
        },
        "id": "CsU7M9GOEWKU",
        "outputId": "03d3f381-a203-4fd4-8f99-c47c304e39e5"
      },
      "source": [
        "# Fitting the model\n",
        "normal_nooversample_model_2_his = normal_nooversample_model_2.fit(input_train, output_train,\n",
        "                                                                  batch_size = batch_size , epochs = epochs, \n",
        "                                                                  validation_data = (input_val, output_val),\n",
        "                                                                  class_weight=class_weight_dict,\n",
        "                                                                  callbacks=[early_stop, reduce_lr,model_save])"
      ],
      "execution_count": null,
      "outputs": [
        {
          "output_type": "stream",
          "text": [
            "WARNING:tensorflow:From /usr/local/lib/python3.7/dist-packages/tensorflow/python/ops/array_ops.py:5049: calling gather (from tensorflow.python.ops.array_ops) with validate_indices is deprecated and will be removed in a future version.\n",
            "Instructions for updating:\n",
            "The `validate_indices` argument has no effect. Indices are always validated on CPU and never validated on GPU.\n",
            "Epoch 1/60\n",
            "249/249 [==============================] - 164s 643ms/step - loss: 0.7102 - binary_accuracy: 0.5138 - val_loss: 0.7366 - val_binary_accuracy: 0.3793\n",
            "Epoch 2/60\n",
            "249/249 [==============================] - 158s 634ms/step - loss: 0.6913 - binary_accuracy: 0.4978 - val_loss: 0.8449 - val_binary_accuracy: 0.2491\n",
            "Epoch 3/60\n",
            "249/249 [==============================] - 159s 637ms/step - loss: 0.7023 - binary_accuracy: 0.5038 - val_loss: 0.6444 - val_binary_accuracy: 0.7330\n",
            "Epoch 4/60\n",
            "249/249 [==============================] - 158s 635ms/step - loss: 0.7005 - binary_accuracy: 0.5235 - val_loss: 0.6150 - val_binary_accuracy: 0.7730\n",
            "Epoch 5/60\n",
            "249/249 [==============================] - 158s 635ms/step - loss: 0.6913 - binary_accuracy: 0.5277 - val_loss: 0.6892 - val_binary_accuracy: 0.5094\n",
            "Epoch 6/60\n",
            "249/249 [==============================] - 159s 638ms/step - loss: 0.6908 - binary_accuracy: 0.5134 - val_loss: 0.7403 - val_binary_accuracy: 0.3776\n",
            "Epoch 7/60\n",
            "249/249 [==============================] - 158s 635ms/step - loss: 0.6965 - binary_accuracy: 0.5566 - val_loss: 0.7184 - val_binary_accuracy: 0.5340\n",
            "Epoch 8/60\n",
            "249/249 [==============================] - 158s 634ms/step - loss: 0.6906 - binary_accuracy: 0.5467 - val_loss: 0.7421 - val_binary_accuracy: 0.2687\n",
            "Epoch 9/60\n",
            "249/249 [==============================] - 157s 633ms/step - loss: 0.6902 - binary_accuracy: 0.5039 - val_loss: 0.7211 - val_binary_accuracy: 0.5162\n",
            "Epoch 10/60\n",
            "249/249 [==============================] - 156s 628ms/step - loss: 0.6965 - binary_accuracy: 0.5320 - val_loss: 0.7350 - val_binary_accuracy: 0.3282\n",
            "Epoch 11/60\n",
            "249/249 [==============================] - 157s 632ms/step - loss: 0.6745 - binary_accuracy: 0.5502 - val_loss: 0.7410 - val_binary_accuracy: 0.3546\n",
            "Epoch 12/60\n",
            "249/249 [==============================] - 157s 630ms/step - loss: 0.6717 - binary_accuracy: 0.5826 - val_loss: 0.6912 - val_binary_accuracy: 0.5213\n",
            "Epoch 13/60\n",
            "249/249 [==============================] - 157s 631ms/step - loss: 0.6794 - binary_accuracy: 0.5526 - val_loss: 0.6715 - val_binary_accuracy: 0.6131\n",
            "Epoch 14/60\n",
            "249/249 [==============================] - 159s 638ms/step - loss: 0.6840 - binary_accuracy: 0.5614 - val_loss: 0.7256 - val_binary_accuracy: 0.3622\n",
            "Epoch 15/60\n",
            "249/249 [==============================] - 158s 634ms/step - loss: 0.6753 - binary_accuracy: 0.5755 - val_loss: 0.6345 - val_binary_accuracy: 0.6854\n",
            "Epoch 16/60\n",
            "249/249 [==============================] - 156s 629ms/step - loss: 0.7083 - binary_accuracy: 0.5658 - val_loss: 0.6460 - val_binary_accuracy: 0.6684\n",
            "Epoch 17/60\n",
            "249/249 [==============================] - 158s 634ms/step - loss: 0.6829 - binary_accuracy: 0.6172 - val_loss: 0.6641 - val_binary_accuracy: 0.5077\n",
            "Epoch 18/60\n",
            "249/249 [==============================] - 157s 631ms/step - loss: 0.6892 - binary_accuracy: 0.5714 - val_loss: 0.6565 - val_binary_accuracy: 0.6913\n",
            "Epoch 19/60\n",
            "249/249 [==============================] - 158s 634ms/step - loss: 0.6633 - binary_accuracy: 0.6329 - val_loss: 0.7117 - val_binary_accuracy: 0.4779\n",
            "Epoch 20/60\n",
            "249/249 [==============================] - 158s 633ms/step - loss: 0.6564 - binary_accuracy: 0.5751 - val_loss: 0.6655 - val_binary_accuracy: 0.5799\n",
            "Epoch 21/60\n",
            "249/249 [==============================] - 158s 634ms/step - loss: 0.6755 - binary_accuracy: 0.5781 - val_loss: 0.6376 - val_binary_accuracy: 0.6590\n",
            "Epoch 22/60\n",
            "249/249 [==============================] - 158s 634ms/step - loss: 0.6638 - binary_accuracy: 0.5964 - val_loss: 0.7048 - val_binary_accuracy: 0.5145\n",
            "Epoch 23/60\n",
            "249/249 [==============================] - 157s 631ms/step - loss: 0.6516 - binary_accuracy: 0.6433 - val_loss: 0.6958 - val_binary_accuracy: 0.5561\n",
            "Epoch 24/60\n",
            "249/249 [==============================] - 158s 633ms/step - loss: 0.6609 - binary_accuracy: 0.6221 - val_loss: 0.7322 - val_binary_accuracy: 0.5476\n",
            "Epoch 25/60\n",
            "249/249 [==============================] - 157s 632ms/step - loss: 0.6607 - binary_accuracy: 0.6262 - val_loss: 0.5947 - val_binary_accuracy: 0.7381\n",
            "Epoch 26/60\n",
            "249/249 [==============================] - 158s 633ms/step - loss: 0.6609 - binary_accuracy: 0.6307 - val_loss: 0.6831 - val_binary_accuracy: 0.5901\n",
            "Epoch 27/60\n",
            "249/249 [==============================] - 157s 632ms/step - loss: 0.6368 - binary_accuracy: 0.6230 - val_loss: 0.6632 - val_binary_accuracy: 0.6190\n",
            "Epoch 28/60\n",
            "249/249 [==============================] - 158s 633ms/step - loss: 0.6545 - binary_accuracy: 0.6094 - val_loss: 0.9933 - val_binary_accuracy: 0.1956\n",
            "Epoch 29/60\n",
            "249/249 [==============================] - 156s 629ms/step - loss: 0.6547 - binary_accuracy: 0.6117 - val_loss: 0.8281 - val_binary_accuracy: 0.2406\n",
            "Epoch 30/60\n",
            "249/249 [==============================] - 157s 633ms/step - loss: 0.6607 - binary_accuracy: 0.5663 - val_loss: 0.4976 - val_binary_accuracy: 0.8741\n",
            "Epoch 31/60\n",
            "249/249 [==============================] - 157s 629ms/step - loss: 0.6579 - binary_accuracy: 0.6005 - val_loss: 0.7511 - val_binary_accuracy: 0.5119\n",
            "Epoch 32/60\n",
            "249/249 [==============================] - 156s 628ms/step - loss: 0.6405 - binary_accuracy: 0.6000 - val_loss: 0.7021 - val_binary_accuracy: 0.5663\n",
            "Epoch 33/60\n",
            "249/249 [==============================] - 159s 637ms/step - loss: 0.6504 - binary_accuracy: 0.6383 - val_loss: 0.6966 - val_binary_accuracy: 0.5553\n",
            "Epoch 34/60\n",
            "249/249 [==============================] - 158s 635ms/step - loss: 0.6312 - binary_accuracy: 0.6238 - val_loss: 0.7319 - val_binary_accuracy: 0.5391\n",
            "Epoch 35/60\n",
            "249/249 [==============================] - 159s 637ms/step - loss: 0.6633 - binary_accuracy: 0.6318 - val_loss: 0.7485 - val_binary_accuracy: 0.5306\n",
            "Epoch 36/60\n",
            "249/249 [==============================] - 159s 638ms/step - loss: 0.6320 - binary_accuracy: 0.6539 - val_loss: 0.6642 - val_binary_accuracy: 0.5893\n",
            "Epoch 37/60\n",
            "249/249 [==============================] - 158s 636ms/step - loss: 0.6273 - binary_accuracy: 0.6448 - val_loss: 0.6999 - val_binary_accuracy: 0.6131\n",
            "Epoch 38/60\n",
            "249/249 [==============================] - 158s 636ms/step - loss: 0.6474 - binary_accuracy: 0.6171 - val_loss: 0.5962 - val_binary_accuracy: 0.6930\n",
            "Epoch 39/60\n",
            "249/249 [==============================] - 158s 636ms/step - loss: 0.6233 - binary_accuracy: 0.6567 - val_loss: 0.6550 - val_binary_accuracy: 0.5791\n",
            "Epoch 40/60\n",
            "249/249 [==============================] - 158s 634ms/step - loss: 0.5994 - binary_accuracy: 0.6153 - val_loss: 0.5988 - val_binary_accuracy: 0.7075\n",
            "Epoch 41/60\n",
            "249/249 [==============================] - 158s 635ms/step - loss: 0.6279 - binary_accuracy: 0.6635 - val_loss: 0.6797 - val_binary_accuracy: 0.6497\n",
            "Epoch 42/60\n",
            "249/249 [==============================] - 158s 634ms/step - loss: 0.6030 - binary_accuracy: 0.6969 - val_loss: 0.7539 - val_binary_accuracy: 0.5612\n",
            "Epoch 43/60\n",
            "249/249 [==============================] - 157s 632ms/step - loss: 0.6098 - binary_accuracy: 0.6723 - val_loss: 0.6957 - val_binary_accuracy: 0.6046\n",
            "Epoch 44/60\n",
            "249/249 [==============================] - 158s 636ms/step - loss: 0.6193 - binary_accuracy: 0.6690 - val_loss: 0.7331 - val_binary_accuracy: 0.1854\n",
            "Epoch 45/60\n",
            "249/249 [==============================] - 157s 632ms/step - loss: 0.7146 - binary_accuracy: 0.5490 - val_loss: 0.7141 - val_binary_accuracy: 0.3121\n",
            "Epoch 46/60\n",
            "249/249 [==============================] - 158s 636ms/step - loss: 0.6966 - binary_accuracy: 0.4884 - val_loss: 0.6540 - val_binary_accuracy: 0.7364\n",
            "Epoch 47/60\n",
            "249/249 [==============================] - 158s 635ms/step - loss: 0.6806 - binary_accuracy: 0.5012 - val_loss: 0.7035 - val_binary_accuracy: 0.3690\n",
            "Epoch 48/60\n",
            "249/249 [==============================] - 158s 636ms/step - loss: 0.6808 - binary_accuracy: 0.5054 - val_loss: 0.6696 - val_binary_accuracy: 0.6207\n",
            "Epoch 49/60\n",
            "249/249 [==============================] - 159s 637ms/step - loss: 0.6726 - binary_accuracy: 0.5483 - val_loss: 0.6737 - val_binary_accuracy: 0.5612\n",
            "Epoch 50/60\n",
            "249/249 [==============================] - 158s 635ms/step - loss: 0.6703 - binary_accuracy: 0.5483 - val_loss: 0.7315 - val_binary_accuracy: 0.4379\n",
            "Epoch 51/60\n",
            "249/249 [==============================] - 157s 632ms/step - loss: 0.6879 - binary_accuracy: 0.5300 - val_loss: 0.6601 - val_binary_accuracy: 0.6131\n",
            "Epoch 52/60\n",
            "249/249 [==============================] - 158s 635ms/step - loss: 0.6384 - binary_accuracy: 0.6472 - val_loss: 0.7132 - val_binary_accuracy: 0.5213\n",
            "Epoch 53/60\n",
            "249/249 [==============================] - 157s 631ms/step - loss: 0.6372 - binary_accuracy: 0.6187 - val_loss: 0.8024 - val_binary_accuracy: 0.4609\n",
            "Epoch 54/60\n",
            "249/249 [==============================] - 158s 634ms/step - loss: 0.6428 - binary_accuracy: 0.6464 - val_loss: 0.5867 - val_binary_accuracy: 0.7075\n",
            "Epoch 55/60\n",
            "249/249 [==============================] - 157s 632ms/step - loss: 0.6249 - binary_accuracy: 0.6717 - val_loss: 0.5753 - val_binary_accuracy: 0.7364\n",
            "Epoch 56/60\n",
            "249/249 [==============================] - 156s 627ms/step - loss: 0.5833 - binary_accuracy: 0.7082 - val_loss: 0.6322 - val_binary_accuracy: 0.6820\n",
            "Epoch 57/60\n",
            "249/249 [==============================] - 158s 635ms/step - loss: 0.5610 - binary_accuracy: 0.7098 - val_loss: 0.6453 - val_binary_accuracy: 0.6743\n",
            "Epoch 58/60\n",
            "249/249 [==============================] - 156s 629ms/step - loss: 0.5400 - binary_accuracy: 0.7209 - val_loss: 0.6596 - val_binary_accuracy: 0.6794\n",
            "Epoch 59/60\n",
            "249/249 [==============================] - 157s 630ms/step - loss: 0.5520 - binary_accuracy: 0.7146 - val_loss: 0.6702 - val_binary_accuracy: 0.6658\n",
            "Epoch 60/60\n",
            "249/249 [==============================] - 158s 635ms/step - loss: 0.5318 - binary_accuracy: 0.7240 - val_loss: 0.6231 - val_binary_accuracy: 0.7058\n"
          ],
          "name": "stdout"
        }
      ]
    },
    {
      "cell_type": "code",
      "metadata": {
        "colab": {
          "base_uri": "https://localhost:8080/",
          "height": 573
        },
        "id": "dJFR-vJSs3He",
        "outputId": "8371ca9a-d05c-4b38-a0dd-59db5e304de7"
      },
      "source": [
        "# list all data in history\n",
        "# print(model_history.history.keys())\n",
        "\n",
        "model_history = normal_nooversample_model_2_his\n",
        "\n",
        "# summarize history for accuracy\n",
        "plt.plot(model_history.history['binary_accuracy'])\n",
        "plt.plot(model_history.history['val_binary_accuracy'])\n",
        "plt.title('Model Accuracy')\n",
        "plt.ylabel('Accuracy')\n",
        "plt.xlabel('Epoch')\n",
        "# plt.ylim([0.60, 1.00])\n",
        "plt.legend(['Training', 'Validation'], loc='lower right')\n",
        "plt.show()\n",
        "\n",
        "# summarize history for loss\n",
        "plt.plot(model_history.history['loss'])\n",
        "plt.plot(model_history.history['val_loss'])\n",
        "plt.title('Model Loss')\n",
        "plt.ylabel('Loss')\n",
        "plt.xlabel('Epoch')\n",
        "plt.legend(['Training', 'Validation'], loc='best')\n",
        "plt.show()"
      ],
      "execution_count": null,
      "outputs": [
        {
          "output_type": "display_data",
          "data": {
            "image/png": "[encoded data removed]",
            "text/plain": [
              "<Figure size 432x288 with 1 Axes>"
            ]
          },
          "metadata": {
            "tags": [],
            "needs_background": "light"
          }
        },
        {
          "output_type": "display_data",
          "data": {
            "image/png": "[encoded data removed]",
            "text/plain": [
              "<Figure size 432x288 with 1 Axes>"
            ]
          },
          "metadata": {
            "tags": [],
            "needs_background": "light"
          }
        }
      ]
    },
    {
      "cell_type": "markdown",
      "metadata": {
        "id": "HF0T3UaxEWKU"
      },
      "source": [
        "Model Evaluation"
      ]
    },
    {
      "cell_type": "code",
      "metadata": {
        "colab": {
          "base_uri": "https://localhost:8080/"
        },
        "id": "EpQLVe7YEWKV",
        "outputId": "e5f0c7d6-e3b4-4533-e8a3-55ad89ea3997"
      },
      "source": [
        "# Load the Final model\n",
        "# model = keras.models.load_model('Training_models/CNN-LSTM Normal data/Model 2/ECG.epoch_16.TL_0.6650.VL_0.3874.TA_0.59.VA_0.89.hdf5')\n",
        "\n",
        "model = normal_nooversample_model_2\n",
        "\n",
        "test_scores = model.evaluate(input_test, output_test, verbose = 0)\n",
        "print(\"Test loss:\", test_scores[0])               # 0.1305         \n",
        "print(\"Test accuracy:\", test_scores[1])           # 0.9650"
      ],
      "execution_count": null,
      "outputs": [
        {
          "output_type": "stream",
          "text": [
            "Test loss: 0.6525382995605469\n",
            "Test accuracy: 0.682539701461792\n"
          ],
          "name": "stdout"
        }
      ]
    },
    {
      "cell_type": "code",
      "metadata": {
        "id": "mCq4e75nnuQ_",
        "colab": {
          "base_uri": "https://localhost:8080/"
        },
        "outputId": "94d0ba97-7095-406d-d97e-646b229f4375"
      },
      "source": [
        "yhat = model.predict_classes(input_test)\n",
        "\n",
        "conf_matrix = confusion_matrix(output_test,yhat)"
      ],
      "execution_count": null,
      "outputs": [
        {
          "output_type": "stream",
          "text": [
            "/usr/local/lib/python3.7/dist-packages/keras/engine/sequential.py:450: UserWarning: `model.predict_classes()` is deprecated and will be removed after 2021-01-01. Please use instead:* `np.argmax(model.predict(x), axis=-1)`,   if your model does multi-class classification   (e.g. if it uses a `softmax` last-layer activation).* `(model.predict(x) > 0.5).astype(\"int32\")`,   if your model does binary classification   (e.g. if it uses a `sigmoid` last-layer activation).\n",
            "  warnings.warn('`model.predict_classes()` is deprecated and '\n"
          ],
          "name": "stderr"
        }
      ]
    },
    {
      "cell_type": "code",
      "metadata": {
        "colab": {
          "base_uri": "https://localhost:8080/",
          "height": 301
        },
        "id": "BpvhHOPHnuRA",
        "outputId": "b0cc4f71-4e61-40cb-8edd-9025429aa9b2"
      },
      "source": [
        "# Print the confusion matrix using Matplotlib\n",
        "\n",
        "fig, ax = plt.subplots()\n",
        "ax.matshow(conf_matrix, cmap=plt.cm.Blues, alpha=0.3)\n",
        "for i in range(conf_matrix.shape[0]):\n",
        "    for j in range(conf_matrix.shape[1]):\n",
        "        ax.text(x=j, y=i,s=conf_matrix[i, j], va='center', ha='center', size='xx-large')\n",
        " \n",
        "plt.xlabel('Predictions', fontsize=18)\n",
        "plt.ylabel('Actuals', fontsize=18)\n",
        "plt.title('Confusion Matrix', fontsize=18)\n",
        "plt.show()"
      ],
      "execution_count": null,
      "outputs": [
        {
          "output_type": "display_data",
          "data": {
            "image/png": "[encoded data removed]",
            "text/plain": [
              "<Figure size 432x288 with 1 Axes>"
            ]
          },
          "metadata": {
            "tags": [],
            "needs_background": "light"
          }
        }
      ]
    },
    {
      "cell_type": "code",
      "metadata": {
        "colab": {
          "base_uri": "https://localhost:8080/"
        },
        "id": "jXxXAokxnuRB",
        "outputId": "22251ff3-98e7-43a7-b878-dabb2115c7d1"
      },
      "source": [
        "accuracy = accuracy_score(output_test, yhat)\n",
        "print('Accuracy:\\t\\t', round(accuracy,4))\n",
        "\n",
        "# precision tp / (tp + fp)\n",
        "precision = precision_score(output_test, yhat)\n",
        "print('Precision:\\t\\t', round(precision,4))\n",
        "\n",
        "# recall: tp / (tp + fn)\n",
        "recall = recall_score(output_test, yhat)\n",
        "print('Recall: \\t\\t', round(recall,4))\n",
        "\n",
        "# f1: 2 tp / (2 tp + fp + fn)\n",
        "f1 = f1_score(output_test, yhat)\n",
        "print('F1 score:\\t\\t', round(f1,4))"
      ],
      "execution_count": null,
      "outputs": [
        {
          "output_type": "stream",
          "text": [
            "Accuracy:\t\t 0.6825\n",
            "Precision:\t\t 0.2273\n",
            "Recall: \t\t 0.4605\n",
            "F1 score:\t\t 0.3043\n"
          ],
          "name": "stdout"
        }
      ]
    },
    {
      "cell_type": "markdown",
      "metadata": {
        "id": "v7e7tXi3oAZN"
      },
      "source": [
        "### 1.1.3 MODEL 3"
      ]
    },
    {
      "cell_type": "code",
      "metadata": {
        "colab": {
          "base_uri": "https://localhost:8080/"
        },
        "id": "U1DdKe20ORt7",
        "outputId": "008c70f6-a189-4d14-fd42-bf377481de96"
      },
      "source": [
        "class_weights = class_weight.compute_class_weight('balanced',np.unique(output_train.flatten()), output_train.flatten())\n",
        "\n",
        "class_weight_dict = dict(enumerate(class_weights))\n",
        "\n",
        "class_weight_dict\n",
        "\n",
        "class_weight_dict_1 = {0: 1.0, 1: 8.0}\n",
        "\n",
        "class_weight_dict_1"
      ],
      "execution_count": null,
      "outputs": [
        {
          "output_type": "execute_result",
          "data": {
            "text/plain": [
              "{0: 1.0, 1: 8.0}"
            ]
          },
          "metadata": {
            "tags": []
          },
          "execution_count": 29
        }
      ]
    },
    {
      "cell_type": "code",
      "metadata": {
        "id": "uDZilOQEORt8"
      },
      "source": [
        "# Defining parameter values\n",
        "epochs          = 50\n",
        "batch_size      = 16"
      ],
      "execution_count": null,
      "outputs": []
    },
    {
      "cell_type": "code",
      "metadata": {
        "colab": {
          "base_uri": "https://localhost:8080/"
        },
        "id": "lW-I5OOsORt9",
        "outputId": "e0564a47-25a8-41db-c16d-73251dbc0604"
      },
      "source": [
        "normal_nooversample_model_3 = Sequential()\n",
        "\n",
        "input_shape = (9000, 1)\n",
        "normal_nooversample_model_3.add(InputLayer(input_shape=input_shape))\n",
        "\n",
        "normal_nooversample_model_3.add(LSTM(32,activation = \"tanh\", return_sequences = True))\n",
        "normal_nooversample_model_3.add(LSTM(16,activation = \"tanh\", return_sequences = True))\n",
        "normal_nooversample_model_3.add(LSTM(8, activation = \"tanh\"))\n",
        "\n",
        "normal_nooversample_model_3.add(Dropout(0.2))\n",
        "\n",
        "normal_nooversample_model_3.add(Dense(32, activation='tanh'))\n",
        "normal_nooversample_model_3.add(BatchNormalization())\n",
        "normal_nooversample_model_3.add(Dense(1, activation = 'sigmoid'))\n",
        "\n",
        "normal_nooversample_model_3.summary()"
      ],
      "execution_count": null,
      "outputs": [
        {
          "output_type": "stream",
          "text": [
            "Model: \"sequential_3\"\n",
            "_________________________________________________________________\n",
            "Layer (type)                 Output Shape              Param #   \n",
            "=================================================================\n",
            "lstm_8 (LSTM)                (None, 9000, 32)          4352      \n",
            "_________________________________________________________________\n",
            "lstm_9 (LSTM)                (None, 9000, 16)          3136      \n",
            "_________________________________________________________________\n",
            "lstm_10 (LSTM)               (None, 8)                 800       \n",
            "_________________________________________________________________\n",
            "dropout_4 (Dropout)          (None, 8)                 0         \n",
            "_________________________________________________________________\n",
            "dense_6 (Dense)              (None, 32)                288       \n",
            "_________________________________________________________________\n",
            "batch_normalization_3 (Batch (None, 32)                128       \n",
            "_________________________________________________________________\n",
            "dense_7 (Dense)              (None, 1)                 33        \n",
            "=================================================================\n",
            "Total params: 8,737\n",
            "Trainable params: 8,673\n",
            "Non-trainable params: 64\n",
            "_________________________________________________________________\n"
          ],
          "name": "stdout"
        }
      ]
    },
    {
      "cell_type": "code",
      "metadata": {
        "id": "HBr3aRpyORt9"
      },
      "source": [
        "# model training configuration \n",
        "normal_nooversample_model_3.compile(optimizer = keras.optimizers.Adam(),\n",
        "                                    loss      = keras.losses.BinaryCrossentropy(),\n",
        "                                    metrics   = [keras.metrics.BinaryAccuracy()])\n",
        "\n",
        "#SGD(learning_rate=0.01, decay=1e-6, momentum=0.9, nesterov=True)\n",
        "\n",
        "# Callback to reduce the learning rate when the validation loss has stopped improving\n",
        "reduce_lr = keras.callbacks.ReduceLROnPlateau(monitor = 'val_loss', factor = 0.1, patience = 25, mode = 'min')\n",
        "\n",
        "# Callback to stop training the model when the validation loss has stopped improving\n",
        "early_stop = keras.callbacks.EarlyStopping(monitor = 'val_loss', patience = 40, mode = 'min')\n",
        "\n",
        "# CHECKPOINT callback\n",
        "filepath = \"Training_models/LSTM Normal data/Model 3/ECG.epoch_{epoch:02d}.TL_{loss:.4f}.VL_{val_loss:.4f}.TA_{binary_accuracy:.2f}.VA_{val_binary_accuracy:.2f}.hdf5\"\n",
        "\n",
        "# Save training model when there is an improvement in validation_accuracy from the previous checkpint\n",
        "model_save = keras.callbacks.ModelCheckpoint(filepath, \n",
        "                                             monitor = 'val_binary_accuracy',\n",
        "                                             save_best_only=True, \n",
        "                                             mode = 'max')\n",
        "\n",
        "\n"
      ],
      "execution_count": null,
      "outputs": []
    },
    {
      "cell_type": "code",
      "metadata": {
        "colab": {
          "base_uri": "https://localhost:8080/"
        },
        "id": "q_z73kRdORt-",
        "outputId": "f1faafc4-b568-40a4-ec6e-84214d7cdf54"
      },
      "source": [
        "# Fitting the model\n",
        "normal_nooversample_model_3_his = normal_nooversample_model_3.fit(input_train, output_train,\n",
        "                                                                  batch_size = batch_size , epochs = epochs, \n",
        "                                                                  validation_data = (input_val, output_val),\n",
        "                                                                  class_weight=class_weight_dict_1,\n",
        "                                                                  callbacks=[early_stop, reduce_lr,model_save])"
      ],
      "execution_count": null,
      "outputs": [
        {
          "output_type": "stream",
          "text": [
            "Epoch 1/50\n",
            "249/249 [==============================] - 154s 602ms/step - loss: 1.3723 - binary_accuracy: 0.4224 - val_loss: 0.8132 - val_binary_accuracy: 0.1122\n",
            "Epoch 2/50\n",
            "249/249 [==============================] - 147s 590ms/step - loss: 1.3370 - binary_accuracy: 0.3115 - val_loss: 0.8631 - val_binary_accuracy: 0.1148\n",
            "Epoch 3/50\n",
            "249/249 [==============================] - 148s 593ms/step - loss: 1.2934 - binary_accuracy: 0.3398 - val_loss: 0.7944 - val_binary_accuracy: 0.1293\n",
            "Epoch 4/50\n",
            "249/249 [==============================] - 147s 590ms/step - loss: 1.3369 - binary_accuracy: 0.3179 - val_loss: 0.7259 - val_binary_accuracy: 0.3095\n",
            "Epoch 5/50\n",
            "249/249 [==============================] - 149s 600ms/step - loss: 1.3395 - binary_accuracy: 0.3174 - val_loss: 0.7874 - val_binary_accuracy: 0.1071\n",
            "Epoch 6/50\n",
            "249/249 [==============================] - 149s 598ms/step - loss: 1.3360 - binary_accuracy: 0.3037 - val_loss: 0.7916 - val_binary_accuracy: 0.1071\n",
            "Epoch 7/50\n",
            "249/249 [==============================] - 149s 597ms/step - loss: 1.3201 - binary_accuracy: 0.2948 - val_loss: 0.8076 - val_binary_accuracy: 0.1650\n",
            "Epoch 8/50\n",
            "249/249 [==============================] - 147s 592ms/step - loss: 1.3393 - binary_accuracy: 0.2474 - val_loss: 0.7610 - val_binary_accuracy: 0.3563\n",
            "Epoch 9/50\n",
            "249/249 [==============================] - 147s 592ms/step - loss: 1.3221 - binary_accuracy: 0.3119 - val_loss: 0.7777 - val_binary_accuracy: 0.1633\n",
            "Epoch 10/50\n",
            "249/249 [==============================] - 148s 593ms/step - loss: 1.3043 - binary_accuracy: 0.2809 - val_loss: 0.7804 - val_binary_accuracy: 0.2815\n",
            "Epoch 11/50\n",
            "249/249 [==============================] - 147s 590ms/step - loss: 1.3138 - binary_accuracy: 0.3000 - val_loss: 0.7677 - val_binary_accuracy: 0.2185\n",
            "Epoch 12/50\n",
            "249/249 [==============================] - 148s 595ms/step - loss: 1.3365 - binary_accuracy: 0.3142 - val_loss: 0.8121 - val_binary_accuracy: 0.1071\n",
            "Epoch 13/50\n",
            "249/249 [==============================] - 147s 590ms/step - loss: 1.2648 - binary_accuracy: 0.3241 - val_loss: 0.8088 - val_binary_accuracy: 0.1454\n",
            "Epoch 14/50\n",
            "249/249 [==============================] - 148s 595ms/step - loss: 1.2789 - binary_accuracy: 0.3408 - val_loss: 0.7630 - val_binary_accuracy: 0.4396\n",
            "Epoch 15/50\n",
            "249/249 [==============================] - 147s 589ms/step - loss: 1.3193 - binary_accuracy: 0.3430 - val_loss: 0.7089 - val_binary_accuracy: 0.4838\n",
            "Epoch 16/50\n",
            "249/249 [==============================] - 148s 594ms/step - loss: 1.2975 - binary_accuracy: 0.2921 - val_loss: 0.7517 - val_binary_accuracy: 0.4065\n",
            "Epoch 17/50\n",
            "249/249 [==============================] - 146s 588ms/step - loss: 1.3252 - binary_accuracy: 0.3363 - val_loss: 0.8287 - val_binary_accuracy: 0.2126\n",
            "Epoch 18/50\n",
            "249/249 [==============================] - 148s 593ms/step - loss: 1.3178 - binary_accuracy: 0.3311 - val_loss: 0.7488 - val_binary_accuracy: 0.1156\n",
            "Epoch 19/50\n",
            "249/249 [==============================] - 148s 593ms/step - loss: 1.3510 - binary_accuracy: 0.2955 - val_loss: 0.6735 - val_binary_accuracy: 0.5961\n",
            "Epoch 20/50\n",
            "249/249 [==============================] - 147s 591ms/step - loss: 1.2722 - binary_accuracy: 0.4164 - val_loss: 0.7782 - val_binary_accuracy: 0.2900\n",
            "Epoch 21/50\n",
            "249/249 [==============================] - 148s 595ms/step - loss: 1.2843 - binary_accuracy: 0.3474 - val_loss: 0.7324 - val_binary_accuracy: 0.4014\n",
            "Epoch 22/50\n",
            "249/249 [==============================] - 147s 591ms/step - loss: 1.2972 - binary_accuracy: 0.3680 - val_loss: 0.7571 - val_binary_accuracy: 0.4124\n",
            "Epoch 23/50\n",
            "249/249 [==============================] - 148s 594ms/step - loss: 1.2818 - binary_accuracy: 0.4469 - val_loss: 0.8056 - val_binary_accuracy: 0.2160\n",
            "Epoch 24/50\n",
            "249/249 [==============================] - 148s 593ms/step - loss: 1.3258 - binary_accuracy: 0.3340 - val_loss: 0.7429 - val_binary_accuracy: 0.5213\n",
            "Epoch 25/50\n",
            "249/249 [==============================] - 148s 594ms/step - loss: 1.3173 - binary_accuracy: 0.3932 - val_loss: 0.8129 - val_binary_accuracy: 0.3231\n",
            "Epoch 26/50\n",
            "249/249 [==============================] - 148s 594ms/step - loss: 1.2983 - binary_accuracy: 0.4299 - val_loss: 0.7835 - val_binary_accuracy: 0.3690\n",
            "Epoch 27/50\n",
            "249/249 [==============================] - 148s 596ms/step - loss: 1.2746 - binary_accuracy: 0.4551 - val_loss: 0.7901 - val_binary_accuracy: 0.3214\n",
            "Epoch 28/50\n",
            "249/249 [==============================] - 146s 589ms/step - loss: 1.2972 - binary_accuracy: 0.4403 - val_loss: 0.7283 - val_binary_accuracy: 0.4252\n",
            "Epoch 29/50\n",
            "249/249 [==============================] - 147s 590ms/step - loss: 1.2876 - binary_accuracy: 0.4592 - val_loss: 0.7297 - val_binary_accuracy: 0.4541\n",
            "Epoch 30/50\n",
            "249/249 [==============================] - 148s 593ms/step - loss: 1.2671 - binary_accuracy: 0.4537 - val_loss: 0.8463 - val_binary_accuracy: 0.3010\n",
            "Epoch 31/50\n",
            "249/249 [==============================] - 147s 591ms/step - loss: 1.2795 - binary_accuracy: 0.4249 - val_loss: 0.6789 - val_binary_accuracy: 0.6335\n",
            "Epoch 32/50\n",
            "249/249 [==============================] - 148s 593ms/step - loss: 1.2761 - binary_accuracy: 0.4533 - val_loss: 0.7687 - val_binary_accuracy: 0.4252\n",
            "Epoch 33/50\n",
            "249/249 [==============================] - 148s 594ms/step - loss: 1.2833 - binary_accuracy: 0.4514 - val_loss: 0.7211 - val_binary_accuracy: 0.5502\n",
            "Epoch 34/50\n",
            "249/249 [==============================] - 148s 595ms/step - loss: 1.2268 - binary_accuracy: 0.5089 - val_loss: 0.7347 - val_binary_accuracy: 0.4898\n",
            "Epoch 35/50\n",
            "249/249 [==============================] - 148s 593ms/step - loss: 1.2416 - binary_accuracy: 0.5153 - val_loss: 0.6380 - val_binary_accuracy: 0.5604\n",
            "Epoch 36/50\n",
            "249/249 [==============================] - 148s 595ms/step - loss: 1.1966 - binary_accuracy: 0.4909 - val_loss: 0.7550 - val_binary_accuracy: 0.4422\n",
            "Epoch 37/50\n",
            "249/249 [==============================] - 147s 591ms/step - loss: 1.2620 - binary_accuracy: 0.4935 - val_loss: 0.7402 - val_binary_accuracy: 0.5060\n",
            "Epoch 38/50\n",
            "249/249 [==============================] - 147s 591ms/step - loss: 1.1820 - binary_accuracy: 0.5246 - val_loss: 0.7761 - val_binary_accuracy: 0.4354\n",
            "Epoch 39/50\n",
            "249/249 [==============================] - 146s 586ms/step - loss: 1.2329 - binary_accuracy: 0.5202 - val_loss: 0.7738 - val_binary_accuracy: 0.4294\n",
            "Epoch 40/50\n",
            "249/249 [==============================] - 146s 586ms/step - loss: 1.2483 - binary_accuracy: 0.5278 - val_loss: 0.7386 - val_binary_accuracy: 0.5434\n",
            "Epoch 41/50\n",
            "249/249 [==============================] - 149s 598ms/step - loss: 1.1659 - binary_accuracy: 0.5683 - val_loss: 0.8081 - val_binary_accuracy: 0.3895\n",
            "Epoch 42/50\n",
            "249/249 [==============================] - 150s 601ms/step - loss: 1.1834 - binary_accuracy: 0.5513 - val_loss: 0.7339 - val_binary_accuracy: 0.5493\n",
            "Epoch 43/50\n",
            "249/249 [==============================] - 148s 595ms/step - loss: 1.1952 - binary_accuracy: 0.5740 - val_loss: 0.6403 - val_binary_accuracy: 0.6488\n",
            "Epoch 44/50\n",
            "249/249 [==============================] - 148s 594ms/step - loss: 1.1827 - binary_accuracy: 0.5494 - val_loss: 0.7163 - val_binary_accuracy: 0.5867\n",
            "Epoch 45/50\n",
            "249/249 [==============================] - 149s 600ms/step - loss: 1.1928 - binary_accuracy: 0.5950 - val_loss: 0.8358 - val_binary_accuracy: 0.4838\n",
            "Epoch 46/50\n",
            "249/249 [==============================] - 149s 597ms/step - loss: 1.1472 - binary_accuracy: 0.5943 - val_loss: 0.7420 - val_binary_accuracy: 0.5689\n",
            "Epoch 47/50\n",
            "249/249 [==============================] - 149s 598ms/step - loss: 1.1488 - binary_accuracy: 0.5769 - val_loss: 0.8200 - val_binary_accuracy: 0.4983\n",
            "Epoch 48/50\n",
            "249/249 [==============================] - 149s 598ms/step - loss: 1.1303 - binary_accuracy: 0.6110 - val_loss: 0.7394 - val_binary_accuracy: 0.5417\n",
            "Epoch 49/50\n",
            "249/249 [==============================] - 149s 599ms/step - loss: 1.1510 - binary_accuracy: 0.6062 - val_loss: 0.7445 - val_binary_accuracy: 0.5833\n",
            "Epoch 50/50\n",
            "249/249 [==============================] - 148s 596ms/step - loss: 1.1791 - binary_accuracy: 0.5931 - val_loss: 0.7837 - val_binary_accuracy: 0.5255\n"
          ],
          "name": "stdout"
        }
      ]
    },
    {
      "cell_type": "code",
      "metadata": {
        "colab": {
          "base_uri": "https://localhost:8080/",
          "height": 573
        },
        "id": "QgZ4n7sFtgFI",
        "outputId": "b3d455a4-29fe-4cc1-f687-19b3f879607e"
      },
      "source": [
        "# list all data in history\n",
        "# print(model_history.history.keys())\n",
        "\n",
        "model_history = normal_nooversample_model_3_his\n",
        "\n",
        "# summarize history for accuracy\n",
        "plt.plot(model_history.history['binary_accuracy'])\n",
        "plt.plot(model_history.history['val_binary_accuracy'])\n",
        "plt.title('Model Accuracy')\n",
        "plt.ylabel('Accuracy')\n",
        "plt.xlabel('Epoch')\n",
        "# plt.ylim([0.60, 1.00])\n",
        "plt.legend(['Training', 'Validation'], loc='lower right')\n",
        "plt.show()\n",
        "\n",
        "# summarize history for loss\n",
        "plt.plot(model_history.history['loss'])\n",
        "plt.plot(model_history.history['val_loss'])\n",
        "plt.title('Model Loss')\n",
        "plt.ylabel('Loss')\n",
        "plt.xlabel('Epoch')\n",
        "plt.legend(['Training', 'Validation'], loc='best')\n",
        "plt.show()"
      ],
      "execution_count": null,
      "outputs": [
        {
          "output_type": "display_data",
          "data": {
            "image/png": "[encoded data removed]",
            "text/plain": [
              "<Figure size 432x288 with 1 Axes>"
            ]
          },
          "metadata": {
            "tags": [],
            "needs_background": "light"
          }
        },
        {
          "output_type": "display_data",
          "data": {
            "image/png": "[encoded data removed]",
            "text/plain": [
              "<Figure size 432x288 with 1 Axes>"
            ]
          },
          "metadata": {
            "tags": [],
            "needs_background": "light"
          }
        }
      ]
    },
    {
      "cell_type": "markdown",
      "metadata": {
        "id": "0loAWIgwORt-"
      },
      "source": [
        "Model Evaluation"
      ]
    },
    {
      "cell_type": "code",
      "metadata": {
        "colab": {
          "base_uri": "https://localhost:8080/"
        },
        "id": "Qqdrq4aTORt_",
        "outputId": "34bd9fce-d9ee-4a2b-bd01-117390ec31bd"
      },
      "source": [
        "model = normal_nooversample_model_3\n",
        "\n",
        "test_scores = normal_nooversample_model_3.evaluate(input_test, output_test, verbose = 0)\n",
        "print(\"Test loss:\", test_scores[0])               # 0.1305         \n",
        "print(\"Test accuracy:\", test_scores[1])           # 0.9650\n",
        "\n",
        "\n",
        "# # Load the Final model\n",
        "# model = keras.models.load_model('Training_models/CNN-LSTM Normal data/Model 3/ECG.epoch_87.TL_0.2068.VL_0.2261.TA_0.95.VA_0.94.hdf5')\n",
        "\n",
        "# test_scores = model.evaluate(input_test, output_test, verbose = 0)\n",
        "# print(\"Test loss:\", test_scores[0])               # 0.1305         \n",
        "# print(\"Test accuracy:\", test_scores[1])           # 0.9650"
      ],
      "execution_count": null,
      "outputs": [
        {
          "output_type": "stream",
          "text": [
            "Test loss: 0.7791268825531006\n",
            "Test accuracy: 0.5496031641960144\n"
          ],
          "name": "stdout"
        }
      ]
    },
    {
      "cell_type": "code",
      "metadata": {
        "id": "OEO1GMmaoBJM",
        "colab": {
          "base_uri": "https://localhost:8080/"
        },
        "outputId": "0bb62acd-d48a-4849-8a74-70107e6b8f2b"
      },
      "source": [
        "yhat = model.predict_classes(input_test)\n",
        "\n",
        "conf_matrix = confusion_matrix(output_test,yhat)"
      ],
      "execution_count": null,
      "outputs": [
        {
          "output_type": "stream",
          "text": [
            "/usr/local/lib/python3.7/dist-packages/keras/engine/sequential.py:450: UserWarning: `model.predict_classes()` is deprecated and will be removed after 2021-01-01. Please use instead:* `np.argmax(model.predict(x), axis=-1)`,   if your model does multi-class classification   (e.g. if it uses a `softmax` last-layer activation).* `(model.predict(x) > 0.5).astype(\"int32\")`,   if your model does binary classification   (e.g. if it uses a `sigmoid` last-layer activation).\n",
            "  warnings.warn('`model.predict_classes()` is deprecated and '\n"
          ],
          "name": "stderr"
        }
      ]
    },
    {
      "cell_type": "code",
      "metadata": {
        "colab": {
          "base_uri": "https://localhost:8080/",
          "height": 301
        },
        "id": "mqWGWfQyoBJM",
        "outputId": "31f68f15-4f46-46a7-ebd9-5dca3a52c264"
      },
      "source": [
        "# Print the confusion matrix using Matplotlib\n",
        "\n",
        "fig, ax = plt.subplots()\n",
        "ax.matshow(conf_matrix, cmap=plt.cm.Blues, alpha=0.3)\n",
        "for i in range(conf_matrix.shape[0]):\n",
        "    for j in range(conf_matrix.shape[1]):\n",
        "        ax.text(x=j, y=i,s=conf_matrix[i, j], va='center', ha='center', size='xx-large')\n",
        " \n",
        "plt.xlabel('Predictions', fontsize=18)\n",
        "plt.ylabel('Actuals', fontsize=18)\n",
        "plt.title('Confusion Matrix', fontsize=18)\n",
        "plt.show()"
      ],
      "execution_count": null,
      "outputs": [
        {
          "output_type": "display_data",
          "data": {
            "image/png": "[encoded data removed]",
            "text/plain": [
              "<Figure size 432x288 with 1 Axes>"
            ]
          },
          "metadata": {
            "tags": [],
            "needs_background": "light"
          }
        }
      ]
    },
    {
      "cell_type": "code",
      "metadata": {
        "colab": {
          "base_uri": "https://localhost:8080/"
        },
        "id": "CSTrE-dZoBJN",
        "outputId": "8c00ce2e-1fab-4c00-a2c3-760d2338e9ef"
      },
      "source": [
        "accuracy = accuracy_score(output_test, yhat)\n",
        "print('Accuracy:\\t\\t', round(accuracy,4))\n",
        "\n",
        "# precision tp / (tp + fp)\n",
        "precision = precision_score(output_test, yhat)\n",
        "print('Precision:\\t\\t', round(precision,4))\n",
        "\n",
        "# recall: tp / (tp + fn)\n",
        "recall = recall_score(output_test, yhat)\n",
        "print('Recall: \\t\\t', round(recall,4))\n",
        "\n",
        "# f1: 2 tp / (2 tp + fp + fn)\n",
        "f1 = f1_score(output_test, yhat)\n",
        "print('F1 score:\\t\\t', round(f1,4))"
      ],
      "execution_count": null,
      "outputs": [
        {
          "output_type": "stream",
          "text": [
            "Accuracy:\t\t 0.5496\n",
            "Precision:\t\t 0.1732\n",
            "Recall: \t\t 0.5263\n",
            "F1 score:\t\t 0.2606\n"
          ],
          "name": "stdout"
        }
      ]
    },
    {
      "cell_type": "markdown",
      "metadata": {
        "id": "mNEfFKk4nIix"
      },
      "source": [
        "## 1.2 Model using Augmented data"
      ]
    },
    {
      "cell_type": "code",
      "metadata": {
        "id": "UhhHLWmWqr8U"
      },
      "source": [
        "input_train, output_train, input_test, output_test, input_val, output_val = prepare_data(train_normalised_aug, test_normalised, 0.20)"
      ],
      "execution_count": null,
      "outputs": []
    },
    {
      "cell_type": "code",
      "metadata": {
        "colab": {
          "base_uri": "https://localhost:8080/"
        },
        "id": "rFIZgTOMqr8V",
        "outputId": "45f51538-615c-4fb4-8deb-1f2f20f00572"
      },
      "source": [
        "print(\"input train shape:\\t \", input_train.shape)\n",
        "print(\"output train shape:\\t \", output_train.shape)\n",
        "\n",
        "print(\"\\ninput test shape:\\t \", input_test.shape)\n",
        "print(\"output test shape:\\t \", output_test.shape)\n",
        "\n",
        "print(\"\\ninput val shape:\\t \", input_val.shape)\n",
        "print(\"output val shape:\\t \", output_val.shape)"
      ],
      "execution_count": null,
      "outputs": [
        {
          "output_type": "stream",
          "text": [
            "input train shape:\t  (4334, 9000, 1)\n",
            "output train shape:\t  (4334, 1)\n",
            "\n",
            "input test shape:\t  (336, 9000, 1)\n",
            "output test shape:\t  (336, 1)\n",
            "\n",
            "input val shape:\t  (1344, 9000, 1)\n",
            "output val shape:\t  (1344, 1)\n"
          ],
          "name": "stdout"
        }
      ]
    },
    {
      "cell_type": "markdown",
      "metadata": {
        "id": "KW8qrJXEn3iE"
      },
      "source": [
        "### 1.2.1 MODEL 1"
      ]
    },
    {
      "cell_type": "code",
      "metadata": {
        "id": "hLms__rirpwG"
      },
      "source": [
        "# class_weights = class_weight.compute_class_weight('balanced',np.unique(output_train.flatten()), output_train.flatten())\n",
        "\n",
        "# class_weight_dict = dict(enumerate(class_weights))\n",
        "\n",
        "# class_weight_dict\n",
        "\n",
        "# class_weight_dict_1 = {0: 1.0, 1: 8.0}\n",
        "\n",
        "# class_weight_dict_1"
      ],
      "execution_count": null,
      "outputs": []
    },
    {
      "cell_type": "code",
      "metadata": {
        "id": "RJ91Iss2rpwG"
      },
      "source": [
        "# # Defining parameter values\n",
        "# epochs          = 200\n",
        "# batch_size      = 16"
      ],
      "execution_count": null,
      "outputs": []
    },
    {
      "cell_type": "code",
      "metadata": {
        "id": "c9jW4eJjrpwH"
      },
      "source": [
        "# aug_nooversample_model_1 = Sequential()\n",
        "\n",
        "# # 64, 64, 32, 16, 8, 32\n",
        "\n",
        "# input_shape = (9000, 1)\n",
        "# aug_nooversample_model_1.add(InputLayer(input_shape=input_shape))\n",
        "\n",
        "# aug_nooversample_model_1.add(Conv1D(64, 2,padding='causal', activation=\"tanh\"))\n",
        "# aug_nooversample_model_1.add(MaxPooling1D(2))\n",
        "\n",
        "# aug_nooversample_model_1.add(Conv1D(64, 2,padding='same', activation=\"tanh\"))\n",
        "# aug_nooversample_model_1.add(MaxPooling1D(2))\n",
        "\n",
        "# aug_nooversample_model_1.add(LSTM(32,activation = \"tanh\", return_sequences = True))\n",
        "# aug_nooversample_model_1.add(LSTM(16, activation = \"tanh\", return_sequences = True))\n",
        "# aug_nooversample_model_1.add(LSTM(8, activation = \"tanh\"))\n",
        "\n",
        "# aug_nooversample_model_1.add(Dense(32, activation='tanh'))\n",
        "# aug_nooversample_model_1.add(BatchNormalization())\n",
        "# aug_nooversample_model_1.add(Dense(1, activation = 'sigmoid'))\n",
        "\n",
        "# aug_nooversample_model_1.summary()"
      ],
      "execution_count": null,
      "outputs": []
    },
    {
      "cell_type": "code",
      "metadata": {
        "id": "vBtdLjgUrpwH"
      },
      "source": [
        "# # model training configuration \n",
        "# aug_nooversample_model_1.compile(optimizer = keras.optimizers.Adam(),\n",
        "#                                     loss      = keras.losses.BinaryCrossentropy(),\n",
        "#                                     metrics   = [keras.metrics.BinaryAccuracy()])\n",
        "\n",
        "# #SGD(learning_rate=0.01, decay=1e-6, momentum=0.9, nesterov=True)\n",
        "\n",
        "# # Callback to reduce the learning rate when the validation loss has stopped improving\n",
        "# reduce_lr = keras.callbacks.ReduceLROnPlateau(monitor = 'val_loss', factor = 0.1, patience = 30, mode = 'min')\n",
        "\n",
        "# # Callback to stop training the model when the validation loss has stopped improving\n",
        "# early_stop = keras.callbacks.EarlyStopping(monitor = 'val_loss', patience = 50, mode = 'min')\n",
        "\n",
        "# # CHECKPOINT callback\n",
        "# filepath = \"Training_models/CNN-LSTM Normal data/Model 4/ECG.epoch_{epoch:02d}.TL_{loss:.4f}.VL_{val_loss:.4f}.TA_{binary_accuracy:.2f}.VA_{val_binary_accuracy:.2f}.hdf5\"\n",
        "\n",
        "# # Save training model when there is an improvement in validation_accuracy from the previous checkpint\n",
        "# model_save = keras.callbacks.ModelCheckpoint(filepath, \n",
        "#                                              monitor = 'val_binary_accuracy',\n",
        "#                                              save_best_only=True, \n",
        "#                                              mode = 'max')\n",
        "\n",
        "\n"
      ],
      "execution_count": null,
      "outputs": []
    },
    {
      "cell_type": "code",
      "metadata": {
        "id": "x1zMLhg08TKk"
      },
      "source": [
        "# # Fitting the model\n",
        "# aug_nooversample_model_1_his = aug_nooversample_model_1.fit(input_train, output_train,\n",
        "#                                                                   batch_size = batch_size , epochs = epochs, \n",
        "#                                                                   validation_data = (input_val, output_val),\n",
        "#                                                                   class_weight=class_weight_dict_1,\n",
        "#                                                                   callbacks=[early_stop, reduce_lr,model_save])\n",
        "\n",
        "# aug_nooversample_model_1.save('Training_models/CNN-LSTM Normal data/Model 4/ECG.final_run.hdf5')"
      ],
      "execution_count": null,
      "outputs": []
    },
    {
      "cell_type": "markdown",
      "metadata": {
        "id": "Ju_iTrXkTOpe"
      },
      "source": [
        "Model Evaluation"
      ]
    },
    {
      "cell_type": "code",
      "metadata": {
        "colab": {
          "base_uri": "https://localhost:8080/"
        },
        "id": "66qFVJJQTOpf",
        "outputId": "c97a4096-08f9-4083-d28a-651a5f3e4ee9"
      },
      "source": [
        "# Load the last checkpoint model\n",
        "model = keras.models.load_model('Training_models/CNN-LSTM Normal data/Model 4/ECG.epoch_70.TL_0.3511.VL_0.1512.TA_0.91.VA_0.95.hdf5')\n",
        "\n",
        "test_scores = model.evaluate(input_test, output_test, verbose = 0)\n",
        "print(\"Test loss:\\t\", test_scores[0])               # 0.1305         \n",
        "print(\"Test accuracy:\", test_scores[1])           # 0.9650\n",
        "\n",
        "# Load the final model\n",
        "model = keras.models.load_model('Training_models/CNN-LSTM Normal data/Model 4/ECG.final_run.hdf5')\n",
        "\n",
        "test_scores = model.evaluate(input_test, output_test, verbose = 0)\n",
        "print(\"\\nTest loss:\\t\", test_scores[0])               # 0.1305         \n",
        "print(\"Test accuracy:\", test_scores[1])           # 0.9650"
      ],
      "execution_count": null,
      "outputs": [
        {
          "output_type": "stream",
          "text": [
            "Test loss:\t 0.1882288008928299\n",
            "Test accuracy: 0.9166666865348816\n",
            "\n",
            "Test loss:\t 0.2945140600204468\n",
            "Test accuracy: 0.9226190447807312\n"
          ],
          "name": "stdout"
        }
      ]
    },
    {
      "cell_type": "code",
      "metadata": {
        "id": "JmRUzaBdTKRy"
      },
      "source": [
        "# # training more\n",
        "# aug_nooversample_model_1 = load_model('Training_models/CNN-LSTM Normal data/Model 4/ECG.final_run.hdf5')\n",
        "\n",
        "# # model training configuration \n",
        "# aug_nooversample_model_1.compile(optimizer = keras.optimizers.Adam(),\n",
        "#                                     loss      = keras.losses.BinaryCrossentropy(),\n",
        "#                                     metrics   = [keras.metrics.BinaryAccuracy()])\n",
        "\n",
        "# #SGD(learning_rate=0.01, decay=1e-6, momentum=0.9, nesterov=True)\n",
        "\n",
        "# # Callback to reduce the learning rate when the validation loss has stopped improving\n",
        "# reduce_lr = keras.callbacks.ReduceLROnPlateau(monitor = 'val_loss', factor = 0.1, patience = 30, mode = 'min')\n",
        "\n",
        "# # Callback to stop training the model when the validation loss has stopped improving\n",
        "# early_stop = keras.callbacks.EarlyStopping(monitor = 'val_loss', patience = 50, mode = 'min')\n",
        "\n",
        "# # CHECKPOINT callback\n",
        "# filepath = \"Training_models/CNN-LSTM Normal data/Model 4_1/ECG.epoch_{epoch:02d}.TL_{loss:.4f}.VL_{val_loss:.4f}.TA_{binary_accuracy:.2f}.VA_{val_binary_accuracy:.2f}.hdf5\"\n",
        "\n",
        "# # Save training model when there is an improvement in validation_accuracy from the previous checkpint\n",
        "# model_save = keras.callbacks.ModelCheckpoint(filepath, \n",
        "#                                              monitor = 'val_binary_accuracy',\n",
        "#                                              save_best_only=True, \n",
        "#                                              mode = 'max')\n",
        "\n",
        "\n",
        "# # Fitting the model\n",
        "# aug_nooversample_model_1_his = aug_nooversample_model_1.fit(input_train, output_train,\n",
        "#                                                                   batch_size = batch_size , epochs = epochs, \n",
        "#                                                                   validation_data = (input_val, output_val),\n",
        "#                                                                   class_weight=class_weight_dict_1,\n",
        "#                                                                   callbacks=[early_stop, reduce_lr,model_save])\n",
        "\n",
        "# aug_nooversample_model_1.save('Training_models/CNN-LSTM Normal data/Model 4_1/ECG.final_run.hdf5')\n"
      ],
      "execution_count": null,
      "outputs": []
    },
    {
      "cell_type": "code",
      "metadata": {
        "id": "uW6Ui4xalebZ"
      },
      "source": [
        "# # Load the last checkpoint model\n",
        "# model = keras.models.load_model('Training_models/CNN-LSTM Normal data/Model 4_1/ECG.epoch_25.TL_0.2977.VL_0.2020.TA_0.93.VA_0.94.hdf5')\n",
        "\n",
        "# test_scores = model.evaluate(input_test, output_test, verbose = 0)\n",
        "# print(\"Test loss:\\t\", test_scores[0])               # 0.1305         \n",
        "# print(\"Test accuracy:\", test_scores[1])           # 0.9650\n",
        "\n",
        "# # Load the final model\n",
        "# model_1 = keras.models.load_model('Training_models/CNN-LSTM Normal data/Model 4_1/ECG.final_run.hdf5')\n",
        "\n",
        "# test_scores = model_1.evaluate(input_test, output_test, verbose = 0)\n",
        "# print(\"\\nTest loss:\\t\", test_scores[0])               # 0.1305         \n",
        "# print(\"Test accuracy:\", test_scores[1])           # 0.9650"
      ],
      "execution_count": null,
      "outputs": []
    },
    {
      "cell_type": "code",
      "metadata": {
        "id": "kAHd7NGeooYp"
      },
      "source": [
        "# yhat = model_1.predict_classes(input_test)\n",
        "\n",
        "# conf_matrix = confusion_matrix(output_test,yhat)"
      ],
      "execution_count": null,
      "outputs": []
    },
    {
      "cell_type": "code",
      "metadata": {
        "id": "gKrIUWPLooYq"
      },
      "source": [
        "# # Print the confusion matrix using Matplotlib\n",
        "\n",
        "# fig, ax = plt.subplots()\n",
        "# ax.matshow(conf_matrix, cmap=plt.cm.Blues, alpha=0.3)\n",
        "# for i in range(conf_matrix.shape[0]):\n",
        "#     for j in range(conf_matrix.shape[1]):\n",
        "#         ax.text(x=j, y=i,s=conf_matrix[i, j], va='center', ha='center', size='xx-large')\n",
        " \n",
        "# plt.xlabel('Predictions', fontsize=18)\n",
        "# plt.ylabel('Actuals', fontsize=18)\n",
        "# plt.title('Confusion Matrix', fontsize=18)\n",
        "# plt.show()"
      ],
      "execution_count": null,
      "outputs": []
    },
    {
      "cell_type": "code",
      "metadata": {
        "id": "OpusDopqooYr"
      },
      "source": [
        "# accuracy = accuracy_score(output_test, yhat)\n",
        "# print('Accuracy:\\t\\t', round(accuracy,4))\n",
        "\n",
        "# # precision tp / (tp + fp)\n",
        "# precision = precision_score(output_test, yhat)\n",
        "# print('Precision:\\t\\t', round(precision,4))\n",
        "\n",
        "# # recall: tp / (tp + fn)\n",
        "# recall = recall_score(output_test, yhat)\n",
        "# print('Recall: \\t\\t', round(recall,4))\n",
        "\n",
        "# # f1: 2 tp / (2 tp + fp + fn)\n",
        "# f1 = f1_score(output_test, yhat)\n",
        "# print('F1 score:\\t\\t', round(f1,4))"
      ],
      "execution_count": null,
      "outputs": []
    }
  ]
}