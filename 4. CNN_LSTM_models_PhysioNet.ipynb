{
  "nbformat": 4,
  "nbformat_minor": 0,
  "metadata": {
    "colab": {
      "name": "4. CNN-LSTM models - PhysioNet.ipynb",
      "provenance": [],
      "collapsed_sections": [],
      "toc_visible": true,
      "machine_shape": "hm",
      "mount_file_id": "1yWtUI6puRtxBOvLY5QRdo3VLnNQBj4M7",
      "authorship_tag": "ABX9TyPNAgbIES+Mu0ZkoysOa/BQ",
      "include_colab_link": true
    },
    "kernelspec": {
      "name": "python3",
      "display_name": "Python 3"
    },
    "language_info": {
      "name": "python"
    },
    "accelerator": "GPU"
  },
  "cells": [
    {
      "cell_type": "markdown",
      "metadata": {
        "id": "view-in-github",
        "colab_type": "text"
      },
      "source": [
        "<a href=\"https://colab.research.google.com/github/rahulkumar-datascientist/Detecting-Silent-Cardiac-Atrial-fibrillation-from-PPG-and-single-lead-ECG-Data-using-CNN-LSTM/blob/master/4.%20CNN_LSTM_models_PhysioNet.ipynb\" target=\"_parent\"><img src=\"https://colab.research.google.com/assets/colab-badge.svg\" alt=\"Open In Colab\"/></a>"
      ]
    },
    {
      "cell_type": "markdown",
      "metadata": {
        "id": "_zoVq3CVvEzb"
      },
      "source": [
        "# Importing Packages"
      ]
    },
    {
      "cell_type": "code",
      "metadata": {
        "id": "vUVbCLU8vBmy"
      },
      "source": [
        "import pandas as pd\n",
        "import numpy as np\n",
        "from scipy.io import loadmat\n",
        "import os, os.path\n",
        "import matplotlib.pyplot as plt\n",
        "pd.options.mode.chained_assignment = None  # default='warn'\n",
        "\n",
        "import zipfile\n",
        "import re\n",
        "import pickle\n",
        "import keras\n",
        "from sklearn.model_selection import train_test_split\n",
        "from keras.layers import Bidirectional, LSTM, Activation, Dense, Dropout, BatchNormalization, InputLayer, Conv1D, MaxPooling1D, Flatten\n",
        "from keras.models import Sequential, load_model\n",
        "from keras.callbacks import ModelCheckpoint\n",
        "from sklearn.utils import class_weight\n",
        "from sklearn.metrics import confusion_matrix, accuracy_score, precision_score, recall_score, f1_score\n",
        "import tensorflow as tf\n",
        "\n"
      ],
      "execution_count": null,
      "outputs": []
    },
    {
      "cell_type": "markdown",
      "metadata": {
        "id": "gtx8accRnI0_"
      },
      "source": [
        "# Preparing the data according to the model Architecture"
      ]
    },
    {
      "cell_type": "code",
      "metadata": {
        "colab": {
          "base_uri": "https://localhost:8080/"
        },
        "id": "ZBdMqlhvp4-G",
        "outputId": "55c3112d-392f-49f1-d845-3f3a3e4525fc"
      },
      "source": [
        "%cd /content/drive/MyDrive/Colab Notebooks/Galenband Project"
      ],
      "execution_count": null,
      "outputs": [
        {
          "output_type": "stream",
          "text": [
            "/content/drive/MyDrive/Colab Notebooks/Galenband Project\n"
          ],
          "name": "stdout"
        }
      ]
    },
    {
      "cell_type": "code",
      "metadata": {
        "id": "wiclA_BRp4-I"
      },
      "source": [
        "# loading the saved dataframe\n",
        "train_normalised                  = pd.read_pickle('Dataframes/Train_normalised.pkl')\n",
        "train_normalised_aug              = pd.read_pickle('Dataframes/Train_normalised_aug.pkl')\n",
        "\n",
        "test_normalised                   = pd.read_pickle('Dataframes/Test_normalised.pkl')"
      ],
      "execution_count": null,
      "outputs": []
    },
    {
      "cell_type": "markdown",
      "metadata": {
        "id": "IF59fNsfwTbx"
      },
      "source": [
        "### Function to prepare train, test and validation data"
      ]
    },
    {
      "cell_type": "code",
      "metadata": {
        "id": "3UCdoq0zwK5K"
      },
      "source": [
        "def prepare_data(train_set, test_set, test_prop = 0.3):\n",
        "\n",
        "  # splitting the data into test and validation set\n",
        "  val_set, test_set = train_test_split(test_set, test_size=test_prop, random_state=42, shuffle=True)\n",
        "  \n",
        "  test_set.reset_index(drop=True, inplace=True)\n",
        "  val_set.reset_index(drop=True, inplace=True)\n",
        "\n",
        "  # Splitting into input and output variables\n",
        "  X_train = train_set.signals\n",
        "  Y_train = train_set.output_label\n",
        "\n",
        "  X_test = test_set.signals\n",
        "  Y_test = test_set.output_label\n",
        "\n",
        "  X_val = val_set.signals\n",
        "  Y_val = val_set.output_label\n",
        "\n",
        "  #####\n",
        "  input_train   = np.zeros((len(X_train), 9000), dtype='float32')\n",
        "  output_train = np.zeros(len(Y_train), dtype='float32')\n",
        "\n",
        "  input_test   = np.zeros((len(X_test), 9000), dtype='float32')\n",
        "  output_test = np.zeros(len(Y_test), dtype='float32')\n",
        "\n",
        "  input_val   = np.zeros((len(X_val), 9000), dtype='float32')\n",
        "  output_val = np.zeros(len(Y_val), dtype='float32')\n",
        "\n",
        "  # modeling X input\n",
        "  for index, value in enumerate(X_train):\n",
        "    input_train[index] = value[0]\n",
        "\n",
        "\n",
        "  for index, value in enumerate(X_test):\n",
        "    input_test[index] = value[0]\n",
        "\n",
        "\n",
        "  for index, value in enumerate(X_val):\n",
        "    input_val[index] = value[0]\n",
        "\n",
        "  \n",
        "  # class 0 = Normal, class 1 = Afib\n",
        "  # modeling Y output\n",
        "  for index,value in enumerate(Y_train):\n",
        "    if(value == 'N'):\n",
        "      output_train[index] = 0\n",
        "    else:\n",
        "      output_train[index] = 1\n",
        "\n",
        "  # modeling Y output\n",
        "  for index,value in enumerate(Y_test):\n",
        "    if(value == 'N'):\n",
        "      output_test[index] = 0\n",
        "    else:\n",
        "      output_test[index] = 1\n",
        "\n",
        "  # modeling Y output\n",
        "  for index,value in enumerate(Y_val):\n",
        "    if(value == 'N'):\n",
        "      output_val[index] = 0\n",
        "    else:\n",
        "      output_val[index] = 1\n",
        "\n",
        "  ## expanding the dimensions\n",
        "  input_train = input_train.reshape(len(input_train), 9000, 1)\n",
        "  output_train = output_train.reshape(len(output_train), 1)\n",
        "\n",
        "  input_test = input_test.reshape(len(input_test), 9000, 1)\n",
        "  output_test = output_test.reshape(len(output_test), 1)\n",
        "\n",
        "  input_val = input_val.reshape(len(input_val), 9000, 1)\n",
        "  output_val = output_val.reshape(len(output_val), 1)\n",
        "\n",
        "  ## return the data\n",
        "  return (input_train, output_train, input_test, output_test, input_val, output_val)\n",
        "\n"
      ],
      "execution_count": null,
      "outputs": []
    },
    {
      "cell_type": "markdown",
      "metadata": {
        "id": "HwaDwi6EnIpM"
      },
      "source": [
        "## 1.1 Model using Normal data"
      ]
    },
    {
      "cell_type": "code",
      "metadata": {
        "id": "fQ-7ROCMzTSH"
      },
      "source": [
        "input_train, output_train, input_test, output_test, input_val, output_val = prepare_data(train_normalised, test_normalised, 0.3)"
      ],
      "execution_count": null,
      "outputs": []
    },
    {
      "cell_type": "code",
      "metadata": {
        "colab": {
          "base_uri": "https://localhost:8080/"
        },
        "id": "CLlSS4Q4z3B3",
        "outputId": "da07aee3-0c17-47bf-e6d4-f4c4733a843a"
      },
      "source": [
        "print(\"input train shape:\\t \", input_train.shape)\n",
        "print(\"output train shape:\\t \", output_train.shape)\n",
        "\n",
        "print(\"\\ninput test shape:\\t \", input_test.shape)\n",
        "print(\"output test shape:\\t \", output_test.shape)\n",
        "\n",
        "print(\"\\ninput val shape:\\t \", input_val.shape)\n",
        "print(\"output val shape:\\t \", output_val.shape)"
      ],
      "execution_count": null,
      "outputs": [
        {
          "output_type": "stream",
          "text": [
            "input train shape:\t  (3975, 9000, 1)\n",
            "output train shape:\t  (3975, 1)\n",
            "\n",
            "input test shape:\t  (504, 9000, 1)\n",
            "output test shape:\t  (504, 1)\n",
            "\n",
            "input val shape:\t  (1176, 9000, 1)\n",
            "output val shape:\t  (1176, 1)\n"
          ],
          "name": "stdout"
        }
      ]
    },
    {
      "cell_type": "code",
      "metadata": {
        "colab": {
          "base_uri": "https://localhost:8080/"
        },
        "id": "U1DdKe20ORt7",
        "outputId": "9c73513e-9626-4ccb-8c2a-4a1c4417223e"
      },
      "source": [
        "class_weights = class_weight.compute_class_weight('balanced',np.unique(output_train.flatten()), output_train.flatten())\n",
        "\n",
        "class_weight_dict = dict(enumerate(class_weights))\n",
        "\n",
        "class_weight_dict\n",
        "\n",
        "class_weight_dict_1 = {0: 1.0, 1: 6.0}\n",
        "\n",
        "class_weight_dict_1"
      ],
      "execution_count": null,
      "outputs": [
        {
          "output_type": "execute_result",
          "data": {
            "text/plain": [
              "{0: 1.0, 1: 6.0}"
            ]
          },
          "metadata": {},
          "execution_count": 7
        }
      ]
    },
    {
      "cell_type": "code",
      "metadata": {
        "id": "uDZilOQEORt8"
      },
      "source": [
        "# Defining parameter values\n",
        "epochs          = 300\n",
        "batch_size      = 32"
      ],
      "execution_count": null,
      "outputs": []
    },
    {
      "cell_type": "code",
      "metadata": {
        "colab": {
          "base_uri": "https://localhost:8080/"
        },
        "id": "lW-I5OOsORt9",
        "outputId": "5c38ecce-84e5-4f49-9925-82224274fc89"
      },
      "source": [
        "model_1 = Sequential()\n",
        "\n",
        "# 64, 64, 32, 16, 8, 32\n",
        "\n",
        "input_shape = (9000, 1)\n",
        "model_1.add(InputLayer(input_shape=input_shape))\n",
        "\n",
        "model_1.add(Conv1D(64, 10,padding='causal', activation=\"tanh\"))\n",
        "model_1.add(MaxPooling1D(4))\n",
        "\n",
        "model_1.add(Conv1D(64, 10,padding='same', activation=\"tanh\"))\n",
        "model_1.add(MaxPooling1D(4))\n",
        "\n",
        "model_1.add(LSTM(32,activation = \"tanh\", return_sequences = True))\n",
        "model_1.add(LSTM(16, activation = \"tanh\", return_sequences = True))\n",
        "model_1.add(LSTM(8, activation = \"tanh\"))\n",
        "\n",
        "model_1.add(Dense(32, activation='tanh'))\n",
        "model_1.add(BatchNormalization())\n",
        "model_1.add(Dense(1, activation = 'sigmoid'))\n",
        "\n",
        "model_1.summary()"
      ],
      "execution_count": null,
      "outputs": [
        {
          "output_type": "stream",
          "text": [
            "Model: \"sequential\"\n",
            "_________________________________________________________________\n",
            "Layer (type)                 Output Shape              Param #   \n",
            "=================================================================\n",
            "conv1d (Conv1D)              (None, 9000, 64)          704       \n",
            "_________________________________________________________________\n",
            "max_pooling1d (MaxPooling1D) (None, 2250, 64)          0         \n",
            "_________________________________________________________________\n",
            "conv1d_1 (Conv1D)            (None, 2250, 64)          41024     \n",
            "_________________________________________________________________\n",
            "max_pooling1d_1 (MaxPooling1 (None, 562, 64)           0         \n",
            "_________________________________________________________________\n",
            "lstm (LSTM)                  (None, 562, 32)           12416     \n",
            "_________________________________________________________________\n",
            "lstm_1 (LSTM)                (None, 562, 16)           3136      \n",
            "_________________________________________________________________\n",
            "lstm_2 (LSTM)                (None, 8)                 800       \n",
            "_________________________________________________________________\n",
            "dense (Dense)                (None, 32)                288       \n",
            "_________________________________________________________________\n",
            "batch_normalization (BatchNo (None, 32)                128       \n",
            "_________________________________________________________________\n",
            "dense_1 (Dense)              (None, 1)                 33        \n",
            "=================================================================\n",
            "Total params: 58,529\n",
            "Trainable params: 58,465\n",
            "Non-trainable params: 64\n",
            "_________________________________________________________________\n"
          ],
          "name": "stdout"
        }
      ]
    },
    {
      "cell_type": "code",
      "metadata": {
        "id": "HBr3aRpyORt9"
      },
      "source": [
        "# model training configuration \n",
        "model_1.compile(optimizer = tf.keras.optimizers.Adam(),\n",
        "                                    loss      = keras.losses.BinaryCrossentropy(),\n",
        "                                    metrics   = [keras.metrics.BinaryAccuracy()])\n",
        "\n",
        "#SGD(learning_rate=0.01, decay=1e-6, momentum=0.9, nesterov=True)\n",
        "\n",
        "# Callback to reduce the learning rate when the validation loss has stopped improving\n",
        "reduce_lr = keras.callbacks.ReduceLROnPlateau(monitor = 'val_loss', factor = 0.1, patience = 25, mode = 'min')\n",
        "\n",
        "# Callback to stop training the model when the validation loss has stopped improving\n",
        "# early_stop = keras.callbacks.EarlyStopping(monitor = 'val_loss', patience = 40, mode = 'min')\n",
        "\n",
        "# CHECKPOINT callback\n",
        "filepath = \"Training_models/PhysioNet 2017/Model 1/ECG.epoch_{epoch:02d}.TL_{loss:.4f}.VL_{val_loss:.4f}.TA_{binary_accuracy:.2f}.VA_{val_binary_accuracy:.2f}.hdf5\"\n",
        "\n",
        "# Save training model when there is an improvement in validation_accuracy from the previous checkpint\n",
        "model_save = keras.callbacks.ModelCheckpoint(filepath, \n",
        "                                             monitor = 'val_binary_accuracy',\n",
        "                                             save_best_only=True, \n",
        "                                             mode = 'max')\n",
        "\n",
        "\n"
      ],
      "execution_count": null,
      "outputs": []
    },
    {
      "cell_type": "code",
      "metadata": {
        "colab": {
          "base_uri": "https://localhost:8080/"
        },
        "id": "q_z73kRdORt-",
        "outputId": "39a09f64-acc8-4f57-9a8d-d090eb08013d"
      },
      "source": [
        "# Fitting the model\n",
        "model_1_his = model_1.fit(input_train, output_train,\n",
        "                      batch_size = batch_size , epochs = epochs, \n",
        "                      validation_data = (input_val, output_val),\n",
        "                      class_weight=class_weight_dict_1,\n",
        "                      callbacks=[reduce_lr,model_save])\n",
        "\n",
        "model_1.save('Training_models/PhysioNet 2017/Model 1/ECG_final_run.hdf5')"
      ],
      "execution_count": null,
      "outputs": [
        {
          "output_type": "stream",
          "text": [
            "Epoch 1/300\n",
            "125/125 [==============================] - 29s 84ms/step - loss: 1.1144 - binary_accuracy: 0.5940 - val_loss: 0.6519 - val_binary_accuracy: 0.8869\n",
            "Epoch 2/300\n",
            "125/125 [==============================] - 10s 77ms/step - loss: 1.0943 - binary_accuracy: 0.6483 - val_loss: 0.6184 - val_binary_accuracy: 0.7764\n",
            "Epoch 3/300\n",
            "125/125 [==============================] - 10s 77ms/step - loss: 1.0382 - binary_accuracy: 0.6843 - val_loss: 0.5394 - val_binary_accuracy: 0.8316\n",
            "Epoch 4/300\n",
            "125/125 [==============================] - 10s 77ms/step - loss: 0.9557 - binary_accuracy: 0.7150 - val_loss: 0.4119 - val_binary_accuracy: 0.8656\n",
            "Epoch 5/300\n",
            "125/125 [==============================] - 10s 77ms/step - loss: 0.8892 - binary_accuracy: 0.7467 - val_loss: 1.1279 - val_binary_accuracy: 0.3750\n",
            "Epoch 6/300\n",
            "125/125 [==============================] - 10s 77ms/step - loss: 0.8500 - binary_accuracy: 0.7713 - val_loss: 0.3193 - val_binary_accuracy: 0.8929\n",
            "Epoch 7/300\n",
            "125/125 [==============================] - 10s 77ms/step - loss: 0.8592 - binary_accuracy: 0.7459 - val_loss: 0.5331 - val_binary_accuracy: 0.7389\n",
            "Epoch 8/300\n",
            "125/125 [==============================] - 10s 77ms/step - loss: 0.7851 - binary_accuracy: 0.7839 - val_loss: 1.5626 - val_binary_accuracy: 0.1675\n",
            "Epoch 9/300\n",
            "125/125 [==============================] - 10s 77ms/step - loss: 0.7423 - binary_accuracy: 0.7995 - val_loss: 4.1813 - val_binary_accuracy: 0.1071\n",
            "Epoch 10/300\n",
            "125/125 [==============================] - 10s 78ms/step - loss: 0.7806 - binary_accuracy: 0.7834 - val_loss: 0.2497 - val_binary_accuracy: 0.9099\n",
            "Epoch 11/300\n",
            "125/125 [==============================] - 10s 77ms/step - loss: 0.7039 - binary_accuracy: 0.7950 - val_loss: 0.4045 - val_binary_accuracy: 0.8282\n",
            "Epoch 12/300\n",
            "125/125 [==============================] - 10s 78ms/step - loss: 0.6758 - binary_accuracy: 0.8028 - val_loss: 0.6344 - val_binary_accuracy: 0.6947\n",
            "Epoch 13/300\n",
            "125/125 [==============================] - 10s 78ms/step - loss: 0.5687 - binary_accuracy: 0.8531 - val_loss: 0.4736 - val_binary_accuracy: 0.7372\n",
            "Epoch 14/300\n",
            "125/125 [==============================] - 10s 78ms/step - loss: 0.5134 - binary_accuracy: 0.8684 - val_loss: 0.2506 - val_binary_accuracy: 0.8971\n",
            "Epoch 15/300\n",
            "125/125 [==============================] - 10s 78ms/step - loss: 0.4652 - binary_accuracy: 0.8790 - val_loss: 0.4022 - val_binary_accuracy: 0.8308\n",
            "Epoch 16/300\n",
            "125/125 [==============================] - 10s 78ms/step - loss: 0.4033 - binary_accuracy: 0.9019 - val_loss: 1.0886 - val_binary_accuracy: 0.5706\n",
            "Epoch 17/300\n",
            "125/125 [==============================] - 10s 78ms/step - loss: 0.4093 - binary_accuracy: 0.8964 - val_loss: 1.6069 - val_binary_accuracy: 0.4167\n",
            "Epoch 18/300\n",
            "125/125 [==============================] - 10s 78ms/step - loss: 0.4544 - binary_accuracy: 0.8833 - val_loss: 0.3123 - val_binary_accuracy: 0.8716\n",
            "Epoch 19/300\n",
            "125/125 [==============================] - 10s 77ms/step - loss: 0.4006 - binary_accuracy: 0.9011 - val_loss: 0.1722 - val_binary_accuracy: 0.9362\n",
            "Epoch 20/300\n",
            "125/125 [==============================] - 10s 78ms/step - loss: 0.3632 - binary_accuracy: 0.9122 - val_loss: 0.2136 - val_binary_accuracy: 0.9277\n",
            "Epoch 21/300\n",
            "125/125 [==============================] - 10s 77ms/step - loss: 0.3757 - binary_accuracy: 0.9112 - val_loss: 0.5094 - val_binary_accuracy: 0.8010\n",
            "Epoch 22/300\n",
            "125/125 [==============================] - 10s 78ms/step - loss: 0.3222 - binary_accuracy: 0.9180 - val_loss: 0.7820 - val_binary_accuracy: 0.6930\n",
            "Epoch 23/300\n",
            "125/125 [==============================] - 10s 78ms/step - loss: 0.2752 - binary_accuracy: 0.9358 - val_loss: 0.4241 - val_binary_accuracy: 0.8376\n",
            "Epoch 24/300\n",
            "125/125 [==============================] - 10s 78ms/step - loss: 0.3044 - binary_accuracy: 0.9213 - val_loss: 0.2508 - val_binary_accuracy: 0.9048\n",
            "Epoch 25/300\n",
            "125/125 [==============================] - 10s 78ms/step - loss: 0.3504 - binary_accuracy: 0.9145 - val_loss: 0.1885 - val_binary_accuracy: 0.9371\n",
            "Epoch 26/300\n",
            "125/125 [==============================] - 10s 78ms/step - loss: 0.2557 - binary_accuracy: 0.9394 - val_loss: 0.1829 - val_binary_accuracy: 0.9456\n",
            "Epoch 27/300\n",
            "125/125 [==============================] - 10s 78ms/step - loss: 0.2596 - binary_accuracy: 0.9346 - val_loss: 1.0013 - val_binary_accuracy: 0.6539\n",
            "Epoch 28/300\n",
            "125/125 [==============================] - 10s 78ms/step - loss: 0.2563 - binary_accuracy: 0.9411 - val_loss: 0.2940 - val_binary_accuracy: 0.8997\n",
            "Epoch 29/300\n",
            "125/125 [==============================] - 10s 78ms/step - loss: 0.2348 - binary_accuracy: 0.9394 - val_loss: 0.1766 - val_binary_accuracy: 0.9422\n",
            "Epoch 30/300\n",
            "125/125 [==============================] - 10s 78ms/step - loss: 0.2336 - binary_accuracy: 0.9421 - val_loss: 0.2424 - val_binary_accuracy: 0.9073\n",
            "Epoch 31/300\n",
            "125/125 [==============================] - 10s 77ms/step - loss: 0.2012 - binary_accuracy: 0.9540 - val_loss: 0.2615 - val_binary_accuracy: 0.9150\n",
            "Epoch 32/300\n",
            "125/125 [==============================] - 10s 78ms/step - loss: 0.1990 - binary_accuracy: 0.9572 - val_loss: 0.1889 - val_binary_accuracy: 0.9405\n",
            "Epoch 33/300\n",
            "125/125 [==============================] - 10s 78ms/step - loss: 0.2122 - binary_accuracy: 0.9469 - val_loss: 1.4772 - val_binary_accuracy: 0.5748\n",
            "Epoch 34/300\n",
            "125/125 [==============================] - 10s 78ms/step - loss: 0.2115 - binary_accuracy: 0.9532 - val_loss: 1.1706 - val_binary_accuracy: 0.6539\n",
            "Epoch 35/300\n",
            "125/125 [==============================] - 10s 78ms/step - loss: 0.1815 - binary_accuracy: 0.9555 - val_loss: 0.1822 - val_binary_accuracy: 0.9490\n",
            "Epoch 36/300\n",
            "125/125 [==============================] - 10s 78ms/step - loss: 0.1822 - binary_accuracy: 0.9580 - val_loss: 0.4709 - val_binary_accuracy: 0.8631\n",
            "Epoch 37/300\n",
            "125/125 [==============================] - 10s 78ms/step - loss: 0.1608 - binary_accuracy: 0.9658 - val_loss: 0.2052 - val_binary_accuracy: 0.9354\n",
            "Epoch 38/300\n",
            "125/125 [==============================] - 10s 78ms/step - loss: 0.0937 - binary_accuracy: 0.9806 - val_loss: 0.2019 - val_binary_accuracy: 0.9507\n",
            "Epoch 39/300\n",
            "125/125 [==============================] - 10s 78ms/step - loss: 0.1345 - binary_accuracy: 0.9706 - val_loss: 0.8769 - val_binary_accuracy: 0.6956\n",
            "Epoch 40/300\n",
            "125/125 [==============================] - 10s 78ms/step - loss: 0.1912 - binary_accuracy: 0.9562 - val_loss: 2.5484 - val_binary_accuracy: 0.5085\n",
            "Epoch 41/300\n",
            "125/125 [==============================] - 10s 78ms/step - loss: 0.1757 - binary_accuracy: 0.9592 - val_loss: 0.2272 - val_binary_accuracy: 0.9473\n",
            "Epoch 42/300\n",
            "125/125 [==============================] - 10s 78ms/step - loss: 0.1166 - binary_accuracy: 0.9728 - val_loss: 0.2845 - val_binary_accuracy: 0.9090\n",
            "Epoch 43/300\n",
            "125/125 [==============================] - 10s 78ms/step - loss: 0.1410 - binary_accuracy: 0.9658 - val_loss: 1.1064 - val_binary_accuracy: 0.7134\n",
            "Epoch 44/300\n",
            "125/125 [==============================] - 10s 78ms/step - loss: 0.1438 - binary_accuracy: 0.9675 - val_loss: 0.2791 - val_binary_accuracy: 0.9243\n",
            "Epoch 45/300\n",
            "125/125 [==============================] - 10s 78ms/step - loss: 0.0934 - binary_accuracy: 0.9761 - val_loss: 0.2144 - val_binary_accuracy: 0.9439\n",
            "Epoch 46/300\n",
            "125/125 [==============================] - 10s 78ms/step - loss: 0.0603 - binary_accuracy: 0.9887 - val_loss: 0.2115 - val_binary_accuracy: 0.9422\n",
            "Epoch 47/300\n",
            "125/125 [==============================] - 10s 78ms/step - loss: 0.0493 - binary_accuracy: 0.9917 - val_loss: 0.2479 - val_binary_accuracy: 0.9337\n",
            "Epoch 48/300\n",
            "125/125 [==============================] - 10s 78ms/step - loss: 0.0485 - binary_accuracy: 0.9914 - val_loss: 0.2316 - val_binary_accuracy: 0.9379\n",
            "Epoch 49/300\n",
            "125/125 [==============================] - 10s 78ms/step - loss: 0.0387 - binary_accuracy: 0.9927 - val_loss: 0.2378 - val_binary_accuracy: 0.9371\n",
            "Epoch 50/300\n",
            "125/125 [==============================] - 10s 78ms/step - loss: 0.0361 - binary_accuracy: 0.9932 - val_loss: 0.2238 - val_binary_accuracy: 0.9405\n",
            "Epoch 51/300\n",
            "125/125 [==============================] - 10s 77ms/step - loss: 0.0350 - binary_accuracy: 0.9952 - val_loss: 0.2285 - val_binary_accuracy: 0.9388\n",
            "Epoch 52/300\n",
            "125/125 [==============================] - 10s 78ms/step - loss: 0.0291 - binary_accuracy: 0.9950 - val_loss: 0.2302 - val_binary_accuracy: 0.9388\n",
            "Epoch 53/300\n",
            "125/125 [==============================] - 10s 78ms/step - loss: 0.0287 - binary_accuracy: 0.9967 - val_loss: 0.2269 - val_binary_accuracy: 0.9396\n",
            "Epoch 54/300\n",
            "125/125 [==============================] - 10s 78ms/step - loss: 0.0234 - binary_accuracy: 0.9960 - val_loss: 0.2454 - val_binary_accuracy: 0.9320\n",
            "Epoch 55/300\n",
            "125/125 [==============================] - 10s 78ms/step - loss: 0.0238 - binary_accuracy: 0.9965 - val_loss: 0.2300 - val_binary_accuracy: 0.9439\n",
            "Epoch 56/300\n",
            "125/125 [==============================] - 10s 78ms/step - loss: 0.0231 - binary_accuracy: 0.9975 - val_loss: 0.2339 - val_binary_accuracy: 0.9396\n",
            "Epoch 57/300\n",
            "125/125 [==============================] - 10s 78ms/step - loss: 0.0194 - binary_accuracy: 0.9975 - val_loss: 0.2509 - val_binary_accuracy: 0.9371\n",
            "Epoch 58/300\n",
            "125/125 [==============================] - 10s 78ms/step - loss: 0.0283 - binary_accuracy: 0.9952 - val_loss: 0.2397 - val_binary_accuracy: 0.9413\n",
            "Epoch 59/300\n",
            "125/125 [==============================] - 10s 77ms/step - loss: 0.0194 - binary_accuracy: 0.9977 - val_loss: 0.2661 - val_binary_accuracy: 0.9311\n",
            "Epoch 60/300\n",
            "125/125 [==============================] - 10s 78ms/step - loss: 0.0158 - binary_accuracy: 0.9980 - val_loss: 0.2385 - val_binary_accuracy: 0.9456\n",
            "Epoch 61/300\n",
            "125/125 [==============================] - 10s 78ms/step - loss: 0.0144 - binary_accuracy: 0.9975 - val_loss: 0.2464 - val_binary_accuracy: 0.9439\n",
            "Epoch 62/300\n",
            "125/125 [==============================] - 10s 78ms/step - loss: 0.0156 - binary_accuracy: 0.9982 - val_loss: 0.2704 - val_binary_accuracy: 0.9320\n",
            "Epoch 63/300\n",
            "125/125 [==============================] - 10s 77ms/step - loss: 0.0153 - binary_accuracy: 0.9975 - val_loss: 0.2611 - val_binary_accuracy: 0.9345\n",
            "Epoch 64/300\n",
            "125/125 [==============================] - 10s 78ms/step - loss: 0.0148 - binary_accuracy: 0.9982 - val_loss: 0.2741 - val_binary_accuracy: 0.9311\n",
            "Epoch 65/300\n",
            "125/125 [==============================] - 10s 77ms/step - loss: 0.0134 - binary_accuracy: 0.9990 - val_loss: 0.2473 - val_binary_accuracy: 0.9447\n",
            "Epoch 66/300\n",
            "125/125 [==============================] - 10s 78ms/step - loss: 0.0090 - binary_accuracy: 0.9990 - val_loss: 0.2446 - val_binary_accuracy: 0.9447\n",
            "Epoch 67/300\n",
            "125/125 [==============================] - 10s 77ms/step - loss: 0.0156 - binary_accuracy: 0.9970 - val_loss: 0.2643 - val_binary_accuracy: 0.9354\n",
            "Epoch 68/300\n",
            "125/125 [==============================] - 10s 78ms/step - loss: 0.0118 - binary_accuracy: 0.9990 - val_loss: 0.2763 - val_binary_accuracy: 0.9371\n",
            "Epoch 69/300\n",
            "125/125 [==============================] - 10s 78ms/step - loss: 0.0105 - binary_accuracy: 0.9985 - val_loss: 0.2587 - val_binary_accuracy: 0.9413\n",
            "Epoch 70/300\n",
            "125/125 [==============================] - 10s 78ms/step - loss: 0.0097 - binary_accuracy: 0.9990 - val_loss: 0.2638 - val_binary_accuracy: 0.9379\n",
            "Epoch 71/300\n",
            "125/125 [==============================] - 10s 78ms/step - loss: 0.0117 - binary_accuracy: 0.9985 - val_loss: 0.2681 - val_binary_accuracy: 0.9371\n",
            "Epoch 72/300\n",
            "125/125 [==============================] - 10s 78ms/step - loss: 0.0104 - binary_accuracy: 0.9985 - val_loss: 0.2671 - val_binary_accuracy: 0.9379\n",
            "Epoch 73/300\n",
            "125/125 [==============================] - 10s 78ms/step - loss: 0.0089 - binary_accuracy: 0.9992 - val_loss: 0.2664 - val_binary_accuracy: 0.9379\n",
            "Epoch 74/300\n",
            "125/125 [==============================] - 10s 78ms/step - loss: 0.0105 - binary_accuracy: 0.9990 - val_loss: 0.2640 - val_binary_accuracy: 0.9362\n",
            "Epoch 75/300\n",
            "125/125 [==============================] - 10s 78ms/step - loss: 0.0072 - binary_accuracy: 0.9995 - val_loss: 0.2689 - val_binary_accuracy: 0.9371\n",
            "Epoch 76/300\n",
            "125/125 [==============================] - 10s 78ms/step - loss: 0.0074 - binary_accuracy: 0.9992 - val_loss: 0.2677 - val_binary_accuracy: 0.9362\n",
            "Epoch 77/300\n",
            "125/125 [==============================] - 10s 78ms/step - loss: 0.0075 - binary_accuracy: 0.9990 - val_loss: 0.2624 - val_binary_accuracy: 0.9379\n",
            "Epoch 78/300\n",
            "125/125 [==============================] - 10s 78ms/step - loss: 0.0092 - binary_accuracy: 0.9995 - val_loss: 0.2668 - val_binary_accuracy: 0.9362\n",
            "Epoch 79/300\n",
            "125/125 [==============================] - 10s 78ms/step - loss: 0.0090 - binary_accuracy: 0.9995 - val_loss: 0.2837 - val_binary_accuracy: 0.9345\n",
            "Epoch 80/300\n",
            "125/125 [==============================] - 10s 78ms/step - loss: 0.0076 - binary_accuracy: 0.9990 - val_loss: 0.2729 - val_binary_accuracy: 0.9362\n",
            "Epoch 81/300\n",
            "125/125 [==============================] - 10s 78ms/step - loss: 0.0066 - binary_accuracy: 0.9992 - val_loss: 0.2695 - val_binary_accuracy: 0.9371\n",
            "Epoch 82/300\n",
            "125/125 [==============================] - 10s 78ms/step - loss: 0.0067 - binary_accuracy: 0.9995 - val_loss: 0.2685 - val_binary_accuracy: 0.9371\n",
            "Epoch 83/300\n",
            "125/125 [==============================] - 10s 78ms/step - loss: 0.0077 - binary_accuracy: 0.9985 - val_loss: 0.2696 - val_binary_accuracy: 0.9371\n",
            "Epoch 84/300\n",
            "125/125 [==============================] - 10s 78ms/step - loss: 0.0093 - binary_accuracy: 0.9990 - val_loss: 0.2737 - val_binary_accuracy: 0.9371\n",
            "Epoch 85/300\n",
            "125/125 [==============================] - 10s 78ms/step - loss: 0.0075 - binary_accuracy: 0.9995 - val_loss: 0.2712 - val_binary_accuracy: 0.9362\n",
            "Epoch 86/300\n",
            "125/125 [==============================] - 10s 78ms/step - loss: 0.0060 - binary_accuracy: 0.9995 - val_loss: 0.2705 - val_binary_accuracy: 0.9371\n",
            "Epoch 87/300\n",
            "125/125 [==============================] - 10s 78ms/step - loss: 0.0077 - binary_accuracy: 0.9995 - val_loss: 0.2683 - val_binary_accuracy: 0.9388\n",
            "Epoch 88/300\n",
            "125/125 [==============================] - 10s 78ms/step - loss: 0.0055 - binary_accuracy: 0.9995 - val_loss: 0.2725 - val_binary_accuracy: 0.9371\n",
            "Epoch 89/300\n",
            "125/125 [==============================] - 10s 78ms/step - loss: 0.0077 - binary_accuracy: 0.9995 - val_loss: 0.2743 - val_binary_accuracy: 0.9371\n",
            "Epoch 90/300\n",
            "125/125 [==============================] - 10s 78ms/step - loss: 0.0055 - binary_accuracy: 0.9995 - val_loss: 0.2711 - val_binary_accuracy: 0.9379\n",
            "Epoch 91/300\n",
            "125/125 [==============================] - 10s 78ms/step - loss: 0.0091 - binary_accuracy: 0.9987 - val_loss: 0.2695 - val_binary_accuracy: 0.9396\n",
            "Epoch 92/300\n",
            "125/125 [==============================] - 10s 78ms/step - loss: 0.0058 - binary_accuracy: 0.9997 - val_loss: 0.2814 - val_binary_accuracy: 0.9354\n",
            "Epoch 93/300\n",
            "125/125 [==============================] - 10s 78ms/step - loss: 0.0065 - binary_accuracy: 0.9990 - val_loss: 0.2840 - val_binary_accuracy: 0.9354\n",
            "Epoch 94/300\n",
            "125/125 [==============================] - 10s 78ms/step - loss: 0.0060 - binary_accuracy: 0.9992 - val_loss: 0.2751 - val_binary_accuracy: 0.9354\n",
            "Epoch 95/300\n",
            "125/125 [==============================] - 10s 78ms/step - loss: 0.0057 - binary_accuracy: 0.9997 - val_loss: 0.2736 - val_binary_accuracy: 0.9371\n",
            "Epoch 96/300\n",
            "125/125 [==============================] - 10s 78ms/step - loss: 0.0073 - binary_accuracy: 0.9995 - val_loss: 0.2759 - val_binary_accuracy: 0.9362\n",
            "Epoch 97/300\n",
            "125/125 [==============================] - 10s 78ms/step - loss: 0.0086 - binary_accuracy: 0.9992 - val_loss: 0.2773 - val_binary_accuracy: 0.9362\n",
            "Epoch 98/300\n",
            "125/125 [==============================] - 10s 78ms/step - loss: 0.0060 - binary_accuracy: 0.9997 - val_loss: 0.2775 - val_binary_accuracy: 0.9362\n",
            "Epoch 99/300\n",
            "125/125 [==============================] - 10s 78ms/step - loss: 0.0074 - binary_accuracy: 0.9985 - val_loss: 0.2764 - val_binary_accuracy: 0.9354\n",
            "Epoch 100/300\n",
            "125/125 [==============================] - 10s 78ms/step - loss: 0.0058 - binary_accuracy: 0.9997 - val_loss: 0.2742 - val_binary_accuracy: 0.9354\n",
            "Epoch 101/300\n",
            "125/125 [==============================] - 10s 78ms/step - loss: 0.0076 - binary_accuracy: 0.9990 - val_loss: 0.2741 - val_binary_accuracy: 0.9354\n",
            "Epoch 102/300\n",
            "125/125 [==============================] - 10s 78ms/step - loss: 0.0060 - binary_accuracy: 0.9997 - val_loss: 0.2746 - val_binary_accuracy: 0.9354\n",
            "Epoch 103/300\n",
            "125/125 [==============================] - 10s 78ms/step - loss: 0.0063 - binary_accuracy: 0.9997 - val_loss: 0.2760 - val_binary_accuracy: 0.9354\n",
            "Epoch 104/300\n",
            "125/125 [==============================] - 10s 78ms/step - loss: 0.0075 - binary_accuracy: 0.9997 - val_loss: 0.2779 - val_binary_accuracy: 0.9345\n",
            "Epoch 105/300\n",
            "125/125 [==============================] - 10s 78ms/step - loss: 0.0078 - binary_accuracy: 0.9990 - val_loss: 0.2755 - val_binary_accuracy: 0.9354\n",
            "Epoch 106/300\n",
            "125/125 [==============================] - 10s 78ms/step - loss: 0.0063 - binary_accuracy: 0.9995 - val_loss: 0.2744 - val_binary_accuracy: 0.9354\n",
            "Epoch 107/300\n",
            "125/125 [==============================] - 10s 78ms/step - loss: 0.0071 - binary_accuracy: 0.9992 - val_loss: 0.2735 - val_binary_accuracy: 0.9379\n",
            "Epoch 108/300\n",
            "125/125 [==============================] - 10s 78ms/step - loss: 0.0044 - binary_accuracy: 0.9997 - val_loss: 0.2734 - val_binary_accuracy: 0.9379\n",
            "Epoch 109/300\n",
            "125/125 [==============================] - 10s 78ms/step - loss: 0.0113 - binary_accuracy: 0.9982 - val_loss: 0.2737 - val_binary_accuracy: 0.9371\n",
            "Epoch 110/300\n",
            "125/125 [==============================] - 10s 78ms/step - loss: 0.0049 - binary_accuracy: 0.9997 - val_loss: 0.2736 - val_binary_accuracy: 0.9371\n",
            "Epoch 111/300\n",
            "125/125 [==============================] - 10s 78ms/step - loss: 0.0072 - binary_accuracy: 0.9992 - val_loss: 0.2717 - val_binary_accuracy: 0.9379\n",
            "Epoch 112/300\n",
            "125/125 [==============================] - 10s 78ms/step - loss: 0.0071 - binary_accuracy: 0.9995 - val_loss: 0.2727 - val_binary_accuracy: 0.9379\n",
            "Epoch 113/300\n",
            "125/125 [==============================] - 10s 78ms/step - loss: 0.0077 - binary_accuracy: 0.9995 - val_loss: 0.2720 - val_binary_accuracy: 0.9379\n",
            "Epoch 114/300\n",
            "125/125 [==============================] - 10s 78ms/step - loss: 0.0058 - binary_accuracy: 0.9997 - val_loss: 0.2735 - val_binary_accuracy: 0.9379\n",
            "Epoch 115/300\n",
            "125/125 [==============================] - 10s 78ms/step - loss: 0.0059 - binary_accuracy: 0.9992 - val_loss: 0.2740 - val_binary_accuracy: 0.9371\n",
            "Epoch 116/300\n",
            "125/125 [==============================] - 10s 78ms/step - loss: 0.0059 - binary_accuracy: 0.9992 - val_loss: 0.2712 - val_binary_accuracy: 0.9396\n",
            "Epoch 117/300\n",
            "125/125 [==============================] - 10s 78ms/step - loss: 0.0063 - binary_accuracy: 0.9992 - val_loss: 0.2728 - val_binary_accuracy: 0.9379\n",
            "Epoch 118/300\n",
            "125/125 [==============================] - 10s 78ms/step - loss: 0.0052 - binary_accuracy: 0.9995 - val_loss: 0.2716 - val_binary_accuracy: 0.9388\n",
            "Epoch 119/300\n",
            "125/125 [==============================] - 10s 78ms/step - loss: 0.0085 - binary_accuracy: 0.9992 - val_loss: 0.2716 - val_binary_accuracy: 0.9379\n",
            "Epoch 120/300\n",
            "125/125 [==============================] - 10s 78ms/step - loss: 0.0054 - binary_accuracy: 0.9992 - val_loss: 0.2734 - val_binary_accuracy: 0.9379\n",
            "Epoch 121/300\n",
            "125/125 [==============================] - 10s 78ms/step - loss: 0.0053 - binary_accuracy: 0.9997 - val_loss: 0.2719 - val_binary_accuracy: 0.9379\n",
            "Epoch 122/300\n",
            "125/125 [==============================] - 10s 78ms/step - loss: 0.0059 - binary_accuracy: 0.9992 - val_loss: 0.2707 - val_binary_accuracy: 0.9388\n",
            "Epoch 123/300\n",
            "125/125 [==============================] - 10s 78ms/step - loss: 0.0066 - binary_accuracy: 0.9990 - val_loss: 0.2721 - val_binary_accuracy: 0.9379\n",
            "Epoch 124/300\n",
            "125/125 [==============================] - 10s 78ms/step - loss: 0.0057 - binary_accuracy: 0.9995 - val_loss: 0.2725 - val_binary_accuracy: 0.9379\n",
            "Epoch 125/300\n",
            "125/125 [==============================] - 10s 78ms/step - loss: 0.0074 - binary_accuracy: 0.9992 - val_loss: 0.2726 - val_binary_accuracy: 0.9379\n",
            "Epoch 126/300\n",
            "125/125 [==============================] - 10s 78ms/step - loss: 0.0064 - binary_accuracy: 0.9992 - val_loss: 0.2724 - val_binary_accuracy: 0.9379\n",
            "Epoch 127/300\n",
            "125/125 [==============================] - 10s 78ms/step - loss: 0.0057 - binary_accuracy: 0.9995 - val_loss: 0.2732 - val_binary_accuracy: 0.9379\n",
            "Epoch 128/300\n",
            "125/125 [==============================] - 10s 78ms/step - loss: 0.0049 - binary_accuracy: 0.9997 - val_loss: 0.2730 - val_binary_accuracy: 0.9379\n",
            "Epoch 129/300\n",
            "125/125 [==============================] - 10s 78ms/step - loss: 0.0061 - binary_accuracy: 0.9995 - val_loss: 0.2714 - val_binary_accuracy: 0.9379\n",
            "Epoch 130/300\n",
            "125/125 [==============================] - 10s 78ms/step - loss: 0.0056 - binary_accuracy: 0.9997 - val_loss: 0.2723 - val_binary_accuracy: 0.9379\n",
            "Epoch 131/300\n",
            "125/125 [==============================] - 10s 78ms/step - loss: 0.0063 - binary_accuracy: 0.9995 - val_loss: 0.2716 - val_binary_accuracy: 0.9379\n",
            "Epoch 132/300\n",
            "125/125 [==============================] - 10s 78ms/step - loss: 0.0062 - binary_accuracy: 0.9997 - val_loss: 0.2725 - val_binary_accuracy: 0.9379\n",
            "Epoch 133/300\n",
            "125/125 [==============================] - 10s 78ms/step - loss: 0.0059 - binary_accuracy: 0.9992 - val_loss: 0.2724 - val_binary_accuracy: 0.9379\n",
            "Epoch 134/300\n",
            "125/125 [==============================] - 10s 78ms/step - loss: 0.0072 - binary_accuracy: 0.9995 - val_loss: 0.2742 - val_binary_accuracy: 0.9371\n",
            "Epoch 135/300\n",
            "125/125 [==============================] - 10s 78ms/step - loss: 0.0065 - binary_accuracy: 0.9997 - val_loss: 0.2715 - val_binary_accuracy: 0.9388\n",
            "Epoch 136/300\n",
            "125/125 [==============================] - 10s 78ms/step - loss: 0.0069 - binary_accuracy: 0.9997 - val_loss: 0.2722 - val_binary_accuracy: 0.9379\n",
            "Epoch 137/300\n",
            "125/125 [==============================] - 10s 78ms/step - loss: 0.0071 - binary_accuracy: 0.9995 - val_loss: 0.2729 - val_binary_accuracy: 0.9379\n",
            "Epoch 138/300\n",
            "125/125 [==============================] - 10s 78ms/step - loss: 0.0072 - binary_accuracy: 0.9992 - val_loss: 0.2727 - val_binary_accuracy: 0.9379\n",
            "Epoch 139/300\n",
            "125/125 [==============================] - 10s 78ms/step - loss: 0.0055 - binary_accuracy: 0.9997 - val_loss: 0.2725 - val_binary_accuracy: 0.9379\n",
            "Epoch 140/300\n",
            "125/125 [==============================] - 10s 78ms/step - loss: 0.0077 - binary_accuracy: 0.9992 - val_loss: 0.2712 - val_binary_accuracy: 0.9388\n",
            "Epoch 141/300\n",
            "125/125 [==============================] - 10s 78ms/step - loss: 0.0074 - binary_accuracy: 0.9992 - val_loss: 0.2718 - val_binary_accuracy: 0.9388\n",
            "Epoch 142/300\n",
            "125/125 [==============================] - 10s 78ms/step - loss: 0.0087 - binary_accuracy: 0.9992 - val_loss: 0.2716 - val_binary_accuracy: 0.9388\n",
            "Epoch 143/300\n",
            "125/125 [==============================] - 10s 78ms/step - loss: 0.0050 - binary_accuracy: 0.9997 - val_loss: 0.2723 - val_binary_accuracy: 0.9379\n",
            "Epoch 144/300\n",
            "125/125 [==============================] - 10s 78ms/step - loss: 0.0054 - binary_accuracy: 0.9997 - val_loss: 0.2714 - val_binary_accuracy: 0.9388\n",
            "Epoch 145/300\n",
            "125/125 [==============================] - 10s 78ms/step - loss: 0.0069 - binary_accuracy: 0.9997 - val_loss: 0.2715 - val_binary_accuracy: 0.9388\n",
            "Epoch 146/300\n",
            "125/125 [==============================] - 10s 78ms/step - loss: 0.0056 - binary_accuracy: 0.9997 - val_loss: 0.2706 - val_binary_accuracy: 0.9388\n",
            "Epoch 147/300\n",
            "125/125 [==============================] - 10s 77ms/step - loss: 0.0060 - binary_accuracy: 0.9997 - val_loss: 0.2707 - val_binary_accuracy: 0.9388\n",
            "Epoch 148/300\n",
            "125/125 [==============================] - 10s 78ms/step - loss: 0.0087 - binary_accuracy: 0.9992 - val_loss: 0.2724 - val_binary_accuracy: 0.9379\n",
            "Epoch 149/300\n",
            "125/125 [==============================] - 10s 78ms/step - loss: 0.0056 - binary_accuracy: 1.0000 - val_loss: 0.2705 - val_binary_accuracy: 0.9405\n",
            "Epoch 150/300\n",
            "125/125 [==============================] - 10s 78ms/step - loss: 0.0058 - binary_accuracy: 0.9997 - val_loss: 0.2710 - val_binary_accuracy: 0.9388\n",
            "Epoch 151/300\n",
            "125/125 [==============================] - 10s 77ms/step - loss: 0.0060 - binary_accuracy: 0.9995 - val_loss: 0.2728 - val_binary_accuracy: 0.9379\n",
            "Epoch 152/300\n",
            "125/125 [==============================] - 10s 78ms/step - loss: 0.0053 - binary_accuracy: 0.9995 - val_loss: 0.2710 - val_binary_accuracy: 0.9388\n",
            "Epoch 153/300\n",
            "125/125 [==============================] - 10s 77ms/step - loss: 0.0060 - binary_accuracy: 0.9995 - val_loss: 0.2734 - val_binary_accuracy: 0.9371\n",
            "Epoch 154/300\n",
            "125/125 [==============================] - 10s 78ms/step - loss: 0.0055 - binary_accuracy: 0.9997 - val_loss: 0.2717 - val_binary_accuracy: 0.9388\n",
            "Epoch 155/300\n",
            "125/125 [==============================] - 10s 77ms/step - loss: 0.0072 - binary_accuracy: 0.9995 - val_loss: 0.2725 - val_binary_accuracy: 0.9379\n",
            "Epoch 156/300\n",
            "125/125 [==============================] - 10s 78ms/step - loss: 0.0061 - binary_accuracy: 0.9990 - val_loss: 0.2732 - val_binary_accuracy: 0.9379\n",
            "Epoch 157/300\n",
            "125/125 [==============================] - 10s 77ms/step - loss: 0.0066 - binary_accuracy: 0.9995 - val_loss: 0.2729 - val_binary_accuracy: 0.9379\n",
            "Epoch 158/300\n",
            "125/125 [==============================] - 10s 78ms/step - loss: 0.0067 - binary_accuracy: 0.9990 - val_loss: 0.2733 - val_binary_accuracy: 0.9379\n",
            "Epoch 159/300\n",
            "125/125 [==============================] - 10s 78ms/step - loss: 0.0073 - binary_accuracy: 0.9990 - val_loss: 0.2713 - val_binary_accuracy: 0.9388\n",
            "Epoch 160/300\n",
            "125/125 [==============================] - 10s 78ms/step - loss: 0.0062 - binary_accuracy: 0.9995 - val_loss: 0.2719 - val_binary_accuracy: 0.9388\n",
            "Epoch 161/300\n",
            "125/125 [==============================] - 10s 77ms/step - loss: 0.0078 - binary_accuracy: 0.9997 - val_loss: 0.2737 - val_binary_accuracy: 0.9371\n",
            "Epoch 162/300\n",
            "125/125 [==============================] - 10s 78ms/step - loss: 0.0064 - binary_accuracy: 0.9997 - val_loss: 0.2727 - val_binary_accuracy: 0.9379\n",
            "Epoch 163/300\n",
            "125/125 [==============================] - 10s 77ms/step - loss: 0.0060 - binary_accuracy: 0.9997 - val_loss: 0.2733 - val_binary_accuracy: 0.9379\n",
            "Epoch 164/300\n",
            "125/125 [==============================] - 10s 78ms/step - loss: 0.0056 - binary_accuracy: 0.9995 - val_loss: 0.2728 - val_binary_accuracy: 0.9379\n",
            "Epoch 165/300\n",
            "125/125 [==============================] - 10s 78ms/step - loss: 0.0071 - binary_accuracy: 0.9997 - val_loss: 0.2742 - val_binary_accuracy: 0.9371\n",
            "Epoch 166/300\n",
            "125/125 [==============================] - 10s 78ms/step - loss: 0.0060 - binary_accuracy: 0.9992 - val_loss: 0.2713 - val_binary_accuracy: 0.9388\n",
            "Epoch 167/300\n",
            "125/125 [==============================] - 10s 77ms/step - loss: 0.0073 - binary_accuracy: 0.9990 - val_loss: 0.2724 - val_binary_accuracy: 0.9379\n",
            "Epoch 168/300\n",
            "125/125 [==============================] - 10s 78ms/step - loss: 0.0055 - binary_accuracy: 0.9997 - val_loss: 0.2712 - val_binary_accuracy: 0.9388\n",
            "Epoch 169/300\n",
            "125/125 [==============================] - 10s 77ms/step - loss: 0.0054 - binary_accuracy: 0.9997 - val_loss: 0.2722 - val_binary_accuracy: 0.9379\n",
            "Epoch 170/300\n",
            "125/125 [==============================] - 10s 78ms/step - loss: 0.0051 - binary_accuracy: 0.9997 - val_loss: 0.2729 - val_binary_accuracy: 0.9379\n",
            "Epoch 171/300\n",
            "125/125 [==============================] - 10s 77ms/step - loss: 0.0061 - binary_accuracy: 0.9997 - val_loss: 0.2726 - val_binary_accuracy: 0.9379\n",
            "Epoch 172/300\n",
            "125/125 [==============================] - 10s 77ms/step - loss: 0.0062 - binary_accuracy: 0.9992 - val_loss: 0.2744 - val_binary_accuracy: 0.9371\n",
            "Epoch 173/300\n",
            "125/125 [==============================] - 10s 77ms/step - loss: 0.0070 - binary_accuracy: 0.9990 - val_loss: 0.2735 - val_binary_accuracy: 0.9371\n",
            "Epoch 174/300\n",
            "125/125 [==============================] - 10s 77ms/step - loss: 0.0067 - binary_accuracy: 0.9995 - val_loss: 0.2733 - val_binary_accuracy: 0.9371\n",
            "Epoch 175/300\n",
            "125/125 [==============================] - 10s 78ms/step - loss: 0.0069 - binary_accuracy: 0.9997 - val_loss: 0.2735 - val_binary_accuracy: 0.9371\n",
            "Epoch 176/300\n",
            "125/125 [==============================] - 10s 77ms/step - loss: 0.0050 - binary_accuracy: 0.9997 - val_loss: 0.2720 - val_binary_accuracy: 0.9379\n",
            "Epoch 177/300\n",
            "125/125 [==============================] - 10s 77ms/step - loss: 0.0060 - binary_accuracy: 0.9997 - val_loss: 0.2714 - val_binary_accuracy: 0.9388\n",
            "Epoch 178/300\n",
            "125/125 [==============================] - 10s 78ms/step - loss: 0.0073 - binary_accuracy: 0.9995 - val_loss: 0.2722 - val_binary_accuracy: 0.9379\n",
            "Epoch 179/300\n",
            "125/125 [==============================] - 10s 77ms/step - loss: 0.0080 - binary_accuracy: 0.9992 - val_loss: 0.2725 - val_binary_accuracy: 0.9379\n",
            "Epoch 180/300\n",
            "125/125 [==============================] - 10s 77ms/step - loss: 0.0054 - binary_accuracy: 0.9995 - val_loss: 0.2720 - val_binary_accuracy: 0.9379\n",
            "Epoch 181/300\n",
            "125/125 [==============================] - 10s 77ms/step - loss: 0.0057 - binary_accuracy: 0.9997 - val_loss: 0.2717 - val_binary_accuracy: 0.9388\n",
            "Epoch 182/300\n",
            "125/125 [==============================] - 10s 78ms/step - loss: 0.0087 - binary_accuracy: 0.9990 - val_loss: 0.2729 - val_binary_accuracy: 0.9379\n",
            "Epoch 183/300\n",
            "125/125 [==============================] - 10s 77ms/step - loss: 0.0057 - binary_accuracy: 0.9995 - val_loss: 0.2721 - val_binary_accuracy: 0.9379\n",
            "Epoch 184/300\n",
            "125/125 [==============================] - 10s 78ms/step - loss: 0.0070 - binary_accuracy: 0.9995 - val_loss: 0.2728 - val_binary_accuracy: 0.9379\n",
            "Epoch 185/300\n",
            "125/125 [==============================] - 10s 77ms/step - loss: 0.0077 - binary_accuracy: 0.9997 - val_loss: 0.2727 - val_binary_accuracy: 0.9379\n",
            "Epoch 186/300\n",
            "125/125 [==============================] - 10s 77ms/step - loss: 0.0060 - binary_accuracy: 0.9992 - val_loss: 0.2718 - val_binary_accuracy: 0.9379\n",
            "Epoch 187/300\n",
            "125/125 [==============================] - 10s 77ms/step - loss: 0.0062 - binary_accuracy: 0.9997 - val_loss: 0.2711 - val_binary_accuracy: 0.9388\n",
            "Epoch 188/300\n",
            "125/125 [==============================] - 10s 78ms/step - loss: 0.0065 - binary_accuracy: 0.9992 - val_loss: 0.2709 - val_binary_accuracy: 0.9388\n",
            "Epoch 189/300\n",
            "125/125 [==============================] - 10s 77ms/step - loss: 0.0071 - binary_accuracy: 0.9995 - val_loss: 0.2722 - val_binary_accuracy: 0.9379\n",
            "Epoch 190/300\n",
            "125/125 [==============================] - 10s 78ms/step - loss: 0.0063 - binary_accuracy: 0.9990 - val_loss: 0.2722 - val_binary_accuracy: 0.9379\n",
            "Epoch 191/300\n",
            "125/125 [==============================] - 10s 77ms/step - loss: 0.0122 - binary_accuracy: 0.9985 - val_loss: 0.2719 - val_binary_accuracy: 0.9388\n",
            "Epoch 192/300\n",
            "125/125 [==============================] - 10s 77ms/step - loss: 0.0047 - binary_accuracy: 0.9997 - val_loss: 0.2708 - val_binary_accuracy: 0.9388\n",
            "Epoch 193/300\n",
            "125/125 [==============================] - 10s 77ms/step - loss: 0.0046 - binary_accuracy: 0.9997 - val_loss: 0.2711 - val_binary_accuracy: 0.9388\n",
            "Epoch 194/300\n",
            "125/125 [==============================] - 10s 78ms/step - loss: 0.0068 - binary_accuracy: 0.9997 - val_loss: 0.2726 - val_binary_accuracy: 0.9379\n",
            "Epoch 195/300\n",
            "125/125 [==============================] - 10s 77ms/step - loss: 0.0065 - binary_accuracy: 0.9995 - val_loss: 0.2724 - val_binary_accuracy: 0.9379\n",
            "Epoch 196/300\n",
            "125/125 [==============================] - 10s 78ms/step - loss: 0.0069 - binary_accuracy: 0.9992 - val_loss: 0.2718 - val_binary_accuracy: 0.9379\n",
            "Epoch 197/300\n",
            "125/125 [==============================] - 10s 77ms/step - loss: 0.0074 - binary_accuracy: 0.9995 - val_loss: 0.2720 - val_binary_accuracy: 0.9379\n",
            "Epoch 198/300\n",
            "125/125 [==============================] - 10s 78ms/step - loss: 0.0077 - binary_accuracy: 0.9995 - val_loss: 0.2722 - val_binary_accuracy: 0.9379\n",
            "Epoch 199/300\n",
            "125/125 [==============================] - 10s 77ms/step - loss: 0.0058 - binary_accuracy: 0.9997 - val_loss: 0.2715 - val_binary_accuracy: 0.9388\n",
            "Epoch 200/300\n",
            "125/125 [==============================] - 10s 78ms/step - loss: 0.0057 - binary_accuracy: 0.9997 - val_loss: 0.2724 - val_binary_accuracy: 0.9379\n",
            "Epoch 201/300\n",
            "125/125 [==============================] - 10s 77ms/step - loss: 0.0076 - binary_accuracy: 0.9995 - val_loss: 0.2729 - val_binary_accuracy: 0.9379\n",
            "Epoch 202/300\n",
            "125/125 [==============================] - 10s 78ms/step - loss: 0.0039 - binary_accuracy: 0.9997 - val_loss: 0.2715 - val_binary_accuracy: 0.9388\n",
            "Epoch 203/300\n",
            "125/125 [==============================] - 10s 77ms/step - loss: 0.0059 - binary_accuracy: 0.9995 - val_loss: 0.2710 - val_binary_accuracy: 0.9388\n",
            "Epoch 204/300\n",
            "125/125 [==============================] - 10s 78ms/step - loss: 0.0056 - binary_accuracy: 0.9992 - val_loss: 0.2714 - val_binary_accuracy: 0.9388\n",
            "Epoch 205/300\n",
            "125/125 [==============================] - 10s 77ms/step - loss: 0.0054 - binary_accuracy: 0.9995 - val_loss: 0.2714 - val_binary_accuracy: 0.9388\n",
            "Epoch 206/300\n",
            "125/125 [==============================] - 10s 78ms/step - loss: 0.0066 - binary_accuracy: 0.9992 - val_loss: 0.2721 - val_binary_accuracy: 0.9379\n",
            "Epoch 207/300\n",
            "125/125 [==============================] - 10s 77ms/step - loss: 0.0076 - binary_accuracy: 0.9997 - val_loss: 0.2695 - val_binary_accuracy: 0.9405\n",
            "Epoch 208/300\n",
            "125/125 [==============================] - 10s 78ms/step - loss: 0.0051 - binary_accuracy: 0.9997 - val_loss: 0.2728 - val_binary_accuracy: 0.9379\n",
            "Epoch 209/300\n",
            "125/125 [==============================] - 10s 77ms/step - loss: 0.0053 - binary_accuracy: 0.9997 - val_loss: 0.2727 - val_binary_accuracy: 0.9379\n",
            "Epoch 210/300\n",
            "125/125 [==============================] - 10s 78ms/step - loss: 0.0069 - binary_accuracy: 0.9995 - val_loss: 0.2732 - val_binary_accuracy: 0.9379\n",
            "Epoch 211/300\n",
            "125/125 [==============================] - 10s 77ms/step - loss: 0.0048 - binary_accuracy: 0.9997 - val_loss: 0.2731 - val_binary_accuracy: 0.9371\n",
            "Epoch 212/300\n",
            "125/125 [==============================] - 10s 78ms/step - loss: 0.0050 - binary_accuracy: 0.9997 - val_loss: 0.2722 - val_binary_accuracy: 0.9379\n",
            "Epoch 213/300\n",
            "125/125 [==============================] - 10s 77ms/step - loss: 0.0066 - binary_accuracy: 0.9997 - val_loss: 0.2720 - val_binary_accuracy: 0.9379\n",
            "Epoch 214/300\n",
            "125/125 [==============================] - 10s 78ms/step - loss: 0.0062 - binary_accuracy: 0.9990 - val_loss: 0.2724 - val_binary_accuracy: 0.9379\n",
            "Epoch 215/300\n",
            "125/125 [==============================] - 10s 78ms/step - loss: 0.0078 - binary_accuracy: 0.9995 - val_loss: 0.2727 - val_binary_accuracy: 0.9379\n",
            "Epoch 216/300\n",
            "125/125 [==============================] - 10s 77ms/step - loss: 0.0061 - binary_accuracy: 0.9997 - val_loss: 0.2717 - val_binary_accuracy: 0.9388\n",
            "Epoch 217/300\n",
            "125/125 [==============================] - 10s 77ms/step - loss: 0.0078 - binary_accuracy: 0.9992 - val_loss: 0.2714 - val_binary_accuracy: 0.9388\n",
            "Epoch 218/300\n",
            "125/125 [==============================] - 10s 77ms/step - loss: 0.0057 - binary_accuracy: 0.9992 - val_loss: 0.2720 - val_binary_accuracy: 0.9379\n",
            "Epoch 219/300\n",
            "125/125 [==============================] - 10s 77ms/step - loss: 0.0059 - binary_accuracy: 0.9995 - val_loss: 0.2713 - val_binary_accuracy: 0.9388\n",
            "Epoch 220/300\n",
            "125/125 [==============================] - 10s 77ms/step - loss: 0.0053 - binary_accuracy: 0.9995 - val_loss: 0.2717 - val_binary_accuracy: 0.9379\n",
            "Epoch 221/300\n",
            "125/125 [==============================] - 10s 77ms/step - loss: 0.0075 - binary_accuracy: 0.9992 - val_loss: 0.2714 - val_binary_accuracy: 0.9388\n",
            "Epoch 222/300\n",
            "125/125 [==============================] - 10s 77ms/step - loss: 0.0061 - binary_accuracy: 0.9997 - val_loss: 0.2722 - val_binary_accuracy: 0.9379\n",
            "Epoch 223/300\n",
            "125/125 [==============================] - 10s 77ms/step - loss: 0.0060 - binary_accuracy: 0.9995 - val_loss: 0.2715 - val_binary_accuracy: 0.9388\n",
            "Epoch 224/300\n",
            "125/125 [==============================] - 10s 78ms/step - loss: 0.0054 - binary_accuracy: 1.0000 - val_loss: 0.2715 - val_binary_accuracy: 0.9388\n",
            "Epoch 225/300\n",
            "125/125 [==============================] - 10s 77ms/step - loss: 0.0070 - binary_accuracy: 0.9995 - val_loss: 0.2709 - val_binary_accuracy: 0.9388\n",
            "Epoch 226/300\n",
            "125/125 [==============================] - 10s 78ms/step - loss: 0.0111 - binary_accuracy: 0.9995 - val_loss: 0.2716 - val_binary_accuracy: 0.9388\n",
            "Epoch 227/300\n",
            "125/125 [==============================] - 10s 77ms/step - loss: 0.0059 - binary_accuracy: 0.9997 - val_loss: 0.2714 - val_binary_accuracy: 0.9388\n",
            "Epoch 228/300\n",
            "125/125 [==============================] - 10s 78ms/step - loss: 0.0057 - binary_accuracy: 0.9995 - val_loss: 0.2719 - val_binary_accuracy: 0.9379\n",
            "Epoch 229/300\n",
            "125/125 [==============================] - 10s 77ms/step - loss: 0.0076 - binary_accuracy: 0.9995 - val_loss: 0.2719 - val_binary_accuracy: 0.9388\n",
            "Epoch 230/300\n",
            "125/125 [==============================] - 10s 78ms/step - loss: 0.0067 - binary_accuracy: 0.9997 - val_loss: 0.2714 - val_binary_accuracy: 0.9388\n",
            "Epoch 231/300\n",
            "125/125 [==============================] - 10s 77ms/step - loss: 0.0053 - binary_accuracy: 0.9997 - val_loss: 0.2709 - val_binary_accuracy: 0.9388\n",
            "Epoch 232/300\n",
            "125/125 [==============================] - 10s 78ms/step - loss: 0.0064 - binary_accuracy: 0.9992 - val_loss: 0.2703 - val_binary_accuracy: 0.9396\n",
            "Epoch 233/300\n",
            "125/125 [==============================] - 10s 77ms/step - loss: 0.0074 - binary_accuracy: 0.9995 - val_loss: 0.2714 - val_binary_accuracy: 0.9388\n",
            "Epoch 234/300\n",
            "125/125 [==============================] - 10s 78ms/step - loss: 0.0080 - binary_accuracy: 0.9992 - val_loss: 0.2720 - val_binary_accuracy: 0.9388\n",
            "Epoch 235/300\n",
            "125/125 [==============================] - 10s 77ms/step - loss: 0.0044 - binary_accuracy: 0.9995 - val_loss: 0.2726 - val_binary_accuracy: 0.9379\n",
            "Epoch 236/300\n",
            "125/125 [==============================] - 10s 78ms/step - loss: 0.0077 - binary_accuracy: 0.9990 - val_loss: 0.2731 - val_binary_accuracy: 0.9379\n",
            "Epoch 237/300\n",
            "125/125 [==============================] - 10s 77ms/step - loss: 0.0077 - binary_accuracy: 0.9997 - val_loss: 0.2746 - val_binary_accuracy: 0.9371\n",
            "Epoch 238/300\n",
            "125/125 [==============================] - 10s 77ms/step - loss: 0.0080 - binary_accuracy: 0.9992 - val_loss: 0.2740 - val_binary_accuracy: 0.9371\n",
            "Epoch 239/300\n",
            "125/125 [==============================] - 10s 77ms/step - loss: 0.0050 - binary_accuracy: 0.9997 - val_loss: 0.2708 - val_binary_accuracy: 0.9388\n",
            "Epoch 240/300\n",
            "125/125 [==============================] - 10s 77ms/step - loss: 0.0051 - binary_accuracy: 0.9995 - val_loss: 0.2720 - val_binary_accuracy: 0.9379\n",
            "Epoch 241/300\n",
            "125/125 [==============================] - 10s 77ms/step - loss: 0.0057 - binary_accuracy: 0.9997 - val_loss: 0.2710 - val_binary_accuracy: 0.9388\n",
            "Epoch 242/300\n",
            "125/125 [==============================] - 10s 77ms/step - loss: 0.0049 - binary_accuracy: 0.9995 - val_loss: 0.2708 - val_binary_accuracy: 0.9388\n",
            "Epoch 243/300\n",
            "125/125 [==============================] - 10s 77ms/step - loss: 0.0055 - binary_accuracy: 0.9995 - val_loss: 0.2729 - val_binary_accuracy: 0.9379\n",
            "Epoch 244/300\n",
            "125/125 [==============================] - 10s 77ms/step - loss: 0.0064 - binary_accuracy: 0.9997 - val_loss: 0.2707 - val_binary_accuracy: 0.9388\n",
            "Epoch 245/300\n",
            "125/125 [==============================] - 10s 77ms/step - loss: 0.0053 - binary_accuracy: 0.9995 - val_loss: 0.2729 - val_binary_accuracy: 0.9379\n",
            "Epoch 246/300\n",
            "125/125 [==============================] - 10s 77ms/step - loss: 0.0068 - binary_accuracy: 0.9995 - val_loss: 0.2729 - val_binary_accuracy: 0.9379\n",
            "Epoch 247/300\n",
            "125/125 [==============================] - 10s 77ms/step - loss: 0.0066 - binary_accuracy: 0.9995 - val_loss: 0.2711 - val_binary_accuracy: 0.9388\n",
            "Epoch 248/300\n",
            "125/125 [==============================] - 10s 78ms/step - loss: 0.0061 - binary_accuracy: 0.9995 - val_loss: 0.2722 - val_binary_accuracy: 0.9379\n",
            "Epoch 249/300\n",
            "125/125 [==============================] - 10s 77ms/step - loss: 0.0067 - binary_accuracy: 0.9995 - val_loss: 0.2723 - val_binary_accuracy: 0.9379\n",
            "Epoch 250/300\n",
            "125/125 [==============================] - 10s 77ms/step - loss: 0.0062 - binary_accuracy: 0.9997 - val_loss: 0.2729 - val_binary_accuracy: 0.9379\n",
            "Epoch 251/300\n",
            "125/125 [==============================] - 10s 77ms/step - loss: 0.0060 - binary_accuracy: 0.9995 - val_loss: 0.2718 - val_binary_accuracy: 0.9379\n",
            "Epoch 252/300\n",
            "125/125 [==============================] - 10s 78ms/step - loss: 0.0073 - binary_accuracy: 0.9997 - val_loss: 0.2717 - val_binary_accuracy: 0.9388\n",
            "Epoch 253/300\n",
            "125/125 [==============================] - 10s 77ms/step - loss: 0.0059 - binary_accuracy: 0.9997 - val_loss: 0.2710 - val_binary_accuracy: 0.9388\n",
            "Epoch 254/300\n",
            "125/125 [==============================] - 10s 78ms/step - loss: 0.0068 - binary_accuracy: 0.9995 - val_loss: 0.2719 - val_binary_accuracy: 0.9379\n",
            "Epoch 255/300\n",
            "125/125 [==============================] - 10s 77ms/step - loss: 0.0062 - binary_accuracy: 0.9995 - val_loss: 0.2707 - val_binary_accuracy: 0.9388\n",
            "Epoch 256/300\n",
            "125/125 [==============================] - 10s 77ms/step - loss: 0.0054 - binary_accuracy: 0.9997 - val_loss: 0.2705 - val_binary_accuracy: 0.9388\n",
            "Epoch 257/300\n",
            "125/125 [==============================] - 10s 77ms/step - loss: 0.0064 - binary_accuracy: 0.9990 - val_loss: 0.2714 - val_binary_accuracy: 0.9388\n",
            "Epoch 258/300\n",
            "125/125 [==============================] - 10s 77ms/step - loss: 0.0070 - binary_accuracy: 0.9992 - val_loss: 0.2715 - val_binary_accuracy: 0.9388\n",
            "Epoch 259/300\n",
            "125/125 [==============================] - 10s 78ms/step - loss: 0.0091 - binary_accuracy: 0.9995 - val_loss: 0.2714 - val_binary_accuracy: 0.9388\n",
            "Epoch 260/300\n",
            "125/125 [==============================] - 10s 77ms/step - loss: 0.0058 - binary_accuracy: 0.9995 - val_loss: 0.2727 - val_binary_accuracy: 0.9379\n",
            "Epoch 261/300\n",
            "125/125 [==============================] - 10s 77ms/step - loss: 0.0059 - binary_accuracy: 0.9997 - val_loss: 0.2729 - val_binary_accuracy: 0.9379\n",
            "Epoch 262/300\n",
            "125/125 [==============================] - 10s 77ms/step - loss: 0.0054 - binary_accuracy: 0.9997 - val_loss: 0.2738 - val_binary_accuracy: 0.9371\n",
            "Epoch 263/300\n",
            "125/125 [==============================] - 10s 78ms/step - loss: 0.0088 - binary_accuracy: 0.9990 - val_loss: 0.2717 - val_binary_accuracy: 0.9388\n",
            "Epoch 264/300\n",
            "125/125 [==============================] - 10s 77ms/step - loss: 0.0094 - binary_accuracy: 0.9995 - val_loss: 0.2719 - val_binary_accuracy: 0.9388\n",
            "Epoch 265/300\n",
            "125/125 [==============================] - 10s 77ms/step - loss: 0.0062 - binary_accuracy: 0.9997 - val_loss: 0.2716 - val_binary_accuracy: 0.9388\n",
            "Epoch 266/300\n",
            "125/125 [==============================] - 10s 77ms/step - loss: 0.0051 - binary_accuracy: 0.9992 - val_loss: 0.2711 - val_binary_accuracy: 0.9388\n",
            "Epoch 267/300\n",
            "125/125 [==============================] - 10s 77ms/step - loss: 0.0053 - binary_accuracy: 0.9997 - val_loss: 0.2735 - val_binary_accuracy: 0.9371\n",
            "Epoch 268/300\n",
            "125/125 [==============================] - 10s 77ms/step - loss: 0.0059 - binary_accuracy: 0.9995 - val_loss: 0.2727 - val_binary_accuracy: 0.9379\n",
            "Epoch 269/300\n",
            "125/125 [==============================] - 10s 77ms/step - loss: 0.0067 - binary_accuracy: 0.9995 - val_loss: 0.2725 - val_binary_accuracy: 0.9379\n",
            "Epoch 270/300\n",
            "125/125 [==============================] - 10s 78ms/step - loss: 0.0063 - binary_accuracy: 0.9997 - val_loss: 0.2728 - val_binary_accuracy: 0.9379\n",
            "Epoch 271/300\n",
            "125/125 [==============================] - 10s 78ms/step - loss: 0.0076 - binary_accuracy: 0.9995 - val_loss: 0.2721 - val_binary_accuracy: 0.9388\n",
            "Epoch 272/300\n",
            "125/125 [==============================] - 10s 78ms/step - loss: 0.0058 - binary_accuracy: 0.9995 - val_loss: 0.2716 - val_binary_accuracy: 0.9388\n",
            "Epoch 273/300\n",
            "125/125 [==============================] - 10s 77ms/step - loss: 0.0092 - binary_accuracy: 0.9995 - val_loss: 0.2713 - val_binary_accuracy: 0.9388\n",
            "Epoch 274/300\n",
            "125/125 [==============================] - 10s 77ms/step - loss: 0.0057 - binary_accuracy: 0.9995 - val_loss: 0.2711 - val_binary_accuracy: 0.9388\n",
            "Epoch 275/300\n",
            "125/125 [==============================] - 10s 78ms/step - loss: 0.0064 - binary_accuracy: 0.9990 - val_loss: 0.2715 - val_binary_accuracy: 0.9388\n",
            "Epoch 276/300\n",
            "125/125 [==============================] - 10s 77ms/step - loss: 0.0063 - binary_accuracy: 0.9990 - val_loss: 0.2713 - val_binary_accuracy: 0.9379\n",
            "Epoch 277/300\n",
            "125/125 [==============================] - 10s 77ms/step - loss: 0.0053 - binary_accuracy: 0.9997 - val_loss: 0.2728 - val_binary_accuracy: 0.9379\n",
            "Epoch 278/300\n",
            "125/125 [==============================] - 10s 77ms/step - loss: 0.0061 - binary_accuracy: 0.9995 - val_loss: 0.2715 - val_binary_accuracy: 0.9388\n",
            "Epoch 279/300\n",
            "125/125 [==============================] - 10s 77ms/step - loss: 0.0059 - binary_accuracy: 0.9997 - val_loss: 0.2728 - val_binary_accuracy: 0.9379\n",
            "Epoch 280/300\n",
            "125/125 [==============================] - 10s 77ms/step - loss: 0.0087 - binary_accuracy: 0.9992 - val_loss: 0.2735 - val_binary_accuracy: 0.9371\n",
            "Epoch 281/300\n",
            "125/125 [==============================] - 10s 77ms/step - loss: 0.0062 - binary_accuracy: 0.9995 - val_loss: 0.2728 - val_binary_accuracy: 0.9379\n",
            "Epoch 282/300\n",
            "125/125 [==============================] - 10s 77ms/step - loss: 0.0073 - binary_accuracy: 0.9997 - val_loss: 0.2731 - val_binary_accuracy: 0.9379\n",
            "Epoch 283/300\n",
            "125/125 [==============================] - 10s 77ms/step - loss: 0.0077 - binary_accuracy: 0.9995 - val_loss: 0.2724 - val_binary_accuracy: 0.9379\n",
            "Epoch 284/300\n",
            "125/125 [==============================] - 10s 77ms/step - loss: 0.0064 - binary_accuracy: 0.9995 - val_loss: 0.2708 - val_binary_accuracy: 0.9388\n",
            "Epoch 285/300\n",
            "125/125 [==============================] - 10s 77ms/step - loss: 0.0052 - binary_accuracy: 0.9995 - val_loss: 0.2709 - val_binary_accuracy: 0.9388\n",
            "Epoch 286/300\n",
            "125/125 [==============================] - 10s 77ms/step - loss: 0.0060 - binary_accuracy: 0.9995 - val_loss: 0.2716 - val_binary_accuracy: 0.9388\n",
            "Epoch 287/300\n",
            "125/125 [==============================] - 10s 77ms/step - loss: 0.0062 - binary_accuracy: 0.9990 - val_loss: 0.2703 - val_binary_accuracy: 0.9405\n",
            "Epoch 288/300\n",
            "125/125 [==============================] - 10s 78ms/step - loss: 0.0084 - binary_accuracy: 0.9992 - val_loss: 0.2714 - val_binary_accuracy: 0.9388\n",
            "Epoch 289/300\n",
            "125/125 [==============================] - 10s 77ms/step - loss: 0.0055 - binary_accuracy: 0.9992 - val_loss: 0.2714 - val_binary_accuracy: 0.9388\n",
            "Epoch 290/300\n",
            "125/125 [==============================] - 10s 77ms/step - loss: 0.0055 - binary_accuracy: 0.9995 - val_loss: 0.2708 - val_binary_accuracy: 0.9388\n",
            "Epoch 291/300\n",
            "125/125 [==============================] - 10s 78ms/step - loss: 0.0081 - binary_accuracy: 0.9990 - val_loss: 0.2724 - val_binary_accuracy: 0.9379\n",
            "Epoch 292/300\n",
            "125/125 [==============================] - 10s 77ms/step - loss: 0.0067 - binary_accuracy: 0.9990 - val_loss: 0.2722 - val_binary_accuracy: 0.9379\n",
            "Epoch 293/300\n",
            "125/125 [==============================] - 10s 77ms/step - loss: 0.0060 - binary_accuracy: 0.9995 - val_loss: 0.2710 - val_binary_accuracy: 0.9388\n",
            "Epoch 294/300\n",
            "125/125 [==============================] - 10s 78ms/step - loss: 0.0060 - binary_accuracy: 0.9997 - val_loss: 0.2702 - val_binary_accuracy: 0.9388\n",
            "Epoch 295/300\n",
            "125/125 [==============================] - 10s 77ms/step - loss: 0.0056 - binary_accuracy: 0.9995 - val_loss: 0.2713 - val_binary_accuracy: 0.9388\n",
            "Epoch 296/300\n",
            "125/125 [==============================] - 10s 77ms/step - loss: 0.0059 - binary_accuracy: 1.0000 - val_loss: 0.2723 - val_binary_accuracy: 0.9379\n",
            "Epoch 297/300\n",
            "125/125 [==============================] - 10s 77ms/step - loss: 0.0062 - binary_accuracy: 0.9997 - val_loss: 0.2718 - val_binary_accuracy: 0.9388\n",
            "Epoch 298/300\n",
            "125/125 [==============================] - 10s 77ms/step - loss: 0.0063 - binary_accuracy: 0.9995 - val_loss: 0.2722 - val_binary_accuracy: 0.9379\n",
            "Epoch 299/300\n",
            "125/125 [==============================] - 10s 77ms/step - loss: 0.0067 - binary_accuracy: 0.9995 - val_loss: 0.2716 - val_binary_accuracy: 0.9379\n",
            "Epoch 300/300\n",
            "125/125 [==============================] - 10s 77ms/step - loss: 0.0055 - binary_accuracy: 0.9997 - val_loss: 0.2705 - val_binary_accuracy: 0.9388\n"
          ],
          "name": "stdout"
        }
      ]
    },
    {
      "cell_type": "code",
      "metadata": {
        "colab": {
          "base_uri": "https://localhost:8080/",
          "height": 573
        },
        "id": "X5ZwawaIam3W",
        "outputId": "bfb0188c-0a4f-4912-8a9c-e665b7d37b00"
      },
      "source": [
        "# list all data in history\n",
        "# print(model_history.history.keys())\n",
        "\n",
        "model_history = model_1_his\n",
        "\n",
        "# summarize history for accuracy\n",
        "plt.plot(model_history.history['binary_accuracy'])\n",
        "plt.plot(model_history.history['val_binary_accuracy'])\n",
        "plt.title('Model Accuracy')\n",
        "plt.ylabel('Accuracy')\n",
        "plt.xlabel('Epoch')\n",
        "# plt.ylim([0.60, 1.00])\n",
        "plt.legend(['Training', 'Validation'], loc='lower right')\n",
        "plt.show()\n",
        "\n",
        "# summarize history for loss\n",
        "plt.plot(model_history.history['loss'])\n",
        "plt.plot(model_history.history['val_loss'])\n",
        "plt.title('Model Loss')\n",
        "plt.ylabel('Loss')\n",
        "plt.xlabel('Epoch')\n",
        "plt.legend(['Training', 'Validation'], loc='best')\n",
        "plt.show()"
      ],
      "execution_count": null,
      "outputs": [
        {
          "output_type": "display_data",
          "data": {
            "image/png": "[encoded data removed]",
            "text/plain": [
              "<Figure size 432x288 with 1 Axes>"
            ]
          },
          "metadata": {
            "needs_background": "light"
          }
        },
        {
          "output_type": "display_data",
          "data": {
            "image/png": "[encoded data removed]",
            "text/plain": [
              "<Figure size 432x288 with 1 Axes>"
            ]
          },
          "metadata": {
            "needs_background": "light"
          }
        }
      ]
    },
    {
      "cell_type": "markdown",
      "metadata": {
        "id": "0loAWIgwORt-"
      },
      "source": [
        "Model Evaluation"
      ]
    },
    {
      "cell_type": "code",
      "metadata": {
        "colab": {
          "base_uri": "https://localhost:8080/"
        },
        "id": "Qqdrq4aTORt_",
        "outputId": "1e5a8f40-1e41-4936-eadc-b83c82101664"
      },
      "source": [
        "model = keras.models.load_model('Training_models/PhysioNet 2017/Model 1/ECG_final_run.hdf5')\n",
        "# model = model_1\n",
        "test_scores = model.evaluate(input_test, output_test, verbose = 0)\n",
        "print(\"Test loss:\", test_scores[0])               # 0.1305         \n",
        "print(\"Test accuracy:\", test_scores[1])           # 0.9650\n",
        "\n",
        "\n",
        "# # Load the Final model\n",
        "\n",
        "\n",
        "# test_scores = model.evaluate(input_test, output_test, verbose = 0)\n",
        "# print(\"Test loss:\", test_scores[0])               # 0.1305         \n",
        "# print(\"Test accuracy:\", test_scores[1])           # 0.9650"
      ],
      "execution_count": null,
      "outputs": [
        {
          "output_type": "stream",
          "text": [
            "Test loss: 0.30817005038261414\n",
            "Test accuracy: 0.9365079402923584\n"
          ],
          "name": "stdout"
        }
      ]
    },
    {
      "cell_type": "code",
      "metadata": {
        "id": "OEO1GMmaoBJM"
      },
      "source": [
        "yhat = (model.predict(input_test) > 0.5).astype(\"int32\")\n",
        "\n",
        "conf_matrix = confusion_matrix(output_test,yhat)"
      ],
      "execution_count": null,
      "outputs": []
    },
    {
      "cell_type": "code",
      "metadata": {
        "colab": {
          "base_uri": "https://localhost:8080/",
          "height": 287
        },
        "id": "mqWGWfQyoBJM",
        "outputId": "4e7c7b88-8c78-4ac7-cc01-1a2c14306fee"
      },
      "source": [
        "# Print the confusion matrix using Matplotlib\n",
        "labels = ['Normal', 'AFib']\n",
        "\n",
        "fig, ax = plt.subplots()\n",
        "ax.matshow(conf_matrix, cmap=plt.cm.Blues, alpha=0.3)\n",
        "for i in range(conf_matrix.shape[0]):\n",
        "    for j in range(conf_matrix.shape[1]):\n",
        "        ax.text(x=j, y=i,s=conf_matrix[i, j], va='center', ha='center', size='xx-large')\n",
        "ax.set_xticklabels([''] + labels)\n",
        "ax.set_yticklabels([''] + labels)\n",
        " \n",
        "plt.xlabel('Predictions', fontsize=18)\n",
        "plt.ylabel('Actuals', fontsize=18)\n",
        "plt.show()"
      ],
      "execution_count": null,
      "outputs": [
        {
          "output_type": "display_data",
          "data": {
            "image/png": "[encoded data removed]",
            "text/plain": [
              "<Figure size 432x288 with 1 Axes>"
            ]
          },
          "metadata": {
            "needs_background": "light"
          }
        }
      ]
    },
    {
      "cell_type": "code",
      "metadata": {
        "colab": {
          "base_uri": "https://localhost:8080/",
          "height": 295
        },
        "id": "H-r_XBHzdiaY",
        "outputId": "ad47142d-236b-4fc2-9a31-86efddbbd4b8"
      },
      "source": [
        "import seaborn as sns\n",
        "import matplotlib.pyplot as plt     \n",
        "\n",
        "ax= plt.subplot()\n",
        "sns.heatmap(conf_matrix, annot=True, fmt='g', ax=ax);  #annot=True to annotate cells, ftm='g' to disable scientific notation\n",
        "\n",
        "# labels, title and ticks\n",
        "ax.set_xlabel('Predicted labels');ax.set_ylabel('True labels'); \n",
        "ax.set_title('Confusion Matrix'); \n",
        "ax.xaxis.set_ticklabels(['Normal', 'AFib']); ax.yaxis.set_ticklabels(['Normal', 'AFib']);\n"
      ],
      "execution_count": null,
      "outputs": [
        {
          "output_type": "display_data",
          "data": {
            "image/png": "[encoded data removed]",
            "text/plain": [
              "<Figure size 432x288 with 2 Axes>"
            ]
          },
          "metadata": {
            "needs_background": "light"
          }
        }
      ]
    },
    {
      "cell_type": "code",
      "metadata": {
        "colab": {
          "base_uri": "https://localhost:8080/"
        },
        "id": "CSTrE-dZoBJN",
        "outputId": "789a5025-17a1-44a1-811d-cbec945eee16"
      },
      "source": [
        "accuracy = accuracy_score(output_test, yhat)\n",
        "print('Accuracy:\\t\\t', round(accuracy,4))\n",
        "\n",
        "# precision tp / (tp + fp)\n",
        "precision = precision_score(output_test, yhat)\n",
        "print('Precision:\\t\\t', round(precision,4))\n",
        "\n",
        "# recall: tp / (tp + fn)\n",
        "recall = recall_score(output_test, yhat)\n",
        "print('Recall: \\t\\t', round(recall,4))\n",
        "\n",
        "# f1: 2 tp / (2 tp + fp + fn)\n",
        "f1 = f1_score(output_test, yhat)\n",
        "print('F1 score:\\t\\t', round(f1,4))"
      ],
      "execution_count": null,
      "outputs": [
        {
          "output_type": "stream",
          "text": [
            "Accuracy:\t\t 0.9365\n",
            "Precision:\t\t 0.8143\n",
            "Recall: \t\t 0.75\n",
            "F1 score:\t\t 0.7808\n"
          ],
          "name": "stdout"
        }
      ]
    },
    {
      "cell_type": "markdown",
      "metadata": {
        "id": "mNEfFKk4nIix"
      },
      "source": [
        "## 1.2 Model using Augmented data"
      ]
    },
    {
      "cell_type": "code",
      "metadata": {
        "id": "UhhHLWmWqr8U"
      },
      "source": [
        "input_train, output_train, input_test, output_test, input_val, output_val = prepare_data(train_normalised_aug, test_normalised, 0.3)"
      ],
      "execution_count": null,
      "outputs": []
    },
    {
      "cell_type": "code",
      "metadata": {
        "colab": {
          "base_uri": "https://localhost:8080/"
        },
        "id": "rFIZgTOMqr8V",
        "outputId": "eb1abdc4-2243-481a-9322-fb4969516b58"
      },
      "source": [
        "print(\"input train shape:\\t \", input_train.shape)\n",
        "print(\"output train shape:\\t \", output_train.shape)\n",
        "\n",
        "print(\"\\ninput test shape:\\t \", input_test.shape)\n",
        "print(\"output test shape:\\t \", output_test.shape)\n",
        "\n",
        "print(\"\\ninput val shape:\\t \", input_val.shape)\n",
        "print(\"output val shape:\\t \", output_val.shape)"
      ],
      "execution_count": null,
      "outputs": [
        {
          "output_type": "stream",
          "text": [
            "input train shape:\t  (4334, 9000, 1)\n",
            "output train shape:\t  (4334, 1)\n",
            "\n",
            "input test shape:\t  (504, 9000, 1)\n",
            "output test shape:\t  (504, 1)\n",
            "\n",
            "input val shape:\t  (1176, 9000, 1)\n",
            "output val shape:\t  (1176, 1)\n"
          ],
          "name": "stdout"
        }
      ]
    },
    {
      "cell_type": "code",
      "metadata": {
        "colab": {
          "base_uri": "https://localhost:8080/"
        },
        "id": "hLms__rirpwG",
        "outputId": "e9e518c4-9e6b-45dd-e349-d3535d474b6a"
      },
      "source": [
        "class_weights = class_weight.compute_class_weight('balanced',np.unique(output_train.flatten()), output_train.flatten())\n",
        "\n",
        "class_weight_dict = dict(enumerate(class_weights))\n",
        "\n",
        "class_weight_dict\n",
        "\n",
        "class_weight_dict_1 = {0: 1.0, 1: 8.0}\n",
        "\n",
        "class_weight_dict_1"
      ],
      "execution_count": null,
      "outputs": [
        {
          "output_type": "execute_result",
          "data": {
            "text/plain": [
              "{0: 1.0, 1: 8.0}"
            ]
          },
          "metadata": {},
          "execution_count": 20
        }
      ]
    },
    {
      "cell_type": "code",
      "metadata": {
        "id": "RJ91Iss2rpwG"
      },
      "source": [
        "# Defining parameter values\n",
        "epochs          = 300\n",
        "batch_size      = 32"
      ],
      "execution_count": null,
      "outputs": []
    },
    {
      "cell_type": "code",
      "metadata": {
        "colab": {
          "base_uri": "https://localhost:8080/"
        },
        "id": "c9jW4eJjrpwH",
        "outputId": "8e98cf31-3f4a-4965-842e-6ab67ed49f1a"
      },
      "source": [
        "model_2 = Sequential()\n",
        "\n",
        "# 64, 64, 32, 16, 8, 32\n",
        "\n",
        "input_shape = (9000, 1)\n",
        "model_2.add(InputLayer(input_shape=input_shape))\n",
        "\n",
        "model_2.add(Conv1D(64, 10,padding='causal', activation=\"tanh\"))\n",
        "model_2.add(MaxPooling1D(4))\n",
        "\n",
        "model_2.add(Conv1D(64, 10,padding='same', activation=\"tanh\"))\n",
        "model_2.add(MaxPooling1D(4))\n",
        "\n",
        "model_2.add(LSTM(32,activation = \"tanh\", return_sequences = True))\n",
        "model_2.add(LSTM(16, activation = \"tanh\", return_sequences = True))\n",
        "model_2.add(LSTM(8, activation = \"tanh\"))\n",
        "\n",
        "model_2.add(Dense(32, activation='tanh'))\n",
        "model_2.add(BatchNormalization())\n",
        "model_2.add(Dense(1, activation = 'sigmoid'))\n",
        "\n",
        "model_2.summary()"
      ],
      "execution_count": null,
      "outputs": [
        {
          "output_type": "stream",
          "text": [
            "Model: \"sequential_1\"\n",
            "_________________________________________________________________\n",
            "Layer (type)                 Output Shape              Param #   \n",
            "=================================================================\n",
            "conv1d_2 (Conv1D)            (None, 9000, 64)          704       \n",
            "_________________________________________________________________\n",
            "max_pooling1d_2 (MaxPooling1 (None, 2250, 64)          0         \n",
            "_________________________________________________________________\n",
            "conv1d_3 (Conv1D)            (None, 2250, 64)          41024     \n",
            "_________________________________________________________________\n",
            "max_pooling1d_3 (MaxPooling1 (None, 562, 64)           0         \n",
            "_________________________________________________________________\n",
            "lstm_3 (LSTM)                (None, 562, 32)           12416     \n",
            "_________________________________________________________________\n",
            "lstm_4 (LSTM)                (None, 562, 16)           3136      \n",
            "_________________________________________________________________\n",
            "lstm_5 (LSTM)                (None, 8)                 800       \n",
            "_________________________________________________________________\n",
            "dense_2 (Dense)              (None, 32)                288       \n",
            "_________________________________________________________________\n",
            "batch_normalization_1 (Batch (None, 32)                128       \n",
            "_________________________________________________________________\n",
            "dense_3 (Dense)              (None, 1)                 33        \n",
            "=================================================================\n",
            "Total params: 58,529\n",
            "Trainable params: 58,465\n",
            "Non-trainable params: 64\n",
            "_________________________________________________________________\n"
          ],
          "name": "stdout"
        }
      ]
    },
    {
      "cell_type": "code",
      "metadata": {
        "id": "vBtdLjgUrpwH"
      },
      "source": [
        "# model training configuration \n",
        "model_2.compile(optimizer = tf.keras.optimizers.Adam(),\n",
        "                                    loss      = keras.losses.BinaryCrossentropy(),\n",
        "                                    metrics   = [keras.metrics.BinaryAccuracy()])\n",
        "\n",
        "#SGD(learning_rate=0.01, decay=1e-6, momentum=0.9, nesterov=True)\n",
        "\n",
        "# Callback to reduce the learning rate when the validation loss has stopped improving\n",
        "reduce_lr = keras.callbacks.ReduceLROnPlateau(monitor = 'val_loss', factor = 0.1, patience = 30, mode = 'min')\n",
        "\n",
        "# Callback to stop training the model when the validation loss has stopped improving\n",
        "# early_stop = keras.callbacks.EarlyStopping(monitor = 'val_loss', patience = 50, mode = 'min')\n",
        "\n",
        "# CHECKPOINT callback\n",
        "filepath = \"Training_models/PhysioNet 2017/Model 2/ECG.epoch_{epoch:02d}.TL_{loss:.4f}.VL_{val_loss:.4f}.TA_{binary_accuracy:.2f}.VA_{val_binary_accuracy:.2f}.hdf5\"\n",
        "\n",
        "# Save training model when there is an improvement in validation_accuracy from the previous checkpint\n",
        "model_save = keras.callbacks.ModelCheckpoint(filepath, \n",
        "                                             monitor = 'val_binary_accuracy',\n",
        "                                             save_best_only=True, \n",
        "                                             mode = 'max')\n",
        "\n",
        "\n"
      ],
      "execution_count": null,
      "outputs": []
    },
    {
      "cell_type": "code",
      "metadata": {
        "colab": {
          "base_uri": "https://localhost:8080/",
          "height": 491
        },
        "id": "x1zMLhg08TKk",
        "outputId": "75133ab3-0b60-4d57-e283-89a34ea206db"
      },
      "source": [
        "# Fitting the model\n",
        "model_2_his = model_2.fit(input_train, output_train,\n",
        "                          batch_size = batch_size , epochs = epochs, \n",
        "                          validation_data = (input_val, output_val),\n",
        "                          class_weight=class_weight_dict_1,\n",
        "                          callbacks=[reduce_lr,model_save])\n",
        "\n",
        "model_2.save('Training_models/PhysioNet 2017/Model 2/ECG.final_run.hdf5')"
      ],
      "execution_count": null,
      "outputs": [
        {
          "output_type": "stream",
          "text": [
            "Epoch 1/300\n",
            "136/136 [==============================] - 15s 82ms/step - loss: 1.2226 - binary_accuracy: 0.5639 - val_loss: 0.8005 - val_binary_accuracy: 0.1420\n",
            "Epoch 2/300\n",
            "136/136 [==============================] - 10s 76ms/step - loss: 1.1283 - binary_accuracy: 0.6156 - val_loss: 0.6748 - val_binary_accuracy: 0.5859\n",
            "Epoch 3/300\n",
            " 15/136 [==>...........................] - ETA: 8s - loss: 0.9533 - binary_accuracy: 0.6500"
          ],
          "name": "stdout"
        },
        {
          "output_type": "error",
          "ename": "KeyboardInterrupt",
          "evalue": "ignored",
          "traceback": [
            "\u001b[0;31m---------------------------------------------------------------------------\u001b[0m",
            "\u001b[0;31mKeyboardInterrupt\u001b[0m                         Traceback (most recent call last)",
            "\u001b[0;32m<ipython-input-24-551589aa9ee5>\u001b[0m in \u001b[0;36m<module>\u001b[0;34m()\u001b[0m\n\u001b[1;32m      4\u001b[0m                           \u001b[0mvalidation_data\u001b[0m \u001b[0;34m=\u001b[0m \u001b[0;34m(\u001b[0m\u001b[0minput_val\u001b[0m\u001b[0;34m,\u001b[0m \u001b[0moutput_val\u001b[0m\u001b[0;34m)\u001b[0m\u001b[0;34m,\u001b[0m\u001b[0;34m\u001b[0m\u001b[0;34m\u001b[0m\u001b[0m\n\u001b[1;32m      5\u001b[0m                           \u001b[0mclass_weight\u001b[0m\u001b[0;34m=\u001b[0m\u001b[0mclass_weight_dict_1\u001b[0m\u001b[0;34m,\u001b[0m\u001b[0;34m\u001b[0m\u001b[0;34m\u001b[0m\u001b[0m\n\u001b[0;32m----> 6\u001b[0;31m                           callbacks=[reduce_lr,model_save])\n\u001b[0m\u001b[1;32m      7\u001b[0m \u001b[0;34m\u001b[0m\u001b[0m\n\u001b[1;32m      8\u001b[0m \u001b[0mmodel_2\u001b[0m\u001b[0;34m.\u001b[0m\u001b[0msave\u001b[0m\u001b[0;34m(\u001b[0m\u001b[0;34m'Training_models/PhysioNet 2017/Model 2/ECG.final_run.hdf5'\u001b[0m\u001b[0;34m)\u001b[0m\u001b[0;34m\u001b[0m\u001b[0;34m\u001b[0m\u001b[0m\n",
            "\u001b[0;32m/usr/local/lib/python3.7/dist-packages/keras/engine/training.py\u001b[0m in \u001b[0;36mfit\u001b[0;34m(self, x, y, batch_size, epochs, verbose, callbacks, validation_split, validation_data, shuffle, class_weight, sample_weight, initial_epoch, steps_per_epoch, validation_steps, validation_batch_size, validation_freq, max_queue_size, workers, use_multiprocessing)\u001b[0m\n\u001b[1;32m   1187\u001b[0m               \u001b[0mlogs\u001b[0m \u001b[0;34m=\u001b[0m \u001b[0mtmp_logs\u001b[0m  \u001b[0;31m# No error, now safe to assign to logs.\u001b[0m\u001b[0;34m\u001b[0m\u001b[0;34m\u001b[0m\u001b[0m\n\u001b[1;32m   1188\u001b[0m               \u001b[0mend_step\u001b[0m \u001b[0;34m=\u001b[0m \u001b[0mstep\u001b[0m \u001b[0;34m+\u001b[0m \u001b[0mdata_handler\u001b[0m\u001b[0;34m.\u001b[0m\u001b[0mstep_increment\u001b[0m\u001b[0;34m\u001b[0m\u001b[0;34m\u001b[0m\u001b[0m\n\u001b[0;32m-> 1189\u001b[0;31m               \u001b[0mcallbacks\u001b[0m\u001b[0;34m.\u001b[0m\u001b[0mon_train_batch_end\u001b[0m\u001b[0;34m(\u001b[0m\u001b[0mend_step\u001b[0m\u001b[0;34m,\u001b[0m \u001b[0mlogs\u001b[0m\u001b[0;34m)\u001b[0m\u001b[0;34m\u001b[0m\u001b[0;34m\u001b[0m\u001b[0m\n\u001b[0m\u001b[1;32m   1190\u001b[0m               \u001b[0;32mif\u001b[0m \u001b[0mself\u001b[0m\u001b[0;34m.\u001b[0m\u001b[0mstop_training\u001b[0m\u001b[0;34m:\u001b[0m\u001b[0;34m\u001b[0m\u001b[0;34m\u001b[0m\u001b[0m\n\u001b[1;32m   1191\u001b[0m                 \u001b[0;32mbreak\u001b[0m\u001b[0;34m\u001b[0m\u001b[0;34m\u001b[0m\u001b[0m\n",
            "\u001b[0;32m/usr/local/lib/python3.7/dist-packages/keras/callbacks.py\u001b[0m in \u001b[0;36mon_train_batch_end\u001b[0;34m(self, batch, logs)\u001b[0m\n\u001b[1;32m    433\u001b[0m     \"\"\"\n\u001b[1;32m    434\u001b[0m     \u001b[0;32mif\u001b[0m \u001b[0mself\u001b[0m\u001b[0;34m.\u001b[0m\u001b[0m_should_call_train_batch_hooks\u001b[0m\u001b[0;34m:\u001b[0m\u001b[0;34m\u001b[0m\u001b[0;34m\u001b[0m\u001b[0m\n\u001b[0;32m--> 435\u001b[0;31m       \u001b[0mself\u001b[0m\u001b[0;34m.\u001b[0m\u001b[0m_call_batch_hook\u001b[0m\u001b[0;34m(\u001b[0m\u001b[0mModeKeys\u001b[0m\u001b[0;34m.\u001b[0m\u001b[0mTRAIN\u001b[0m\u001b[0;34m,\u001b[0m \u001b[0;34m'end'\u001b[0m\u001b[0;34m,\u001b[0m \u001b[0mbatch\u001b[0m\u001b[0;34m,\u001b[0m \u001b[0mlogs\u001b[0m\u001b[0;34m=\u001b[0m\u001b[0mlogs\u001b[0m\u001b[0;34m)\u001b[0m\u001b[0;34m\u001b[0m\u001b[0;34m\u001b[0m\u001b[0m\n\u001b[0m\u001b[1;32m    436\u001b[0m \u001b[0;34m\u001b[0m\u001b[0m\n\u001b[1;32m    437\u001b[0m   \u001b[0;32mdef\u001b[0m \u001b[0mon_test_batch_begin\u001b[0m\u001b[0;34m(\u001b[0m\u001b[0mself\u001b[0m\u001b[0;34m,\u001b[0m \u001b[0mbatch\u001b[0m\u001b[0;34m,\u001b[0m \u001b[0mlogs\u001b[0m\u001b[0;34m=\u001b[0m\u001b[0;32mNone\u001b[0m\u001b[0;34m)\u001b[0m\u001b[0;34m:\u001b[0m\u001b[0;34m\u001b[0m\u001b[0;34m\u001b[0m\u001b[0m\n",
            "\u001b[0;32m/usr/local/lib/python3.7/dist-packages/keras/callbacks.py\u001b[0m in \u001b[0;36m_call_batch_hook\u001b[0;34m(self, mode, hook, batch, logs)\u001b[0m\n\u001b[1;32m    293\u001b[0m       \u001b[0mself\u001b[0m\u001b[0;34m.\u001b[0m\u001b[0m_call_batch_begin_hook\u001b[0m\u001b[0;34m(\u001b[0m\u001b[0mmode\u001b[0m\u001b[0;34m,\u001b[0m \u001b[0mbatch\u001b[0m\u001b[0;34m,\u001b[0m \u001b[0mlogs\u001b[0m\u001b[0;34m)\u001b[0m\u001b[0;34m\u001b[0m\u001b[0;34m\u001b[0m\u001b[0m\n\u001b[1;32m    294\u001b[0m     \u001b[0;32melif\u001b[0m \u001b[0mhook\u001b[0m \u001b[0;34m==\u001b[0m \u001b[0;34m'end'\u001b[0m\u001b[0;34m:\u001b[0m\u001b[0;34m\u001b[0m\u001b[0;34m\u001b[0m\u001b[0m\n\u001b[0;32m--> 295\u001b[0;31m       \u001b[0mself\u001b[0m\u001b[0;34m.\u001b[0m\u001b[0m_call_batch_end_hook\u001b[0m\u001b[0;34m(\u001b[0m\u001b[0mmode\u001b[0m\u001b[0;34m,\u001b[0m \u001b[0mbatch\u001b[0m\u001b[0;34m,\u001b[0m \u001b[0mlogs\u001b[0m\u001b[0;34m)\u001b[0m\u001b[0;34m\u001b[0m\u001b[0;34m\u001b[0m\u001b[0m\n\u001b[0m\u001b[1;32m    296\u001b[0m     \u001b[0;32melse\u001b[0m\u001b[0;34m:\u001b[0m\u001b[0;34m\u001b[0m\u001b[0;34m\u001b[0m\u001b[0m\n\u001b[1;32m    297\u001b[0m       \u001b[0;32mraise\u001b[0m \u001b[0mValueError\u001b[0m\u001b[0;34m(\u001b[0m\u001b[0;34m'Unrecognized hook: {}'\u001b[0m\u001b[0;34m.\u001b[0m\u001b[0mformat\u001b[0m\u001b[0;34m(\u001b[0m\u001b[0mhook\u001b[0m\u001b[0;34m)\u001b[0m\u001b[0;34m)\u001b[0m\u001b[0;34m\u001b[0m\u001b[0;34m\u001b[0m\u001b[0m\n",
            "\u001b[0;32m/usr/local/lib/python3.7/dist-packages/keras/callbacks.py\u001b[0m in \u001b[0;36m_call_batch_end_hook\u001b[0;34m(self, mode, batch, logs)\u001b[0m\n\u001b[1;32m    313\u001b[0m       \u001b[0mself\u001b[0m\u001b[0;34m.\u001b[0m\u001b[0m_batch_times\u001b[0m\u001b[0;34m.\u001b[0m\u001b[0mappend\u001b[0m\u001b[0;34m(\u001b[0m\u001b[0mbatch_time\u001b[0m\u001b[0;34m)\u001b[0m\u001b[0;34m\u001b[0m\u001b[0;34m\u001b[0m\u001b[0m\n\u001b[1;32m    314\u001b[0m \u001b[0;34m\u001b[0m\u001b[0m\n\u001b[0;32m--> 315\u001b[0;31m     \u001b[0mself\u001b[0m\u001b[0;34m.\u001b[0m\u001b[0m_call_batch_hook_helper\u001b[0m\u001b[0;34m(\u001b[0m\u001b[0mhook_name\u001b[0m\u001b[0;34m,\u001b[0m \u001b[0mbatch\u001b[0m\u001b[0;34m,\u001b[0m \u001b[0mlogs\u001b[0m\u001b[0;34m)\u001b[0m\u001b[0;34m\u001b[0m\u001b[0;34m\u001b[0m\u001b[0m\n\u001b[0m\u001b[1;32m    316\u001b[0m \u001b[0;34m\u001b[0m\u001b[0m\n\u001b[1;32m    317\u001b[0m     \u001b[0;32mif\u001b[0m \u001b[0mlen\u001b[0m\u001b[0;34m(\u001b[0m\u001b[0mself\u001b[0m\u001b[0;34m.\u001b[0m\u001b[0m_batch_times\u001b[0m\u001b[0;34m)\u001b[0m \u001b[0;34m>=\u001b[0m \u001b[0mself\u001b[0m\u001b[0;34m.\u001b[0m\u001b[0m_num_batches_for_timing_check\u001b[0m\u001b[0;34m:\u001b[0m\u001b[0;34m\u001b[0m\u001b[0;34m\u001b[0m\u001b[0m\n",
            "\u001b[0;32m/usr/local/lib/python3.7/dist-packages/keras/callbacks.py\u001b[0m in \u001b[0;36m_call_batch_hook_helper\u001b[0;34m(self, hook_name, batch, logs)\u001b[0m\n\u001b[1;32m    351\u001b[0m     \u001b[0;32mfor\u001b[0m \u001b[0mcallback\u001b[0m \u001b[0;32min\u001b[0m \u001b[0mself\u001b[0m\u001b[0;34m.\u001b[0m\u001b[0mcallbacks\u001b[0m\u001b[0;34m:\u001b[0m\u001b[0;34m\u001b[0m\u001b[0;34m\u001b[0m\u001b[0m\n\u001b[1;32m    352\u001b[0m       \u001b[0mhook\u001b[0m \u001b[0;34m=\u001b[0m \u001b[0mgetattr\u001b[0m\u001b[0;34m(\u001b[0m\u001b[0mcallback\u001b[0m\u001b[0;34m,\u001b[0m \u001b[0mhook_name\u001b[0m\u001b[0;34m)\u001b[0m\u001b[0;34m\u001b[0m\u001b[0;34m\u001b[0m\u001b[0m\n\u001b[0;32m--> 353\u001b[0;31m       \u001b[0mhook\u001b[0m\u001b[0;34m(\u001b[0m\u001b[0mbatch\u001b[0m\u001b[0;34m,\u001b[0m \u001b[0mlogs\u001b[0m\u001b[0;34m)\u001b[0m\u001b[0;34m\u001b[0m\u001b[0;34m\u001b[0m\u001b[0m\n\u001b[0m\u001b[1;32m    354\u001b[0m \u001b[0;34m\u001b[0m\u001b[0m\n\u001b[1;32m    355\u001b[0m     \u001b[0;32mif\u001b[0m \u001b[0mself\u001b[0m\u001b[0;34m.\u001b[0m\u001b[0m_check_timing\u001b[0m\u001b[0;34m:\u001b[0m\u001b[0;34m\u001b[0m\u001b[0;34m\u001b[0m\u001b[0m\n",
            "\u001b[0;32m/usr/local/lib/python3.7/dist-packages/keras/callbacks.py\u001b[0m in \u001b[0;36mon_train_batch_end\u001b[0;34m(self, batch, logs)\u001b[0m\n\u001b[1;32m   1026\u001b[0m \u001b[0;34m\u001b[0m\u001b[0m\n\u001b[1;32m   1027\u001b[0m   \u001b[0;32mdef\u001b[0m \u001b[0mon_train_batch_end\u001b[0m\u001b[0;34m(\u001b[0m\u001b[0mself\u001b[0m\u001b[0;34m,\u001b[0m \u001b[0mbatch\u001b[0m\u001b[0;34m,\u001b[0m \u001b[0mlogs\u001b[0m\u001b[0;34m=\u001b[0m\u001b[0;32mNone\u001b[0m\u001b[0;34m)\u001b[0m\u001b[0;34m:\u001b[0m\u001b[0;34m\u001b[0m\u001b[0;34m\u001b[0m\u001b[0m\n\u001b[0;32m-> 1028\u001b[0;31m     \u001b[0mself\u001b[0m\u001b[0;34m.\u001b[0m\u001b[0m_batch_update_progbar\u001b[0m\u001b[0;34m(\u001b[0m\u001b[0mbatch\u001b[0m\u001b[0;34m,\u001b[0m \u001b[0mlogs\u001b[0m\u001b[0;34m)\u001b[0m\u001b[0;34m\u001b[0m\u001b[0;34m\u001b[0m\u001b[0m\n\u001b[0m\u001b[1;32m   1029\u001b[0m \u001b[0;34m\u001b[0m\u001b[0m\n\u001b[1;32m   1030\u001b[0m   \u001b[0;32mdef\u001b[0m \u001b[0mon_test_batch_end\u001b[0m\u001b[0;34m(\u001b[0m\u001b[0mself\u001b[0m\u001b[0;34m,\u001b[0m \u001b[0mbatch\u001b[0m\u001b[0;34m,\u001b[0m \u001b[0mlogs\u001b[0m\u001b[0;34m=\u001b[0m\u001b[0;32mNone\u001b[0m\u001b[0;34m)\u001b[0m\u001b[0;34m:\u001b[0m\u001b[0;34m\u001b[0m\u001b[0;34m\u001b[0m\u001b[0m\n",
            "\u001b[0;32m/usr/local/lib/python3.7/dist-packages/keras/callbacks.py\u001b[0m in \u001b[0;36m_batch_update_progbar\u001b[0;34m(self, batch, logs)\u001b[0m\n\u001b[1;32m   1098\u001b[0m     \u001b[0;32mif\u001b[0m \u001b[0mself\u001b[0m\u001b[0;34m.\u001b[0m\u001b[0mverbose\u001b[0m \u001b[0;34m==\u001b[0m \u001b[0;36m1\u001b[0m\u001b[0;34m:\u001b[0m\u001b[0;34m\u001b[0m\u001b[0;34m\u001b[0m\u001b[0m\n\u001b[1;32m   1099\u001b[0m       \u001b[0;31m# Only block async when verbose = 1.\u001b[0m\u001b[0;34m\u001b[0m\u001b[0;34m\u001b[0m\u001b[0;34m\u001b[0m\u001b[0m\n\u001b[0;32m-> 1100\u001b[0;31m       \u001b[0mlogs\u001b[0m \u001b[0;34m=\u001b[0m \u001b[0mtf_utils\u001b[0m\u001b[0;34m.\u001b[0m\u001b[0msync_to_numpy_or_python_type\u001b[0m\u001b[0;34m(\u001b[0m\u001b[0mlogs\u001b[0m\u001b[0;34m)\u001b[0m\u001b[0;34m\u001b[0m\u001b[0;34m\u001b[0m\u001b[0m\n\u001b[0m\u001b[1;32m   1101\u001b[0m       \u001b[0mself\u001b[0m\u001b[0;34m.\u001b[0m\u001b[0mprogbar\u001b[0m\u001b[0;34m.\u001b[0m\u001b[0mupdate\u001b[0m\u001b[0;34m(\u001b[0m\u001b[0mself\u001b[0m\u001b[0;34m.\u001b[0m\u001b[0mseen\u001b[0m\u001b[0;34m,\u001b[0m \u001b[0mlist\u001b[0m\u001b[0;34m(\u001b[0m\u001b[0mlogs\u001b[0m\u001b[0;34m.\u001b[0m\u001b[0mitems\u001b[0m\u001b[0;34m(\u001b[0m\u001b[0;34m)\u001b[0m\u001b[0;34m)\u001b[0m\u001b[0;34m,\u001b[0m \u001b[0mfinalize\u001b[0m\u001b[0;34m=\u001b[0m\u001b[0;32mFalse\u001b[0m\u001b[0;34m)\u001b[0m\u001b[0;34m\u001b[0m\u001b[0;34m\u001b[0m\u001b[0m\n\u001b[1;32m   1102\u001b[0m \u001b[0;34m\u001b[0m\u001b[0m\n",
            "\u001b[0;32m/usr/local/lib/python3.7/dist-packages/keras/utils/tf_utils.py\u001b[0m in \u001b[0;36msync_to_numpy_or_python_type\u001b[0;34m(tensors)\u001b[0m\n\u001b[1;32m    514\u001b[0m     \u001b[0;32mreturn\u001b[0m \u001b[0mt\u001b[0m  \u001b[0;31m# Don't turn ragged or sparse tensors to NumPy.\u001b[0m\u001b[0;34m\u001b[0m\u001b[0;34m\u001b[0m\u001b[0m\n\u001b[1;32m    515\u001b[0m \u001b[0;34m\u001b[0m\u001b[0m\n\u001b[0;32m--> 516\u001b[0;31m   \u001b[0;32mreturn\u001b[0m \u001b[0mtf\u001b[0m\u001b[0;34m.\u001b[0m\u001b[0mnest\u001b[0m\u001b[0;34m.\u001b[0m\u001b[0mmap_structure\u001b[0m\u001b[0;34m(\u001b[0m\u001b[0m_to_single_numpy_or_python_type\u001b[0m\u001b[0;34m,\u001b[0m \u001b[0mtensors\u001b[0m\u001b[0;34m)\u001b[0m\u001b[0;34m\u001b[0m\u001b[0;34m\u001b[0m\u001b[0m\n\u001b[0m\u001b[1;32m    517\u001b[0m \u001b[0;34m\u001b[0m\u001b[0m\n\u001b[1;32m    518\u001b[0m \u001b[0;34m\u001b[0m\u001b[0m\n",
            "\u001b[0;32m/usr/local/lib/python3.7/dist-packages/tensorflow/python/util/nest.py\u001b[0m in \u001b[0;36mmap_structure\u001b[0;34m(func, *structure, **kwargs)\u001b[0m\n\u001b[1;32m    867\u001b[0m \u001b[0;34m\u001b[0m\u001b[0m\n\u001b[1;32m    868\u001b[0m   return pack_sequence_as(\n\u001b[0;32m--> 869\u001b[0;31m       \u001b[0mstructure\u001b[0m\u001b[0;34m[\u001b[0m\u001b[0;36m0\u001b[0m\u001b[0;34m]\u001b[0m\u001b[0;34m,\u001b[0m \u001b[0;34m[\u001b[0m\u001b[0mfunc\u001b[0m\u001b[0;34m(\u001b[0m\u001b[0;34m*\u001b[0m\u001b[0mx\u001b[0m\u001b[0;34m)\u001b[0m \u001b[0;32mfor\u001b[0m \u001b[0mx\u001b[0m \u001b[0;32min\u001b[0m \u001b[0mentries\u001b[0m\u001b[0;34m]\u001b[0m\u001b[0;34m,\u001b[0m\u001b[0;34m\u001b[0m\u001b[0;34m\u001b[0m\u001b[0m\n\u001b[0m\u001b[1;32m    870\u001b[0m       expand_composites=expand_composites)\n\u001b[1;32m    871\u001b[0m \u001b[0;34m\u001b[0m\u001b[0m\n",
            "\u001b[0;32m/usr/local/lib/python3.7/dist-packages/tensorflow/python/util/nest.py\u001b[0m in \u001b[0;36m<listcomp>\u001b[0;34m(.0)\u001b[0m\n\u001b[1;32m    867\u001b[0m \u001b[0;34m\u001b[0m\u001b[0m\n\u001b[1;32m    868\u001b[0m   return pack_sequence_as(\n\u001b[0;32m--> 869\u001b[0;31m       \u001b[0mstructure\u001b[0m\u001b[0;34m[\u001b[0m\u001b[0;36m0\u001b[0m\u001b[0;34m]\u001b[0m\u001b[0;34m,\u001b[0m \u001b[0;34m[\u001b[0m\u001b[0mfunc\u001b[0m\u001b[0;34m(\u001b[0m\u001b[0;34m*\u001b[0m\u001b[0mx\u001b[0m\u001b[0;34m)\u001b[0m \u001b[0;32mfor\u001b[0m \u001b[0mx\u001b[0m \u001b[0;32min\u001b[0m \u001b[0mentries\u001b[0m\u001b[0;34m]\u001b[0m\u001b[0;34m,\u001b[0m\u001b[0;34m\u001b[0m\u001b[0;34m\u001b[0m\u001b[0m\n\u001b[0m\u001b[1;32m    870\u001b[0m       expand_composites=expand_composites)\n\u001b[1;32m    871\u001b[0m \u001b[0;34m\u001b[0m\u001b[0m\n",
            "\u001b[0;32m/usr/local/lib/python3.7/dist-packages/keras/utils/tf_utils.py\u001b[0m in \u001b[0;36m_to_single_numpy_or_python_type\u001b[0;34m(t)\u001b[0m\n\u001b[1;32m    510\u001b[0m   \u001b[0;32mdef\u001b[0m \u001b[0m_to_single_numpy_or_python_type\u001b[0m\u001b[0;34m(\u001b[0m\u001b[0mt\u001b[0m\u001b[0;34m)\u001b[0m\u001b[0;34m:\u001b[0m\u001b[0;34m\u001b[0m\u001b[0;34m\u001b[0m\u001b[0m\n\u001b[1;32m    511\u001b[0m     \u001b[0;32mif\u001b[0m \u001b[0misinstance\u001b[0m\u001b[0;34m(\u001b[0m\u001b[0mt\u001b[0m\u001b[0;34m,\u001b[0m \u001b[0mtf\u001b[0m\u001b[0;34m.\u001b[0m\u001b[0mTensor\u001b[0m\u001b[0;34m)\u001b[0m\u001b[0;34m:\u001b[0m\u001b[0;34m\u001b[0m\u001b[0;34m\u001b[0m\u001b[0m\n\u001b[0;32m--> 512\u001b[0;31m       \u001b[0mx\u001b[0m \u001b[0;34m=\u001b[0m \u001b[0mt\u001b[0m\u001b[0;34m.\u001b[0m\u001b[0mnumpy\u001b[0m\u001b[0;34m(\u001b[0m\u001b[0;34m)\u001b[0m\u001b[0;34m\u001b[0m\u001b[0;34m\u001b[0m\u001b[0m\n\u001b[0m\u001b[1;32m    513\u001b[0m       \u001b[0;32mreturn\u001b[0m \u001b[0mx\u001b[0m\u001b[0;34m.\u001b[0m\u001b[0mitem\u001b[0m\u001b[0;34m(\u001b[0m\u001b[0;34m)\u001b[0m \u001b[0;32mif\u001b[0m \u001b[0mnp\u001b[0m\u001b[0;34m.\u001b[0m\u001b[0mndim\u001b[0m\u001b[0;34m(\u001b[0m\u001b[0mx\u001b[0m\u001b[0;34m)\u001b[0m \u001b[0;34m==\u001b[0m \u001b[0;36m0\u001b[0m \u001b[0;32melse\u001b[0m \u001b[0mx\u001b[0m\u001b[0;34m\u001b[0m\u001b[0;34m\u001b[0m\u001b[0m\n\u001b[1;32m    514\u001b[0m     \u001b[0;32mreturn\u001b[0m \u001b[0mt\u001b[0m  \u001b[0;31m# Don't turn ragged or sparse tensors to NumPy.\u001b[0m\u001b[0;34m\u001b[0m\u001b[0;34m\u001b[0m\u001b[0m\n",
            "\u001b[0;32m/usr/local/lib/python3.7/dist-packages/tensorflow/python/framework/ops.py\u001b[0m in \u001b[0;36mnumpy\u001b[0;34m(self)\u001b[0m\n\u001b[1;32m   1092\u001b[0m     \"\"\"\n\u001b[1;32m   1093\u001b[0m     \u001b[0;31m# TODO(slebedev): Consider avoiding a copy for non-CPU or remote tensors.\u001b[0m\u001b[0;34m\u001b[0m\u001b[0;34m\u001b[0m\u001b[0;34m\u001b[0m\u001b[0m\n\u001b[0;32m-> 1094\u001b[0;31m     \u001b[0mmaybe_arr\u001b[0m \u001b[0;34m=\u001b[0m \u001b[0mself\u001b[0m\u001b[0;34m.\u001b[0m\u001b[0m_numpy\u001b[0m\u001b[0;34m(\u001b[0m\u001b[0;34m)\u001b[0m  \u001b[0;31m# pylint: disable=protected-access\u001b[0m\u001b[0;34m\u001b[0m\u001b[0;34m\u001b[0m\u001b[0m\n\u001b[0m\u001b[1;32m   1095\u001b[0m     \u001b[0;32mreturn\u001b[0m \u001b[0mmaybe_arr\u001b[0m\u001b[0;34m.\u001b[0m\u001b[0mcopy\u001b[0m\u001b[0;34m(\u001b[0m\u001b[0;34m)\u001b[0m \u001b[0;32mif\u001b[0m \u001b[0misinstance\u001b[0m\u001b[0;34m(\u001b[0m\u001b[0mmaybe_arr\u001b[0m\u001b[0;34m,\u001b[0m \u001b[0mnp\u001b[0m\u001b[0;34m.\u001b[0m\u001b[0mndarray\u001b[0m\u001b[0;34m)\u001b[0m \u001b[0;32melse\u001b[0m \u001b[0mmaybe_arr\u001b[0m\u001b[0;34m\u001b[0m\u001b[0;34m\u001b[0m\u001b[0m\n\u001b[1;32m   1096\u001b[0m \u001b[0;34m\u001b[0m\u001b[0m\n",
            "\u001b[0;32m/usr/local/lib/python3.7/dist-packages/tensorflow/python/framework/ops.py\u001b[0m in \u001b[0;36m_numpy\u001b[0;34m(self)\u001b[0m\n\u001b[1;32m   1058\u001b[0m   \u001b[0;32mdef\u001b[0m \u001b[0m_numpy\u001b[0m\u001b[0;34m(\u001b[0m\u001b[0mself\u001b[0m\u001b[0;34m)\u001b[0m\u001b[0;34m:\u001b[0m\u001b[0;34m\u001b[0m\u001b[0;34m\u001b[0m\u001b[0m\n\u001b[1;32m   1059\u001b[0m     \u001b[0;32mtry\u001b[0m\u001b[0;34m:\u001b[0m\u001b[0;34m\u001b[0m\u001b[0;34m\u001b[0m\u001b[0m\n\u001b[0;32m-> 1060\u001b[0;31m       \u001b[0;32mreturn\u001b[0m \u001b[0mself\u001b[0m\u001b[0;34m.\u001b[0m\u001b[0m_numpy_internal\u001b[0m\u001b[0;34m(\u001b[0m\u001b[0;34m)\u001b[0m\u001b[0;34m\u001b[0m\u001b[0;34m\u001b[0m\u001b[0m\n\u001b[0m\u001b[1;32m   1061\u001b[0m     \u001b[0;32mexcept\u001b[0m \u001b[0mcore\u001b[0m\u001b[0;34m.\u001b[0m\u001b[0m_NotOkStatusException\u001b[0m \u001b[0;32mas\u001b[0m \u001b[0me\u001b[0m\u001b[0;34m:\u001b[0m  \u001b[0;31m# pylint: disable=protected-access\u001b[0m\u001b[0;34m\u001b[0m\u001b[0;34m\u001b[0m\u001b[0m\n\u001b[1;32m   1062\u001b[0m       \u001b[0msix\u001b[0m\u001b[0;34m.\u001b[0m\u001b[0mraise_from\u001b[0m\u001b[0;34m(\u001b[0m\u001b[0mcore\u001b[0m\u001b[0;34m.\u001b[0m\u001b[0m_status_to_exception\u001b[0m\u001b[0;34m(\u001b[0m\u001b[0me\u001b[0m\u001b[0;34m.\u001b[0m\u001b[0mcode\u001b[0m\u001b[0;34m,\u001b[0m \u001b[0me\u001b[0m\u001b[0;34m.\u001b[0m\u001b[0mmessage\u001b[0m\u001b[0;34m)\u001b[0m\u001b[0;34m,\u001b[0m \u001b[0;32mNone\u001b[0m\u001b[0;34m)\u001b[0m  \u001b[0;31m# pylint: disable=protected-access\u001b[0m\u001b[0;34m\u001b[0m\u001b[0;34m\u001b[0m\u001b[0m\n",
            "\u001b[0;31mKeyboardInterrupt\u001b[0m: "
          ]
        }
      ]
    },
    {
      "cell_type": "code",
      "metadata": {
        "id": "b6D01tyLbleJ"
      },
      "source": [
        "# list all data in history\n",
        "# print(model_history.history.keys())\n",
        "\n",
        "model_history = model_2_his\n",
        "\n",
        "# summarize history for accuracy\n",
        "plt.plot(model_history.history['binary_accuracy'])\n",
        "plt.plot(model_history.history['val_binary_accuracy'])\n",
        "plt.title('Model Accuracy')\n",
        "plt.ylabel('Accuracy')\n",
        "plt.xlabel('Epoch')\n",
        "# plt.ylim([0.60, 1.00])\n",
        "plt.legend(['Training', 'Validation'], loc='lower right')\n",
        "plt.show()\n",
        "\n",
        "# summarize history for loss\n",
        "plt.plot(model_history.history['loss'])\n",
        "plt.plot(model_history.history['val_loss'])\n",
        "plt.title('Model Loss')\n",
        "plt.ylabel('Loss')\n",
        "plt.xlabel('Epoch')\n",
        "plt.legend(['Training', 'Validation'], loc='best')\n",
        "plt.show()"
      ],
      "execution_count": null,
      "outputs": []
    },
    {
      "cell_type": "markdown",
      "metadata": {
        "id": "Ju_iTrXkTOpe"
      },
      "source": [
        "Model Evaluation"
      ]
    },
    {
      "cell_type": "code",
      "metadata": {
        "id": "66qFVJJQTOpf"
      },
      "source": [
        "# Load the last checkpoint model\n",
        "# model = keras.models.load_model('Training_models/CNN-LSTM Normal data/Model 4/ECG.epoch_70.TL_0.3511.VL_0.1512.TA_0.91.VA_0.95.hdf5')\n",
        "model = model_2\n",
        "test_scores = model.evaluate(input_test, output_test, verbose = 0)\n",
        "print(\"Test loss:\\t\", test_scores[0])               # 0.1305         \n",
        "print(\"Test accuracy:\", test_scores[1])           # 0.9650"
      ],
      "execution_count": null,
      "outputs": []
    },
    {
      "cell_type": "code",
      "metadata": {
        "id": "kAHd7NGeooYp"
      },
      "source": [
        "yhat = model.predict_classes(input_test)\n",
        "\n",
        "conf_matrix = confusion_matrix(output_test,yhat)"
      ],
      "execution_count": null,
      "outputs": []
    },
    {
      "cell_type": "code",
      "metadata": {
        "id": "gKrIUWPLooYq"
      },
      "source": [
        "# Print the confusion matrix using Matplotlib\n",
        "\n",
        "fig, ax = plt.subplots()\n",
        "ax.matshow(conf_matrix, cmap=plt.cm.Blues, alpha=0.3)\n",
        "for i in range(conf_matrix.shape[0]):\n",
        "    for j in range(conf_matrix.shape[1]):\n",
        "        ax.text(x=j, y=i,s=conf_matrix[i, j], va='center', ha='center', size='xx-large')\n",
        " \n",
        "plt.xlabel('Predictions', fontsize=18)\n",
        "plt.ylabel('Actuals', fontsize=18)\n",
        "plt.title('Confusion Matrix', fontsize=18)\n",
        "plt.show()"
      ],
      "execution_count": null,
      "outputs": []
    },
    {
      "cell_type": "code",
      "metadata": {
        "id": "OpusDopqooYr"
      },
      "source": [
        "accuracy = accuracy_score(output_test, yhat)\n",
        "print('Accuracy:\\t\\t', round(accuracy,4))\n",
        "\n",
        "# precision tp / (tp + fp)\n",
        "precision = precision_score(output_test, yhat)\n",
        "print('Precision:\\t\\t', round(precision,4))\n",
        "\n",
        "# recall: tp / (tp + fn)\n",
        "recall = recall_score(output_test, yhat)\n",
        "print('Recall: \\t\\t', round(recall,4))\n",
        "\n",
        "# f1: 2 tp / (2 tp + fp + fn)\n",
        "f1 = f1_score(output_test, yhat)\n",
        "print('F1 score:\\t\\t', round(f1,4))"
      ],
      "execution_count": null,
      "outputs": []
    }
  ]
}