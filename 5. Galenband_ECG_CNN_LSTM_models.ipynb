{
  "nbformat": 4,
  "nbformat_minor": 0,
  "metadata": {
    "accelerator": "GPU",
    "colab": {
      "name": "5. Galenband ECG CNN-LSTM models.ipynb",
      "provenance": [],
      "collapsed_sections": [],
      "toc_visible": true,
      "mount_file_id": "1ekhoGijFTdZDhnmD8-F__6jNvUifOjyU",
      "authorship_tag": "ABX9TyOUH2+eHEdetQg2HYced6se",
      "include_colab_link": true
    },
    "kernelspec": {
      "display_name": "Python 3",
      "name": "python3"
    },
    "language_info": {
      "name": "python"
    }
  },
  "cells": [
    {
      "cell_type": "markdown",
      "metadata": {
        "id": "view-in-github",
        "colab_type": "text"
      },
      "source": [
        "<a href=\"https://colab.research.google.com/github/rahulkumar-datascientist/Detecting-Silent-Cardiac-Atrial-fibrillation-from-PPG-and-single-lead-ECG-Data-using-CNN-LSTM/blob/master/5.%20Galenband_ECG_CNN_LSTM_models.ipynb\" target=\"_parent\"><img src=\"https://colab.research.google.com/assets/colab-badge.svg\" alt=\"Open In Colab\"/></a>"
      ]
    },
    {
      "cell_type": "markdown",
      "metadata": {
        "id": "_zoVq3CVvEzb"
      },
      "source": [
        "# Importing Packages"
      ]
    },
    {
      "cell_type": "code",
      "metadata": {
        "id": "vUVbCLU8vBmy"
      },
      "source": [
        "import pandas as pd\n",
        "import numpy as np\n",
        "from scipy.io import loadmat\n",
        "import os, os.path\n",
        "import matplotlib.pyplot as plt\n",
        "pd.options.mode.chained_assignment = None  # default='warn'\n",
        "\n",
        "import zipfile\n",
        "import re\n",
        "import pickle\n",
        "import keras\n",
        "from sklearn.model_selection import train_test_split\n",
        "from keras.layers import Bidirectional, LSTM, Activation, Dense, Dropout, BatchNormalization, InputLayer, Conv1D, MaxPooling1D, Flatten\n",
        "from keras.models import Sequential, load_model\n",
        "from keras.callbacks import ModelCheckpoint\n",
        "from sklearn.utils import class_weight\n",
        "from sklearn.metrics import confusion_matrix, accuracy_score, precision_score, recall_score, f1_score\n",
        "import tensorflow as tf\n"
      ],
      "execution_count": null,
      "outputs": []
    },
    {
      "cell_type": "markdown",
      "metadata": {
        "id": "gtx8accRnI0_"
      },
      "source": [
        "# Preparing the data according to the model Architecture"
      ]
    },
    {
      "cell_type": "code",
      "metadata": {
        "colab": {
          "base_uri": "https://localhost:8080/"
        },
        "id": "ZBdMqlhvp4-G",
        "outputId": "0c8162e5-5deb-435d-fe4f-7884a80931d8"
      },
      "source": [
        "%cd /content/drive/MyDrive/Colab Notebooks/Galenband Project"
      ],
      "execution_count": null,
      "outputs": [
        {
          "output_type": "stream",
          "text": [
            "/content/drive/MyDrive/Colab Notebooks/Galenband Project\n"
          ],
          "name": "stdout"
        }
      ]
    },
    {
      "cell_type": "code",
      "metadata": {
        "id": "wiclA_BRp4-I"
      },
      "source": [
        "# loading the saved dataframe\n",
        "\n",
        "# Original Data\n",
        "galenband_ECG_30k_segmented               = pd.read_pickle('Dataframes/galenband_ECG_30k_segmented.pkl')\n",
        "# galenband_ECG_9k_segmented                = pd.read_pickle('Dataframes/galenband_ECG_9k_segmented.pkl')\n",
        "\n",
        "# Butterworth All\n",
        "galenband_ECG_30k_segmented_butter        = pd.read_pickle('Dataframes_1/galenband_ECG_30k_segmented_butter.pkl')\n",
        "# galenband_ECG_9k_segmented_butter         = pd.read_pickle('Dataframes/galenband_ECG_9k_segmented_butter.pkl')"
      ],
      "execution_count": null,
      "outputs": []
    },
    {
      "cell_type": "markdown",
      "metadata": {
        "id": "IF59fNsfwTbx"
      },
      "source": [
        "### Function to prepare train, test and validation data"
      ]
    },
    {
      "cell_type": "code",
      "metadata": {
        "id": "3UCdoq0zwK5K"
      },
      "source": [
        "def prepare_data(dataset, seq_len, test_prop = 0.2, val_prop = 0.3):\n",
        "\n",
        "  # splitting the data into train and test \n",
        "  train_set, test_set = train_test_split(dataset, test_size=test_prop, random_state=42, shuffle=True)\n",
        "\n",
        "  # splitting the data into test and validation set\n",
        "  val_set, test_set = train_test_split(test_set, test_size=val_prop, random_state=42, shuffle=True)\n",
        "  \n",
        "  train_set.reset_index(drop=True, inplace=True)\n",
        "  test_set.reset_index(drop=True, inplace=True)\n",
        "  val_set.reset_index(drop=True, inplace=True)\n",
        "\n",
        "  # Splitting into input and output variables\n",
        "  X_train = train_set.Signal\n",
        "  Y_train = train_set.Class\n",
        "\n",
        "  X_test = test_set.Signal\n",
        "  Y_test = test_set.Class\n",
        "\n",
        "  X_val = val_set.Signal\n",
        "  Y_val = val_set.Class\n",
        "\n",
        "  #####\n",
        "  input_train   = np.zeros((len(X_train), seq_len), dtype='float32')\n",
        "  output_train = np.zeros(len(Y_train), dtype='float32')\n",
        "\n",
        "  input_test   = np.zeros((len(X_test), seq_len), dtype='float32')\n",
        "  output_test = np.zeros(len(Y_test), dtype='float32')\n",
        "\n",
        "  input_val   = np.zeros((len(X_val), seq_len), dtype='float32')\n",
        "  output_val = np.zeros(len(Y_val), dtype='float32')\n",
        "\n",
        "  # modeling X input\n",
        "  for index, value in enumerate(X_train):\n",
        "    input_train[index] = value\n",
        "\n",
        "\n",
        "  for index, value in enumerate(X_test):\n",
        "    input_test[index] = value\n",
        "\n",
        "\n",
        "  for index, value in enumerate(X_val):\n",
        "    input_val[index] = value\n",
        "\n",
        "  \n",
        "  # class 0 = Normal, class 1 = Afib\n",
        "  # modeling Y output\n",
        "  for index,value in enumerate(Y_train):\n",
        "    if(value == 'N'):\n",
        "      output_train[index] = 0\n",
        "    else:\n",
        "      output_train[index] = 1\n",
        "\n",
        "  # modeling Y output\n",
        "  for index,value in enumerate(Y_test):\n",
        "    if(value == 'N'):\n",
        "      output_test[index] = 0\n",
        "    else:\n",
        "      output_test[index] = 1\n",
        "\n",
        "  # modeling Y output\n",
        "  for index,value in enumerate(Y_val):\n",
        "    if(value == 'N'):\n",
        "      output_val[index] = 0\n",
        "    else:\n",
        "      output_val[index] = 1\n",
        "\n",
        "  ## expanding the dimensions\n",
        "  input_train = input_train.reshape(len(input_train), seq_len, 1)\n",
        "  output_train = output_train.reshape(len(output_train), 1)\n",
        "\n",
        "  input_test = input_test.reshape(len(input_test), seq_len, 1)\n",
        "  output_test = output_test.reshape(len(output_test), 1)\n",
        "\n",
        "  input_val = input_val.reshape(len(input_val), seq_len, 1)\n",
        "  output_val = output_val.reshape(len(output_val), 1)\n",
        "\n",
        "  ## return the data\n",
        "  return (input_train, output_train, input_test, output_test, input_val, output_val)\n",
        "\n"
      ],
      "execution_count": null,
      "outputs": []
    },
    {
      "cell_type": "markdown",
      "metadata": {
        "id": "0lUo4gVqnIv2"
      },
      "source": [
        "# 1. Models with 30k sample sequence"
      ]
    },
    {
      "cell_type": "markdown",
      "metadata": {
        "id": "HwaDwi6EnIpM"
      },
      "source": [
        "## 1.1 Model using Normal data"
      ]
    },
    {
      "cell_type": "code",
      "metadata": {
        "id": "fQ-7ROCMzTSH"
      },
      "source": [
        "input_train, output_train, input_test, output_test, input_val, output_val = \\\n",
        "prepare_data(galenband_ECG_30k_segmented, 30000, test_prop = 0.3, val_prop = 0.3)"
      ],
      "execution_count": null,
      "outputs": []
    },
    {
      "cell_type": "code",
      "metadata": {
        "colab": {
          "base_uri": "https://localhost:8080/"
        },
        "id": "CLlSS4Q4z3B3",
        "outputId": "82a228af-c255-4b40-d624-b03f01faab57"
      },
      "source": [
        "print(\"input train shape:\\t \", input_train.shape)\n",
        "print(\"output train shape:\\t \", output_train.shape)\n",
        "\n",
        "print(\"\\ninput test shape:\\t \", input_test.shape)\n",
        "print(\"output test shape:\\t \", output_test.shape)\n",
        "\n",
        "print(\"\\ninput val shape:\\t \", input_val.shape)\n",
        "print(\"output val shape:\\t \", output_val.shape)"
      ],
      "execution_count": null,
      "outputs": [
        {
          "output_type": "stream",
          "text": [
            "input train shape:\t  (1088, 30000, 1)\n",
            "output train shape:\t  (1088, 1)\n",
            "\n",
            "input test shape:\t  (141, 30000, 1)\n",
            "output test shape:\t  (141, 1)\n",
            "\n",
            "input val shape:\t  (326, 30000, 1)\n",
            "output val shape:\t  (326, 1)\n"
          ],
          "name": "stdout"
        }
      ]
    },
    {
      "cell_type": "code",
      "metadata": {
        "colab": {
          "base_uri": "https://localhost:8080/"
        },
        "id": "xM95uH233QPQ",
        "outputId": "7ba30f11-434f-45c5-d9f5-34ac83d5f452"
      },
      "source": [
        "class_weights = class_weight.compute_class_weight('balanced',np.unique(output_train.flatten()), output_train.flatten())\n",
        "\n",
        "class_weight_dict = dict(enumerate(class_weights))\n",
        "\n",
        "class_weight_dict"
      ],
      "execution_count": null,
      "outputs": [
        {
          "output_type": "execute_result",
          "data": {
            "text/plain": [
              "{0: 1.0018416206261511, 1: 0.998165137614679}"
            ]
          },
          "metadata": {},
          "execution_count": 7
        }
      ]
    },
    {
      "cell_type": "code",
      "metadata": {
        "id": "oUfVaT6e3QPR"
      },
      "source": [
        "# Defining parameter values\n",
        "epochs          = 300\n",
        "batch_size      = 32"
      ],
      "execution_count": null,
      "outputs": []
    },
    {
      "cell_type": "code",
      "metadata": {
        "id": "nw8p1MX7I6yZ"
      },
      "source": [
        "# # Load the saved model\n",
        "# base_model  = keras.models.load_model('Training_models/ECG/Model 1/ECG.epoch_25.TL_0.2977.VL_0.2020.TA_0.93.VA_0.94.hdf5')\n",
        "# # weights     = base_model.get_weights()"
      ],
      "execution_count": null,
      "outputs": []
    },
    {
      "cell_type": "code",
      "metadata": {
        "colab": {
          "base_uri": "https://localhost:8080/"
        },
        "id": "KPccTiDx3QPS",
        "outputId": "491da6f6-61f4-4fb9-bae6-8d3e9230b4b1"
      },
      "source": [
        "ECG_30k_segmented_model = Sequential()\n",
        "\n",
        "# 64, 64, 32, 16, 8, 32\n",
        "\n",
        "input_shape = (30000, 1)\n",
        "ECG_30k_segmented_model.add(InputLayer(input_shape=input_shape))\n",
        "\n",
        "ECG_30k_segmented_model.add(Conv1D(64, 10,padding='causal', activation=\"tanh\"))\n",
        "ECG_30k_segmented_model.add(MaxPooling1D(4))\n",
        "\n",
        "ECG_30k_segmented_model.add(Conv1D(64, 10,padding='same', activation=\"tanh\"))\n",
        "ECG_30k_segmented_model.add(MaxPooling1D(4))\n",
        "\n",
        "ECG_30k_segmented_model.add(LSTM(32,activation = \"tanh\", return_sequences = True))\n",
        "ECG_30k_segmented_model.add(LSTM(16, activation = \"tanh\", return_sequences = True))\n",
        "ECG_30k_segmented_model.add(LSTM(8, activation = \"tanh\"))\n",
        "\n",
        "ECG_30k_segmented_model.add(Dense(32, activation='tanh'))\n",
        "ECG_30k_segmented_model.add(BatchNormalization())\n",
        "ECG_30k_segmented_model.add(Dense(1, activation = 'sigmoid'))\n",
        "\n",
        "ECG_30k_segmented_model.summary()\n",
        "\n",
        "# set weights\n",
        "# ECG_30k_segmented_model.set_weights(weights)"
      ],
      "execution_count": null,
      "outputs": [
        {
          "output_type": "stream",
          "text": [
            "Model: \"sequential_1\"\n",
            "_________________________________________________________________\n",
            "Layer (type)                 Output Shape              Param #   \n",
            "=================================================================\n",
            "conv1d_2 (Conv1D)            (None, 30000, 64)         704       \n",
            "_________________________________________________________________\n",
            "max_pooling1d_2 (MaxPooling1 (None, 7500, 64)          0         \n",
            "_________________________________________________________________\n",
            "conv1d_3 (Conv1D)            (None, 7500, 64)          41024     \n",
            "_________________________________________________________________\n",
            "max_pooling1d_3 (MaxPooling1 (None, 1875, 64)          0         \n",
            "_________________________________________________________________\n",
            "lstm_3 (LSTM)                (None, 1875, 32)          12416     \n",
            "_________________________________________________________________\n",
            "lstm_4 (LSTM)                (None, 1875, 16)          3136      \n",
            "_________________________________________________________________\n",
            "lstm_5 (LSTM)                (None, 8)                 800       \n",
            "_________________________________________________________________\n",
            "dense_2 (Dense)              (None, 32)                288       \n",
            "_________________________________________________________________\n",
            "batch_normalization_1 (Batch (None, 32)                128       \n",
            "_________________________________________________________________\n",
            "dense_3 (Dense)              (None, 1)                 33        \n",
            "=================================================================\n",
            "Total params: 58,529\n",
            "Trainable params: 58,465\n",
            "Non-trainable params: 64\n",
            "_________________________________________________________________\n"
          ],
          "name": "stdout"
        }
      ]
    },
    {
      "cell_type": "code",
      "metadata": {
        "id": "A1S1FTqN3QPS"
      },
      "source": [
        "# model training configuration \n",
        "ECG_30k_segmented_model.compile(optimizer = tf.keras.optimizers.Adam(),\n",
        "                                loss      = keras.losses.BinaryCrossentropy(),\n",
        "                                metrics   = [keras.metrics.BinaryAccuracy()])\n",
        "\n",
        "#SGD(learning_rate=0.01, decay=1e-6, momentum=0.9, nesterov=True)\n",
        "\n",
        "# Callback to reduce the learning rate when the validation loss has stopped improving\n",
        "reduce_lr = keras.callbacks.ReduceLROnPlateau(monitor = 'val_loss', factor = 0.1, patience = 25, mode = 'min')\n",
        "\n",
        "# Callback to stop training the model when the validation loss has stopped improving\n",
        "# early_stop = keras.callbacks.EarlyStopping(monitor = 'val_loss', patience = 35, mode = 'min')\n",
        "\n",
        "# CHECKPOINT callback\n",
        "filepath = \"Training_models/ECG/Model_1/ECG.epoch_{epoch:02d}.TL_{loss:.4f}.VL_{val_loss:.4f}.TA_{binary_accuracy:.2f}.VA_{val_binary_accuracy:.2f}.hdf5\"\n",
        "\n",
        "# Save training model when there is an improvement in validation_accuracy from the previous checkpint\n",
        "model_save = keras.callbacks.ModelCheckpoint(filepath, \n",
        "                                             monitor = 'val_binary_accuracy',\n",
        "                                             save_best_only=True, \n",
        "                                             mode = 'max')\n",
        "\n",
        "\n"
      ],
      "execution_count": null,
      "outputs": []
    },
    {
      "cell_type": "code",
      "metadata": {
        "id": "9zwFBPZO3QPU",
        "colab": {
          "base_uri": "https://localhost:8080/"
        },
        "outputId": "a9dc6f01-e4a2-44de-c16f-8479b5e3daf1"
      },
      "source": [
        "# Fitting the model\n",
        "ECG_30k_segmented_model_his = ECG_30k_segmented_model.fit(input_train, output_train,\n",
        "                                                          batch_size = batch_size , epochs = epochs, \n",
        "                                                          validation_data = (input_val, output_val),\n",
        "                                                          # class_weight=class_weight_dict_1,\n",
        "                                                          callbacks=[reduce_lr,model_save])\n",
        "\n",
        "ECG_30k_segmented_model.save('Training_models/ECG/Model_1/ECG.final_run.hdf5')                  "
      ],
      "execution_count": null,
      "outputs": [
        {
          "output_type": "stream",
          "text": [
            "Epoch 1/300\n",
            "34/34 [==============================] - 27s 254ms/step - loss: 0.7102 - binary_accuracy: 0.5386 - val_loss: 0.6908 - val_binary_accuracy: 0.4785\n",
            "Epoch 2/300\n",
            "34/34 [==============================] - 8s 222ms/step - loss: 0.6671 - binary_accuracy: 0.5772 - val_loss: 0.6890 - val_binary_accuracy: 0.4785\n",
            "Epoch 3/300\n",
            "34/34 [==============================] - 8s 222ms/step - loss: 0.6461 - binary_accuracy: 0.6011 - val_loss: 0.6787 - val_binary_accuracy: 0.6288\n",
            "Epoch 4/300\n",
            "34/34 [==============================] - 8s 222ms/step - loss: 0.6358 - binary_accuracy: 0.6305 - val_loss: 0.6757 - val_binary_accuracy: 0.6227\n",
            "Epoch 5/300\n",
            "34/34 [==============================] - 8s 223ms/step - loss: 0.6199 - binary_accuracy: 0.6471 - val_loss: 0.6712 - val_binary_accuracy: 0.4816\n",
            "Epoch 6/300\n",
            "34/34 [==============================] - 8s 223ms/step - loss: 0.6019 - binary_accuracy: 0.6728 - val_loss: 0.6511 - val_binary_accuracy: 0.6810\n",
            "Epoch 7/300\n",
            "34/34 [==============================] - 8s 222ms/step - loss: 0.5794 - binary_accuracy: 0.6939 - val_loss: 0.6255 - val_binary_accuracy: 0.7117\n",
            "Epoch 8/300\n",
            "34/34 [==============================] - 8s 223ms/step - loss: 0.5579 - binary_accuracy: 0.7068 - val_loss: 0.6175 - val_binary_accuracy: 0.6227\n",
            "Epoch 9/300\n",
            "34/34 [==============================] - 8s 223ms/step - loss: 0.5054 - binary_accuracy: 0.7445 - val_loss: 0.6010 - val_binary_accuracy: 0.6350\n",
            "Epoch 10/300\n",
            "34/34 [==============================] - 8s 223ms/step - loss: 0.4632 - binary_accuracy: 0.7757 - val_loss: 0.4198 - val_binary_accuracy: 0.8650\n",
            "Epoch 11/300\n",
            "34/34 [==============================] - 8s 223ms/step - loss: 0.3521 - binary_accuracy: 0.8465 - val_loss: 0.3166 - val_binary_accuracy: 0.9018\n",
            "Epoch 12/300\n",
            "34/34 [==============================] - 8s 222ms/step - loss: 0.3037 - binary_accuracy: 0.8741 - val_loss: 0.5719 - val_binary_accuracy: 0.6933\n",
            "Epoch 13/300\n",
            "34/34 [==============================] - 8s 223ms/step - loss: 0.2474 - binary_accuracy: 0.9007 - val_loss: 0.1521 - val_binary_accuracy: 0.9479\n",
            "Epoch 14/300\n",
            "34/34 [==============================] - 8s 223ms/step - loss: 0.3218 - binary_accuracy: 0.8631 - val_loss: 1.2052 - val_binary_accuracy: 0.5337\n",
            "Epoch 15/300\n",
            "34/34 [==============================] - 8s 223ms/step - loss: 0.3052 - binary_accuracy: 0.8741 - val_loss: 0.4510 - val_binary_accuracy: 0.8160\n",
            "Epoch 16/300\n",
            "34/34 [==============================] - 8s 223ms/step - loss: 0.1882 - binary_accuracy: 0.9182 - val_loss: 0.1711 - val_binary_accuracy: 0.9356\n",
            "Epoch 17/300\n",
            "34/34 [==============================] - 8s 223ms/step - loss: 0.1188 - binary_accuracy: 0.9550 - val_loss: 0.2745 - val_binary_accuracy: 0.9110\n",
            "Epoch 18/300\n",
            "34/34 [==============================] - 8s 222ms/step - loss: 0.2173 - binary_accuracy: 0.9173 - val_loss: 0.2351 - val_binary_accuracy: 0.8957\n",
            "Epoch 19/300\n",
            "34/34 [==============================] - 8s 223ms/step - loss: 0.1963 - binary_accuracy: 0.9228 - val_loss: 0.0877 - val_binary_accuracy: 0.9724\n",
            "Epoch 20/300\n",
            "34/34 [==============================] - 8s 224ms/step - loss: 0.0914 - binary_accuracy: 0.9715 - val_loss: 0.0534 - val_binary_accuracy: 0.9877\n",
            "Epoch 21/300\n",
            "34/34 [==============================] - 8s 223ms/step - loss: 0.2460 - binary_accuracy: 0.8925 - val_loss: 0.2765 - val_binary_accuracy: 0.9049\n",
            "Epoch 22/300\n",
            "34/34 [==============================] - 8s 222ms/step - loss: 0.1711 - binary_accuracy: 0.9357 - val_loss: 0.0831 - val_binary_accuracy: 0.9785\n",
            "Epoch 23/300\n",
            "34/34 [==============================] - 8s 223ms/step - loss: 0.0933 - binary_accuracy: 0.9651 - val_loss: 0.0334 - val_binary_accuracy: 0.9877\n",
            "Epoch 24/300\n",
            "34/34 [==============================] - 8s 223ms/step - loss: 0.1615 - binary_accuracy: 0.9375 - val_loss: 0.1154 - val_binary_accuracy: 0.9663\n",
            "Epoch 25/300\n",
            "34/34 [==============================] - 8s 225ms/step - loss: 0.0815 - binary_accuracy: 0.9688 - val_loss: 0.0650 - val_binary_accuracy: 0.9816\n",
            "Epoch 26/300\n",
            "34/34 [==============================] - 8s 226ms/step - loss: 0.0798 - binary_accuracy: 0.9733 - val_loss: 0.1295 - val_binary_accuracy: 0.9632\n",
            "Epoch 27/300\n",
            "34/34 [==============================] - 8s 226ms/step - loss: 0.1439 - binary_accuracy: 0.9494 - val_loss: 0.0838 - val_binary_accuracy: 0.9755\n",
            "Epoch 28/300\n",
            "34/34 [==============================] - 8s 226ms/step - loss: 0.1346 - binary_accuracy: 0.9476 - val_loss: 0.0286 - val_binary_accuracy: 0.9908\n",
            "Epoch 29/300\n",
            "34/34 [==============================] - 8s 227ms/step - loss: 0.0538 - binary_accuracy: 0.9816 - val_loss: 0.1972 - val_binary_accuracy: 0.9264\n",
            "Epoch 30/300\n",
            "34/34 [==============================] - 8s 227ms/step - loss: 0.3590 - binary_accuracy: 0.8594 - val_loss: 1.1490 - val_binary_accuracy: 0.6319\n",
            "Epoch 31/300\n",
            "34/34 [==============================] - 8s 225ms/step - loss: 0.6713 - binary_accuracy: 0.6039 - val_loss: 0.7209 - val_binary_accuracy: 0.5399\n",
            "Epoch 32/300\n",
            "34/34 [==============================] - 8s 224ms/step - loss: 0.6761 - binary_accuracy: 0.5680 - val_loss: 0.7253 - val_binary_accuracy: 0.5613\n",
            "Epoch 33/300\n",
            "34/34 [==============================] - 8s 224ms/step - loss: 0.6571 - binary_accuracy: 0.6066 - val_loss: 0.7658 - val_binary_accuracy: 0.5245\n",
            "Epoch 34/300\n",
            "34/34 [==============================] - 8s 224ms/step - loss: 0.6393 - binary_accuracy: 0.6268 - val_loss: 0.7718 - val_binary_accuracy: 0.5245\n",
            "Epoch 35/300\n",
            "34/34 [==============================] - 8s 224ms/step - loss: 0.6143 - binary_accuracy: 0.6572 - val_loss: 0.8280 - val_binary_accuracy: 0.5215\n",
            "Epoch 36/300\n",
            "34/34 [==============================] - 8s 224ms/step - loss: 0.6008 - binary_accuracy: 0.6700 - val_loss: 0.9299 - val_binary_accuracy: 0.5399\n",
            "Epoch 37/300\n",
            "34/34 [==============================] - 8s 223ms/step - loss: 0.5587 - binary_accuracy: 0.7040 - val_loss: 1.0535 - val_binary_accuracy: 0.5521\n",
            "Epoch 38/300\n",
            "34/34 [==============================] - 8s 223ms/step - loss: 0.4731 - binary_accuracy: 0.7812 - val_loss: 0.5545 - val_binary_accuracy: 0.7331\n",
            "Epoch 39/300\n",
            "34/34 [==============================] - 8s 225ms/step - loss: 0.5167 - binary_accuracy: 0.7537 - val_loss: 1.6031 - val_binary_accuracy: 0.5583\n",
            "Epoch 40/300\n",
            "34/34 [==============================] - 8s 224ms/step - loss: 0.4818 - binary_accuracy: 0.7868 - val_loss: 0.5974 - val_binary_accuracy: 0.7025\n",
            "Epoch 41/300\n",
            "34/34 [==============================] - 8s 224ms/step - loss: 0.3259 - binary_accuracy: 0.8529 - val_loss: 0.4989 - val_binary_accuracy: 0.7945\n",
            "Epoch 42/300\n",
            "34/34 [==============================] - 8s 224ms/step - loss: 0.3539 - binary_accuracy: 0.8410 - val_loss: 3.5577 - val_binary_accuracy: 0.4785\n",
            "Epoch 43/300\n",
            "34/34 [==============================] - 8s 225ms/step - loss: 0.3639 - binary_accuracy: 0.8502 - val_loss: 0.2839 - val_binary_accuracy: 0.8681\n",
            "Epoch 44/300\n",
            "34/34 [==============================] - 8s 226ms/step - loss: 0.2300 - binary_accuracy: 0.9090 - val_loss: 0.1980 - val_binary_accuracy: 0.9294\n",
            "Epoch 45/300\n",
            "34/34 [==============================] - 8s 226ms/step - loss: 0.1775 - binary_accuracy: 0.9320 - val_loss: 0.1231 - val_binary_accuracy: 0.9448\n",
            "Epoch 46/300\n",
            "34/34 [==============================] - 8s 226ms/step - loss: 0.1958 - binary_accuracy: 0.9292 - val_loss: 0.1149 - val_binary_accuracy: 0.9509\n",
            "Epoch 47/300\n",
            "34/34 [==============================] - 8s 227ms/step - loss: 0.1346 - binary_accuracy: 0.9522 - val_loss: 0.1070 - val_binary_accuracy: 0.9663\n",
            "Epoch 48/300\n",
            "34/34 [==============================] - 8s 227ms/step - loss: 0.2873 - binary_accuracy: 0.8732 - val_loss: 0.3330 - val_binary_accuracy: 0.8405\n",
            "Epoch 49/300\n",
            "34/34 [==============================] - 8s 228ms/step - loss: 0.1377 - binary_accuracy: 0.9513 - val_loss: 0.0697 - val_binary_accuracy: 0.9785\n",
            "Epoch 50/300\n",
            "34/34 [==============================] - 8s 228ms/step - loss: 0.1006 - binary_accuracy: 0.9752 - val_loss: 0.2018 - val_binary_accuracy: 0.9509\n",
            "Epoch 51/300\n",
            "34/34 [==============================] - 8s 228ms/step - loss: 0.2455 - binary_accuracy: 0.8814 - val_loss: 0.7922 - val_binary_accuracy: 0.6656\n",
            "Epoch 52/300\n",
            "34/34 [==============================] - 8s 227ms/step - loss: 0.2483 - binary_accuracy: 0.9026 - val_loss: 0.1842 - val_binary_accuracy: 0.9294\n",
            "Epoch 53/300\n",
            "34/34 [==============================] - 8s 227ms/step - loss: 0.3438 - binary_accuracy: 0.8392 - val_loss: 2.4203 - val_binary_accuracy: 0.5337\n",
            "Epoch 54/300\n",
            "34/34 [==============================] - 8s 228ms/step - loss: 0.3967 - binary_accuracy: 0.8116 - val_loss: 1.5492 - val_binary_accuracy: 0.5859\n",
            "Epoch 55/300\n",
            "34/34 [==============================] - 8s 227ms/step - loss: 0.3756 - binary_accuracy: 0.8254 - val_loss: 0.9863 - val_binary_accuracy: 0.6380\n",
            "Epoch 56/300\n",
            "34/34 [==============================] - 8s 228ms/step - loss: 0.3621 - binary_accuracy: 0.8364 - val_loss: 0.5714 - val_binary_accuracy: 0.7270\n",
            "Epoch 57/300\n",
            "34/34 [==============================] - 8s 227ms/step - loss: 0.3204 - binary_accuracy: 0.8520 - val_loss: 0.3957 - val_binary_accuracy: 0.8037\n",
            "Epoch 58/300\n",
            "34/34 [==============================] - 8s 227ms/step - loss: 0.3042 - binary_accuracy: 0.8566 - val_loss: 0.3073 - val_binary_accuracy: 0.8712\n",
            "Epoch 59/300\n",
            "34/34 [==============================] - 8s 228ms/step - loss: 0.2755 - binary_accuracy: 0.8869 - val_loss: 0.2764 - val_binary_accuracy: 0.8988\n",
            "Epoch 60/300\n",
            "34/34 [==============================] - 8s 227ms/step - loss: 0.2702 - binary_accuracy: 0.8824 - val_loss: 0.2687 - val_binary_accuracy: 0.8988\n",
            "Epoch 61/300\n",
            "34/34 [==============================] - 8s 227ms/step - loss: 0.2633 - binary_accuracy: 0.8888 - val_loss: 0.2550 - val_binary_accuracy: 0.9080\n",
            "Epoch 62/300\n",
            "34/34 [==============================] - 8s 228ms/step - loss: 0.2400 - binary_accuracy: 0.9053 - val_loss: 0.2499 - val_binary_accuracy: 0.9172\n",
            "Epoch 63/300\n",
            "34/34 [==============================] - 8s 227ms/step - loss: 0.2245 - binary_accuracy: 0.9072 - val_loss: 0.2349 - val_binary_accuracy: 0.9264\n",
            "Epoch 64/300\n",
            "34/34 [==============================] - 8s 228ms/step - loss: 0.2179 - binary_accuracy: 0.9154 - val_loss: 0.2059 - val_binary_accuracy: 0.9233\n",
            "Epoch 65/300\n",
            "34/34 [==============================] - 8s 228ms/step - loss: 0.2167 - binary_accuracy: 0.9136 - val_loss: 0.1997 - val_binary_accuracy: 0.9294\n",
            "Epoch 66/300\n",
            "34/34 [==============================] - 8s 228ms/step - loss: 0.1990 - binary_accuracy: 0.9311 - val_loss: 0.1921 - val_binary_accuracy: 0.9387\n",
            "Epoch 67/300\n",
            "34/34 [==============================] - 8s 227ms/step - loss: 0.1881 - binary_accuracy: 0.9237 - val_loss: 0.1773 - val_binary_accuracy: 0.9264\n",
            "Epoch 68/300\n",
            "34/34 [==============================] - 8s 227ms/step - loss: 0.1868 - binary_accuracy: 0.9347 - val_loss: 0.1726 - val_binary_accuracy: 0.9417\n",
            "Epoch 69/300\n",
            "34/34 [==============================] - 8s 227ms/step - loss: 0.1792 - binary_accuracy: 0.9265 - val_loss: 0.1598 - val_binary_accuracy: 0.9509\n",
            "Epoch 70/300\n",
            "34/34 [==============================] - 8s 228ms/step - loss: 0.1671 - binary_accuracy: 0.9366 - val_loss: 0.1388 - val_binary_accuracy: 0.9509\n",
            "Epoch 71/300\n",
            "34/34 [==============================] - 8s 228ms/step - loss: 0.1593 - binary_accuracy: 0.9421 - val_loss: 0.1528 - val_binary_accuracy: 0.9325\n",
            "Epoch 72/300\n",
            "34/34 [==============================] - 8s 227ms/step - loss: 0.1538 - binary_accuracy: 0.9430 - val_loss: 0.1364 - val_binary_accuracy: 0.9509\n",
            "Epoch 73/300\n",
            "34/34 [==============================] - 8s 227ms/step - loss: 0.1520 - binary_accuracy: 0.9449 - val_loss: 0.1296 - val_binary_accuracy: 0.9540\n",
            "Epoch 74/300\n",
            "34/34 [==============================] - 8s 228ms/step - loss: 0.1345 - binary_accuracy: 0.9577 - val_loss: 0.1438 - val_binary_accuracy: 0.9632\n",
            "Epoch 75/300\n",
            "34/34 [==============================] - 8s 227ms/step - loss: 0.1310 - binary_accuracy: 0.9522 - val_loss: 0.1093 - val_binary_accuracy: 0.9509\n",
            "Epoch 76/300\n",
            "34/34 [==============================] - 8s 228ms/step - loss: 0.1418 - binary_accuracy: 0.9522 - val_loss: 0.1085 - val_binary_accuracy: 0.9693\n",
            "Epoch 77/300\n",
            "34/34 [==============================] - 8s 227ms/step - loss: 0.1317 - binary_accuracy: 0.9522 - val_loss: 0.0873 - val_binary_accuracy: 0.9693\n",
            "Epoch 78/300\n",
            "34/34 [==============================] - 8s 227ms/step - loss: 0.1231 - binary_accuracy: 0.9522 - val_loss: 0.0903 - val_binary_accuracy: 0.9755\n",
            "Epoch 79/300\n",
            "34/34 [==============================] - 8s 228ms/step - loss: 0.1062 - binary_accuracy: 0.9651 - val_loss: 0.0872 - val_binary_accuracy: 0.9724\n",
            "Epoch 80/300\n",
            "34/34 [==============================] - 8s 228ms/step - loss: 0.0998 - binary_accuracy: 0.9669 - val_loss: 0.0851 - val_binary_accuracy: 0.9693\n",
            "Epoch 81/300\n",
            "34/34 [==============================] - 8s 227ms/step - loss: 0.1053 - binary_accuracy: 0.9614 - val_loss: 0.0850 - val_binary_accuracy: 0.9663\n",
            "Epoch 82/300\n",
            "34/34 [==============================] - 8s 228ms/step - loss: 0.0988 - binary_accuracy: 0.9642 - val_loss: 0.0859 - val_binary_accuracy: 0.9693\n",
            "Epoch 83/300\n",
            "34/34 [==============================] - 8s 228ms/step - loss: 0.1022 - binary_accuracy: 0.9605 - val_loss: 0.0845 - val_binary_accuracy: 0.9693\n",
            "Epoch 84/300\n",
            "34/34 [==============================] - 8s 228ms/step - loss: 0.0996 - binary_accuracy: 0.9660 - val_loss: 0.0830 - val_binary_accuracy: 0.9693\n",
            "Epoch 85/300\n",
            "34/34 [==============================] - 8s 228ms/step - loss: 0.1031 - binary_accuracy: 0.9651 - val_loss: 0.0818 - val_binary_accuracy: 0.9693\n",
            "Epoch 86/300\n",
            "34/34 [==============================] - 8s 228ms/step - loss: 0.0937 - binary_accuracy: 0.9715 - val_loss: 0.0805 - val_binary_accuracy: 0.9693\n",
            "Epoch 87/300\n",
            "34/34 [==============================] - 8s 228ms/step - loss: 0.1034 - binary_accuracy: 0.9688 - val_loss: 0.0804 - val_binary_accuracy: 0.9693\n",
            "Epoch 88/300\n",
            "34/34 [==============================] - 8s 228ms/step - loss: 0.0920 - binary_accuracy: 0.9715 - val_loss: 0.0788 - val_binary_accuracy: 0.9693\n",
            "Epoch 89/300\n",
            "34/34 [==============================] - 8s 228ms/step - loss: 0.0892 - binary_accuracy: 0.9706 - val_loss: 0.0767 - val_binary_accuracy: 0.9693\n",
            "Epoch 90/300\n",
            "34/34 [==============================] - 8s 228ms/step - loss: 0.0883 - binary_accuracy: 0.9724 - val_loss: 0.0766 - val_binary_accuracy: 0.9693\n",
            "Epoch 91/300\n",
            "34/34 [==============================] - 8s 228ms/step - loss: 0.0872 - binary_accuracy: 0.9733 - val_loss: 0.0765 - val_binary_accuracy: 0.9693\n",
            "Epoch 92/300\n",
            "34/34 [==============================] - 8s 227ms/step - loss: 0.0918 - binary_accuracy: 0.9632 - val_loss: 0.0736 - val_binary_accuracy: 0.9693\n",
            "Epoch 93/300\n",
            "34/34 [==============================] - 8s 227ms/step - loss: 0.0919 - binary_accuracy: 0.9623 - val_loss: 0.0711 - val_binary_accuracy: 0.9755\n",
            "Epoch 94/300\n",
            "34/34 [==============================] - 8s 228ms/step - loss: 0.0987 - binary_accuracy: 0.9697 - val_loss: 0.0711 - val_binary_accuracy: 0.9693\n",
            "Epoch 95/300\n",
            "34/34 [==============================] - 8s 228ms/step - loss: 0.0924 - binary_accuracy: 0.9651 - val_loss: 0.0692 - val_binary_accuracy: 0.9785\n",
            "Epoch 96/300\n",
            "34/34 [==============================] - 8s 228ms/step - loss: 0.0916 - binary_accuracy: 0.9697 - val_loss: 0.0683 - val_binary_accuracy: 0.9785\n",
            "Epoch 97/300\n",
            "34/34 [==============================] - 8s 228ms/step - loss: 0.0829 - binary_accuracy: 0.9715 - val_loss: 0.0667 - val_binary_accuracy: 0.9785\n",
            "Epoch 98/300\n",
            "34/34 [==============================] - 8s 227ms/step - loss: 0.0837 - binary_accuracy: 0.9724 - val_loss: 0.0665 - val_binary_accuracy: 0.9785\n",
            "Epoch 99/300\n",
            "34/34 [==============================] - 8s 228ms/step - loss: 0.0842 - binary_accuracy: 0.9715 - val_loss: 0.0652 - val_binary_accuracy: 0.9785\n",
            "Epoch 100/300\n",
            "34/34 [==============================] - 8s 228ms/step - loss: 0.0850 - binary_accuracy: 0.9715 - val_loss: 0.0635 - val_binary_accuracy: 0.9785\n",
            "Epoch 101/300\n",
            "34/34 [==============================] - 8s 228ms/step - loss: 0.0851 - binary_accuracy: 0.9733 - val_loss: 0.0630 - val_binary_accuracy: 0.9785\n",
            "Epoch 102/300\n",
            "34/34 [==============================] - 8s 228ms/step - loss: 0.0743 - binary_accuracy: 0.9770 - val_loss: 0.0616 - val_binary_accuracy: 0.9785\n",
            "Epoch 103/300\n",
            "34/34 [==============================] - 8s 228ms/step - loss: 0.0803 - binary_accuracy: 0.9715 - val_loss: 0.0598 - val_binary_accuracy: 0.9785\n",
            "Epoch 104/300\n",
            "34/34 [==============================] - 8s 228ms/step - loss: 0.0764 - binary_accuracy: 0.9724 - val_loss: 0.0599 - val_binary_accuracy: 0.9785\n",
            "Epoch 105/300\n",
            "34/34 [==============================] - 8s 228ms/step - loss: 0.0721 - binary_accuracy: 0.9761 - val_loss: 0.0599 - val_binary_accuracy: 0.9785\n",
            "Epoch 106/300\n",
            "34/34 [==============================] - 8s 228ms/step - loss: 0.0781 - binary_accuracy: 0.9752 - val_loss: 0.0600 - val_binary_accuracy: 0.9785\n",
            "Epoch 107/300\n",
            "34/34 [==============================] - 8s 228ms/step - loss: 0.0773 - binary_accuracy: 0.9743 - val_loss: 0.0600 - val_binary_accuracy: 0.9785\n",
            "Epoch 108/300\n",
            "34/34 [==============================] - 8s 228ms/step - loss: 0.0849 - binary_accuracy: 0.9660 - val_loss: 0.0600 - val_binary_accuracy: 0.9785\n",
            "Epoch 109/300\n",
            "34/34 [==============================] - 8s 228ms/step - loss: 0.0765 - binary_accuracy: 0.9724 - val_loss: 0.0599 - val_binary_accuracy: 0.9785\n",
            "Epoch 110/300\n",
            "34/34 [==============================] - 8s 228ms/step - loss: 0.0751 - binary_accuracy: 0.9779 - val_loss: 0.0598 - val_binary_accuracy: 0.9785\n",
            "Epoch 111/300\n",
            "34/34 [==============================] - 8s 228ms/step - loss: 0.0758 - binary_accuracy: 0.9706 - val_loss: 0.0598 - val_binary_accuracy: 0.9785\n",
            "Epoch 112/300\n",
            "34/34 [==============================] - 8s 228ms/step - loss: 0.0710 - binary_accuracy: 0.9752 - val_loss: 0.0596 - val_binary_accuracy: 0.9785\n",
            "Epoch 113/300\n",
            "34/34 [==============================] - 8s 228ms/step - loss: 0.0853 - binary_accuracy: 0.9678 - val_loss: 0.0594 - val_binary_accuracy: 0.9785\n",
            "Epoch 114/300\n",
            "34/34 [==============================] - 8s 229ms/step - loss: 0.0666 - binary_accuracy: 0.9789 - val_loss: 0.0594 - val_binary_accuracy: 0.9785\n",
            "Epoch 115/300\n",
            "34/34 [==============================] - 8s 228ms/step - loss: 0.0814 - binary_accuracy: 0.9752 - val_loss: 0.0594 - val_binary_accuracy: 0.9785\n",
            "Epoch 116/300\n",
            "34/34 [==============================] - 8s 229ms/step - loss: 0.0821 - binary_accuracy: 0.9697 - val_loss: 0.0592 - val_binary_accuracy: 0.9785\n",
            "Epoch 117/300\n",
            "34/34 [==============================] - 8s 227ms/step - loss: 0.0710 - binary_accuracy: 0.9743 - val_loss: 0.0590 - val_binary_accuracy: 0.9785\n",
            "Epoch 118/300\n",
            "34/34 [==============================] - 8s 228ms/step - loss: 0.0771 - binary_accuracy: 0.9733 - val_loss: 0.0591 - val_binary_accuracy: 0.9785\n",
            "Epoch 119/300\n",
            "34/34 [==============================] - 8s 228ms/step - loss: 0.0735 - binary_accuracy: 0.9779 - val_loss: 0.0590 - val_binary_accuracy: 0.9785\n",
            "Epoch 120/300\n",
            "34/34 [==============================] - 8s 228ms/step - loss: 0.0780 - binary_accuracy: 0.9752 - val_loss: 0.0589 - val_binary_accuracy: 0.9785\n",
            "Epoch 121/300\n",
            "34/34 [==============================] - 8s 229ms/step - loss: 0.0801 - binary_accuracy: 0.9779 - val_loss: 0.0588 - val_binary_accuracy: 0.9785\n",
            "Epoch 122/300\n",
            "34/34 [==============================] - 8s 229ms/step - loss: 0.0824 - binary_accuracy: 0.9706 - val_loss: 0.0587 - val_binary_accuracy: 0.9785\n",
            "Epoch 123/300\n",
            "34/34 [==============================] - 8s 227ms/step - loss: 0.0706 - binary_accuracy: 0.9789 - val_loss: 0.0586 - val_binary_accuracy: 0.9785\n",
            "Epoch 124/300\n",
            "34/34 [==============================] - 8s 228ms/step - loss: 0.0716 - binary_accuracy: 0.9733 - val_loss: 0.0585 - val_binary_accuracy: 0.9785\n",
            "Epoch 125/300\n",
            "34/34 [==============================] - 8s 228ms/step - loss: 0.0763 - binary_accuracy: 0.9761 - val_loss: 0.0586 - val_binary_accuracy: 0.9785\n",
            "Epoch 126/300\n",
            "34/34 [==============================] - 8s 228ms/step - loss: 0.0721 - binary_accuracy: 0.9779 - val_loss: 0.0585 - val_binary_accuracy: 0.9785\n",
            "Epoch 127/300\n",
            "34/34 [==============================] - 8s 228ms/step - loss: 0.0804 - binary_accuracy: 0.9715 - val_loss: 0.0584 - val_binary_accuracy: 0.9816\n",
            "Epoch 128/300\n",
            "34/34 [==============================] - 8s 227ms/step - loss: 0.0748 - binary_accuracy: 0.9743 - val_loss: 0.0582 - val_binary_accuracy: 0.9816\n",
            "Epoch 129/300\n",
            "34/34 [==============================] - 8s 228ms/step - loss: 0.0742 - binary_accuracy: 0.9761 - val_loss: 0.0582 - val_binary_accuracy: 0.9816\n",
            "Epoch 130/300\n",
            "34/34 [==============================] - 8s 228ms/step - loss: 0.0667 - binary_accuracy: 0.9779 - val_loss: 0.0583 - val_binary_accuracy: 0.9816\n",
            "Epoch 131/300\n",
            "34/34 [==============================] - 8s 228ms/step - loss: 0.0764 - binary_accuracy: 0.9743 - val_loss: 0.0581 - val_binary_accuracy: 0.9816\n",
            "Epoch 132/300\n",
            "34/34 [==============================] - 8s 228ms/step - loss: 0.0774 - binary_accuracy: 0.9733 - val_loss: 0.0582 - val_binary_accuracy: 0.9816\n",
            "Epoch 133/300\n",
            "34/34 [==============================] - 8s 228ms/step - loss: 0.0692 - binary_accuracy: 0.9743 - val_loss: 0.0582 - val_binary_accuracy: 0.9816\n",
            "Epoch 134/300\n",
            "34/34 [==============================] - 8s 228ms/step - loss: 0.0757 - binary_accuracy: 0.9743 - val_loss: 0.0583 - val_binary_accuracy: 0.9816\n",
            "Epoch 135/300\n",
            "34/34 [==============================] - 8s 229ms/step - loss: 0.0723 - binary_accuracy: 0.9770 - val_loss: 0.0582 - val_binary_accuracy: 0.9816\n",
            "Epoch 136/300\n",
            "34/34 [==============================] - 8s 228ms/step - loss: 0.0748 - binary_accuracy: 0.9743 - val_loss: 0.0582 - val_binary_accuracy: 0.9816\n",
            "Epoch 137/300\n",
            "34/34 [==============================] - 8s 228ms/step - loss: 0.0706 - binary_accuracy: 0.9779 - val_loss: 0.0582 - val_binary_accuracy: 0.9816\n",
            "Epoch 138/300\n",
            "34/34 [==============================] - 8s 227ms/step - loss: 0.0774 - binary_accuracy: 0.9743 - val_loss: 0.0582 - val_binary_accuracy: 0.9816\n",
            "Epoch 139/300\n",
            "34/34 [==============================] - 8s 228ms/step - loss: 0.0653 - binary_accuracy: 0.9779 - val_loss: 0.0581 - val_binary_accuracy: 0.9816\n",
            "Epoch 140/300\n",
            "34/34 [==============================] - 8s 229ms/step - loss: 0.0687 - binary_accuracy: 0.9798 - val_loss: 0.0581 - val_binary_accuracy: 0.9816\n",
            "Epoch 141/300\n",
            "34/34 [==============================] - 8s 228ms/step - loss: 0.0695 - binary_accuracy: 0.9789 - val_loss: 0.0581 - val_binary_accuracy: 0.9816\n",
            "Epoch 142/300\n",
            "34/34 [==============================] - 8s 228ms/step - loss: 0.0745 - binary_accuracy: 0.9743 - val_loss: 0.0580 - val_binary_accuracy: 0.9816\n",
            "Epoch 143/300\n",
            "34/34 [==============================] - 8s 228ms/step - loss: 0.0765 - binary_accuracy: 0.9715 - val_loss: 0.0581 - val_binary_accuracy: 0.9816\n",
            "Epoch 144/300\n",
            "34/34 [==============================] - 8s 228ms/step - loss: 0.0727 - binary_accuracy: 0.9733 - val_loss: 0.0582 - val_binary_accuracy: 0.9816\n",
            "Epoch 145/300\n",
            "34/34 [==============================] - 8s 228ms/step - loss: 0.0715 - binary_accuracy: 0.9752 - val_loss: 0.0582 - val_binary_accuracy: 0.9816\n",
            "Epoch 146/300\n",
            "34/34 [==============================] - 8s 228ms/step - loss: 0.0777 - binary_accuracy: 0.9779 - val_loss: 0.0582 - val_binary_accuracy: 0.9816\n",
            "Epoch 147/300\n",
            "34/34 [==============================] - 8s 228ms/step - loss: 0.0710 - binary_accuracy: 0.9770 - val_loss: 0.0582 - val_binary_accuracy: 0.9816\n",
            "Epoch 148/300\n",
            "34/34 [==============================] - 8s 228ms/step - loss: 0.0725 - binary_accuracy: 0.9798 - val_loss: 0.0581 - val_binary_accuracy: 0.9816\n",
            "Epoch 149/300\n",
            "34/34 [==============================] - 8s 228ms/step - loss: 0.0845 - binary_accuracy: 0.9706 - val_loss: 0.0581 - val_binary_accuracy: 0.9816\n",
            "Epoch 150/300\n",
            "34/34 [==============================] - 8s 228ms/step - loss: 0.0689 - binary_accuracy: 0.9743 - val_loss: 0.0581 - val_binary_accuracy: 0.9816\n",
            "Epoch 151/300\n",
            "34/34 [==============================] - 8s 228ms/step - loss: 0.0851 - binary_accuracy: 0.9715 - val_loss: 0.0579 - val_binary_accuracy: 0.9816\n",
            "Epoch 152/300\n",
            "34/34 [==============================] - 8s 228ms/step - loss: 0.0743 - binary_accuracy: 0.9743 - val_loss: 0.0580 - val_binary_accuracy: 0.9816\n",
            "Epoch 153/300\n",
            "34/34 [==============================] - 8s 228ms/step - loss: 0.0844 - binary_accuracy: 0.9743 - val_loss: 0.0579 - val_binary_accuracy: 0.9816\n",
            "Epoch 154/300\n",
            "34/34 [==============================] - 8s 228ms/step - loss: 0.0718 - binary_accuracy: 0.9733 - val_loss: 0.0579 - val_binary_accuracy: 0.9816\n",
            "Epoch 155/300\n",
            "34/34 [==============================] - 8s 229ms/step - loss: 0.0781 - binary_accuracy: 0.9752 - val_loss: 0.0579 - val_binary_accuracy: 0.9816\n",
            "Epoch 156/300\n",
            "34/34 [==============================] - 8s 229ms/step - loss: 0.0823 - binary_accuracy: 0.9678 - val_loss: 0.0580 - val_binary_accuracy: 0.9816\n",
            "Epoch 157/300\n",
            "34/34 [==============================] - 8s 228ms/step - loss: 0.0795 - binary_accuracy: 0.9669 - val_loss: 0.0580 - val_binary_accuracy: 0.9816\n",
            "Epoch 158/300\n",
            "34/34 [==============================] - 8s 228ms/step - loss: 0.0816 - binary_accuracy: 0.9715 - val_loss: 0.0580 - val_binary_accuracy: 0.9816\n",
            "Epoch 159/300\n",
            "34/34 [==============================] - 8s 229ms/step - loss: 0.0793 - binary_accuracy: 0.9715 - val_loss: 0.0580 - val_binary_accuracy: 0.9816\n",
            "Epoch 160/300\n",
            "34/34 [==============================] - 8s 229ms/step - loss: 0.0723 - binary_accuracy: 0.9835 - val_loss: 0.0580 - val_binary_accuracy: 0.9816\n",
            "Epoch 161/300\n",
            "34/34 [==============================] - 8s 229ms/step - loss: 0.0776 - binary_accuracy: 0.9724 - val_loss: 0.0580 - val_binary_accuracy: 0.9816\n",
            "Epoch 162/300\n",
            "34/34 [==============================] - 8s 228ms/step - loss: 0.0751 - binary_accuracy: 0.9752 - val_loss: 0.0580 - val_binary_accuracy: 0.9816\n",
            "Epoch 163/300\n",
            "34/34 [==============================] - 8s 228ms/step - loss: 0.0705 - binary_accuracy: 0.9770 - val_loss: 0.0580 - val_binary_accuracy: 0.9816\n",
            "Epoch 164/300\n",
            "34/34 [==============================] - 8s 229ms/step - loss: 0.0906 - binary_accuracy: 0.9688 - val_loss: 0.0580 - val_binary_accuracy: 0.9816\n",
            "Epoch 165/300\n",
            "34/34 [==============================] - 8s 228ms/step - loss: 0.0835 - binary_accuracy: 0.9706 - val_loss: 0.0580 - val_binary_accuracy: 0.9816\n",
            "Epoch 166/300\n",
            "34/34 [==============================] - 8s 229ms/step - loss: 0.0695 - binary_accuracy: 0.9752 - val_loss: 0.0580 - val_binary_accuracy: 0.9816\n",
            "Epoch 167/300\n",
            "34/34 [==============================] - 8s 229ms/step - loss: 0.0715 - binary_accuracy: 0.9816 - val_loss: 0.0579 - val_binary_accuracy: 0.9816\n",
            "Epoch 168/300\n",
            "34/34 [==============================] - 8s 228ms/step - loss: 0.0671 - binary_accuracy: 0.9789 - val_loss: 0.0579 - val_binary_accuracy: 0.9816\n",
            "Epoch 169/300\n",
            "34/34 [==============================] - 8s 228ms/step - loss: 0.0735 - binary_accuracy: 0.9697 - val_loss: 0.0579 - val_binary_accuracy: 0.9816\n",
            "Epoch 170/300\n",
            "34/34 [==============================] - 8s 227ms/step - loss: 0.0860 - binary_accuracy: 0.9743 - val_loss: 0.0580 - val_binary_accuracy: 0.9816\n",
            "Epoch 171/300\n",
            "34/34 [==============================] - 8s 228ms/step - loss: 0.0822 - binary_accuracy: 0.9724 - val_loss: 0.0580 - val_binary_accuracy: 0.9816\n",
            "Epoch 172/300\n",
            "34/34 [==============================] - 8s 229ms/step - loss: 0.0707 - binary_accuracy: 0.9770 - val_loss: 0.0580 - val_binary_accuracy: 0.9816\n",
            "Epoch 173/300\n",
            "34/34 [==============================] - 8s 229ms/step - loss: 0.0752 - binary_accuracy: 0.9789 - val_loss: 0.0580 - val_binary_accuracy: 0.9816\n",
            "Epoch 174/300\n",
            "34/34 [==============================] - 8s 228ms/step - loss: 0.0762 - binary_accuracy: 0.9743 - val_loss: 0.0580 - val_binary_accuracy: 0.9816\n",
            "Epoch 175/300\n",
            "34/34 [==============================] - 8s 228ms/step - loss: 0.0699 - binary_accuracy: 0.9743 - val_loss: 0.0580 - val_binary_accuracy: 0.9816\n",
            "Epoch 176/300\n",
            "34/34 [==============================] - 8s 229ms/step - loss: 0.0744 - binary_accuracy: 0.9724 - val_loss: 0.0580 - val_binary_accuracy: 0.9816\n",
            "Epoch 177/300\n",
            "34/34 [==============================] - 8s 228ms/step - loss: 0.0776 - binary_accuracy: 0.9779 - val_loss: 0.0579 - val_binary_accuracy: 0.9816\n",
            "Epoch 178/300\n",
            "34/34 [==============================] - 8s 229ms/step - loss: 0.0705 - binary_accuracy: 0.9770 - val_loss: 0.0580 - val_binary_accuracy: 0.9816\n",
            "Epoch 179/300\n",
            "34/34 [==============================] - 8s 228ms/step - loss: 0.0749 - binary_accuracy: 0.9770 - val_loss: 0.0580 - val_binary_accuracy: 0.9816\n",
            "Epoch 180/300\n",
            "34/34 [==============================] - 8s 228ms/step - loss: 0.0728 - binary_accuracy: 0.9761 - val_loss: 0.0581 - val_binary_accuracy: 0.9816\n",
            "Epoch 181/300\n",
            "34/34 [==============================] - 8s 228ms/step - loss: 0.0748 - binary_accuracy: 0.9743 - val_loss: 0.0579 - val_binary_accuracy: 0.9816\n",
            "Epoch 182/300\n",
            "34/34 [==============================] - 8s 229ms/step - loss: 0.0814 - binary_accuracy: 0.9697 - val_loss: 0.0579 - val_binary_accuracy: 0.9816\n",
            "Epoch 183/300\n",
            "34/34 [==============================] - 8s 229ms/step - loss: 0.0875 - binary_accuracy: 0.9688 - val_loss: 0.0579 - val_binary_accuracy: 0.9816\n",
            "Epoch 184/300\n",
            "34/34 [==============================] - 8s 228ms/step - loss: 0.0713 - binary_accuracy: 0.9789 - val_loss: 0.0579 - val_binary_accuracy: 0.9816\n",
            "Epoch 185/300\n",
            "34/34 [==============================] - 8s 228ms/step - loss: 0.0773 - binary_accuracy: 0.9715 - val_loss: 0.0578 - val_binary_accuracy: 0.9816\n",
            "Epoch 186/300\n",
            "34/34 [==============================] - 8s 229ms/step - loss: 0.0731 - binary_accuracy: 0.9743 - val_loss: 0.0578 - val_binary_accuracy: 0.9816\n",
            "Epoch 187/300\n",
            "34/34 [==============================] - 8s 229ms/step - loss: 0.0775 - binary_accuracy: 0.9733 - val_loss: 0.0580 - val_binary_accuracy: 0.9816\n",
            "Epoch 188/300\n",
            "34/34 [==============================] - 8s 229ms/step - loss: 0.0807 - binary_accuracy: 0.9752 - val_loss: 0.0579 - val_binary_accuracy: 0.9816\n",
            "Epoch 189/300\n",
            "34/34 [==============================] - 8s 228ms/step - loss: 0.0720 - binary_accuracy: 0.9733 - val_loss: 0.0579 - val_binary_accuracy: 0.9816\n",
            "Epoch 190/300\n",
            "34/34 [==============================] - 8s 228ms/step - loss: 0.0792 - binary_accuracy: 0.9743 - val_loss: 0.0579 - val_binary_accuracy: 0.9816\n",
            "Epoch 191/300\n",
            "34/34 [==============================] - 8s 229ms/step - loss: 0.0770 - binary_accuracy: 0.9688 - val_loss: 0.0580 - val_binary_accuracy: 0.9816\n",
            "Epoch 192/300\n",
            "34/34 [==============================] - 8s 228ms/step - loss: 0.0826 - binary_accuracy: 0.9697 - val_loss: 0.0579 - val_binary_accuracy: 0.9816\n",
            "Epoch 193/300\n",
            "34/34 [==============================] - 8s 228ms/step - loss: 0.0857 - binary_accuracy: 0.9697 - val_loss: 0.0580 - val_binary_accuracy: 0.9816\n",
            "Epoch 194/300\n",
            "34/34 [==============================] - 8s 229ms/step - loss: 0.0749 - binary_accuracy: 0.9779 - val_loss: 0.0579 - val_binary_accuracy: 0.9816\n",
            "Epoch 195/300\n",
            "34/34 [==============================] - 8s 228ms/step - loss: 0.0717 - binary_accuracy: 0.9761 - val_loss: 0.0579 - val_binary_accuracy: 0.9816\n",
            "Epoch 196/300\n",
            "34/34 [==============================] - 8s 229ms/step - loss: 0.0717 - binary_accuracy: 0.9761 - val_loss: 0.0581 - val_binary_accuracy: 0.9816\n",
            "Epoch 197/300\n",
            "34/34 [==============================] - 8s 229ms/step - loss: 0.0790 - binary_accuracy: 0.9743 - val_loss: 0.0581 - val_binary_accuracy: 0.9816\n",
            "Epoch 198/300\n",
            "34/34 [==============================] - 8s 228ms/step - loss: 0.0805 - binary_accuracy: 0.9761 - val_loss: 0.0580 - val_binary_accuracy: 0.9816\n",
            "Epoch 199/300\n",
            "34/34 [==============================] - 8s 228ms/step - loss: 0.0739 - binary_accuracy: 0.9724 - val_loss: 0.0581 - val_binary_accuracy: 0.9816\n",
            "Epoch 200/300\n",
            "34/34 [==============================] - 8s 228ms/step - loss: 0.0754 - binary_accuracy: 0.9724 - val_loss: 0.0581 - val_binary_accuracy: 0.9816\n",
            "Epoch 201/300\n",
            "34/34 [==============================] - 8s 228ms/step - loss: 0.0784 - binary_accuracy: 0.9706 - val_loss: 0.0581 - val_binary_accuracy: 0.9816\n",
            "Epoch 202/300\n",
            "34/34 [==============================] - 8s 228ms/step - loss: 0.0879 - binary_accuracy: 0.9669 - val_loss: 0.0581 - val_binary_accuracy: 0.9816\n",
            "Epoch 203/300\n",
            "34/34 [==============================] - 8s 229ms/step - loss: 0.0738 - binary_accuracy: 0.9743 - val_loss: 0.0580 - val_binary_accuracy: 0.9816\n",
            "Epoch 204/300\n",
            "34/34 [==============================] - 8s 229ms/step - loss: 0.0678 - binary_accuracy: 0.9770 - val_loss: 0.0580 - val_binary_accuracy: 0.9816\n",
            "Epoch 205/300\n",
            "34/34 [==============================] - 8s 229ms/step - loss: 0.0728 - binary_accuracy: 0.9715 - val_loss: 0.0581 - val_binary_accuracy: 0.9816\n",
            "Epoch 206/300\n",
            "34/34 [==============================] - 8s 229ms/step - loss: 0.0768 - binary_accuracy: 0.9752 - val_loss: 0.0580 - val_binary_accuracy: 0.9816\n",
            "Epoch 207/300\n",
            "34/34 [==============================] - 8s 229ms/step - loss: 0.0899 - binary_accuracy: 0.9715 - val_loss: 0.0580 - val_binary_accuracy: 0.9816\n",
            "Epoch 208/300\n",
            "34/34 [==============================] - 8s 228ms/step - loss: 0.0877 - binary_accuracy: 0.9669 - val_loss: 0.0578 - val_binary_accuracy: 0.9816\n",
            "Epoch 209/300\n",
            "34/34 [==============================] - 8s 229ms/step - loss: 0.0734 - binary_accuracy: 0.9770 - val_loss: 0.0579 - val_binary_accuracy: 0.9816\n",
            "Epoch 210/300\n",
            "34/34 [==============================] - 8s 229ms/step - loss: 0.0737 - binary_accuracy: 0.9779 - val_loss: 0.0579 - val_binary_accuracy: 0.9816\n",
            "Epoch 211/300\n",
            "34/34 [==============================] - 8s 229ms/step - loss: 0.0756 - binary_accuracy: 0.9697 - val_loss: 0.0579 - val_binary_accuracy: 0.9816\n",
            "Epoch 212/300\n",
            "34/34 [==============================] - 8s 229ms/step - loss: 0.0863 - binary_accuracy: 0.9715 - val_loss: 0.0579 - val_binary_accuracy: 0.9816\n",
            "Epoch 213/300\n",
            "34/34 [==============================] - 8s 229ms/step - loss: 0.0794 - binary_accuracy: 0.9743 - val_loss: 0.0579 - val_binary_accuracy: 0.9816\n",
            "Epoch 214/300\n",
            "34/34 [==============================] - 8s 228ms/step - loss: 0.0740 - binary_accuracy: 0.9752 - val_loss: 0.0579 - val_binary_accuracy: 0.9816\n",
            "Epoch 215/300\n",
            "34/34 [==============================] - 8s 228ms/step - loss: 0.0708 - binary_accuracy: 0.9733 - val_loss: 0.0580 - val_binary_accuracy: 0.9816\n",
            "Epoch 216/300\n",
            "34/34 [==============================] - 8s 230ms/step - loss: 0.0740 - binary_accuracy: 0.9779 - val_loss: 0.0580 - val_binary_accuracy: 0.9816\n",
            "Epoch 217/300\n",
            "34/34 [==============================] - 8s 228ms/step - loss: 0.0808 - binary_accuracy: 0.9706 - val_loss: 0.0580 - val_binary_accuracy: 0.9816\n",
            "Epoch 218/300\n",
            "34/34 [==============================] - 8s 229ms/step - loss: 0.0744 - binary_accuracy: 0.9743 - val_loss: 0.0580 - val_binary_accuracy: 0.9816\n",
            "Epoch 219/300\n",
            "34/34 [==============================] - 8s 229ms/step - loss: 0.0758 - binary_accuracy: 0.9706 - val_loss: 0.0580 - val_binary_accuracy: 0.9816\n",
            "Epoch 220/300\n",
            "34/34 [==============================] - 8s 228ms/step - loss: 0.0794 - binary_accuracy: 0.9752 - val_loss: 0.0580 - val_binary_accuracy: 0.9816\n",
            "Epoch 221/300\n",
            "34/34 [==============================] - 8s 229ms/step - loss: 0.0798 - binary_accuracy: 0.9779 - val_loss: 0.0580 - val_binary_accuracy: 0.9816\n",
            "Epoch 222/300\n",
            "34/34 [==============================] - 8s 229ms/step - loss: 0.0734 - binary_accuracy: 0.9752 - val_loss: 0.0579 - val_binary_accuracy: 0.9816\n",
            "Epoch 223/300\n",
            "34/34 [==============================] - 8s 229ms/step - loss: 0.0736 - binary_accuracy: 0.9789 - val_loss: 0.0579 - val_binary_accuracy: 0.9816\n",
            "Epoch 224/300\n",
            "34/34 [==============================] - 8s 229ms/step - loss: 0.0805 - binary_accuracy: 0.9688 - val_loss: 0.0579 - val_binary_accuracy: 0.9816\n",
            "Epoch 225/300\n",
            "34/34 [==============================] - 8s 228ms/step - loss: 0.0734 - binary_accuracy: 0.9733 - val_loss: 0.0579 - val_binary_accuracy: 0.9816\n",
            "Epoch 226/300\n",
            "34/34 [==============================] - 8s 228ms/step - loss: 0.0717 - binary_accuracy: 0.9798 - val_loss: 0.0579 - val_binary_accuracy: 0.9816\n",
            "Epoch 227/300\n",
            "34/34 [==============================] - 8s 230ms/step - loss: 0.0782 - binary_accuracy: 0.9761 - val_loss: 0.0578 - val_binary_accuracy: 0.9816\n",
            "Epoch 228/300\n",
            "34/34 [==============================] - 8s 229ms/step - loss: 0.0809 - binary_accuracy: 0.9743 - val_loss: 0.0579 - val_binary_accuracy: 0.9816\n",
            "Epoch 229/300\n",
            "34/34 [==============================] - 8s 229ms/step - loss: 0.0760 - binary_accuracy: 0.9789 - val_loss: 0.0579 - val_binary_accuracy: 0.9816\n",
            "Epoch 230/300\n",
            "34/34 [==============================] - 8s 228ms/step - loss: 0.0747 - binary_accuracy: 0.9688 - val_loss: 0.0580 - val_binary_accuracy: 0.9816\n",
            "Epoch 231/300\n",
            "34/34 [==============================] - 8s 228ms/step - loss: 0.0745 - binary_accuracy: 0.9733 - val_loss: 0.0580 - val_binary_accuracy: 0.9816\n",
            "Epoch 232/300\n",
            "34/34 [==============================] - 8s 229ms/step - loss: 0.0743 - binary_accuracy: 0.9761 - val_loss: 0.0580 - val_binary_accuracy: 0.9816\n",
            "Epoch 233/300\n",
            "34/34 [==============================] - 8s 229ms/step - loss: 0.0780 - binary_accuracy: 0.9770 - val_loss: 0.0581 - val_binary_accuracy: 0.9816\n",
            "Epoch 234/300\n",
            "34/34 [==============================] - 8s 229ms/step - loss: 0.0780 - binary_accuracy: 0.9789 - val_loss: 0.0581 - val_binary_accuracy: 0.9816\n",
            "Epoch 235/300\n",
            "34/34 [==============================] - 8s 229ms/step - loss: 0.0737 - binary_accuracy: 0.9770 - val_loss: 0.0580 - val_binary_accuracy: 0.9816\n",
            "Epoch 236/300\n",
            "34/34 [==============================] - 8s 229ms/step - loss: 0.0749 - binary_accuracy: 0.9770 - val_loss: 0.0580 - val_binary_accuracy: 0.9816\n",
            "Epoch 237/300\n",
            "34/34 [==============================] - 8s 230ms/step - loss: 0.0775 - binary_accuracy: 0.9789 - val_loss: 0.0580 - val_binary_accuracy: 0.9816\n",
            "Epoch 238/300\n",
            "34/34 [==============================] - 8s 229ms/step - loss: 0.0733 - binary_accuracy: 0.9779 - val_loss: 0.0580 - val_binary_accuracy: 0.9816\n",
            "Epoch 239/300\n",
            "34/34 [==============================] - 8s 229ms/step - loss: 0.0694 - binary_accuracy: 0.9770 - val_loss: 0.0580 - val_binary_accuracy: 0.9816\n",
            "Epoch 240/300\n",
            "34/34 [==============================] - 8s 229ms/step - loss: 0.0729 - binary_accuracy: 0.9715 - val_loss: 0.0580 - val_binary_accuracy: 0.9816\n",
            "Epoch 241/300\n",
            "34/34 [==============================] - 8s 230ms/step - loss: 0.0810 - binary_accuracy: 0.9697 - val_loss: 0.0580 - val_binary_accuracy: 0.9816\n",
            "Epoch 242/300\n",
            "34/34 [==============================] - 8s 231ms/step - loss: 0.0722 - binary_accuracy: 0.9743 - val_loss: 0.0579 - val_binary_accuracy: 0.9816\n",
            "Epoch 243/300\n",
            "34/34 [==============================] - 8s 229ms/step - loss: 0.0680 - binary_accuracy: 0.9743 - val_loss: 0.0579 - val_binary_accuracy: 0.9816\n",
            "Epoch 244/300\n",
            "34/34 [==============================] - 8s 228ms/step - loss: 0.0681 - binary_accuracy: 0.9770 - val_loss: 0.0579 - val_binary_accuracy: 0.9816\n",
            "Epoch 245/300\n",
            "34/34 [==============================] - 8s 229ms/step - loss: 0.0744 - binary_accuracy: 0.9761 - val_loss: 0.0579 - val_binary_accuracy: 0.9816\n",
            "Epoch 246/300\n",
            "34/34 [==============================] - 8s 230ms/step - loss: 0.0706 - binary_accuracy: 0.9789 - val_loss: 0.0580 - val_binary_accuracy: 0.9816\n",
            "Epoch 247/300\n",
            "34/34 [==============================] - 8s 229ms/step - loss: 0.0823 - binary_accuracy: 0.9651 - val_loss: 0.0579 - val_binary_accuracy: 0.9816\n",
            "Epoch 248/300\n",
            "34/34 [==============================] - 8s 229ms/step - loss: 0.0869 - binary_accuracy: 0.9715 - val_loss: 0.0579 - val_binary_accuracy: 0.9816\n",
            "Epoch 249/300\n",
            "34/34 [==============================] - 8s 230ms/step - loss: 0.0782 - binary_accuracy: 0.9697 - val_loss: 0.0580 - val_binary_accuracy: 0.9816\n",
            "Epoch 250/300\n",
            "34/34 [==============================] - 8s 229ms/step - loss: 0.0673 - binary_accuracy: 0.9825 - val_loss: 0.0581 - val_binary_accuracy: 0.9816\n",
            "Epoch 251/300\n",
            "34/34 [==============================] - 8s 229ms/step - loss: 0.0666 - binary_accuracy: 0.9789 - val_loss: 0.0580 - val_binary_accuracy: 0.9816\n",
            "Epoch 252/300\n",
            "34/34 [==============================] - 8s 230ms/step - loss: 0.0876 - binary_accuracy: 0.9688 - val_loss: 0.0579 - val_binary_accuracy: 0.9816\n",
            "Epoch 253/300\n",
            "34/34 [==============================] - 8s 229ms/step - loss: 0.0749 - binary_accuracy: 0.9733 - val_loss: 0.0579 - val_binary_accuracy: 0.9816\n",
            "Epoch 254/300\n",
            "34/34 [==============================] - 8s 230ms/step - loss: 0.0806 - binary_accuracy: 0.9733 - val_loss: 0.0579 - val_binary_accuracy: 0.9816\n",
            "Epoch 255/300\n",
            "34/34 [==============================] - 8s 229ms/step - loss: 0.0710 - binary_accuracy: 0.9779 - val_loss: 0.0580 - val_binary_accuracy: 0.9816\n",
            "Epoch 256/300\n",
            "34/34 [==============================] - 8s 231ms/step - loss: 0.0748 - binary_accuracy: 0.9752 - val_loss: 0.0580 - val_binary_accuracy: 0.9816\n",
            "Epoch 257/300\n",
            "34/34 [==============================] - 8s 230ms/step - loss: 0.0828 - binary_accuracy: 0.9724 - val_loss: 0.0581 - val_binary_accuracy: 0.9816\n",
            "Epoch 258/300\n",
            "34/34 [==============================] - 8s 229ms/step - loss: 0.0681 - binary_accuracy: 0.9798 - val_loss: 0.0581 - val_binary_accuracy: 0.9816\n",
            "Epoch 259/300\n",
            "34/34 [==============================] - 8s 228ms/step - loss: 0.0740 - binary_accuracy: 0.9761 - val_loss: 0.0581 - val_binary_accuracy: 0.9816\n",
            "Epoch 260/300\n",
            "34/34 [==============================] - 8s 229ms/step - loss: 0.0774 - binary_accuracy: 0.9761 - val_loss: 0.0581 - val_binary_accuracy: 0.9816\n",
            "Epoch 261/300\n",
            "34/34 [==============================] - 8s 230ms/step - loss: 0.0869 - binary_accuracy: 0.9678 - val_loss: 0.0580 - val_binary_accuracy: 0.9816\n",
            "Epoch 262/300\n",
            "34/34 [==============================] - 8s 229ms/step - loss: 0.0742 - binary_accuracy: 0.9715 - val_loss: 0.0580 - val_binary_accuracy: 0.9816\n",
            "Epoch 263/300\n",
            "34/34 [==============================] - 8s 229ms/step - loss: 0.0723 - binary_accuracy: 0.9789 - val_loss: 0.0580 - val_binary_accuracy: 0.9816\n",
            "Epoch 264/300\n",
            "34/34 [==============================] - 8s 229ms/step - loss: 0.0717 - binary_accuracy: 0.9715 - val_loss: 0.0580 - val_binary_accuracy: 0.9816\n",
            "Epoch 265/300\n",
            "34/34 [==============================] - 8s 229ms/step - loss: 0.0796 - binary_accuracy: 0.9715 - val_loss: 0.0580 - val_binary_accuracy: 0.9816\n",
            "Epoch 266/300\n",
            "34/34 [==============================] - 8s 230ms/step - loss: 0.0681 - binary_accuracy: 0.9779 - val_loss: 0.0580 - val_binary_accuracy: 0.9816\n",
            "Epoch 267/300\n",
            "34/34 [==============================] - 8s 230ms/step - loss: 0.0706 - binary_accuracy: 0.9752 - val_loss: 0.0580 - val_binary_accuracy: 0.9816\n",
            "Epoch 268/300\n",
            "34/34 [==============================] - 8s 229ms/step - loss: 0.0780 - binary_accuracy: 0.9761 - val_loss: 0.0580 - val_binary_accuracy: 0.9816\n",
            "Epoch 269/300\n",
            "34/34 [==============================] - 8s 229ms/step - loss: 0.0718 - binary_accuracy: 0.9752 - val_loss: 0.0581 - val_binary_accuracy: 0.9816\n",
            "Epoch 270/300\n",
            "34/34 [==============================] - 8s 229ms/step - loss: 0.0800 - binary_accuracy: 0.9743 - val_loss: 0.0580 - val_binary_accuracy: 0.9816\n",
            "Epoch 271/300\n",
            "34/34 [==============================] - 8s 229ms/step - loss: 0.0763 - binary_accuracy: 0.9743 - val_loss: 0.0580 - val_binary_accuracy: 0.9816\n",
            "Epoch 272/300\n",
            "34/34 [==============================] - 8s 229ms/step - loss: 0.0726 - binary_accuracy: 0.9761 - val_loss: 0.0580 - val_binary_accuracy: 0.9816\n",
            "Epoch 273/300\n",
            "34/34 [==============================] - 8s 229ms/step - loss: 0.0769 - binary_accuracy: 0.9733 - val_loss: 0.0580 - val_binary_accuracy: 0.9816\n",
            "Epoch 274/300\n",
            "34/34 [==============================] - 8s 229ms/step - loss: 0.0771 - binary_accuracy: 0.9724 - val_loss: 0.0580 - val_binary_accuracy: 0.9816\n",
            "Epoch 275/300\n",
            "34/34 [==============================] - 8s 229ms/step - loss: 0.0763 - binary_accuracy: 0.9743 - val_loss: 0.0580 - val_binary_accuracy: 0.9816\n",
            "Epoch 276/300\n",
            "34/34 [==============================] - 8s 229ms/step - loss: 0.0745 - binary_accuracy: 0.9770 - val_loss: 0.0580 - val_binary_accuracy: 0.9816\n",
            "Epoch 277/300\n",
            "34/34 [==============================] - 8s 230ms/step - loss: 0.0747 - binary_accuracy: 0.9743 - val_loss: 0.0580 - val_binary_accuracy: 0.9816\n",
            "Epoch 278/300\n",
            "34/34 [==============================] - 8s 230ms/step - loss: 0.0845 - binary_accuracy: 0.9715 - val_loss: 0.0579 - val_binary_accuracy: 0.9816\n",
            "Epoch 279/300\n",
            "34/34 [==============================] - 8s 230ms/step - loss: 0.0795 - binary_accuracy: 0.9706 - val_loss: 0.0579 - val_binary_accuracy: 0.9816\n",
            "Epoch 280/300\n",
            "34/34 [==============================] - 8s 228ms/step - loss: 0.0811 - binary_accuracy: 0.9724 - val_loss: 0.0580 - val_binary_accuracy: 0.9816\n",
            "Epoch 281/300\n",
            "34/34 [==============================] - 8s 230ms/step - loss: 0.0709 - binary_accuracy: 0.9770 - val_loss: 0.0580 - val_binary_accuracy: 0.9816\n",
            "Epoch 282/300\n",
            "34/34 [==============================] - 8s 229ms/step - loss: 0.0723 - binary_accuracy: 0.9761 - val_loss: 0.0581 - val_binary_accuracy: 0.9816\n",
            "Epoch 283/300\n",
            "34/34 [==============================] - 8s 229ms/step - loss: 0.0793 - binary_accuracy: 0.9715 - val_loss: 0.0580 - val_binary_accuracy: 0.9816\n",
            "Epoch 284/300\n",
            "34/34 [==============================] - 8s 229ms/step - loss: 0.0713 - binary_accuracy: 0.9789 - val_loss: 0.0580 - val_binary_accuracy: 0.9816\n",
            "Epoch 285/300\n",
            "34/34 [==============================] - 8s 230ms/step - loss: 0.0742 - binary_accuracy: 0.9743 - val_loss: 0.0580 - val_binary_accuracy: 0.9816\n",
            "Epoch 286/300\n",
            "34/34 [==============================] - 8s 230ms/step - loss: 0.0761 - binary_accuracy: 0.9724 - val_loss: 0.0579 - val_binary_accuracy: 0.9816\n",
            "Epoch 287/300\n",
            "34/34 [==============================] - 8s 230ms/step - loss: 0.0646 - binary_accuracy: 0.9779 - val_loss: 0.0580 - val_binary_accuracy: 0.9816\n",
            "Epoch 288/300\n",
            "34/34 [==============================] - 8s 230ms/step - loss: 0.0758 - binary_accuracy: 0.9761 - val_loss: 0.0580 - val_binary_accuracy: 0.9816\n",
            "Epoch 289/300\n",
            "34/34 [==============================] - 8s 230ms/step - loss: 0.0805 - binary_accuracy: 0.9743 - val_loss: 0.0580 - val_binary_accuracy: 0.9816\n",
            "Epoch 290/300\n",
            "34/34 [==============================] - 8s 229ms/step - loss: 0.0687 - binary_accuracy: 0.9798 - val_loss: 0.0580 - val_binary_accuracy: 0.9816\n",
            "Epoch 291/300\n",
            "34/34 [==============================] - 8s 229ms/step - loss: 0.0780 - binary_accuracy: 0.9733 - val_loss: 0.0580 - val_binary_accuracy: 0.9816\n",
            "Epoch 292/300\n",
            "34/34 [==============================] - 8s 232ms/step - loss: 0.0823 - binary_accuracy: 0.9733 - val_loss: 0.0579 - val_binary_accuracy: 0.9816\n",
            "Epoch 293/300\n",
            "34/34 [==============================] - 8s 229ms/step - loss: 0.0848 - binary_accuracy: 0.9733 - val_loss: 0.0578 - val_binary_accuracy: 0.9816\n",
            "Epoch 294/300\n",
            "34/34 [==============================] - 8s 229ms/step - loss: 0.0784 - binary_accuracy: 0.9697 - val_loss: 0.0578 - val_binary_accuracy: 0.9816\n",
            "Epoch 295/300\n",
            "34/34 [==============================] - 8s 229ms/step - loss: 0.0929 - binary_accuracy: 0.9660 - val_loss: 0.0579 - val_binary_accuracy: 0.9816\n",
            "Epoch 296/300\n",
            "34/34 [==============================] - 8s 230ms/step - loss: 0.0795 - binary_accuracy: 0.9715 - val_loss: 0.0578 - val_binary_accuracy: 0.9816\n",
            "Epoch 297/300\n",
            "34/34 [==============================] - 8s 230ms/step - loss: 0.0778 - binary_accuracy: 0.9770 - val_loss: 0.0578 - val_binary_accuracy: 0.9816\n",
            "Epoch 298/300\n",
            "34/34 [==============================] - 8s 230ms/step - loss: 0.0778 - binary_accuracy: 0.9706 - val_loss: 0.0579 - val_binary_accuracy: 0.9816\n",
            "Epoch 299/300\n",
            "34/34 [==============================] - 8s 230ms/step - loss: 0.0709 - binary_accuracy: 0.9789 - val_loss: 0.0579 - val_binary_accuracy: 0.9816\n",
            "Epoch 300/300\n",
            "34/34 [==============================] - 8s 229ms/step - loss: 0.0744 - binary_accuracy: 0.9770 - val_loss: 0.0580 - val_binary_accuracy: 0.9816\n"
          ],
          "name": "stdout"
        }
      ]
    },
    {
      "cell_type": "code",
      "metadata": {
        "id": "Z4OlB5dOINSG",
        "colab": {
          "base_uri": "https://localhost:8080/",
          "height": 573
        },
        "outputId": "ab4407b2-ae97-4b2f-b1ad-fd50caac1f18"
      },
      "source": [
        "# list all data in history\n",
        "# print(model_history.history.keys())\n",
        "\n",
        "model_history = ECG_30k_segmented_model_his\n",
        "\n",
        "# summarize history for accuracy\n",
        "plt.plot(model_history.history['binary_accuracy'])\n",
        "plt.plot(model_history.history['val_binary_accuracy'])\n",
        "plt.title('Model Accuracy')\n",
        "plt.ylabel('Accuracy')\n",
        "plt.xlabel('Epoch')\n",
        "# plt.ylim([0.60, 1.00])\n",
        "plt.legend(['Training', 'Validation'], loc='lower right')\n",
        "plt.show()\n",
        "\n",
        "# summarize history for loss\n",
        "plt.plot(model_history.history['loss'])\n",
        "plt.plot(model_history.history['val_loss'])\n",
        "plt.title('Model Loss')\n",
        "plt.ylabel('Loss')\n",
        "plt.xlabel('Epoch')\n",
        "plt.legend(['Training', 'Validation'], loc='best')\n",
        "plt.show()"
      ],
      "execution_count": null,
      "outputs": [
        {
          "output_type": "display_data",
          "data": {
            "image/png": "[encoded data removed]",
            "text/plain": [
              "<Figure size 432x288 with 1 Axes>"
            ]
          },
          "metadata": {
            "needs_background": "light"
          }
        },
        {
          "output_type": "display_data",
          "data": {
            "image/png": "[encoded data removed]",
            "text/plain": [
              "<Figure size 432x288 with 1 Axes>"
            ]
          },
          "metadata": {
            "needs_background": "light"
          }
        }
      ]
    },
    {
      "cell_type": "markdown",
      "metadata": {
        "id": "IgKrRrrWC4Zl"
      },
      "source": [
        "Model Evaluation"
      ]
    },
    {
      "cell_type": "code",
      "metadata": {
        "id": "b5H76D6w7A0a",
        "colab": {
          "base_uri": "https://localhost:8080/"
        },
        "outputId": "d4dd7416-0bad-4d5c-defc-d233ba7e395b"
      },
      "source": [
        "# Load the Final model\n",
        "model = keras.models.load_model('Training_models/ECG/Model_1/ECG.final_run.hdf5')\n",
        "# model = ECG_30k_segmented_model\n",
        "\n",
        "test_scores = model.evaluate(input_test, output_test, verbose = 0)\n",
        "print(\"Test loss:\", test_scores[0])               # 0.1305         \n",
        "print(\"Test accuracy:\", test_scores[1])           # 0.9650"
      ],
      "execution_count": null,
      "outputs": [
        {
          "output_type": "stream",
          "text": [
            "Test loss: 0.045619722455739975\n",
            "Test accuracy: 0.978723406791687\n"
          ],
          "name": "stdout"
        }
      ]
    },
    {
      "cell_type": "code",
      "metadata": {
        "id": "bXyU8nrxgQ4v"
      },
      "source": [
        "yhat = (model.predict(input_test) > 0.5).astype(\"int32\")\n",
        "\n",
        "conf_matrix = confusion_matrix(output_test,yhat)"
      ],
      "execution_count": null,
      "outputs": []
    },
    {
      "cell_type": "code",
      "metadata": {
        "id": "JtoOtmMGkv-u",
        "colab": {
          "base_uri": "https://localhost:8080/",
          "height": 301
        },
        "outputId": "3850a783-c826-4235-fc0c-73ac522fe5e1"
      },
      "source": [
        "# Print the confusion matrix using Matplotlib\n",
        "\n",
        "fig, ax = plt.subplots()\n",
        "ax.matshow(conf_matrix, cmap=plt.cm.Blues, alpha=0.3)\n",
        "for i in range(conf_matrix.shape[0]):\n",
        "    for j in range(conf_matrix.shape[1]):\n",
        "        ax.text(x=j, y=i,s=conf_matrix[i, j], va='center', ha='center', size='xx-large')\n",
        " \n",
        "plt.xlabel('Predictions', fontsize=18)\n",
        "plt.ylabel('Actuals', fontsize=18)\n",
        "plt.title('Confusion Matrix', fontsize=18)\n",
        "plt.show()"
      ],
      "execution_count": null,
      "outputs": [
        {
          "output_type": "display_data",
          "data": {
            "image/png": "[encoded data removed]",
            "text/plain": [
              "<Figure size 432x288 with 1 Axes>"
            ]
          },
          "metadata": {
            "needs_background": "light"
          }
        }
      ]
    },
    {
      "cell_type": "code",
      "metadata": {
        "colab": {
          "base_uri": "https://localhost:8080/",
          "height": 295
        },
        "id": "-XcIQ6h4n64_",
        "outputId": "a5e43b07-f15e-4967-da6f-004469b6b9e4"
      },
      "source": [
        "import seaborn as sns\n",
        "import matplotlib.pyplot as plt     \n",
        "\n",
        "ax= plt.subplot()\n",
        "sns.heatmap(conf_matrix, annot=True, fmt='g', ax=ax);  #annot=True to annotate cells, ftm='g' to disable scientific notation\n",
        "\n",
        "# labels, title and ticks\n",
        "ax.set_xlabel('Predicted labels');ax.set_ylabel('True labels'); \n",
        "ax.set_title('Confusion Matrix'); \n",
        "ax.xaxis.set_ticklabels(['Normal', 'AFib']); ax.yaxis.set_ticklabels(['Normal', 'AFib']);\n"
      ],
      "execution_count": null,
      "outputs": [
        {
          "output_type": "display_data",
          "data": {
            "image/png": "[encoded data removed]",
            "text/plain": [
              "<Figure size 432x288 with 2 Axes>"
            ]
          },
          "metadata": {
            "needs_background": "light"
          }
        }
      ]
    },
    {
      "cell_type": "code",
      "metadata": {
        "id": "nCRBBxLjlm4e",
        "colab": {
          "base_uri": "https://localhost:8080/"
        },
        "outputId": "c69194ce-e9b8-4919-d2d7-480b914b626c"
      },
      "source": [
        "accuracy = accuracy_score(output_test, yhat)\n",
        "print('Accuracy:\\t\\t', round(accuracy,4))\n",
        "\n",
        "# precision tp / (tp + fp)\n",
        "precision = precision_score(output_test, yhat)\n",
        "print('Precision:\\t\\t', round(precision,4))\n",
        "\n",
        "# recall: tp / (tp + fn)\n",
        "recall = recall_score(output_test, yhat)\n",
        "print('Recall: \\t\\t', round(recall,4))\n",
        "\n",
        "# f1: 2 tp / (2 tp + fp + fn)\n",
        "f1 = f1_score(output_test, yhat)\n",
        "print('F1 score:\\t\\t', round(f1,4))"
      ],
      "execution_count": null,
      "outputs": [
        {
          "output_type": "stream",
          "text": [
            "Accuracy:\t\t 0.9787\n",
            "Precision:\t\t 1.0\n",
            "Recall: \t\t 0.961\n",
            "F1 score:\t\t 0.9801\n"
          ],
          "name": "stdout"
        }
      ]
    },
    {
      "cell_type": "markdown",
      "metadata": {
        "id": "2OrYEGbmQqFm"
      },
      "source": [
        "## 1.3 Model using All Butterworth "
      ]
    },
    {
      "cell_type": "code",
      "metadata": {
        "id": "ClLlxVYYQqFn"
      },
      "source": [
        "input_train, output_train, input_test, output_test, input_val, output_val = \\\n",
        "prepare_data(galenband_ECG_30k_segmented_butter, 30000, test_prop = 0.25, val_prop = 0.28)"
      ],
      "execution_count": null,
      "outputs": []
    },
    {
      "cell_type": "code",
      "metadata": {
        "id": "7TvgB0QJQqFn",
        "colab": {
          "base_uri": "https://localhost:8080/"
        },
        "outputId": "8d1b7858-6a27-421a-8066-21b301f6b5e3"
      },
      "source": [
        "print(\"input train shape:\\t \", input_train.shape)\n",
        "print(\"output train shape:\\t \", output_train.shape)\n",
        "\n",
        "print(\"\\ninput test shape:\\t \", input_test.shape)\n",
        "print(\"output test shape:\\t \", output_test.shape)\n",
        "\n",
        "print(\"\\ninput val shape:\\t \", input_val.shape)\n",
        "print(\"output val shape:\\t \", output_val.shape)"
      ],
      "execution_count": null,
      "outputs": [
        {
          "output_type": "stream",
          "text": [
            "input train shape:\t  (1492, 30000, 1)\n",
            "output train shape:\t  (1492, 1)\n",
            "\n",
            "input test shape:\t  (140, 30000, 1)\n",
            "output test shape:\t  (140, 1)\n",
            "\n",
            "input val shape:\t  (358, 30000, 1)\n",
            "output val shape:\t  (358, 1)\n"
          ],
          "name": "stdout"
        }
      ]
    },
    {
      "cell_type": "code",
      "metadata": {
        "id": "ZGH9yppbQqFo",
        "colab": {
          "base_uri": "https://localhost:8080/"
        },
        "outputId": "c03ab457-95b8-4410-d76a-0faa8b9b5cad"
      },
      "source": [
        "class_weights = class_weight.compute_class_weight('balanced',np.unique(output_train.flatten()), output_train.flatten())\n",
        "\n",
        "class_weight_dict = dict(enumerate(class_weights))\n",
        "\n",
        "class_weight_dict"
      ],
      "execution_count": null,
      "outputs": [
        {
          "output_type": "execute_result",
          "data": {
            "text/plain": [
              "{0: 0.9010349288486417, 1: 1.1233870967741935}"
            ]
          },
          "metadata": {},
          "execution_count": 7
        }
      ]
    },
    {
      "cell_type": "code",
      "metadata": {
        "id": "kGfxiE47QqFo"
      },
      "source": [
        "# Defining parameter values\n",
        "epochs          = 300\n",
        "batch_size      = 32"
      ],
      "execution_count": null,
      "outputs": []
    },
    {
      "cell_type": "code",
      "metadata": {
        "id": "4JEGJhN_QqFp"
      },
      "source": [
        "# # Load the saved model\n",
        "# base_model  = keras.models.load_model('Training_models/CNN-LSTM Normal data/Model 4_1/ECG.epoch_25.TL_0.2977.VL_0.2020.TA_0.93.VA_0.94.hdf5')\n",
        "# weights     = base_model.get_weights()"
      ],
      "execution_count": null,
      "outputs": []
    },
    {
      "cell_type": "code",
      "metadata": {
        "id": "5ffyiA0kQqFp",
        "colab": {
          "base_uri": "https://localhost:8080/"
        },
        "outputId": "bd444e13-a9aa-4d71-86ec-1c1fe2fd4c38"
      },
      "source": [
        "ECG_30k_butter = Sequential()\n",
        "\n",
        "# 64, 64, 32, 16, 8, 32\n",
        "\n",
        "input_shape = (30000, 1)\n",
        "ECG_30k_butter.add(InputLayer(input_shape=input_shape))\n",
        "\n",
        "ECG_30k_butter.add(Conv1D(64, 10,padding='causal', activation=\"tanh\"))\n",
        "ECG_30k_butter.add(MaxPooling1D(4))\n",
        "\n",
        "ECG_30k_butter.add(Conv1D(64, 10,padding='same', activation=\"tanh\"))\n",
        "ECG_30k_butter.add(MaxPooling1D(4))\n",
        "\n",
        "ECG_30k_butter.add(LSTM(32,activation = \"tanh\", return_sequences = True))\n",
        "ECG_30k_butter.add(LSTM(16, activation = \"tanh\", return_sequences = True))\n",
        "ECG_30k_butter.add(LSTM(8, activation = \"tanh\"))\n",
        "\n",
        "ECG_30k_butter.add(Dense(32, activation='tanh'))\n",
        "ECG_30k_butter.add(BatchNormalization())\n",
        "ECG_30k_butter.add(Dense(1, activation = 'sigmoid'))\n",
        "\n",
        "ECG_30k_butter.summary()\n",
        "\n",
        "# set weights\n",
        "# ECG_30k_butter.set_weights(weights)"
      ],
      "execution_count": null,
      "outputs": [
        {
          "output_type": "stream",
          "text": [
            "Model: \"sequential\"\n",
            "_________________________________________________________________\n",
            "Layer (type)                 Output Shape              Param #   \n",
            "=================================================================\n",
            "conv1d (Conv1D)              (None, 30000, 64)         704       \n",
            "_________________________________________________________________\n",
            "max_pooling1d (MaxPooling1D) (None, 7500, 64)          0         \n",
            "_________________________________________________________________\n",
            "conv1d_1 (Conv1D)            (None, 7500, 64)          41024     \n",
            "_________________________________________________________________\n",
            "max_pooling1d_1 (MaxPooling1 (None, 1875, 64)          0         \n",
            "_________________________________________________________________\n",
            "lstm (LSTM)                  (None, 1875, 32)          12416     \n",
            "_________________________________________________________________\n",
            "lstm_1 (LSTM)                (None, 1875, 16)          3136      \n",
            "_________________________________________________________________\n",
            "lstm_2 (LSTM)                (None, 8)                 800       \n",
            "_________________________________________________________________\n",
            "dense (Dense)                (None, 32)                288       \n",
            "_________________________________________________________________\n",
            "batch_normalization (BatchNo (None, 32)                128       \n",
            "_________________________________________________________________\n",
            "dense_1 (Dense)              (None, 1)                 33        \n",
            "=================================================================\n",
            "Total params: 58,529\n",
            "Trainable params: 58,465\n",
            "Non-trainable params: 64\n",
            "_________________________________________________________________\n"
          ],
          "name": "stdout"
        }
      ]
    },
    {
      "cell_type": "code",
      "metadata": {
        "id": "Lmut877XQqFq"
      },
      "source": [
        "# model training configuration \n",
        "ECG_30k_butter.compile(optimizer = tf.keras.optimizers.Adam(),\n",
        "                                loss      = keras.losses.BinaryCrossentropy(),\n",
        "                                metrics   = [keras.metrics.BinaryAccuracy()])\n",
        "\n",
        "#SGD(learning_rate=0.01, decay=1e-6, momentum=0.9, nesterov=True)\n",
        "\n",
        "# Callback to reduce the learning rate when the validation loss has stopped improving\n",
        "reduce_lr = keras.callbacks.ReduceLROnPlateau(monitor = 'val_loss', factor = 0.1, patience = 25, mode = 'min')\n",
        "\n",
        "# Callback to stop training the model when the validation loss has stopped improving\n",
        "# early_stop = keras.callbacks.EarlyStopping(monitor = 'val_loss', patience = 35, mode = 'min')\n",
        "\n",
        "# CHECKPOINT callback\n",
        "filepath = \"Training_models/ECG/Model_2/ECG.epoch_{epoch:02d}.TL_{loss:.4f}.VL_{val_loss:.4f}.TA_{binary_accuracy:.2f}.VA_{val_binary_accuracy:.2f}.hdf5\"\n",
        "\n",
        "# Save training model when there is an improvement in validation_accuracy from the previous checkpint\n",
        "model_save = keras.callbacks.ModelCheckpoint(filepath, \n",
        "                                             monitor = 'val_binary_accuracy',\n",
        "                                             save_best_only=True, \n",
        "                                             mode = 'max')\n",
        "\n",
        "\n"
      ],
      "execution_count": null,
      "outputs": []
    },
    {
      "cell_type": "code",
      "metadata": {
        "id": "kXUtquWOQqFq",
        "colab": {
          "base_uri": "https://localhost:8080/"
        },
        "outputId": "f9ebf1fa-a33d-46a0-a75b-2e9327cc209e"
      },
      "source": [
        "# Fitting the model\n",
        "ECG_30k_butter_his = ECG_30k_butter.fit(input_train, output_train,\n",
        "                                                          batch_size = batch_size , epochs = epochs, \n",
        "                                                          validation_data = (input_val, output_val),\n",
        "                                                          # class_weight=class_weight_dict_1,\n",
        "                                                          callbacks=[reduce_lr,model_save])\n",
        "\n",
        "\n",
        "ECG_30k_butter.save('Training_models/ECG/Model_2/ECG.final_run.hdf5')"
      ],
      "execution_count": null,
      "outputs": [
        {
          "output_type": "stream",
          "text": [
            "Epoch 1/300\n",
            "44/44 [==============================] - 30s 226ms/step - loss: 0.6897 - binary_accuracy: 0.5671 - val_loss: 0.6758 - val_binary_accuracy: 0.5924\n",
            "Epoch 2/300\n",
            "44/44 [==============================] - 9s 201ms/step - loss: 0.6546 - binary_accuracy: 0.6289 - val_loss: 0.6671 - val_binary_accuracy: 0.5966\n",
            "Epoch 3/300\n",
            "44/44 [==============================] - 9s 201ms/step - loss: 0.5812 - binary_accuracy: 0.6956 - val_loss: 0.7631 - val_binary_accuracy: 0.4076\n",
            "Epoch 4/300\n",
            "44/44 [==============================] - 9s 201ms/step - loss: 0.4421 - binary_accuracy: 0.8026 - val_loss: 0.4477 - val_binary_accuracy: 0.8655\n",
            "Epoch 5/300\n",
            "44/44 [==============================] - 9s 202ms/step - loss: 0.2920 - binary_accuracy: 0.8780 - val_loss: 0.2995 - val_binary_accuracy: 0.9160\n",
            "Epoch 6/300\n",
            "44/44 [==============================] - 9s 201ms/step - loss: 0.1958 - binary_accuracy: 0.9275 - val_loss: 0.7449 - val_binary_accuracy: 0.5840\n",
            "Epoch 7/300\n",
            "44/44 [==============================] - 9s 202ms/step - loss: 0.2652 - binary_accuracy: 0.9038 - val_loss: 0.3241 - val_binary_accuracy: 0.8613\n",
            "Epoch 8/300\n",
            "44/44 [==============================] - 9s 202ms/step - loss: 0.2747 - binary_accuracy: 0.8787 - val_loss: 1.7666 - val_binary_accuracy: 0.4076\n",
            "Epoch 9/300\n",
            "44/44 [==============================] - 9s 202ms/step - loss: 0.2628 - binary_accuracy: 0.9024 - val_loss: 0.3647 - val_binary_accuracy: 0.8655\n",
            "Epoch 10/300\n",
            "44/44 [==============================] - 9s 203ms/step - loss: 0.2009 - binary_accuracy: 0.9167 - val_loss: 2.9160 - val_binary_accuracy: 0.4118\n",
            "Epoch 11/300\n",
            "44/44 [==============================] - 9s 203ms/step - loss: 0.4503 - binary_accuracy: 0.7803 - val_loss: 0.3452 - val_binary_accuracy: 0.8361\n",
            "Epoch 12/300\n",
            "44/44 [==============================] - 9s 202ms/step - loss: 0.1688 - binary_accuracy: 0.9361 - val_loss: 0.9355 - val_binary_accuracy: 0.6555\n",
            "Epoch 13/300\n",
            "44/44 [==============================] - 9s 202ms/step - loss: 0.1313 - binary_accuracy: 0.9548 - val_loss: 0.2345 - val_binary_accuracy: 0.9454\n",
            "Epoch 14/300\n",
            "44/44 [==============================] - 9s 203ms/step - loss: 0.0721 - binary_accuracy: 0.9799 - val_loss: 0.2655 - val_binary_accuracy: 0.9328\n",
            "Epoch 15/300\n",
            "44/44 [==============================] - 9s 203ms/step - loss: 0.0952 - binary_accuracy: 0.9691 - val_loss: 0.0688 - val_binary_accuracy: 0.9748\n",
            "Epoch 16/300\n",
            "44/44 [==============================] - 9s 203ms/step - loss: 0.0749 - binary_accuracy: 0.9742 - val_loss: 0.1608 - val_binary_accuracy: 0.9580\n",
            "Epoch 17/300\n",
            "44/44 [==============================] - 9s 203ms/step - loss: 0.1489 - binary_accuracy: 0.9526 - val_loss: 1.0327 - val_binary_accuracy: 0.7647\n",
            "Epoch 18/300\n",
            "44/44 [==============================] - 9s 203ms/step - loss: 0.1533 - binary_accuracy: 0.9483 - val_loss: 0.0815 - val_binary_accuracy: 0.9748\n",
            "Epoch 19/300\n",
            "44/44 [==============================] - 9s 205ms/step - loss: 0.0721 - binary_accuracy: 0.9785 - val_loss: 0.2901 - val_binary_accuracy: 0.9412\n",
            "Epoch 20/300\n",
            "44/44 [==============================] - 9s 203ms/step - loss: 0.0912 - binary_accuracy: 0.9713 - val_loss: 0.0795 - val_binary_accuracy: 0.9748\n",
            "Epoch 21/300\n",
            "44/44 [==============================] - 9s 203ms/step - loss: 0.0267 - binary_accuracy: 0.9950 - val_loss: 0.0282 - val_binary_accuracy: 0.9874\n",
            "Epoch 22/300\n",
            "44/44 [==============================] - 9s 204ms/step - loss: 0.0576 - binary_accuracy: 0.9828 - val_loss: 0.0258 - val_binary_accuracy: 0.9916\n",
            "Epoch 23/300\n",
            "44/44 [==============================] - 9s 204ms/step - loss: 0.0237 - binary_accuracy: 0.9943 - val_loss: 0.0892 - val_binary_accuracy: 0.9790\n",
            "Epoch 24/300\n",
            "44/44 [==============================] - 9s 204ms/step - loss: 0.1316 - binary_accuracy: 0.9655 - val_loss: 0.2475 - val_binary_accuracy: 0.9496\n",
            "Epoch 25/300\n",
            "44/44 [==============================] - 9s 204ms/step - loss: 0.1469 - binary_accuracy: 0.9483 - val_loss: 0.0890 - val_binary_accuracy: 0.9832\n",
            "Epoch 26/300\n",
            "44/44 [==============================] - 9s 204ms/step - loss: 0.0422 - binary_accuracy: 0.9892 - val_loss: 0.0310 - val_binary_accuracy: 0.9958\n",
            "Epoch 27/300\n",
            "44/44 [==============================] - 9s 205ms/step - loss: 0.0356 - binary_accuracy: 0.9914 - val_loss: 0.0596 - val_binary_accuracy: 0.9874\n",
            "Epoch 28/300\n",
            "44/44 [==============================] - 9s 205ms/step - loss: 0.0117 - binary_accuracy: 0.9986 - val_loss: 0.0133 - val_binary_accuracy: 0.9958\n",
            "Epoch 29/300\n",
            "44/44 [==============================] - 9s 205ms/step - loss: 0.0101 - binary_accuracy: 0.9993 - val_loss: 0.0171 - val_binary_accuracy: 0.9958\n",
            "Epoch 30/300\n",
            "44/44 [==============================] - 9s 204ms/step - loss: 0.0077 - binary_accuracy: 0.9993 - val_loss: 0.0299 - val_binary_accuracy: 0.9916\n",
            "Epoch 31/300\n",
            "44/44 [==============================] - 9s 203ms/step - loss: 0.0206 - binary_accuracy: 0.9935 - val_loss: 0.0539 - val_binary_accuracy: 0.9832\n",
            "Epoch 32/300\n",
            "44/44 [==============================] - 9s 204ms/step - loss: 0.0215 - binary_accuracy: 0.9914 - val_loss: 0.0025 - val_binary_accuracy: 1.0000\n",
            "Epoch 33/300\n",
            "44/44 [==============================] - 9s 205ms/step - loss: 0.0319 - binary_accuracy: 0.9935 - val_loss: 0.1133 - val_binary_accuracy: 0.9748\n",
            "Epoch 34/300\n",
            "44/44 [==============================] - 9s 204ms/step - loss: 0.1378 - binary_accuracy: 0.9670 - val_loss: 1.2882 - val_binary_accuracy: 0.7605\n",
            "Epoch 35/300\n",
            "44/44 [==============================] - 9s 204ms/step - loss: 0.2425 - binary_accuracy: 0.9182 - val_loss: 0.1963 - val_binary_accuracy: 0.9496\n",
            "Epoch 36/300\n",
            "44/44 [==============================] - 9s 205ms/step - loss: 0.0306 - binary_accuracy: 0.9971 - val_loss: 0.0240 - val_binary_accuracy: 0.9916\n",
            "Epoch 37/300\n",
            "44/44 [==============================] - 9s 205ms/step - loss: 0.0149 - binary_accuracy: 0.9993 - val_loss: 0.0090 - val_binary_accuracy: 0.9958\n",
            "Epoch 38/300\n",
            "44/44 [==============================] - 9s 205ms/step - loss: 0.0117 - binary_accuracy: 0.9986 - val_loss: 0.0030 - val_binary_accuracy: 1.0000\n",
            "Epoch 39/300\n",
            "44/44 [==============================] - 9s 205ms/step - loss: 0.0134 - binary_accuracy: 0.9986 - val_loss: 0.0124 - val_binary_accuracy: 0.9916\n",
            "Epoch 40/300\n",
            "44/44 [==============================] - 9s 204ms/step - loss: 0.0094 - binary_accuracy: 0.9993 - val_loss: 0.0016 - val_binary_accuracy: 1.0000\n",
            "Epoch 41/300\n",
            "44/44 [==============================] - 9s 205ms/step - loss: 0.0074 - binary_accuracy: 0.9993 - val_loss: 0.0014 - val_binary_accuracy: 1.0000\n",
            "Epoch 42/300\n",
            "44/44 [==============================] - 9s 204ms/step - loss: 0.0075 - binary_accuracy: 0.9993 - val_loss: 0.0012 - val_binary_accuracy: 1.0000\n",
            "Epoch 43/300\n",
            "44/44 [==============================] - 9s 204ms/step - loss: 0.0062 - binary_accuracy: 0.9993 - val_loss: 0.0092 - val_binary_accuracy: 0.9958\n",
            "Epoch 44/300\n",
            "44/44 [==============================] - 9s 205ms/step - loss: 0.0072 - binary_accuracy: 0.9993 - val_loss: 0.0016 - val_binary_accuracy: 1.0000\n",
            "Epoch 45/300\n",
            "44/44 [==============================] - 9s 204ms/step - loss: 0.0073 - binary_accuracy: 0.9993 - val_loss: 9.4403e-04 - val_binary_accuracy: 1.0000\n",
            "Epoch 46/300\n",
            "44/44 [==============================] - 9s 205ms/step - loss: 0.0085 - binary_accuracy: 0.9993 - val_loss: 8.2004e-04 - val_binary_accuracy: 1.0000\n",
            "Epoch 47/300\n",
            "44/44 [==============================] - 9s 206ms/step - loss: 0.0074 - binary_accuracy: 0.9993 - val_loss: 7.2457e-04 - val_binary_accuracy: 1.0000\n",
            "Epoch 48/300\n",
            "44/44 [==============================] - 9s 205ms/step - loss: 0.0057 - binary_accuracy: 0.9986 - val_loss: 0.0221 - val_binary_accuracy: 0.9958\n",
            "Epoch 49/300\n",
            "44/44 [==============================] - 9s 205ms/step - loss: 0.0067 - binary_accuracy: 0.9993 - val_loss: 0.0346 - val_binary_accuracy: 0.9916\n",
            "Epoch 50/300\n",
            "44/44 [==============================] - 9s 205ms/step - loss: 0.0555 - binary_accuracy: 0.9885 - val_loss: 0.0402 - val_binary_accuracy: 0.9916\n",
            "Epoch 51/300\n",
            "44/44 [==============================] - 9s 206ms/step - loss: 0.0085 - binary_accuracy: 0.9993 - val_loss: 0.0020 - val_binary_accuracy: 1.0000\n",
            "Epoch 52/300\n",
            "44/44 [==============================] - 9s 206ms/step - loss: 0.0184 - binary_accuracy: 0.9971 - val_loss: 0.0560 - val_binary_accuracy: 0.9916\n",
            "Epoch 53/300\n",
            "44/44 [==============================] - 9s 205ms/step - loss: 0.3137 - binary_accuracy: 0.8485 - val_loss: 0.7360 - val_binary_accuracy: 0.5924\n",
            "Epoch 54/300\n",
            "44/44 [==============================] - 9s 206ms/step - loss: 0.0823 - binary_accuracy: 0.9684 - val_loss: 0.0947 - val_binary_accuracy: 0.9706\n",
            "Epoch 55/300\n",
            "44/44 [==============================] - 9s 206ms/step - loss: 0.0275 - binary_accuracy: 0.9914 - val_loss: 0.1509 - val_binary_accuracy: 0.9706\n",
            "Epoch 56/300\n",
            "44/44 [==============================] - 9s 206ms/step - loss: 0.0069 - binary_accuracy: 0.9986 - val_loss: 0.0444 - val_binary_accuracy: 0.9916\n",
            "Epoch 57/300\n",
            "44/44 [==============================] - 9s 205ms/step - loss: 0.0017 - binary_accuracy: 1.0000 - val_loss: 0.0184 - val_binary_accuracy: 0.9916\n",
            "Epoch 58/300\n",
            "44/44 [==============================] - 9s 206ms/step - loss: 0.0012 - binary_accuracy: 1.0000 - val_loss: 0.0148 - val_binary_accuracy: 0.9958\n",
            "Epoch 59/300\n",
            "44/44 [==============================] - 9s 206ms/step - loss: 0.0014 - binary_accuracy: 1.0000 - val_loss: 0.0484 - val_binary_accuracy: 0.9916\n",
            "Epoch 60/300\n",
            "44/44 [==============================] - 9s 206ms/step - loss: 0.0014 - binary_accuracy: 1.0000 - val_loss: 0.0513 - val_binary_accuracy: 0.9874\n",
            "Epoch 61/300\n",
            "44/44 [==============================] - 9s 206ms/step - loss: 0.0349 - binary_accuracy: 0.9864 - val_loss: 0.3420 - val_binary_accuracy: 0.8319\n",
            "Epoch 62/300\n",
            "44/44 [==============================] - 9s 207ms/step - loss: 0.1348 - binary_accuracy: 0.9584 - val_loss: 0.2357 - val_binary_accuracy: 0.9370\n",
            "Epoch 63/300\n",
            "44/44 [==============================] - 9s 206ms/step - loss: 0.0663 - binary_accuracy: 0.9792 - val_loss: 0.6190 - val_binary_accuracy: 0.6639\n",
            "Epoch 64/300\n",
            "44/44 [==============================] - 9s 206ms/step - loss: 0.0224 - binary_accuracy: 0.9935 - val_loss: 0.0316 - val_binary_accuracy: 0.9916\n",
            "Epoch 65/300\n",
            "44/44 [==============================] - 9s 206ms/step - loss: 0.0864 - binary_accuracy: 0.9627 - val_loss: 3.1040 - val_binary_accuracy: 0.5924\n",
            "Epoch 66/300\n",
            "44/44 [==============================] - 9s 207ms/step - loss: 0.0731 - binary_accuracy: 0.9706 - val_loss: 0.0920 - val_binary_accuracy: 0.9664\n",
            "Epoch 67/300\n",
            "44/44 [==============================] - 9s 206ms/step - loss: 0.0191 - binary_accuracy: 0.9928 - val_loss: 0.0671 - val_binary_accuracy: 0.9748\n",
            "Epoch 68/300\n",
            "44/44 [==============================] - 9s 205ms/step - loss: 0.0143 - binary_accuracy: 0.9971 - val_loss: 5.1605 - val_binary_accuracy: 0.4076\n",
            "Epoch 69/300\n",
            "44/44 [==============================] - 9s 205ms/step - loss: 0.0175 - binary_accuracy: 0.9957 - val_loss: 0.6355 - val_binary_accuracy: 0.6387\n",
            "Epoch 70/300\n",
            "44/44 [==============================] - 9s 206ms/step - loss: 0.0114 - binary_accuracy: 0.9971 - val_loss: 0.0836 - val_binary_accuracy: 0.9832\n",
            "Epoch 71/300\n",
            "44/44 [==============================] - 9s 206ms/step - loss: 0.0043 - binary_accuracy: 0.9986 - val_loss: 0.0354 - val_binary_accuracy: 0.9916\n",
            "Epoch 72/300\n",
            "44/44 [==============================] - 9s 206ms/step - loss: 0.0026 - binary_accuracy: 0.9993 - val_loss: 0.0278 - val_binary_accuracy: 0.9916\n",
            "Epoch 73/300\n",
            "44/44 [==============================] - 9s 207ms/step - loss: 0.0016 - binary_accuracy: 1.0000 - val_loss: 0.0193 - val_binary_accuracy: 0.9916\n",
            "Epoch 74/300\n",
            "44/44 [==============================] - 9s 206ms/step - loss: 0.0022 - binary_accuracy: 1.0000 - val_loss: 0.0123 - val_binary_accuracy: 0.9916\n",
            "Epoch 75/300\n",
            "44/44 [==============================] - 9s 205ms/step - loss: 0.0057 - binary_accuracy: 0.9993 - val_loss: 0.0154 - val_binary_accuracy: 0.9916\n",
            "Epoch 76/300\n",
            "44/44 [==============================] - 9s 206ms/step - loss: 0.0023 - binary_accuracy: 0.9993 - val_loss: 0.0109 - val_binary_accuracy: 0.9916\n",
            "Epoch 77/300\n",
            "44/44 [==============================] - 9s 206ms/step - loss: 0.0020 - binary_accuracy: 0.9993 - val_loss: 0.0097 - val_binary_accuracy: 0.9916\n",
            "Epoch 78/300\n",
            "44/44 [==============================] - 9s 205ms/step - loss: 0.0016 - binary_accuracy: 1.0000 - val_loss: 0.0099 - val_binary_accuracy: 0.9916\n",
            "Epoch 79/300\n",
            "44/44 [==============================] - 9s 205ms/step - loss: 0.0011 - binary_accuracy: 1.0000 - val_loss: 0.0107 - val_binary_accuracy: 0.9916\n",
            "Epoch 80/300\n",
            "44/44 [==============================] - 9s 206ms/step - loss: 0.0015 - binary_accuracy: 1.0000 - val_loss: 0.0105 - val_binary_accuracy: 0.9916\n",
            "Epoch 81/300\n",
            "44/44 [==============================] - 9s 207ms/step - loss: 0.0027 - binary_accuracy: 0.9993 - val_loss: 0.0168 - val_binary_accuracy: 0.9916\n",
            "Epoch 82/300\n",
            "44/44 [==============================] - 9s 207ms/step - loss: 0.0015 - binary_accuracy: 0.9993 - val_loss: 0.0182 - val_binary_accuracy: 0.9916\n",
            "Epoch 83/300\n",
            "44/44 [==============================] - 9s 206ms/step - loss: 0.0014 - binary_accuracy: 1.0000 - val_loss: 0.0120 - val_binary_accuracy: 0.9916\n",
            "Epoch 84/300\n",
            "44/44 [==============================] - 9s 206ms/step - loss: 0.0014 - binary_accuracy: 1.0000 - val_loss: 0.0087 - val_binary_accuracy: 0.9916\n",
            "Epoch 85/300\n",
            "44/44 [==============================] - 9s 206ms/step - loss: 9.5206e-04 - binary_accuracy: 1.0000 - val_loss: 0.0077 - val_binary_accuracy: 0.9916\n",
            "Epoch 86/300\n",
            "44/44 [==============================] - 9s 206ms/step - loss: 0.0012 - binary_accuracy: 1.0000 - val_loss: 0.0075 - val_binary_accuracy: 0.9916\n",
            "Epoch 87/300\n",
            "44/44 [==============================] - 9s 206ms/step - loss: 9.4893e-04 - binary_accuracy: 1.0000 - val_loss: 0.0075 - val_binary_accuracy: 0.9958\n",
            "Epoch 88/300\n",
            "44/44 [==============================] - 9s 207ms/step - loss: 0.0011 - binary_accuracy: 1.0000 - val_loss: 0.0089 - val_binary_accuracy: 0.9916\n",
            "Epoch 89/300\n",
            "44/44 [==============================] - 9s 206ms/step - loss: 0.0011 - binary_accuracy: 1.0000 - val_loss: 0.0089 - val_binary_accuracy: 0.9916\n",
            "Epoch 90/300\n",
            "44/44 [==============================] - 9s 206ms/step - loss: 6.5095e-04 - binary_accuracy: 1.0000 - val_loss: 0.0093 - val_binary_accuracy: 0.9916\n",
            "Epoch 91/300\n",
            "44/44 [==============================] - 9s 207ms/step - loss: 0.0019 - binary_accuracy: 1.0000 - val_loss: 0.0066 - val_binary_accuracy: 0.9958\n",
            "Epoch 92/300\n",
            "44/44 [==============================] - 9s 206ms/step - loss: 8.1784e-04 - binary_accuracy: 1.0000 - val_loss: 0.0094 - val_binary_accuracy: 0.9916\n",
            "Epoch 93/300\n",
            "44/44 [==============================] - 9s 205ms/step - loss: 6.5617e-04 - binary_accuracy: 1.0000 - val_loss: 0.0089 - val_binary_accuracy: 0.9916\n",
            "Epoch 94/300\n",
            "44/44 [==============================] - 9s 206ms/step - loss: 6.7982e-04 - binary_accuracy: 1.0000 - val_loss: 0.0083 - val_binary_accuracy: 0.9916\n",
            "Epoch 95/300\n",
            "44/44 [==============================] - 9s 206ms/step - loss: 7.8367e-04 - binary_accuracy: 1.0000 - val_loss: 0.0094 - val_binary_accuracy: 0.9916\n",
            "Epoch 96/300\n",
            "44/44 [==============================] - 9s 207ms/step - loss: 8.9599e-04 - binary_accuracy: 1.0000 - val_loss: 0.0089 - val_binary_accuracy: 0.9916\n",
            "Epoch 97/300\n",
            "44/44 [==============================] - 9s 205ms/step - loss: 6.3671e-04 - binary_accuracy: 1.0000 - val_loss: 0.0085 - val_binary_accuracy: 0.9916\n",
            "Epoch 98/300\n",
            "44/44 [==============================] - 9s 205ms/step - loss: 5.0874e-04 - binary_accuracy: 1.0000 - val_loss: 0.0085 - val_binary_accuracy: 0.9916\n",
            "Epoch 99/300\n",
            "44/44 [==============================] - 9s 207ms/step - loss: 9.3163e-04 - binary_accuracy: 1.0000 - val_loss: 0.0084 - val_binary_accuracy: 0.9916\n",
            "Epoch 100/300\n",
            "44/44 [==============================] - 9s 206ms/step - loss: 5.7914e-04 - binary_accuracy: 1.0000 - val_loss: 0.0081 - val_binary_accuracy: 0.9916\n",
            "Epoch 101/300\n",
            "44/44 [==============================] - 9s 206ms/step - loss: 0.0011 - binary_accuracy: 1.0000 - val_loss: 0.0082 - val_binary_accuracy: 0.9916\n",
            "Epoch 102/300\n",
            "44/44 [==============================] - 9s 207ms/step - loss: 8.0387e-04 - binary_accuracy: 1.0000 - val_loss: 0.0080 - val_binary_accuracy: 0.9916\n",
            "Epoch 103/300\n",
            "44/44 [==============================] - 9s 206ms/step - loss: 0.0011 - binary_accuracy: 1.0000 - val_loss: 0.0082 - val_binary_accuracy: 0.9916\n",
            "Epoch 104/300\n",
            "44/44 [==============================] - 9s 205ms/step - loss: 7.7042e-04 - binary_accuracy: 1.0000 - val_loss: 0.0082 - val_binary_accuracy: 0.9916\n",
            "Epoch 105/300\n",
            "44/44 [==============================] - 9s 206ms/step - loss: 8.1601e-04 - binary_accuracy: 1.0000 - val_loss: 0.0083 - val_binary_accuracy: 0.9916\n",
            "Epoch 106/300\n",
            "44/44 [==============================] - 9s 206ms/step - loss: 7.3142e-04 - binary_accuracy: 1.0000 - val_loss: 0.0079 - val_binary_accuracy: 0.9916\n",
            "Epoch 107/300\n",
            "44/44 [==============================] - 9s 207ms/step - loss: 8.8557e-04 - binary_accuracy: 1.0000 - val_loss: 0.0085 - val_binary_accuracy: 0.9916\n",
            "Epoch 108/300\n",
            "44/44 [==============================] - 9s 206ms/step - loss: 4.0843e-04 - binary_accuracy: 1.0000 - val_loss: 0.0083 - val_binary_accuracy: 0.9916\n",
            "Epoch 109/300\n",
            "44/44 [==============================] - 9s 206ms/step - loss: 8.8437e-04 - binary_accuracy: 1.0000 - val_loss: 0.0084 - val_binary_accuracy: 0.9916\n",
            "Epoch 110/300\n",
            "44/44 [==============================] - 9s 206ms/step - loss: 0.0011 - binary_accuracy: 1.0000 - val_loss: 0.0084 - val_binary_accuracy: 0.9916\n",
            "Epoch 111/300\n",
            "44/44 [==============================] - 9s 205ms/step - loss: 5.9370e-04 - binary_accuracy: 1.0000 - val_loss: 0.0084 - val_binary_accuracy: 0.9916\n",
            "Epoch 112/300\n",
            "44/44 [==============================] - 9s 205ms/step - loss: 8.8314e-04 - binary_accuracy: 1.0000 - val_loss: 0.0087 - val_binary_accuracy: 0.9916\n",
            "Epoch 113/300\n",
            "44/44 [==============================] - 9s 206ms/step - loss: 5.4152e-04 - binary_accuracy: 1.0000 - val_loss: 0.0084 - val_binary_accuracy: 0.9916\n",
            "Epoch 114/300\n",
            "44/44 [==============================] - 9s 206ms/step - loss: 6.1189e-04 - binary_accuracy: 1.0000 - val_loss: 0.0080 - val_binary_accuracy: 0.9916\n",
            "Epoch 115/300\n",
            "44/44 [==============================] - 9s 205ms/step - loss: 5.4229e-04 - binary_accuracy: 1.0000 - val_loss: 0.0077 - val_binary_accuracy: 0.9916\n",
            "Epoch 116/300\n",
            "44/44 [==============================] - 9s 206ms/step - loss: 0.0010 - binary_accuracy: 1.0000 - val_loss: 0.0073 - val_binary_accuracy: 0.9916\n",
            "Epoch 117/300\n",
            "44/44 [==============================] - 9s 206ms/step - loss: 0.0013 - binary_accuracy: 0.9993 - val_loss: 0.0071 - val_binary_accuracy: 0.9916\n",
            "Epoch 118/300\n",
            "44/44 [==============================] - 9s 206ms/step - loss: 0.0013 - binary_accuracy: 0.9993 - val_loss: 0.0090 - val_binary_accuracy: 0.9916\n",
            "Epoch 119/300\n",
            "44/44 [==============================] - 9s 206ms/step - loss: 5.0205e-04 - binary_accuracy: 1.0000 - val_loss: 0.0085 - val_binary_accuracy: 0.9916\n",
            "Epoch 120/300\n",
            "44/44 [==============================] - 9s 206ms/step - loss: 0.0020 - binary_accuracy: 0.9993 - val_loss: 0.0100 - val_binary_accuracy: 0.9916\n",
            "Epoch 121/300\n",
            "44/44 [==============================] - 9s 206ms/step - loss: 6.1116e-04 - binary_accuracy: 1.0000 - val_loss: 0.0096 - val_binary_accuracy: 0.9916\n",
            "Epoch 122/300\n",
            "44/44 [==============================] - 9s 205ms/step - loss: 0.0011 - binary_accuracy: 1.0000 - val_loss: 0.0094 - val_binary_accuracy: 0.9916\n",
            "Epoch 123/300\n",
            "44/44 [==============================] - 9s 206ms/step - loss: 6.1199e-04 - binary_accuracy: 1.0000 - val_loss: 0.0093 - val_binary_accuracy: 0.9916\n",
            "Epoch 124/300\n",
            "44/44 [==============================] - 9s 206ms/step - loss: 7.8373e-04 - binary_accuracy: 1.0000 - val_loss: 0.0093 - val_binary_accuracy: 0.9916\n",
            "Epoch 125/300\n",
            "44/44 [==============================] - 9s 207ms/step - loss: 0.0022 - binary_accuracy: 0.9986 - val_loss: 0.0090 - val_binary_accuracy: 0.9916\n",
            "Epoch 126/300\n",
            "44/44 [==============================] - 9s 206ms/step - loss: 5.7459e-04 - binary_accuracy: 1.0000 - val_loss: 0.0091 - val_binary_accuracy: 0.9916\n",
            "Epoch 127/300\n",
            "44/44 [==============================] - 9s 206ms/step - loss: 5.7899e-04 - binary_accuracy: 1.0000 - val_loss: 0.0092 - val_binary_accuracy: 0.9916\n",
            "Epoch 128/300\n",
            "44/44 [==============================] - 9s 206ms/step - loss: 7.2065e-04 - binary_accuracy: 1.0000 - val_loss: 0.0091 - val_binary_accuracy: 0.9916\n",
            "Epoch 129/300\n",
            "44/44 [==============================] - 9s 206ms/step - loss: 7.9890e-04 - binary_accuracy: 1.0000 - val_loss: 0.0089 - val_binary_accuracy: 0.9916\n",
            "Epoch 130/300\n",
            "44/44 [==============================] - 9s 206ms/step - loss: 8.1568e-04 - binary_accuracy: 1.0000 - val_loss: 0.0090 - val_binary_accuracy: 0.9916\n",
            "Epoch 131/300\n",
            "44/44 [==============================] - 9s 206ms/step - loss: 4.8825e-04 - binary_accuracy: 1.0000 - val_loss: 0.0090 - val_binary_accuracy: 0.9916\n",
            "Epoch 132/300\n",
            "44/44 [==============================] - 9s 206ms/step - loss: 0.0014 - binary_accuracy: 1.0000 - val_loss: 0.0089 - val_binary_accuracy: 0.9916\n",
            "Epoch 133/300\n",
            "44/44 [==============================] - 9s 205ms/step - loss: 4.7571e-04 - binary_accuracy: 1.0000 - val_loss: 0.0091 - val_binary_accuracy: 0.9916\n",
            "Epoch 134/300\n",
            "44/44 [==============================] - 9s 206ms/step - loss: 0.0016 - binary_accuracy: 1.0000 - val_loss: 0.0091 - val_binary_accuracy: 0.9916\n",
            "Epoch 135/300\n",
            "44/44 [==============================] - 9s 206ms/step - loss: 6.8598e-04 - binary_accuracy: 1.0000 - val_loss: 0.0093 - val_binary_accuracy: 0.9916\n",
            "Epoch 136/300\n",
            "44/44 [==============================] - 9s 207ms/step - loss: 0.0010 - binary_accuracy: 1.0000 - val_loss: 0.0094 - val_binary_accuracy: 0.9916\n",
            "Epoch 137/300\n",
            "44/44 [==============================] - 9s 206ms/step - loss: 0.0011 - binary_accuracy: 1.0000 - val_loss: 0.0092 - val_binary_accuracy: 0.9916\n",
            "Epoch 138/300\n",
            "44/44 [==============================] - 9s 206ms/step - loss: 6.6325e-04 - binary_accuracy: 1.0000 - val_loss: 0.0093 - val_binary_accuracy: 0.9916\n",
            "Epoch 139/300\n",
            "44/44 [==============================] - 9s 206ms/step - loss: 8.0110e-04 - binary_accuracy: 1.0000 - val_loss: 0.0094 - val_binary_accuracy: 0.9916\n",
            "Epoch 140/300\n",
            "44/44 [==============================] - 9s 206ms/step - loss: 8.2663e-04 - binary_accuracy: 1.0000 - val_loss: 0.0094 - val_binary_accuracy: 0.9916\n",
            "Epoch 141/300\n",
            "44/44 [==============================] - 9s 206ms/step - loss: 5.3674e-04 - binary_accuracy: 1.0000 - val_loss: 0.0091 - val_binary_accuracy: 0.9916\n",
            "Epoch 142/300\n",
            "44/44 [==============================] - 9s 206ms/step - loss: 6.8024e-04 - binary_accuracy: 1.0000 - val_loss: 0.0091 - val_binary_accuracy: 0.9916\n",
            "Epoch 143/300\n",
            "44/44 [==============================] - 9s 208ms/step - loss: 7.1479e-04 - binary_accuracy: 1.0000 - val_loss: 0.0089 - val_binary_accuracy: 0.9916\n",
            "Epoch 144/300\n",
            "44/44 [==============================] - 9s 206ms/step - loss: 5.9214e-04 - binary_accuracy: 1.0000 - val_loss: 0.0089 - val_binary_accuracy: 0.9916\n",
            "Epoch 145/300\n",
            "44/44 [==============================] - 9s 206ms/step - loss: 8.9618e-04 - binary_accuracy: 1.0000 - val_loss: 0.0089 - val_binary_accuracy: 0.9916\n",
            "Epoch 146/300\n",
            "44/44 [==============================] - 9s 207ms/step - loss: 6.7279e-04 - binary_accuracy: 1.0000 - val_loss: 0.0089 - val_binary_accuracy: 0.9916\n",
            "Epoch 147/300\n",
            "44/44 [==============================] - 9s 206ms/step - loss: 6.2148e-04 - binary_accuracy: 1.0000 - val_loss: 0.0089 - val_binary_accuracy: 0.9916\n",
            "Epoch 148/300\n",
            "44/44 [==============================] - 9s 206ms/step - loss: 4.1262e-04 - binary_accuracy: 1.0000 - val_loss: 0.0088 - val_binary_accuracy: 0.9916\n",
            "Epoch 149/300\n",
            "44/44 [==============================] - 9s 205ms/step - loss: 9.7008e-04 - binary_accuracy: 0.9993 - val_loss: 0.0088 - val_binary_accuracy: 0.9916\n",
            "Epoch 150/300\n",
            "44/44 [==============================] - 9s 206ms/step - loss: 5.5769e-04 - binary_accuracy: 1.0000 - val_loss: 0.0088 - val_binary_accuracy: 0.9916\n",
            "Epoch 151/300\n",
            "44/44 [==============================] - 9s 206ms/step - loss: 8.4528e-04 - binary_accuracy: 1.0000 - val_loss: 0.0087 - val_binary_accuracy: 0.9916\n",
            "Epoch 152/300\n",
            "44/44 [==============================] - 9s 206ms/step - loss: 5.8909e-04 - binary_accuracy: 1.0000 - val_loss: 0.0088 - val_binary_accuracy: 0.9916\n",
            "Epoch 153/300\n",
            "44/44 [==============================] - 9s 206ms/step - loss: 5.1511e-04 - binary_accuracy: 1.0000 - val_loss: 0.0087 - val_binary_accuracy: 0.9916\n",
            "Epoch 154/300\n",
            "44/44 [==============================] - 9s 206ms/step - loss: 6.9263e-04 - binary_accuracy: 1.0000 - val_loss: 0.0088 - val_binary_accuracy: 0.9916\n",
            "Epoch 155/300\n",
            "44/44 [==============================] - 9s 206ms/step - loss: 4.9768e-04 - binary_accuracy: 1.0000 - val_loss: 0.0087 - val_binary_accuracy: 0.9916\n",
            "Epoch 156/300\n",
            "44/44 [==============================] - 9s 206ms/step - loss: 5.6803e-04 - binary_accuracy: 1.0000 - val_loss: 0.0086 - val_binary_accuracy: 0.9916\n",
            "Epoch 157/300\n",
            "44/44 [==============================] - 9s 206ms/step - loss: 5.2673e-04 - binary_accuracy: 1.0000 - val_loss: 0.0086 - val_binary_accuracy: 0.9916\n",
            "Epoch 158/300\n",
            "44/44 [==============================] - 9s 206ms/step - loss: 0.0013 - binary_accuracy: 1.0000 - val_loss: 0.0087 - val_binary_accuracy: 0.9916\n",
            "Epoch 159/300\n",
            "44/44 [==============================] - 9s 206ms/step - loss: 5.3017e-04 - binary_accuracy: 1.0000 - val_loss: 0.0087 - val_binary_accuracy: 0.9916\n",
            "Epoch 160/300\n",
            "44/44 [==============================] - 9s 207ms/step - loss: 4.6706e-04 - binary_accuracy: 1.0000 - val_loss: 0.0087 - val_binary_accuracy: 0.9916\n",
            "Epoch 161/300\n",
            "44/44 [==============================] - 9s 208ms/step - loss: 8.4122e-04 - binary_accuracy: 1.0000 - val_loss: 0.0088 - val_binary_accuracy: 0.9916\n",
            "Epoch 162/300\n",
            "44/44 [==============================] - 9s 206ms/step - loss: 0.0011 - binary_accuracy: 0.9993 - val_loss: 0.0088 - val_binary_accuracy: 0.9916\n",
            "Epoch 163/300\n",
            "44/44 [==============================] - 9s 206ms/step - loss: 9.2957e-04 - binary_accuracy: 1.0000 - val_loss: 0.0089 - val_binary_accuracy: 0.9916\n",
            "Epoch 164/300\n",
            "44/44 [==============================] - 9s 206ms/step - loss: 6.1211e-04 - binary_accuracy: 1.0000 - val_loss: 0.0088 - val_binary_accuracy: 0.9916\n",
            "Epoch 165/300\n",
            "44/44 [==============================] - 9s 206ms/step - loss: 5.4373e-04 - binary_accuracy: 1.0000 - val_loss: 0.0088 - val_binary_accuracy: 0.9916\n",
            "Epoch 166/300\n",
            "44/44 [==============================] - 9s 206ms/step - loss: 6.4185e-04 - binary_accuracy: 1.0000 - val_loss: 0.0088 - val_binary_accuracy: 0.9916\n",
            "Epoch 167/300\n",
            "44/44 [==============================] - 9s 206ms/step - loss: 8.0327e-04 - binary_accuracy: 1.0000 - val_loss: 0.0089 - val_binary_accuracy: 0.9916\n",
            "Epoch 168/300\n",
            "44/44 [==============================] - 9s 207ms/step - loss: 7.4565e-04 - binary_accuracy: 1.0000 - val_loss: 0.0088 - val_binary_accuracy: 0.9916\n",
            "Epoch 169/300\n",
            "44/44 [==============================] - 9s 207ms/step - loss: 6.2749e-04 - binary_accuracy: 1.0000 - val_loss: 0.0089 - val_binary_accuracy: 0.9916\n",
            "Epoch 170/300\n",
            "44/44 [==============================] - 9s 207ms/step - loss: 4.6122e-04 - binary_accuracy: 1.0000 - val_loss: 0.0091 - val_binary_accuracy: 0.9916\n",
            "Epoch 171/300\n",
            "44/44 [==============================] - 9s 206ms/step - loss: 8.5293e-04 - binary_accuracy: 1.0000 - val_loss: 0.0090 - val_binary_accuracy: 0.9916\n",
            "Epoch 172/300\n",
            "44/44 [==============================] - 9s 207ms/step - loss: 7.9292e-04 - binary_accuracy: 1.0000 - val_loss: 0.0090 - val_binary_accuracy: 0.9916\n",
            "Epoch 173/300\n",
            "44/44 [==============================] - 9s 207ms/step - loss: 8.7078e-04 - binary_accuracy: 1.0000 - val_loss: 0.0089 - val_binary_accuracy: 0.9916\n",
            "Epoch 174/300\n",
            "44/44 [==============================] - 9s 206ms/step - loss: 8.6452e-04 - binary_accuracy: 1.0000 - val_loss: 0.0089 - val_binary_accuracy: 0.9916\n",
            "Epoch 175/300\n",
            "44/44 [==============================] - 9s 207ms/step - loss: 8.3047e-04 - binary_accuracy: 1.0000 - val_loss: 0.0090 - val_binary_accuracy: 0.9916\n",
            "Epoch 176/300\n",
            "44/44 [==============================] - 9s 206ms/step - loss: 5.3236e-04 - binary_accuracy: 1.0000 - val_loss: 0.0089 - val_binary_accuracy: 0.9916\n",
            "Epoch 177/300\n",
            "44/44 [==============================] - 9s 206ms/step - loss: 8.1152e-04 - binary_accuracy: 1.0000 - val_loss: 0.0089 - val_binary_accuracy: 0.9916\n",
            "Epoch 178/300\n",
            "44/44 [==============================] - 9s 206ms/step - loss: 6.5726e-04 - binary_accuracy: 1.0000 - val_loss: 0.0090 - val_binary_accuracy: 0.9916\n",
            "Epoch 179/300\n",
            "44/44 [==============================] - 9s 207ms/step - loss: 0.0011 - binary_accuracy: 1.0000 - val_loss: 0.0088 - val_binary_accuracy: 0.9916\n",
            "Epoch 180/300\n",
            "44/44 [==============================] - 9s 207ms/step - loss: 6.3729e-04 - binary_accuracy: 1.0000 - val_loss: 0.0087 - val_binary_accuracy: 0.9916\n",
            "Epoch 181/300\n",
            "44/44 [==============================] - 9s 206ms/step - loss: 5.4758e-04 - binary_accuracy: 1.0000 - val_loss: 0.0087 - val_binary_accuracy: 0.9916\n",
            "Epoch 182/300\n",
            "44/44 [==============================] - 9s 206ms/step - loss: 4.3186e-04 - binary_accuracy: 1.0000 - val_loss: 0.0087 - val_binary_accuracy: 0.9916\n",
            "Epoch 183/300\n",
            "44/44 [==============================] - 9s 206ms/step - loss: 7.4176e-04 - binary_accuracy: 1.0000 - val_loss: 0.0087 - val_binary_accuracy: 0.9916\n",
            "Epoch 184/300\n",
            "44/44 [==============================] - 9s 207ms/step - loss: 4.6726e-04 - binary_accuracy: 1.0000 - val_loss: 0.0089 - val_binary_accuracy: 0.9916\n",
            "Epoch 185/300\n",
            "44/44 [==============================] - 9s 205ms/step - loss: 8.3288e-04 - binary_accuracy: 1.0000 - val_loss: 0.0089 - val_binary_accuracy: 0.9916\n",
            "Epoch 186/300\n",
            "44/44 [==============================] - 9s 206ms/step - loss: 8.0813e-04 - binary_accuracy: 1.0000 - val_loss: 0.0089 - val_binary_accuracy: 0.9916\n",
            "Epoch 187/300\n",
            "44/44 [==============================] - 9s 206ms/step - loss: 0.0012 - binary_accuracy: 1.0000 - val_loss: 0.0088 - val_binary_accuracy: 0.9916\n",
            "Epoch 188/300\n",
            "44/44 [==============================] - 9s 206ms/step - loss: 0.0015 - binary_accuracy: 0.9993 - val_loss: 0.0091 - val_binary_accuracy: 0.9916\n",
            "Epoch 189/300\n",
            "44/44 [==============================] - 9s 206ms/step - loss: 5.5015e-04 - binary_accuracy: 1.0000 - val_loss: 0.0091 - val_binary_accuracy: 0.9916\n",
            "Epoch 190/300\n",
            "44/44 [==============================] - 9s 207ms/step - loss: 7.5722e-04 - binary_accuracy: 1.0000 - val_loss: 0.0088 - val_binary_accuracy: 0.9916\n",
            "Epoch 191/300\n",
            "44/44 [==============================] - 9s 206ms/step - loss: 5.0489e-04 - binary_accuracy: 1.0000 - val_loss: 0.0089 - val_binary_accuracy: 0.9916\n",
            "Epoch 192/300\n",
            "44/44 [==============================] - 9s 206ms/step - loss: 7.6535e-04 - binary_accuracy: 1.0000 - val_loss: 0.0089 - val_binary_accuracy: 0.9916\n",
            "Epoch 193/300\n",
            "44/44 [==============================] - 9s 208ms/step - loss: 5.1819e-04 - binary_accuracy: 1.0000 - val_loss: 0.0090 - val_binary_accuracy: 0.9916\n",
            "Epoch 194/300\n",
            "44/44 [==============================] - 9s 206ms/step - loss: 0.0011 - binary_accuracy: 1.0000 - val_loss: 0.0090 - val_binary_accuracy: 0.9916\n",
            "Epoch 195/300\n",
            "44/44 [==============================] - 9s 206ms/step - loss: 5.6010e-04 - binary_accuracy: 1.0000 - val_loss: 0.0089 - val_binary_accuracy: 0.9916\n",
            "Epoch 196/300\n",
            "44/44 [==============================] - 9s 206ms/step - loss: 5.4827e-04 - binary_accuracy: 1.0000 - val_loss: 0.0087 - val_binary_accuracy: 0.9916\n",
            "Epoch 197/300\n",
            "44/44 [==============================] - 9s 207ms/step - loss: 4.6017e-04 - binary_accuracy: 1.0000 - val_loss: 0.0087 - val_binary_accuracy: 0.9916\n",
            "Epoch 198/300\n",
            "44/44 [==============================] - 9s 207ms/step - loss: 6.6157e-04 - binary_accuracy: 1.0000 - val_loss: 0.0089 - val_binary_accuracy: 0.9916\n",
            "Epoch 199/300\n",
            "44/44 [==============================] - 9s 207ms/step - loss: 6.8960e-04 - binary_accuracy: 1.0000 - val_loss: 0.0089 - val_binary_accuracy: 0.9916\n",
            "Epoch 200/300\n",
            "44/44 [==============================] - 9s 206ms/step - loss: 0.0013 - binary_accuracy: 1.0000 - val_loss: 0.0087 - val_binary_accuracy: 0.9916\n",
            "Epoch 201/300\n",
            "44/44 [==============================] - 9s 207ms/step - loss: 5.0878e-04 - binary_accuracy: 1.0000 - val_loss: 0.0089 - val_binary_accuracy: 0.9916\n",
            "Epoch 202/300\n",
            "44/44 [==============================] - 9s 206ms/step - loss: 0.0013 - binary_accuracy: 1.0000 - val_loss: 0.0087 - val_binary_accuracy: 0.9916\n",
            "Epoch 203/300\n",
            "44/44 [==============================] - 9s 206ms/step - loss: 0.0012 - binary_accuracy: 1.0000 - val_loss: 0.0086 - val_binary_accuracy: 0.9916\n",
            "Epoch 204/300\n",
            "44/44 [==============================] - 9s 207ms/step - loss: 6.6313e-04 - binary_accuracy: 1.0000 - val_loss: 0.0087 - val_binary_accuracy: 0.9916\n",
            "Epoch 205/300\n",
            "44/44 [==============================] - 9s 207ms/step - loss: 8.1988e-04 - binary_accuracy: 1.0000 - val_loss: 0.0089 - val_binary_accuracy: 0.9916\n",
            "Epoch 206/300\n",
            "44/44 [==============================] - 9s 206ms/step - loss: 3.6479e-04 - binary_accuracy: 1.0000 - val_loss: 0.0089 - val_binary_accuracy: 0.9916\n",
            "Epoch 207/300\n",
            "44/44 [==============================] - 9s 206ms/step - loss: 0.0012 - binary_accuracy: 1.0000 - val_loss: 0.0090 - val_binary_accuracy: 0.9916\n",
            "Epoch 208/300\n",
            "44/44 [==============================] - 9s 207ms/step - loss: 9.5664e-04 - binary_accuracy: 1.0000 - val_loss: 0.0090 - val_binary_accuracy: 0.9916\n",
            "Epoch 209/300\n",
            "44/44 [==============================] - 9s 206ms/step - loss: 7.0378e-04 - binary_accuracy: 1.0000 - val_loss: 0.0090 - val_binary_accuracy: 0.9916\n",
            "Epoch 210/300\n",
            "44/44 [==============================] - 9s 206ms/step - loss: 7.3700e-04 - binary_accuracy: 1.0000 - val_loss: 0.0090 - val_binary_accuracy: 0.9916\n",
            "Epoch 211/300\n",
            "44/44 [==============================] - 9s 206ms/step - loss: 4.0766e-04 - binary_accuracy: 1.0000 - val_loss: 0.0088 - val_binary_accuracy: 0.9916\n",
            "Epoch 212/300\n",
            "44/44 [==============================] - 9s 207ms/step - loss: 7.0613e-04 - binary_accuracy: 1.0000 - val_loss: 0.0088 - val_binary_accuracy: 0.9916\n",
            "Epoch 213/300\n",
            "44/44 [==============================] - 9s 206ms/step - loss: 3.1756e-04 - binary_accuracy: 1.0000 - val_loss: 0.0089 - val_binary_accuracy: 0.9916\n",
            "Epoch 214/300\n",
            "44/44 [==============================] - 9s 206ms/step - loss: 0.0032 - binary_accuracy: 0.9993 - val_loss: 0.0091 - val_binary_accuracy: 0.9916\n",
            "Epoch 215/300\n",
            "44/44 [==============================] - 9s 206ms/step - loss: 6.1145e-04 - binary_accuracy: 1.0000 - val_loss: 0.0091 - val_binary_accuracy: 0.9916\n",
            "Epoch 216/300\n",
            "44/44 [==============================] - 9s 206ms/step - loss: 7.5025e-04 - binary_accuracy: 1.0000 - val_loss: 0.0089 - val_binary_accuracy: 0.9916\n",
            "Epoch 217/300\n",
            "44/44 [==============================] - 9s 206ms/step - loss: 8.5188e-04 - binary_accuracy: 1.0000 - val_loss: 0.0088 - val_binary_accuracy: 0.9916\n",
            "Epoch 218/300\n",
            "44/44 [==============================] - 9s 206ms/step - loss: 3.9719e-04 - binary_accuracy: 1.0000 - val_loss: 0.0089 - val_binary_accuracy: 0.9916\n",
            "Epoch 219/300\n",
            "44/44 [==============================] - 9s 207ms/step - loss: 0.0011 - binary_accuracy: 1.0000 - val_loss: 0.0088 - val_binary_accuracy: 0.9916\n",
            "Epoch 220/300\n",
            "44/44 [==============================] - 9s 207ms/step - loss: 9.7516e-04 - binary_accuracy: 1.0000 - val_loss: 0.0086 - val_binary_accuracy: 0.9916\n",
            "Epoch 221/300\n",
            "44/44 [==============================] - 9s 206ms/step - loss: 0.0010 - binary_accuracy: 1.0000 - val_loss: 0.0087 - val_binary_accuracy: 0.9916\n",
            "Epoch 222/300\n",
            "44/44 [==============================] - 9s 208ms/step - loss: 9.7136e-04 - binary_accuracy: 1.0000 - val_loss: 0.0088 - val_binary_accuracy: 0.9916\n",
            "Epoch 223/300\n",
            "44/44 [==============================] - 9s 208ms/step - loss: 0.0013 - binary_accuracy: 1.0000 - val_loss: 0.0088 - val_binary_accuracy: 0.9916\n",
            "Epoch 224/300\n",
            "44/44 [==============================] - 9s 206ms/step - loss: 9.1507e-04 - binary_accuracy: 1.0000 - val_loss: 0.0088 - val_binary_accuracy: 0.9916\n",
            "Epoch 225/300\n",
            "44/44 [==============================] - 9s 207ms/step - loss: 7.0165e-04 - binary_accuracy: 1.0000 - val_loss: 0.0089 - val_binary_accuracy: 0.9916\n",
            "Epoch 226/300\n",
            "44/44 [==============================] - 9s 208ms/step - loss: 6.4463e-04 - binary_accuracy: 1.0000 - val_loss: 0.0089 - val_binary_accuracy: 0.9916\n",
            "Epoch 227/300\n",
            "44/44 [==============================] - 9s 207ms/step - loss: 0.0012 - binary_accuracy: 0.9993 - val_loss: 0.0087 - val_binary_accuracy: 0.9916\n",
            "Epoch 228/300\n",
            "44/44 [==============================] - 9s 206ms/step - loss: 0.0010 - binary_accuracy: 1.0000 - val_loss: 0.0088 - val_binary_accuracy: 0.9916\n",
            "Epoch 229/300\n",
            "44/44 [==============================] - 9s 206ms/step - loss: 7.4142e-04 - binary_accuracy: 1.0000 - val_loss: 0.0089 - val_binary_accuracy: 0.9916\n",
            "Epoch 230/300\n",
            "44/44 [==============================] - 9s 207ms/step - loss: 5.8770e-04 - binary_accuracy: 1.0000 - val_loss: 0.0089 - val_binary_accuracy: 0.9916\n",
            "Epoch 231/300\n",
            "44/44 [==============================] - 9s 206ms/step - loss: 6.6036e-04 - binary_accuracy: 1.0000 - val_loss: 0.0088 - val_binary_accuracy: 0.9916\n",
            "Epoch 232/300\n",
            "44/44 [==============================] - 9s 207ms/step - loss: 0.0019 - binary_accuracy: 1.0000 - val_loss: 0.0088 - val_binary_accuracy: 0.9916\n",
            "Epoch 233/300\n",
            "44/44 [==============================] - 9s 207ms/step - loss: 8.4208e-04 - binary_accuracy: 1.0000 - val_loss: 0.0088 - val_binary_accuracy: 0.9916\n",
            "Epoch 234/300\n",
            "44/44 [==============================] - 9s 207ms/step - loss: 0.0021 - binary_accuracy: 0.9993 - val_loss: 0.0087 - val_binary_accuracy: 0.9916\n",
            "Epoch 235/300\n",
            "44/44 [==============================] - 9s 207ms/step - loss: 4.9112e-04 - binary_accuracy: 1.0000 - val_loss: 0.0087 - val_binary_accuracy: 0.9916\n",
            "Epoch 236/300\n",
            "44/44 [==============================] - 9s 206ms/step - loss: 6.1226e-04 - binary_accuracy: 1.0000 - val_loss: 0.0089 - val_binary_accuracy: 0.9916\n",
            "Epoch 237/300\n",
            "44/44 [==============================] - 9s 207ms/step - loss: 0.0020 - binary_accuracy: 0.9993 - val_loss: 0.0087 - val_binary_accuracy: 0.9916\n",
            "Epoch 238/300\n",
            "44/44 [==============================] - 9s 207ms/step - loss: 0.0011 - binary_accuracy: 1.0000 - val_loss: 0.0088 - val_binary_accuracy: 0.9916\n",
            "Epoch 239/300\n",
            "44/44 [==============================] - 9s 206ms/step - loss: 6.2584e-04 - binary_accuracy: 1.0000 - val_loss: 0.0089 - val_binary_accuracy: 0.9916\n",
            "Epoch 240/300\n",
            "44/44 [==============================] - 9s 207ms/step - loss: 9.0431e-04 - binary_accuracy: 1.0000 - val_loss: 0.0090 - val_binary_accuracy: 0.9916\n",
            "Epoch 241/300\n",
            "44/44 [==============================] - 9s 208ms/step - loss: 6.8702e-04 - binary_accuracy: 1.0000 - val_loss: 0.0089 - val_binary_accuracy: 0.9916\n",
            "Epoch 242/300\n",
            "44/44 [==============================] - 9s 207ms/step - loss: 8.4450e-04 - binary_accuracy: 1.0000 - val_loss: 0.0090 - val_binary_accuracy: 0.9916\n",
            "Epoch 243/300\n",
            "44/44 [==============================] - 9s 208ms/step - loss: 8.5480e-04 - binary_accuracy: 1.0000 - val_loss: 0.0089 - val_binary_accuracy: 0.9916\n",
            "Epoch 244/300\n",
            "44/44 [==============================] - 9s 208ms/step - loss: 7.7637e-04 - binary_accuracy: 1.0000 - val_loss: 0.0090 - val_binary_accuracy: 0.9916\n",
            "Epoch 245/300\n",
            "44/44 [==============================] - 9s 207ms/step - loss: 6.9294e-04 - binary_accuracy: 1.0000 - val_loss: 0.0090 - val_binary_accuracy: 0.9916\n",
            "Epoch 246/300\n",
            "44/44 [==============================] - 9s 207ms/step - loss: 7.4921e-04 - binary_accuracy: 1.0000 - val_loss: 0.0089 - val_binary_accuracy: 0.9916\n",
            "Epoch 247/300\n",
            "44/44 [==============================] - 9s 206ms/step - loss: 3.7445e-04 - binary_accuracy: 1.0000 - val_loss: 0.0088 - val_binary_accuracy: 0.9916\n",
            "Epoch 248/300\n",
            "44/44 [==============================] - 9s 207ms/step - loss: 5.5529e-04 - binary_accuracy: 1.0000 - val_loss: 0.0087 - val_binary_accuracy: 0.9916\n",
            "Epoch 249/300\n",
            "44/44 [==============================] - 9s 208ms/step - loss: 7.0913e-04 - binary_accuracy: 1.0000 - val_loss: 0.0088 - val_binary_accuracy: 0.9916\n",
            "Epoch 250/300\n",
            "44/44 [==============================] - 9s 207ms/step - loss: 5.8073e-04 - binary_accuracy: 1.0000 - val_loss: 0.0090 - val_binary_accuracy: 0.9916\n",
            "Epoch 251/300\n",
            "44/44 [==============================] - 9s 206ms/step - loss: 6.2027e-04 - binary_accuracy: 1.0000 - val_loss: 0.0092 - val_binary_accuracy: 0.9916\n",
            "Epoch 252/300\n",
            "44/44 [==============================] - 9s 209ms/step - loss: 0.0011 - binary_accuracy: 1.0000 - val_loss: 0.0089 - val_binary_accuracy: 0.9916\n",
            "Epoch 253/300\n",
            "44/44 [==============================] - 9s 207ms/step - loss: 5.7717e-04 - binary_accuracy: 1.0000 - val_loss: 0.0089 - val_binary_accuracy: 0.9916\n",
            "Epoch 254/300\n",
            "44/44 [==============================] - 9s 206ms/step - loss: 9.3585e-04 - binary_accuracy: 1.0000 - val_loss: 0.0090 - val_binary_accuracy: 0.9916\n",
            "Epoch 255/300\n",
            "44/44 [==============================] - 9s 207ms/step - loss: 5.0026e-04 - binary_accuracy: 1.0000 - val_loss: 0.0090 - val_binary_accuracy: 0.9916\n",
            "Epoch 256/300\n",
            "44/44 [==============================] - 9s 207ms/step - loss: 3.8810e-04 - binary_accuracy: 1.0000 - val_loss: 0.0088 - val_binary_accuracy: 0.9916\n",
            "Epoch 257/300\n",
            "44/44 [==============================] - 9s 207ms/step - loss: 0.0013 - binary_accuracy: 0.9993 - val_loss: 0.0087 - val_binary_accuracy: 0.9916\n",
            "Epoch 258/300\n",
            "44/44 [==============================] - 9s 207ms/step - loss: 8.1497e-04 - binary_accuracy: 1.0000 - val_loss: 0.0087 - val_binary_accuracy: 0.9916\n",
            "Epoch 259/300\n",
            "44/44 [==============================] - 9s 209ms/step - loss: 5.4860e-04 - binary_accuracy: 1.0000 - val_loss: 0.0086 - val_binary_accuracy: 0.9916\n",
            "Epoch 260/300\n",
            "44/44 [==============================] - 9s 207ms/step - loss: 0.0015 - binary_accuracy: 0.9993 - val_loss: 0.0086 - val_binary_accuracy: 0.9916\n",
            "Epoch 261/300\n",
            "44/44 [==============================] - 9s 208ms/step - loss: 7.5602e-04 - binary_accuracy: 1.0000 - val_loss: 0.0086 - val_binary_accuracy: 0.9916\n",
            "Epoch 262/300\n",
            "44/44 [==============================] - 9s 208ms/step - loss: 0.0011 - binary_accuracy: 1.0000 - val_loss: 0.0087 - val_binary_accuracy: 0.9916\n",
            "Epoch 263/300\n",
            "44/44 [==============================] - 9s 207ms/step - loss: 0.0013 - binary_accuracy: 1.0000 - val_loss: 0.0087 - val_binary_accuracy: 0.9916\n",
            "Epoch 264/300\n",
            "44/44 [==============================] - 9s 206ms/step - loss: 9.7850e-04 - binary_accuracy: 1.0000 - val_loss: 0.0087 - val_binary_accuracy: 0.9916\n",
            "Epoch 265/300\n",
            "44/44 [==============================] - 9s 206ms/step - loss: 0.0010 - binary_accuracy: 1.0000 - val_loss: 0.0087 - val_binary_accuracy: 0.9916\n",
            "Epoch 266/300\n",
            "44/44 [==============================] - 9s 208ms/step - loss: 5.9233e-04 - binary_accuracy: 1.0000 - val_loss: 0.0088 - val_binary_accuracy: 0.9916\n",
            "Epoch 267/300\n",
            "44/44 [==============================] - 9s 209ms/step - loss: 0.0016 - binary_accuracy: 0.9993 - val_loss: 0.0087 - val_binary_accuracy: 0.9916\n",
            "Epoch 268/300\n",
            "44/44 [==============================] - 9s 208ms/step - loss: 6.3453e-04 - binary_accuracy: 1.0000 - val_loss: 0.0087 - val_binary_accuracy: 0.9916\n",
            "Epoch 269/300\n",
            "44/44 [==============================] - 9s 207ms/step - loss: 0.0012 - binary_accuracy: 0.9993 - val_loss: 0.0088 - val_binary_accuracy: 0.9916\n",
            "Epoch 270/300\n",
            "44/44 [==============================] - 9s 210ms/step - loss: 9.7436e-04 - binary_accuracy: 1.0000 - val_loss: 0.0088 - val_binary_accuracy: 0.9916\n",
            "Epoch 271/300\n",
            "44/44 [==============================] - 9s 207ms/step - loss: 0.0011 - binary_accuracy: 1.0000 - val_loss: 0.0088 - val_binary_accuracy: 0.9916\n",
            "Epoch 272/300\n",
            "44/44 [==============================] - 9s 207ms/step - loss: 6.9386e-04 - binary_accuracy: 1.0000 - val_loss: 0.0088 - val_binary_accuracy: 0.9916\n",
            "Epoch 273/300\n",
            "44/44 [==============================] - 9s 208ms/step - loss: 6.4110e-04 - binary_accuracy: 1.0000 - val_loss: 0.0089 - val_binary_accuracy: 0.9916\n",
            "Epoch 274/300\n",
            "44/44 [==============================] - 9s 208ms/step - loss: 7.7652e-04 - binary_accuracy: 1.0000 - val_loss: 0.0090 - val_binary_accuracy: 0.9916\n",
            "Epoch 275/300\n",
            "44/44 [==============================] - 9s 207ms/step - loss: 7.7721e-04 - binary_accuracy: 1.0000 - val_loss: 0.0088 - val_binary_accuracy: 0.9916\n",
            "Epoch 276/300\n",
            "44/44 [==============================] - 9s 207ms/step - loss: 6.7337e-04 - binary_accuracy: 1.0000 - val_loss: 0.0088 - val_binary_accuracy: 0.9916\n",
            "Epoch 277/300\n",
            "44/44 [==============================] - 9s 207ms/step - loss: 4.5671e-04 - binary_accuracy: 1.0000 - val_loss: 0.0089 - val_binary_accuracy: 0.9916\n",
            "Epoch 278/300\n",
            "44/44 [==============================] - 9s 208ms/step - loss: 6.1220e-04 - binary_accuracy: 1.0000 - val_loss: 0.0090 - val_binary_accuracy: 0.9916\n",
            "Epoch 279/300\n",
            "44/44 [==============================] - 9s 208ms/step - loss: 8.3385e-04 - binary_accuracy: 1.0000 - val_loss: 0.0091 - val_binary_accuracy: 0.9916\n",
            "Epoch 280/300\n",
            "44/44 [==============================] - 9s 207ms/step - loss: 7.0320e-04 - binary_accuracy: 1.0000 - val_loss: 0.0090 - val_binary_accuracy: 0.9916\n",
            "Epoch 281/300\n",
            "44/44 [==============================] - 9s 208ms/step - loss: 5.9447e-04 - binary_accuracy: 1.0000 - val_loss: 0.0090 - val_binary_accuracy: 0.9916\n",
            "Epoch 282/300\n",
            "44/44 [==============================] - 9s 207ms/step - loss: 7.5632e-04 - binary_accuracy: 1.0000 - val_loss: 0.0090 - val_binary_accuracy: 0.9916\n",
            "Epoch 283/300\n",
            "44/44 [==============================] - 9s 207ms/step - loss: 0.0015 - binary_accuracy: 1.0000 - val_loss: 0.0091 - val_binary_accuracy: 0.9916\n",
            "Epoch 284/300\n",
            "44/44 [==============================] - 9s 208ms/step - loss: 6.1493e-04 - binary_accuracy: 1.0000 - val_loss: 0.0090 - val_binary_accuracy: 0.9916\n",
            "Epoch 285/300\n",
            "44/44 [==============================] - 9s 208ms/step - loss: 9.8698e-04 - binary_accuracy: 1.0000 - val_loss: 0.0091 - val_binary_accuracy: 0.9916\n",
            "Epoch 286/300\n",
            "44/44 [==============================] - 9s 208ms/step - loss: 7.0597e-04 - binary_accuracy: 1.0000 - val_loss: 0.0090 - val_binary_accuracy: 0.9916\n",
            "Epoch 287/300\n",
            "44/44 [==============================] - 9s 209ms/step - loss: 6.5189e-04 - binary_accuracy: 1.0000 - val_loss: 0.0090 - val_binary_accuracy: 0.9916\n",
            "Epoch 288/300\n",
            "44/44 [==============================] - 9s 209ms/step - loss: 6.8590e-04 - binary_accuracy: 1.0000 - val_loss: 0.0091 - val_binary_accuracy: 0.9916\n",
            "Epoch 289/300\n",
            "44/44 [==============================] - 9s 207ms/step - loss: 7.2217e-04 - binary_accuracy: 1.0000 - val_loss: 0.0089 - val_binary_accuracy: 0.9916\n",
            "Epoch 290/300\n",
            "44/44 [==============================] - 9s 207ms/step - loss: 5.4439e-04 - binary_accuracy: 1.0000 - val_loss: 0.0089 - val_binary_accuracy: 0.9916\n",
            "Epoch 291/300\n",
            "44/44 [==============================] - 9s 206ms/step - loss: 0.0019 - binary_accuracy: 0.9993 - val_loss: 0.0089 - val_binary_accuracy: 0.9916\n",
            "Epoch 292/300\n",
            "44/44 [==============================] - 9s 210ms/step - loss: 5.5967e-04 - binary_accuracy: 1.0000 - val_loss: 0.0088 - val_binary_accuracy: 0.9916\n",
            "Epoch 293/300\n",
            "44/44 [==============================] - 9s 207ms/step - loss: 0.0012 - binary_accuracy: 0.9993 - val_loss: 0.0089 - val_binary_accuracy: 0.9916\n",
            "Epoch 294/300\n",
            "44/44 [==============================] - 9s 207ms/step - loss: 6.8995e-04 - binary_accuracy: 1.0000 - val_loss: 0.0089 - val_binary_accuracy: 0.9916\n",
            "Epoch 295/300\n",
            "44/44 [==============================] - 9s 209ms/step - loss: 7.5361e-04 - binary_accuracy: 1.0000 - val_loss: 0.0087 - val_binary_accuracy: 0.9916\n",
            "Epoch 296/300\n",
            "44/44 [==============================] - 9s 208ms/step - loss: 6.9885e-04 - binary_accuracy: 1.0000 - val_loss: 0.0089 - val_binary_accuracy: 0.9916\n",
            "Epoch 297/300\n",
            "44/44 [==============================] - 9s 207ms/step - loss: 6.6738e-04 - binary_accuracy: 1.0000 - val_loss: 0.0087 - val_binary_accuracy: 0.9916\n",
            "Epoch 298/300\n",
            "44/44 [==============================] - 9s 207ms/step - loss: 8.6566e-04 - binary_accuracy: 1.0000 - val_loss: 0.0089 - val_binary_accuracy: 0.9916\n",
            "Epoch 299/300\n",
            "44/44 [==============================] - 9s 209ms/step - loss: 9.3372e-04 - binary_accuracy: 1.0000 - val_loss: 0.0089 - val_binary_accuracy: 0.9916\n",
            "Epoch 300/300\n",
            "44/44 [==============================] - 9s 207ms/step - loss: 6.8449e-04 - binary_accuracy: 1.0000 - val_loss: 0.0089 - val_binary_accuracy: 0.9916\n"
          ],
          "name": "stdout"
        }
      ]
    },
    {
      "cell_type": "code",
      "metadata": {
        "id": "LdJAEL4AQqFq",
        "colab": {
          "base_uri": "https://localhost:8080/",
          "height": 573
        },
        "outputId": "5f5b4dd0-e981-470a-d939-8328ef3cf3f3"
      },
      "source": [
        "# list all data in history\n",
        "# print(model_history.history.keys())\n",
        "\n",
        "model_history = ECG_30k_butter_his\n",
        "\n",
        "# summarize history for accuracy\n",
        "plt.plot(model_history.history['binary_accuracy'])\n",
        "plt.plot(model_history.history['val_binary_accuracy'])\n",
        "plt.title('Model Accuracy')\n",
        "plt.ylabel('Accuracy')\n",
        "plt.xlabel('Epoch')\n",
        "# plt.ylim([0.60, 1.00])\n",
        "plt.legend(['Training', 'Validation'], loc='lower right')\n",
        "plt.show()\n",
        "\n",
        "# summarize history for loss\n",
        "plt.plot(model_history.history['loss'])\n",
        "plt.plot(model_history.history['val_loss'])\n",
        "plt.title('Model Loss')\n",
        "plt.ylabel('Loss')\n",
        "plt.xlabel('Epoch')\n",
        "plt.legend(['Training', 'Validation'], loc='best')\n",
        "plt.show()"
      ],
      "execution_count": null,
      "outputs": [
        {
          "output_type": "display_data",
          "data": {
            "image/png": "[encoded data removed]",
            "text/plain": [
              "<Figure size 432x288 with 1 Axes>"
            ]
          },
          "metadata": {
            "needs_background": "light"
          }
        },
        {
          "output_type": "display_data",
          "data": {
            "image/png": "[encoded data removed]",
            "text/plain": [
              "<Figure size 432x288 with 1 Axes>"
            ]
          },
          "metadata": {
            "needs_background": "light"
          }
        }
      ]
    },
    {
      "cell_type": "markdown",
      "metadata": {
        "id": "r86gYBL1QqFr"
      },
      "source": [
        "Model Evaluation"
      ]
    },
    {
      "cell_type": "code",
      "metadata": {
        "id": "n7znRCoKQqFr",
        "colab": {
          "base_uri": "https://localhost:8080/"
        },
        "outputId": "b39da4d5-a3c5-4109-bae8-aa9568c53d02"
      },
      "source": [
        "# Load the Final model\n",
        "model = keras.models.load_model('Training_models/ECG/Model_2/ECG.final_run.hdf5')\n",
        "\n",
        "test_scores = model.evaluate(input_test, output_test, verbose = 0)\n",
        "print(\"Test loss:\", test_scores[0])               # 0.1305         \n",
        "print(\"Test accuracy:\", test_scores[1])           # 0.9650"
      ],
      "execution_count": null,
      "outputs": [
        {
          "output_type": "stream",
          "text": [
            "Test loss: 0.0001774470292730257\n",
            "Test accuracy: 1.0\n"
          ],
          "name": "stdout"
        }
      ]
    },
    {
      "cell_type": "code",
      "metadata": {
        "id": "DbVQyPxxQqFs"
      },
      "source": [
        "yhat = (model.predict(input_test) > 0.5).astype(\"int32\")\n",
        "\n",
        "conf_matrix = confusion_matrix(output_test,yhat)"
      ],
      "execution_count": null,
      "outputs": []
    },
    {
      "cell_type": "code",
      "metadata": {
        "id": "5O64saosQqFs",
        "colab": {
          "base_uri": "https://localhost:8080/",
          "height": 301
        },
        "outputId": "32536ce0-0b14-4d9c-9f38-f6db26d3a282"
      },
      "source": [
        "# Print the confusion matrix using Matplotlib\n",
        "\n",
        "fig, ax = plt.subplots()\n",
        "ax.matshow(conf_matrix, cmap=plt.cm.Blues, alpha=0.3)\n",
        "for i in range(conf_matrix.shape[0]):\n",
        "    for j in range(conf_matrix.shape[1]):\n",
        "        ax.text(x=j, y=i,s=conf_matrix[i, j], va='center', ha='center', size='xx-large')\n",
        " \n",
        "plt.xlabel('Predictions', fontsize=18)\n",
        "plt.ylabel('Actuals', fontsize=18)\n",
        "plt.title('Confusion Matrix', fontsize=18)\n",
        "plt.show()"
      ],
      "execution_count": null,
      "outputs": [
        {
          "output_type": "display_data",
          "data": {
            "image/png": "[encoded data removed]",
            "text/plain": [
              "<Figure size 432x288 with 1 Axes>"
            ]
          },
          "metadata": {
            "needs_background": "light"
          }
        }
      ]
    },
    {
      "cell_type": "code",
      "metadata": {
        "colab": {
          "base_uri": "https://localhost:8080/",
          "height": 295
        },
        "id": "UFZJzfCYnS1K",
        "outputId": "1245dfb4-0f55-426a-e2eb-94fcbe691d5c"
      },
      "source": [
        "import seaborn as sns\n",
        "import matplotlib.pyplot as plt     \n",
        "\n",
        "ax= plt.subplot()\n",
        "sns.heatmap(conf_matrix, annot=True, fmt='g', ax=ax);  #annot=True to annotate cells, ftm='g' to disable scientific notation\n",
        "\n",
        "# labels, title and ticks\n",
        "ax.set_xlabel('Predicted labels');ax.set_ylabel('True labels'); \n",
        "ax.set_title('Confusion Matrix'); \n",
        "ax.xaxis.set_ticklabels(['Normal', 'AFib']); ax.yaxis.set_ticklabels(['Normal', 'AFib']);\n"
      ],
      "execution_count": null,
      "outputs": [
        {
          "output_type": "display_data",
          "data": {
            "image/png": "[encoded data removed]",
            "text/plain": [
              "<Figure size 432x288 with 2 Axes>"
            ]
          },
          "metadata": {
            "needs_background": "light"
          }
        }
      ]
    },
    {
      "cell_type": "code",
      "metadata": {
        "id": "6IiJRFsjQqFt",
        "colab": {
          "base_uri": "https://localhost:8080/"
        },
        "outputId": "b8f7960f-475e-4b11-ae25-f620f81537d4"
      },
      "source": [
        "accuracy = accuracy_score(output_test, yhat)\n",
        "print('Accuracy:\\t\\t', round(accuracy,4))\n",
        "\n",
        "# precision tp / (tp + fp)\n",
        "precision = precision_score(output_test, yhat)\n",
        "print('Precision:\\t\\t', round(precision,4))\n",
        "\n",
        "# recall: tp / (tp + fn)\n",
        "recall = recall_score(output_test, yhat)\n",
        "print('Recall: \\t\\t', round(recall,4))\n",
        "\n",
        "# f1: 2 tp / (2 tp + fp + fn)\n",
        "f1 = f1_score(output_test, yhat)\n",
        "print('F1 score:\\t\\t', round(f1,4))"
      ],
      "execution_count": null,
      "outputs": [
        {
          "output_type": "stream",
          "text": [
            "Accuracy:\t\t 1.0\n",
            "Precision:\t\t 1.0\n",
            "Recall: \t\t 1.0\n",
            "F1 score:\t\t 1.0\n"
          ],
          "name": "stdout"
        }
      ]
    },
    {
      "cell_type": "code",
      "metadata": {
        "id": "IlSAphxJREAW"
      },
      "source": [
        ""
      ],
      "execution_count": null,
      "outputs": []
    },
    {
      "cell_type": "code",
      "metadata": {
        "id": "kj99tukwg7rH"
      },
      "source": [
        ""
      ],
      "execution_count": null,
      "outputs": []
    },
    {
      "cell_type": "code",
      "metadata": {
        "id": "nV1IH3jTg7om"
      },
      "source": [
        ""
      ],
      "execution_count": null,
      "outputs": []
    },
    {
      "cell_type": "code",
      "metadata": {
        "id": "c4oMWdvag7l5"
      },
      "source": [
        ""
      ],
      "execution_count": null,
      "outputs": []
    },
    {
      "cell_type": "code",
      "metadata": {
        "id": "N9b27BNhg7jR"
      },
      "source": [
        ""
      ],
      "execution_count": null,
      "outputs": []
    },
    {
      "cell_type": "markdown",
      "metadata": {
        "id": "J_fgsxl3REeP"
      },
      "source": [
        "## 1.4 Model using Afib Baseline Wander "
      ]
    },
    {
      "cell_type": "code",
      "metadata": {
        "id": "RYpg3xJKREeQ"
      },
      "source": [
        "input_train, output_train, input_test, output_test, input_val, output_val = \\\n",
        "prepare_data(galenband_ECG_30k_segmented_wander_afib, 30000, test_prop = 0.3, val_prop = 0.6)"
      ],
      "execution_count": null,
      "outputs": []
    },
    {
      "cell_type": "code",
      "metadata": {
        "id": "lJiaV3vWREeQ"
      },
      "source": [
        "print(\"input train shape:\\t \", input_train.shape)\n",
        "print(\"output train shape:\\t \", output_train.shape)\n",
        "\n",
        "print(\"\\ninput test shape:\\t \", input_test.shape)\n",
        "print(\"output test shape:\\t \", output_test.shape)\n",
        "\n",
        "print(\"\\ninput val shape:\\t \", input_val.shape)\n",
        "print(\"output val shape:\\t \", output_val.shape)"
      ],
      "execution_count": null,
      "outputs": []
    },
    {
      "cell_type": "code",
      "metadata": {
        "id": "YEPz91YfREeR"
      },
      "source": [
        "class_weights = class_weight.compute_class_weight('balanced',np.unique(output_train.flatten()), output_train.flatten())\n",
        "\n",
        "class_weight_dict = dict(enumerate(class_weights))\n",
        "\n",
        "class_weight_dict"
      ],
      "execution_count": null,
      "outputs": []
    },
    {
      "cell_type": "code",
      "metadata": {
        "id": "gyrZRAkvREeS"
      },
      "source": [
        "# Defining parameter values\n",
        "epochs          = 200\n",
        "batch_size      = 16"
      ],
      "execution_count": null,
      "outputs": []
    },
    {
      "cell_type": "code",
      "metadata": {
        "id": "PSNv9ag9REeS"
      },
      "source": [
        "# Load the saved model\n",
        "base_model  = keras.models.load_model('Training_models/CNN-LSTM Normal data/Model 4_1/ECG.epoch_25.TL_0.2977.VL_0.2020.TA_0.93.VA_0.94.hdf5')\n",
        "weights     = base_model.get_weights()"
      ],
      "execution_count": null,
      "outputs": []
    },
    {
      "cell_type": "code",
      "metadata": {
        "id": "-uzPiwKAREeT"
      },
      "source": [
        "ECG_30k_wander_afib = Sequential()\n",
        "\n",
        "# 64, 64, 32, 16, 8, 32\n",
        "\n",
        "input_shape = (30000, 1)\n",
        "ECG_30k_wander_afib.add(InputLayer(input_shape=input_shape))\n",
        "\n",
        "ECG_30k_wander_afib.add(Conv1D(64, 2,padding='causal', activation=\"tanh\"))\n",
        "ECG_30k_wander_afib.add(MaxPooling1D(2))\n",
        "\n",
        "ECG_30k_wander_afib.add(Conv1D(64, 2,padding='same', activation=\"tanh\"))\n",
        "ECG_30k_wander_afib.add(MaxPooling1D(2))\n",
        "\n",
        "ECG_30k_wander_afib.add(LSTM(32,activation = \"tanh\", return_sequences = True))\n",
        "ECG_30k_wander_afib.add(LSTM(16, activation = \"tanh\", return_sequences = True))\n",
        "ECG_30k_wander_afib.add(LSTM(8, activation = \"tanh\"))\n",
        "\n",
        "ECG_30k_wander_afib.add(Dense(32, activation='tanh'))\n",
        "ECG_30k_wander_afib.add(BatchNormalization())\n",
        "ECG_30k_wander_afib.add(Dense(1, activation = 'sigmoid'))\n",
        "\n",
        "ECG_30k_wander_afib.summary()\n",
        "\n",
        "# set weights\n",
        "ECG_30k_wander_afib.set_weights(weights)"
      ],
      "execution_count": null,
      "outputs": []
    },
    {
      "cell_type": "code",
      "metadata": {
        "id": "TCKUr7omREeU"
      },
      "source": [
        "# model training configuration \n",
        "ECG_30k_wander_afib.compile(optimizer = keras.optimizers.Adam(),\n",
        "                                loss      = keras.losses.BinaryCrossentropy(),\n",
        "                                metrics   = [keras.metrics.BinaryAccuracy()])\n",
        "\n",
        "#SGD(learning_rate=0.01, decay=1e-6, momentum=0.9, nesterov=True)\n",
        "\n",
        "# Callback to reduce the learning rate when the validation loss has stopped improving\n",
        "reduce_lr = keras.callbacks.ReduceLROnPlateau(monitor = 'val_loss', factor = 0.1, patience = 25, mode = 'min')\n",
        "\n",
        "# Callback to stop training the model when the validation loss has stopped improving\n",
        "early_stop = keras.callbacks.EarlyStopping(monitor = 'val_loss', patience = 35, mode = 'min')\n",
        "\n",
        "# CHECKPOINT callback\n",
        "filepath = \"Training_models/ECG_30k_wander_afib/Model_1/ECG.epoch_{epoch:02d}.TL_{loss:.4f}.VL_{val_loss:.4f}.TA_{binary_accuracy:.2f}.VA_{val_binary_accuracy:.2f}.hdf5\"\n",
        "\n",
        "# Save training model when there is an improvement in validation_accuracy from the previous checkpint\n",
        "model_save = keras.callbacks.ModelCheckpoint(filepath, \n",
        "                                             monitor = 'val_binary_accuracy',\n",
        "                                             save_best_only=True, \n",
        "                                             mode = 'max')\n",
        "\n",
        "\n"
      ],
      "execution_count": null,
      "outputs": []
    },
    {
      "cell_type": "code",
      "metadata": {
        "id": "7Zx_9qA2REeU"
      },
      "source": [
        "# Fitting the model\n",
        "ECG_30k_wander_afib_his = ECG_30k_wander_afib.fit(input_train, output_train,\n",
        "                                                          batch_size = batch_size , epochs = epochs, \n",
        "                                                          validation_data = (input_val, output_val),\n",
        "                                                          # class_weight=class_weight_dict_1,\n",
        "                                                          callbacks=[early_stop, reduce_lr,model_save])\n",
        "\n",
        "ECG_30k_wander_afib.save('Training_models/ECG_30k_wander_afib/Model_1/ECG.final_run.hdf5')"
      ],
      "execution_count": null,
      "outputs": []
    },
    {
      "cell_type": "code",
      "metadata": {
        "id": "yVOdsT2DREeV"
      },
      "source": [
        "# list all data in history\n",
        "# print(model_history.history.keys())\n",
        "\n",
        "model_history = ECG_30k_wander_afib_his\n",
        "\n",
        "# summarize history for accuracy\n",
        "plt.plot(model_history.history['binary_accuracy'])\n",
        "plt.plot(model_history.history['val_binary_accuracy'])\n",
        "plt.title('Model Accuracy')\n",
        "plt.ylabel('Accuracy')\n",
        "plt.xlabel('Epoch')\n",
        "# plt.ylim([0.60, 1.00])\n",
        "plt.legend(['Training', 'Validation'], loc='lower right')\n",
        "plt.show()\n",
        "\n",
        "# summarize history for loss\n",
        "plt.plot(model_history.history['loss'])\n",
        "plt.plot(model_history.history['val_loss'])\n",
        "plt.title('Model Loss')\n",
        "plt.ylabel('Loss')\n",
        "plt.xlabel('Epoch')\n",
        "plt.legend(['Training', 'Validation'], loc='best')\n",
        "plt.show()"
      ],
      "execution_count": null,
      "outputs": []
    },
    {
      "cell_type": "markdown",
      "metadata": {
        "id": "rRVdNPaBREeV"
      },
      "source": [
        "Model Evaluation"
      ]
    },
    {
      "cell_type": "code",
      "metadata": {
        "id": "WQohzApQREeV"
      },
      "source": [
        "# Load the Final model\n",
        "model = ECG_30k_wander_afib\n",
        "\n",
        "test_scores = model.evaluate(input_test, output_test, verbose = 0)\n",
        "print(\"Test loss:\", test_scores[0])               # 0.1305         \n",
        "print(\"Test accuracy:\", test_scores[1])           # 0.9650"
      ],
      "execution_count": null,
      "outputs": []
    },
    {
      "cell_type": "code",
      "metadata": {
        "id": "cV5ZzS3SREeW"
      },
      "source": [
        "yhat = model.predict_classes(input_test)\n",
        "\n",
        "conf_matrix = confusion_matrix(output_test,yhat)"
      ],
      "execution_count": null,
      "outputs": []
    },
    {
      "cell_type": "code",
      "metadata": {
        "id": "6KN06tKZREeW"
      },
      "source": [
        "# Print the confusion matrix using Matplotlib\n",
        "\n",
        "fig, ax = plt.subplots()\n",
        "ax.matshow(conf_matrix, cmap=plt.cm.Blues, alpha=0.3)\n",
        "for i in range(conf_matrix.shape[0]):\n",
        "    for j in range(conf_matrix.shape[1]):\n",
        "        ax.text(x=j, y=i,s=conf_matrix[i, j], va='center', ha='center', size='xx-large')\n",
        " \n",
        "plt.xlabel('Predictions', fontsize=18)\n",
        "plt.ylabel('Actuals', fontsize=18)\n",
        "plt.title('Confusion Matrix', fontsize=18)\n",
        "plt.show()"
      ],
      "execution_count": null,
      "outputs": []
    },
    {
      "cell_type": "code",
      "metadata": {
        "id": "gU-Vuk8sREeX"
      },
      "source": [
        "accuracy = accuracy_score(output_test, yhat)\n",
        "print('Accuracy:\\t\\t', round(accuracy,4))\n",
        "\n",
        "# precision tp / (tp + fp)\n",
        "precision = precision_score(output_test, yhat)\n",
        "print('Precision:\\t\\t', round(precision,4))\n",
        "\n",
        "# recall: tp / (tp + fn)\n",
        "recall = recall_score(output_test, yhat)\n",
        "print('Recall: \\t\\t', round(recall,4))\n",
        "\n",
        "# f1: 2 tp / (2 tp + fp + fn)\n",
        "f1 = f1_score(output_test, yhat)\n",
        "print('F1 score:\\t\\t', round(f1,4))"
      ],
      "execution_count": null,
      "outputs": []
    },
    {
      "cell_type": "code",
      "metadata": {
        "id": "Tzivq__ZRqNd"
      },
      "source": [
        ""
      ],
      "execution_count": null,
      "outputs": []
    },
    {
      "cell_type": "markdown",
      "metadata": {
        "id": "cWEH9RJZRqi_"
      },
      "source": [
        "## 1.5 Model using all Baseline Wander "
      ]
    },
    {
      "cell_type": "code",
      "metadata": {
        "id": "vU3wKnUJRqi_"
      },
      "source": [
        "input_train, output_train, input_test, output_test, input_val, output_val = \\\n",
        "prepare_data(galenband_ECG_30k_segmented_wander, 30000, test_prop = 0.3, val_prop = 0.6)"
      ],
      "execution_count": null,
      "outputs": []
    },
    {
      "cell_type": "code",
      "metadata": {
        "id": "ZB1fwjg1RqjA"
      },
      "source": [
        "print(\"input train shape:\\t \", input_train.shape)\n",
        "print(\"output train shape:\\t \", output_train.shape)\n",
        "\n",
        "print(\"\\ninput test shape:\\t \", input_test.shape)\n",
        "print(\"output test shape:\\t \", output_test.shape)\n",
        "\n",
        "print(\"\\ninput val shape:\\t \", input_val.shape)\n",
        "print(\"output val shape:\\t \", output_val.shape)"
      ],
      "execution_count": null,
      "outputs": []
    },
    {
      "cell_type": "code",
      "metadata": {
        "id": "_RiIpt9XRqjB"
      },
      "source": [
        "class_weights = class_weight.compute_class_weight('balanced',np.unique(output_train.flatten()), output_train.flatten())\n",
        "\n",
        "class_weight_dict = dict(enumerate(class_weights))\n",
        "\n",
        "class_weight_dict"
      ],
      "execution_count": null,
      "outputs": []
    },
    {
      "cell_type": "code",
      "metadata": {
        "id": "r8YqEgyHRqjB"
      },
      "source": [
        "# Defining parameter values\n",
        "epochs          = 200\n",
        "batch_size      = 16"
      ],
      "execution_count": null,
      "outputs": []
    },
    {
      "cell_type": "code",
      "metadata": {
        "id": "iwBZ2CJsRqjC"
      },
      "source": [
        "# Load the saved model\n",
        "base_model  = keras.models.load_model('Training_models/CNN-LSTM Normal data/Model 4_1/ECG.epoch_25.TL_0.2977.VL_0.2020.TA_0.93.VA_0.94.hdf5')\n",
        "weights     = base_model.get_weights()"
      ],
      "execution_count": null,
      "outputs": []
    },
    {
      "cell_type": "code",
      "metadata": {
        "id": "V4ZkVHFERqjC"
      },
      "source": [
        "ECG_30k_wander = Sequential()\n",
        "\n",
        "# 64, 64, 32, 16, 8, 32\n",
        "\n",
        "input_shape = (30000, 1)\n",
        "ECG_30k_wander.add(InputLayer(input_shape=input_shape))\n",
        "\n",
        "ECG_30k_wander.add(Conv1D(64, 2,padding='causal', activation=\"tanh\"))\n",
        "ECG_30k_wander.add(MaxPooling1D(2))\n",
        "\n",
        "ECG_30k_wander.add(Conv1D(64, 2,padding='same', activation=\"tanh\"))\n",
        "ECG_30k_wander.add(MaxPooling1D(2))\n",
        "\n",
        "ECG_30k_wander.add(LSTM(32,activation = \"tanh\", return_sequences = True))\n",
        "ECG_30k_wander.add(LSTM(16, activation = \"tanh\", return_sequences = True))\n",
        "ECG_30k_wander.add(LSTM(8, activation = \"tanh\"))\n",
        "\n",
        "ECG_30k_wander.add(Dense(32, activation='tanh'))\n",
        "ECG_30k_wander.add(BatchNormalization())\n",
        "ECG_30k_wander.add(Dense(1, activation = 'sigmoid'))\n",
        "\n",
        "ECG_30k_wander.summary()\n",
        "\n",
        "# set weights\n",
        "ECG_30k_wander.set_weights(weights)"
      ],
      "execution_count": null,
      "outputs": []
    },
    {
      "cell_type": "code",
      "metadata": {
        "id": "0VRTROMARqjC"
      },
      "source": [
        "# model training configuration \n",
        "ECG_30k_wander.compile(optimizer = keras.optimizers.Adam(),\n",
        "                                loss      = keras.losses.BinaryCrossentropy(),\n",
        "                                metrics   = [keras.metrics.BinaryAccuracy()])\n",
        "\n",
        "#SGD(learning_rate=0.01, decay=1e-6, momentum=0.9, nesterov=True)\n",
        "\n",
        "# Callback to reduce the learning rate when the validation loss has stopped improving\n",
        "reduce_lr = keras.callbacks.ReduceLROnPlateau(monitor = 'val_loss', factor = 0.1, patience = 25, mode = 'min')\n",
        "\n",
        "# Callback to stop training the model when the validation loss has stopped improving\n",
        "early_stop = keras.callbacks.EarlyStopping(monitor = 'val_loss', patience = 35, mode = 'min')\n",
        "\n",
        "# CHECKPOINT callback\n",
        "filepath = \"Training_models/ECG_30k_wander/Model_1/ECG.epoch_{epoch:02d}.TL_{loss:.4f}.VL_{val_loss:.4f}.TA_{binary_accuracy:.2f}.VA_{val_binary_accuracy:.2f}.hdf5\"\n",
        "\n",
        "# Save training model when there is an improvement in validation_accuracy from the previous checkpint\n",
        "model_save = keras.callbacks.ModelCheckpoint(filepath, \n",
        "                                             monitor = 'val_binary_accuracy',\n",
        "                                             save_best_only=True, \n",
        "                                             mode = 'max')\n",
        "\n",
        "\n"
      ],
      "execution_count": null,
      "outputs": []
    },
    {
      "cell_type": "code",
      "metadata": {
        "id": "ScpfjhTrRqjD"
      },
      "source": [
        "# Fitting the model\n",
        "ECG_30k_wander_his = ECG_30k_wander.fit(input_train, output_train,\n",
        "                                                          batch_size = batch_size , epochs = epochs, \n",
        "                                                          validation_data = (input_val, output_val),\n",
        "                                                          # class_weight=class_weight_dict_1,\n",
        "                                                          callbacks=[early_stop, reduce_lr,model_save])\n",
        "\n",
        "ECG_30k_wander.save('Training_models/ECG_30k_wander/Model_1/ECG.final_run.hdf5')"
      ],
      "execution_count": null,
      "outputs": []
    },
    {
      "cell_type": "code",
      "metadata": {
        "id": "nfOqCf9bRqjD"
      },
      "source": [
        "# list all data in history\n",
        "# print(model_history.history.keys())\n",
        "\n",
        "model_history = ECG_30k_wander_his\n",
        "\n",
        "# summarize history for accuracy\n",
        "plt.plot(model_history.history['binary_accuracy'])\n",
        "plt.plot(model_history.history['val_binary_accuracy'])\n",
        "plt.title('Model Accuracy')\n",
        "plt.ylabel('Accuracy')\n",
        "plt.xlabel('Epoch')\n",
        "# plt.ylim([0.60, 1.00])\n",
        "plt.legend(['Training', 'Validation'], loc='lower right')\n",
        "plt.show()\n",
        "\n",
        "# summarize history for loss\n",
        "plt.plot(model_history.history['loss'])\n",
        "plt.plot(model_history.history['val_loss'])\n",
        "plt.title('Model Loss')\n",
        "plt.ylabel('Loss')\n",
        "plt.xlabel('Epoch')\n",
        "plt.legend(['Training', 'Validation'], loc='best')\n",
        "plt.show()"
      ],
      "execution_count": null,
      "outputs": []
    },
    {
      "cell_type": "markdown",
      "metadata": {
        "id": "UoL57v_YRqjE"
      },
      "source": [
        "Model Evaluation"
      ]
    },
    {
      "cell_type": "code",
      "metadata": {
        "id": "mFCaWBUJRqjE"
      },
      "source": [
        "# Load the Final model\n",
        "model = ECG_30k_wander\n",
        "\n",
        "test_scores = model.evaluate(input_test, output_test, verbose = 0)\n",
        "print(\"Test loss:\", test_scores[0])               # 0.1305         \n",
        "print(\"Test accuracy:\", test_scores[1])           # 0.9650"
      ],
      "execution_count": null,
      "outputs": []
    },
    {
      "cell_type": "code",
      "metadata": {
        "id": "nyYuh50ARqjE"
      },
      "source": [
        "yhat = model.predict_classes(input_test)\n",
        "\n",
        "conf_matrix = confusion_matrix(output_test,yhat)"
      ],
      "execution_count": null,
      "outputs": []
    },
    {
      "cell_type": "code",
      "metadata": {
        "id": "ePJTCTmzRqjF"
      },
      "source": [
        "# Print the confusion matrix using Matplotlib\n",
        "\n",
        "fig, ax = plt.subplots()\n",
        "ax.matshow(conf_matrix, cmap=plt.cm.Blues, alpha=0.3)\n",
        "for i in range(conf_matrix.shape[0]):\n",
        "    for j in range(conf_matrix.shape[1]):\n",
        "        ax.text(x=j, y=i,s=conf_matrix[i, j], va='center', ha='center', size='xx-large')\n",
        " \n",
        "plt.xlabel('Predictions', fontsize=18)\n",
        "plt.ylabel('Actuals', fontsize=18)\n",
        "plt.title('Confusion Matrix', fontsize=18)\n",
        "plt.show()"
      ],
      "execution_count": null,
      "outputs": []
    },
    {
      "cell_type": "code",
      "metadata": {
        "id": "or7EZrdERqjF"
      },
      "source": [
        "accuracy = accuracy_score(output_test, yhat)\n",
        "print('Accuracy:\\t\\t', round(accuracy,4))\n",
        "\n",
        "# precision tp / (tp + fp)\n",
        "precision = precision_score(output_test, yhat)\n",
        "print('Precision:\\t\\t', round(precision,4))\n",
        "\n",
        "# recall: tp / (tp + fn)\n",
        "recall = recall_score(output_test, yhat)\n",
        "print('Recall: \\t\\t', round(recall,4))\n",
        "\n",
        "# f1: 2 tp / (2 tp + fp + fn)\n",
        "f1 = f1_score(output_test, yhat)\n",
        "print('F1 score:\\t\\t', round(f1,4))"
      ],
      "execution_count": null,
      "outputs": []
    },
    {
      "cell_type": "code",
      "metadata": {
        "id": "Ceh2RTLsaeU7"
      },
      "source": [
        "ECG_30k_segmented_model.save('Training_models/ECG_30k_original/Model_1/ECG.final_run.hdf5')"
      ],
      "execution_count": null,
      "outputs": []
    },
    {
      "cell_type": "code",
      "metadata": {
        "id": "ivcMzWTYae_O"
      },
      "source": [
        ""
      ],
      "execution_count": null,
      "outputs": []
    },
    {
      "cell_type": "markdown",
      "metadata": {
        "id": "CRuuEM5KrfG0"
      },
      "source": [
        "# 1. Models with 9k sample sequence"
      ]
    },
    {
      "cell_type": "markdown",
      "metadata": {
        "id": "JsD0nWy-rfG1"
      },
      "source": [
        "## 1.1 Model using Normal data"
      ]
    },
    {
      "cell_type": "code",
      "metadata": {
        "id": "sINBCyvkrfG1"
      },
      "source": [
        "input_train, output_train, input_test, output_test, input_val, output_val = \\\n",
        "prepare_data(galenband_ECG_9k_segmented, 9000, test_prop = 0.3, val_prop = 0.60)"
      ],
      "execution_count": null,
      "outputs": []
    },
    {
      "cell_type": "code",
      "metadata": {
        "id": "WcyRXk96rfG2"
      },
      "source": [
        "print(\"input train shape:\\t \", input_train.shape)\n",
        "print(\"output train shape:\\t \", output_train.shape)\n",
        "\n",
        "print(\"\\ninput test shape:\\t \", input_test.shape)\n",
        "print(\"output test shape:\\t \", output_test.shape)\n",
        "\n",
        "print(\"\\ninput val shape:\\t \", input_val.shape)\n",
        "print(\"output val shape:\\t \", output_val.shape)"
      ],
      "execution_count": null,
      "outputs": []
    },
    {
      "cell_type": "code",
      "metadata": {
        "id": "ldctG941rfG3"
      },
      "source": [
        "class_weights = class_weight.compute_class_weight('balanced',np.unique(output_train.flatten()), output_train.flatten())\n",
        "\n",
        "class_weight_dict = dict(enumerate(class_weights))\n",
        "\n",
        "class_weight_dict"
      ],
      "execution_count": null,
      "outputs": []
    },
    {
      "cell_type": "code",
      "metadata": {
        "id": "aCNwPW6HrfG3"
      },
      "source": [
        "# Defining parameter values\n",
        "epochs          = 200\n",
        "batch_size      = 16"
      ],
      "execution_count": null,
      "outputs": []
    },
    {
      "cell_type": "code",
      "metadata": {
        "id": "Y7cV79X0rfG4"
      },
      "source": [
        "# Load the saved model\n",
        "base_model  = keras.models.load_model('Training_models/CNN-LSTM Normal data/Model 4_1/ECG.epoch_25.TL_0.2977.VL_0.2020.TA_0.93.VA_0.94.hdf5')\n",
        "weights     = base_model.get_weights()"
      ],
      "execution_count": null,
      "outputs": []
    },
    {
      "cell_type": "code",
      "metadata": {
        "id": "kifyMJGPrfG4"
      },
      "source": [
        "ECG_9k_segmented_model = Sequential()\n",
        "\n",
        "# 64, 64, 32, 16, 8, 32\n",
        "\n",
        "input_shape = (9000, 1)\n",
        "ECG_9k_segmented_model.add(InputLayer(input_shape=input_shape))\n",
        "\n",
        "ECG_9k_segmented_model.add(Conv1D(64, 2,padding='causal', activation=\"tanh\"))\n",
        "ECG_9k_segmented_model.add(MaxPooling1D(2))\n",
        "\n",
        "ECG_9k_segmented_model.add(Conv1D(64, 2,padding='same', activation=\"tanh\"))\n",
        "ECG_9k_segmented_model.add(MaxPooling1D(2))\n",
        "\n",
        "ECG_9k_segmented_model.add(LSTM(32,activation = \"tanh\", return_sequences = True))\n",
        "ECG_9k_segmented_model.add(LSTM(16, activation = \"tanh\", return_sequences = True))\n",
        "ECG_9k_segmented_model.add(LSTM(8, activation = \"tanh\"))\n",
        "\n",
        "ECG_9k_segmented_model.add(Dense(32, activation='tanh'))\n",
        "ECG_9k_segmented_model.add(BatchNormalization())\n",
        "ECG_9k_segmented_model.add(Dense(1, activation = 'sigmoid'))\n",
        "\n",
        "ECG_9k_segmented_model.summary()\n",
        "\n",
        "# set weights\n",
        "ECG_9k_segmented_model.set_weights(weights)"
      ],
      "execution_count": null,
      "outputs": []
    },
    {
      "cell_type": "code",
      "metadata": {
        "id": "rLVnH81brfG5"
      },
      "source": [
        "# model training configuration \n",
        "ECG_9k_segmented_model.compile(optimizer = keras.optimizers.Adam(),\n",
        "                                loss      = keras.losses.BinaryCrossentropy(),\n",
        "                                metrics   = [keras.metrics.BinaryAccuracy()])\n",
        "\n",
        "#SGD(learning_rate=0.01, decay=1e-6, momentum=0.9, nesterov=True)\n",
        "\n",
        "# Callback to reduce the learning rate when the validation loss has stopped improving\n",
        "reduce_lr = keras.callbacks.ReduceLROnPlateau(monitor = 'val_loss', factor = 0.1, patience = 25, mode = 'min')\n",
        "\n",
        "# Callback to stop training the model when the validation loss has stopped improving\n",
        "early_stop = keras.callbacks.EarlyStopping(monitor = 'val_loss', patience = 35, mode = 'min')\n",
        "\n",
        "# CHECKPOINT callback\n",
        "filepath = \"Training_models/ECG_9k_original/Model_1/ECG.epoch_{epoch:02d}.TL_{loss:.4f}.VL_{val_loss:.4f}.TA_{binary_accuracy:.2f}.VA_{val_binary_accuracy:.2f}.hdf5\"\n",
        "\n",
        "# Save training model when there is an improvement in validation_accuracy from the previous checkpint\n",
        "model_save = keras.callbacks.ModelCheckpoint(filepath, \n",
        "                                             monitor = 'val_binary_accuracy',\n",
        "                                             save_best_only=True, \n",
        "                                             mode = 'max')\n",
        "\n",
        "\n"
      ],
      "execution_count": null,
      "outputs": []
    },
    {
      "cell_type": "code",
      "metadata": {
        "id": "fbiUBS_ErfG5"
      },
      "source": [
        "# Fitting the model\n",
        "ECG_9k_segmented_model_his = ECG_9k_segmented_model.fit(input_train, output_train,\n",
        "                                                          batch_size = batch_size , epochs = epochs, \n",
        "                                                          validation_data = (input_val, output_val),\n",
        "                                                          # class_weight=class_weight_dict_1,\n",
        "                                                          callbacks=[early_stop, reduce_lr,model_save])\n",
        "\n",
        "ECG_9k_segmented_model.save('Training_models/ECG_9k_original/Model_1/ECG.final_run.hdf5')"
      ],
      "execution_count": null,
      "outputs": []
    },
    {
      "cell_type": "code",
      "metadata": {
        "id": "xNvic2PcrfG6"
      },
      "source": [
        "# list all data in history\n",
        "# print(model_history.history.keys())\n",
        "\n",
        "model_history = ECG_9k_segmented_model_his\n",
        "\n",
        "# summarize history for accuracy\n",
        "plt.plot(model_history.history['binary_accuracy'])\n",
        "plt.plot(model_history.history['val_binary_accuracy'])\n",
        "plt.title('Model Accuracy')\n",
        "plt.ylabel('Accuracy')\n",
        "plt.xlabel('Epoch')\n",
        "# plt.ylim([0.60, 1.00])\n",
        "plt.legend(['Training', 'Validation'], loc='lower right')\n",
        "plt.show()\n",
        "\n",
        "# summarize history for loss\n",
        "plt.plot(model_history.history['loss'])\n",
        "plt.plot(model_history.history['val_loss'])\n",
        "plt.title('Model Loss')\n",
        "plt.ylabel('Loss')\n",
        "plt.xlabel('Epoch')\n",
        "plt.legend(['Training', 'Validation'], loc='best')\n",
        "plt.show()"
      ],
      "execution_count": null,
      "outputs": []
    },
    {
      "cell_type": "markdown",
      "metadata": {
        "id": "sjRQBgqYrfG7"
      },
      "source": [
        "Model Evaluation"
      ]
    },
    {
      "cell_type": "code",
      "metadata": {
        "id": "EAjRWt4OrfG7"
      },
      "source": [
        "# Load the Final model\n",
        "# model = keras.models.load_model('Training_models/ECG_30k_original/Model_1/ECG.epoch_48.TL_0.0258.VL_0.0084.TA_1.00.VA_1.00.hdf5')\n",
        "model = ECG_9k_segmented_model\n",
        "\n",
        "test_scores = model.evaluate(input_test, output_test, verbose = 0)\n",
        "print(\"Test loss:\", test_scores[0])               # 0.1305         \n",
        "print(\"Test accuracy:\", test_scores[1])           # 0.9650"
      ],
      "execution_count": null,
      "outputs": []
    },
    {
      "cell_type": "code",
      "metadata": {
        "id": "A70KS1c2rfG7"
      },
      "source": [
        "yhat = model.predict_classes(input_test)\n",
        "\n",
        "conf_matrix = confusion_matrix(output_test,yhat)"
      ],
      "execution_count": null,
      "outputs": []
    },
    {
      "cell_type": "code",
      "metadata": {
        "id": "CoKBANkVrfG8"
      },
      "source": [
        "# Print the confusion matrix using Matplotlib\n",
        "\n",
        "fig, ax = plt.subplots()\n",
        "ax.matshow(conf_matrix, cmap=plt.cm.Blues, alpha=0.3)\n",
        "for i in range(conf_matrix.shape[0]):\n",
        "    for j in range(conf_matrix.shape[1]):\n",
        "        ax.text(x=j, y=i,s=conf_matrix[i, j], va='center', ha='center', size='xx-large')\n",
        " \n",
        "plt.xlabel('Predictions', fontsize=18)\n",
        "plt.ylabel('Actuals', fontsize=18)\n",
        "plt.title('Confusion Matrix', fontsize=18)\n",
        "plt.show()"
      ],
      "execution_count": null,
      "outputs": []
    },
    {
      "cell_type": "code",
      "metadata": {
        "id": "eUthEJDHrfG9"
      },
      "source": [
        "accuracy = accuracy_score(output_test, yhat)\n",
        "print('Accuracy:\\t\\t', round(accuracy,4))\n",
        "\n",
        "# precision tp / (tp + fp)\n",
        "precision = precision_score(output_test, yhat)\n",
        "print('Precision:\\t\\t', round(precision,4))\n",
        "\n",
        "# recall: tp / (tp + fn)\n",
        "recall = recall_score(output_test, yhat)\n",
        "print('Recall: \\t\\t', round(recall,4))\n",
        "\n",
        "# f1: 2 tp / (2 tp + fp + fn)\n",
        "f1 = f1_score(output_test, yhat)\n",
        "print('F1 score:\\t\\t', round(f1,4))"
      ],
      "execution_count": null,
      "outputs": []
    },
    {
      "cell_type": "markdown",
      "metadata": {
        "id": "xm2kNEmlrmzB"
      },
      "source": [
        "## 1.2 Model using All Butterworth Band Pass data"
      ]
    },
    {
      "cell_type": "code",
      "metadata": {
        "id": "7DOToOvVrmzC"
      },
      "source": [
        "input_train, output_train, input_test, output_test, input_val, output_val = \\\n",
        "prepare_data(galenband_ECG_9k_segmented_butter, 9000, test_prop = 0.3, val_prop = 0.6)"
      ],
      "execution_count": null,
      "outputs": []
    },
    {
      "cell_type": "code",
      "metadata": {
        "id": "dmL36nQVrmzC"
      },
      "source": [
        "print(\"input train shape:\\t \", input_train.shape)\n",
        "print(\"output train shape:\\t \", output_train.shape)\n",
        "\n",
        "print(\"\\ninput test shape:\\t \", input_test.shape)\n",
        "print(\"output test shape:\\t \", output_test.shape)\n",
        "\n",
        "print(\"\\ninput val shape:\\t \", input_val.shape)\n",
        "print(\"output val shape:\\t \", output_val.shape)"
      ],
      "execution_count": null,
      "outputs": []
    },
    {
      "cell_type": "code",
      "metadata": {
        "id": "fGJjhmBLrmzD"
      },
      "source": [
        "class_weights = class_weight.compute_class_weight('balanced',np.unique(output_train.flatten()), output_train.flatten())\n",
        "\n",
        "class_weight_dict = dict(enumerate(class_weights))\n",
        "\n",
        "class_weight_dict"
      ],
      "execution_count": null,
      "outputs": []
    },
    {
      "cell_type": "code",
      "metadata": {
        "id": "kKUG6XR2rmzE"
      },
      "source": [
        "# Defining parameter values\n",
        "epochs          = 200\n",
        "batch_size      = 16"
      ],
      "execution_count": null,
      "outputs": []
    },
    {
      "cell_type": "code",
      "metadata": {
        "id": "3Hgn4JZnrmzE"
      },
      "source": [
        "# Load the saved model\n",
        "base_model  = keras.models.load_model('Training_models/CNN-LSTM Normal data/Model 4_1/ECG.epoch_25.TL_0.2977.VL_0.2020.TA_0.93.VA_0.94.hdf5')\n",
        "weights     = base_model.get_weights()"
      ],
      "execution_count": null,
      "outputs": []
    },
    {
      "cell_type": "code",
      "metadata": {
        "id": "NZqg9Tu7rmzE"
      },
      "source": [
        "ECG_9k_butter_model = Sequential()\n",
        "\n",
        "# 64, 64, 32, 16, 8, 32\n",
        "\n",
        "input_shape = (9000, 1)\n",
        "ECG_9k_butter_model.add(InputLayer(input_shape=input_shape))\n",
        "\n",
        "ECG_9k_butter_model.add(Conv1D(64, 2,padding='causal', activation=\"tanh\"))\n",
        "ECG_9k_butter_model.add(MaxPooling1D(2))\n",
        "\n",
        "ECG_9k_butter_model.add(Conv1D(64, 2,padding='same', activation=\"tanh\"))\n",
        "ECG_9k_butter_model.add(MaxPooling1D(2))\n",
        "\n",
        "ECG_9k_butter_model.add(LSTM(32,activation = \"tanh\", return_sequences = True))\n",
        "ECG_9k_butter_model.add(LSTM(16, activation = \"tanh\", return_sequences = True))\n",
        "ECG_9k_butter_model.add(LSTM(8, activation = \"tanh\"))\n",
        "\n",
        "ECG_9k_butter_model.add(Dense(32, activation='tanh'))\n",
        "ECG_9k_butter_model.add(BatchNormalization())\n",
        "ECG_9k_butter_model.add(Dense(1, activation = 'sigmoid'))\n",
        "\n",
        "ECG_9k_butter_model.summary()\n",
        "\n",
        "# set weights\n",
        "ECG_9k_butter_model.set_weights(weights)"
      ],
      "execution_count": null,
      "outputs": []
    },
    {
      "cell_type": "code",
      "metadata": {
        "id": "Uyruu-xfrmzF"
      },
      "source": [
        "# model training configuration \n",
        "ECG_9k_butter_model.compile(optimizer = keras.optimizers.Adam(),\n",
        "                                loss      = keras.losses.BinaryCrossentropy(),\n",
        "                                metrics   = [keras.metrics.BinaryAccuracy()])\n",
        "\n",
        "#SGD(learning_rate=0.01, decay=1e-6, momentum=0.9, nesterov=True)\n",
        "\n",
        "# Callback to reduce the learning rate when the validation loss has stopped improving\n",
        "reduce_lr = keras.callbacks.ReduceLROnPlateau(monitor = 'val_loss', factor = 0.1, patience = 25, mode = 'min')\n",
        "\n",
        "# Callback to stop training the model when the validation loss has stopped improving\n",
        "early_stop = keras.callbacks.EarlyStopping(monitor = 'val_loss', patience = 35, mode = 'min')\n",
        "\n",
        "# CHECKPOINT callback\n",
        "filepath = \"Training_models/ECG_9k_butter/Model_1/ECG.epoch_{epoch:02d}.TL_{loss:.4f}.VL_{val_loss:.4f}.TA_{binary_accuracy:.2f}.VA_{val_binary_accuracy:.2f}.hdf5\"\n",
        "\n",
        "# Save training model when there is an improvement in validation_accuracy from the previous checkpint\n",
        "model_save = keras.callbacks.ModelCheckpoint(filepath, \n",
        "                                             monitor = 'val_binary_accuracy',\n",
        "                                             save_best_only=True, \n",
        "                                             mode = 'max')\n",
        "\n",
        "\n"
      ],
      "execution_count": null,
      "outputs": []
    },
    {
      "cell_type": "code",
      "metadata": {
        "id": "JLZqIk6rrmzG"
      },
      "source": [
        "# Fitting the model\n",
        "ECG_9k_butter_model_his = ECG_9k_butter_model.fit(input_train, output_train,\n",
        "                                                          batch_size = batch_size , epochs = epochs, \n",
        "                                                          validation_data = (input_val, output_val),\n",
        "                                                          # class_weight=class_weight_dict_1,\n",
        "                                                          callbacks=[early_stop, reduce_lr,model_save])\n",
        "\n",
        "ECG_9k_butter_model.save('Training_models/ECG_9k_butter/Model_1/ECG.final_run.hdf5')"
      ],
      "execution_count": null,
      "outputs": []
    },
    {
      "cell_type": "code",
      "metadata": {
        "id": "O5hWu6SarmzH"
      },
      "source": [
        "# list all data in history\n",
        "# print(model_history.history.keys())\n",
        "\n",
        "model_history = ECG_9k_butter_model_his\n",
        "\n",
        "# summarize history for accuracy\n",
        "plt.plot(model_history.history['binary_accuracy'])\n",
        "plt.plot(model_history.history['val_binary_accuracy'])\n",
        "plt.title('Model Accuracy')\n",
        "plt.ylabel('Accuracy')\n",
        "plt.xlabel('Epoch')\n",
        "# plt.ylim([0.60, 1.00])\n",
        "plt.legend(['Training', 'Validation'], loc='lower right')\n",
        "plt.show()\n",
        "\n",
        "# summarize history for loss\n",
        "plt.plot(model_history.history['loss'])\n",
        "plt.plot(model_history.history['val_loss'])\n",
        "plt.title('Model Loss')\n",
        "plt.ylabel('Loss')\n",
        "plt.xlabel('Epoch')\n",
        "plt.legend(['Training', 'Validation'], loc='best')\n",
        "plt.show()"
      ],
      "execution_count": null,
      "outputs": []
    },
    {
      "cell_type": "markdown",
      "metadata": {
        "id": "pfm0BzaYrmzH"
      },
      "source": [
        "Model Evaluation"
      ]
    },
    {
      "cell_type": "code",
      "metadata": {
        "id": "99tNZur0rmzI"
      },
      "source": [
        "# Load the Final model\n",
        "# model = keras.models.load_model('Training_models/ECG_30k_original/Model_1/ECG.epoch_48.TL_0.0258.VL_0.0084.TA_1.00.VA_1.00.hdf5')\n",
        "model = ECG_9k_butter_model\n",
        "test_scores = model.evaluate(input_test, output_test, verbose = 0)\n",
        "print(\"Test loss:\", test_scores[0])               # 0.1305         \n",
        "print(\"Test accuracy:\", test_scores[1])           # 0.9650"
      ],
      "execution_count": null,
      "outputs": []
    },
    {
      "cell_type": "code",
      "metadata": {
        "id": "VpR0Km6frmzJ"
      },
      "source": [
        "yhat = model.predict_classes(input_test)\n",
        "\n",
        "conf_matrix = confusion_matrix(output_test,yhat)"
      ],
      "execution_count": null,
      "outputs": []
    },
    {
      "cell_type": "code",
      "metadata": {
        "id": "duJ5sNTArmzJ"
      },
      "source": [
        "# Print the confusion matrix using Matplotlib\n",
        "\n",
        "fig, ax = plt.subplots()\n",
        "ax.matshow(conf_matrix, cmap=plt.cm.Blues, alpha=0.3)\n",
        "for i in range(conf_matrix.shape[0]):\n",
        "    for j in range(conf_matrix.shape[1]):\n",
        "        ax.text(x=j, y=i,s=conf_matrix[i, j], va='center', ha='center', size='xx-large')\n",
        " \n",
        "plt.xlabel('Predictions', fontsize=18)\n",
        "plt.ylabel('Actuals', fontsize=18)\n",
        "plt.title('Confusion Matrix', fontsize=18)\n",
        "plt.show()"
      ],
      "execution_count": null,
      "outputs": []
    },
    {
      "cell_type": "code",
      "metadata": {
        "id": "UKydBVAdrmzK"
      },
      "source": [
        "accuracy = accuracy_score(output_test, yhat)\n",
        "print('Accuracy:\\t\\t', round(accuracy,4))\n",
        "\n",
        "# precision tp / (tp + fp)\n",
        "precision = precision_score(output_test, yhat)\n",
        "print('Precision:\\t\\t', round(precision,4))\n",
        "\n",
        "# recall: tp / (tp + fn)\n",
        "recall = recall_score(output_test, yhat)\n",
        "print('Recall: \\t\\t', round(recall,4))\n",
        "\n",
        "# f1: 2 tp / (2 tp + fp + fn)\n",
        "f1 = f1_score(output_test, yhat)\n",
        "print('F1 score:\\t\\t', round(f1,4))"
      ],
      "execution_count": null,
      "outputs": []
    },
    {
      "cell_type": "markdown",
      "metadata": {
        "id": "-eh5YUZteLk7"
      },
      "source": [
        "# MISC"
      ]
    },
    {
      "cell_type": "code",
      "metadata": {
        "id": "CcClbJqdeDVc"
      },
      "source": [
        ""
      ],
      "execution_count": null,
      "outputs": []
    },
    {
      "cell_type": "markdown",
      "metadata": {
        "id": "VjTJ62MMlHDp"
      },
      "source": [
        "### again"
      ]
    },
    {
      "cell_type": "code",
      "metadata": {
        "id": "Pl2-JPBDkg9G"
      },
      "source": [
        "##################################################################"
      ],
      "execution_count": null,
      "outputs": []
    },
    {
      "cell_type": "code",
      "metadata": {
        "id": "9--uYqSSkjF5"
      },
      "source": [
        "input_train, output_train, input_test, output_test, input_val, output_val = \\\n",
        "prepare_data(galenband_ECG_30k_segmented, 30000, test_prop = 0.3, val_prop = 0.6)"
      ],
      "execution_count": null,
      "outputs": []
    },
    {
      "cell_type": "code",
      "metadata": {
        "id": "JYVsC5eKkjF6"
      },
      "source": [
        "print(\"input train shape:\\t \", input_train.shape)\n",
        "print(\"output train shape:\\t \", output_train.shape)\n",
        "\n",
        "print(\"\\ninput test shape:\\t \", input_test.shape)\n",
        "print(\"output test shape:\\t \", output_test.shape)\n",
        "\n",
        "print(\"\\ninput val shape:\\t \", input_val.shape)\n",
        "print(\"output val shape:\\t \", output_val.shape)"
      ],
      "execution_count": null,
      "outputs": []
    },
    {
      "cell_type": "code",
      "metadata": {
        "id": "iL579jEikjGB"
      },
      "source": [
        "class_weights = class_weight.compute_class_weight('balanced',np.unique(output_train.flatten()), output_train.flatten())\n",
        "\n",
        "class_weight_dict = dict(enumerate(class_weights))\n",
        "\n",
        "class_weight_dict"
      ],
      "execution_count": null,
      "outputs": []
    },
    {
      "cell_type": "code",
      "metadata": {
        "id": "mfNdnnb2kjGB"
      },
      "source": [
        "# Defining parameter values\n",
        "epochs          = 200\n",
        "batch_size      = 16"
      ],
      "execution_count": null,
      "outputs": []
    },
    {
      "cell_type": "code",
      "metadata": {
        "id": "jxBVK41skjGC"
      },
      "source": [
        "# Load the saved model\n",
        "base_model  = keras.models.load_model('Training_models/CNN-LSTM Normal data/Model 4_1/ECG.epoch_25.TL_0.2977.VL_0.2020.TA_0.93.VA_0.94.hdf5')\n",
        "weights     = base_model.get_weights()"
      ],
      "execution_count": null,
      "outputs": []
    },
    {
      "cell_type": "code",
      "metadata": {
        "id": "Q_gLnPnwkjGC"
      },
      "source": [
        "ECG_30k_segmented_model = Sequential()\n",
        "\n",
        "# 64, 64, 32, 16, 8, 32\n",
        "\n",
        "input_shape = (30000, 1)\n",
        "ECG_30k_segmented_model.add(InputLayer(input_shape=input_shape))\n",
        "\n",
        "ECG_30k_segmented_model.add(Conv1D(64, 2,padding='causal', activation=\"tanh\"))\n",
        "ECG_30k_segmented_model.add(MaxPooling1D(2))\n",
        "\n",
        "ECG_30k_segmented_model.add(Conv1D(64, 2,padding='same', activation=\"tanh\"))\n",
        "ECG_30k_segmented_model.add(MaxPooling1D(2))\n",
        "\n",
        "ECG_30k_segmented_model.add(LSTM(32,activation = \"tanh\", return_sequences = True))\n",
        "ECG_30k_segmented_model.add(LSTM(16, activation = \"tanh\", return_sequences = True))\n",
        "ECG_30k_segmented_model.add(LSTM(8, activation = \"tanh\"))\n",
        "\n",
        "ECG_30k_segmented_model.add(Dense(32, activation='tanh'))\n",
        "ECG_30k_segmented_model.add(BatchNormalization())\n",
        "ECG_30k_segmented_model.add(Dense(1, activation = 'sigmoid'))\n",
        "\n",
        "ECG_30k_segmented_model.summary()\n",
        "\n",
        "# set weights\n",
        "ECG_30k_segmented_model.set_weights(weights)"
      ],
      "execution_count": null,
      "outputs": []
    },
    {
      "cell_type": "code",
      "metadata": {
        "id": "WOOg9WeRkjGD"
      },
      "source": [
        "# model training configuration \n",
        "ECG_30k_segmented_model.compile(optimizer = keras.optimizers.Adam(),\n",
        "                                loss      = keras.losses.BinaryCrossentropy(),\n",
        "                                metrics   = [keras.metrics.BinaryAccuracy()])\n",
        "\n",
        "#SGD(learning_rate=0.01, decay=1e-6, momentum=0.9, nesterov=True)\n",
        "\n",
        "# Callback to reduce the learning rate when the validation loss has stopped improving\n",
        "reduce_lr = keras.callbacks.ReduceLROnPlateau(monitor = 'val_loss', factor = 0.1, patience = 20, mode = 'min')\n",
        "\n",
        "# Callback to stop training the model when the validation loss has stopped improving\n",
        "early_stop = keras.callbacks.EarlyStopping(monitor = 'val_loss', patience = 25, mode = 'min')\n",
        "\n",
        "# CHECKPOINT callback\n",
        "filepath = \"Training_models/ECG_30k_original/Model_2/ECG.epoch_{epoch:02d}.TL_{loss:.4f}.VL_{val_loss:.4f}.TA_{binary_accuracy:.2f}.VA_{val_binary_accuracy:.2f}.hdf5\"\n",
        "\n",
        "# Save training model when there is an improvement in validation_accuracy from the previous checkpint\n",
        "model_save = keras.callbacks.ModelCheckpoint(filepath, \n",
        "                                             monitor = 'val_binary_accuracy',\n",
        "                                             save_best_only=True, \n",
        "                                             mode = 'max')\n",
        "\n",
        "\n"
      ],
      "execution_count": null,
      "outputs": []
    },
    {
      "cell_type": "code",
      "metadata": {
        "id": "deTT6ZSckjGD"
      },
      "source": [
        "# Fitting the model\n",
        "ECG_30k_segmented_model_his = ECG_30k_segmented_model.fit(input_train, output_train,\n",
        "                                                          batch_size = batch_size , epochs = epochs, \n",
        "                                                          validation_data = (input_val, output_val),\n",
        "                                                          # class_weight=class_weight_dict_1,\n",
        "                                                          callbacks=[early_stop, reduce_lr,model_save])"
      ],
      "execution_count": null,
      "outputs": []
    },
    {
      "cell_type": "code",
      "metadata": {
        "id": "ZzqLx6LrkjGE"
      },
      "source": [
        "ECG_30k_segmented_model.save('Training_models/ECG_30k_original/Model_2/ECG.final_run.hdf5')"
      ],
      "execution_count": null,
      "outputs": []
    },
    {
      "cell_type": "code",
      "metadata": {
        "id": "rzIdRsgBkjGE"
      },
      "source": [
        "# list all data in history\n",
        "# print(model_history.history.keys())\n",
        "\n",
        "model_history = ECG_30k_segmented_model_his\n",
        "\n",
        "# summarize history for accuracy\n",
        "plt.plot(model_history.history['binary_accuracy'])\n",
        "plt.plot(model_history.history['val_binary_accuracy'])\n",
        "plt.title('Model Accuracy')\n",
        "plt.ylabel('Accuracy')\n",
        "plt.xlabel('Epoch')\n",
        "# plt.ylim([0.60, 1.00])\n",
        "plt.legend(['Training', 'Validation'], loc='lower right')\n",
        "plt.show()\n",
        "\n",
        "# summarize history for loss\n",
        "plt.plot(model_history.history['loss'])\n",
        "plt.plot(model_history.history['val_loss'])\n",
        "plt.title('Model Loss')\n",
        "plt.ylabel('Loss')\n",
        "plt.xlabel('Epoch')\n",
        "plt.legend(['Training', 'Validation'], loc='best')\n",
        "plt.show()"
      ],
      "execution_count": null,
      "outputs": []
    },
    {
      "cell_type": "markdown",
      "metadata": {
        "id": "okg-ywNgkjGF"
      },
      "source": [
        "Model Evaluation"
      ]
    },
    {
      "cell_type": "code",
      "metadata": {
        "id": "3xKr-WYTkjGF"
      },
      "source": [
        "# Load the Final model\n",
        "model = keras.models.load_model('Training_models/ECG_30k_original/Model_2/ECG.epoch_39.TL_0.1255.VL_0.0508.TA_0.96.VA_0.99.hdf5')\n",
        "\n",
        "test_scores = model.evaluate(input_test, output_test, verbose = 0)\n",
        "print(\"Test loss:\", test_scores[0])               # 0.1305         \n",
        "print(\"Test accuracy:\", test_scores[1])           # 0.9650"
      ],
      "execution_count": null,
      "outputs": []
    },
    {
      "cell_type": "code",
      "metadata": {
        "id": "8FMmWP30kjGF"
      },
      "source": [
        "yhat = model.predict_classes(input_test)\n",
        "\n",
        "conf_matrix = confusion_matrix(output_test,yhat)"
      ],
      "execution_count": null,
      "outputs": []
    },
    {
      "cell_type": "code",
      "metadata": {
        "id": "DmU0Qm1tkjGG"
      },
      "source": [
        "# Print the confusion matrix using Matplotlib\n",
        "\n",
        "fig, ax = plt.subplots()\n",
        "ax.matshow(conf_matrix, cmap=plt.cm.Blues, alpha=0.3)\n",
        "for i in range(conf_matrix.shape[0]):\n",
        "    for j in range(conf_matrix.shape[1]):\n",
        "        ax.text(x=j, y=i,s=conf_matrix[i, j], va='center', ha='center', size='xx-large')\n",
        " \n",
        "plt.xlabel('Predictions', fontsize=18)\n",
        "plt.ylabel('Actuals', fontsize=18)\n",
        "plt.title('Confusion Matrix', fontsize=18)\n",
        "plt.show()"
      ],
      "execution_count": null,
      "outputs": []
    },
    {
      "cell_type": "code",
      "metadata": {
        "id": "eLIR5CP_kjGG"
      },
      "source": [
        "accuracy = accuracy_score(output_test, yhat)\n",
        "print('Accuracy:\\t\\t', round(accuracy,4))\n",
        "\n",
        "# precision tp / (tp + fp)\n",
        "precision = precision_score(output_test, yhat)\n",
        "print('Precision:\\t\\t', round(precision,4))\n",
        "\n",
        "# recall: tp / (tp + fn)\n",
        "recall = recall_score(output_test, yhat)\n",
        "print('Recall: \\t\\t', round(recall,4))\n",
        "\n",
        "# f1: 2 tp / (2 tp + fp + fn)\n",
        "f1 = f1_score(output_test, yhat)\n",
        "print('F1 score:\\t\\t', round(f1,4))"
      ],
      "execution_count": null,
      "outputs": []
    },
    {
      "cell_type": "markdown",
      "metadata": {
        "id": "phEsFvsmPnca"
      },
      "source": [
        "## 1.2 Model using Afib Butterworth "
      ]
    },
    {
      "cell_type": "code",
      "metadata": {
        "id": "Loc8B9DfP0yc"
      },
      "source": [
        "input_train, output_train, input_test, output_test, input_val, output_val = \\\n",
        "prepare_data(galenband_ECG_30k_segmented_butter_afib, 30000, test_prop = 0.3, val_prop = 0.6)"
      ],
      "execution_count": null,
      "outputs": []
    },
    {
      "cell_type": "code",
      "metadata": {
        "id": "Dh32ar55P0yc"
      },
      "source": [
        "print(\"input train shape:\\t \", input_train.shape)\n",
        "print(\"output train shape:\\t \", output_train.shape)\n",
        "\n",
        "print(\"\\ninput test shape:\\t \", input_test.shape)\n",
        "print(\"output test shape:\\t \", output_test.shape)\n",
        "\n",
        "print(\"\\ninput val shape:\\t \", input_val.shape)\n",
        "print(\"output val shape:\\t \", output_val.shape)"
      ],
      "execution_count": null,
      "outputs": []
    },
    {
      "cell_type": "code",
      "metadata": {
        "id": "I8nmCtQyP0yd"
      },
      "source": [
        "class_weights = class_weight.compute_class_weight('balanced',np.unique(output_train.flatten()), output_train.flatten())\n",
        "\n",
        "class_weight_dict = dict(enumerate(class_weights))\n",
        "\n",
        "class_weight_dict"
      ],
      "execution_count": null,
      "outputs": []
    },
    {
      "cell_type": "code",
      "metadata": {
        "id": "NCY-ZTL2P0yd"
      },
      "source": [
        "# Defining parameter values\n",
        "epochs          = 200\n",
        "batch_size      = 16"
      ],
      "execution_count": null,
      "outputs": []
    },
    {
      "cell_type": "code",
      "metadata": {
        "id": "SsTrhWmmP0yd"
      },
      "source": [
        "# Load the saved model\n",
        "base_model  = keras.models.load_model('Training_models/CNN-LSTM Normal data/Model 4_1/ECG.epoch_25.TL_0.2977.VL_0.2020.TA_0.93.VA_0.94.hdf5')\n",
        "weights     = base_model.get_weights()"
      ],
      "execution_count": null,
      "outputs": []
    },
    {
      "cell_type": "code",
      "metadata": {
        "id": "4KKKn0zwP0ye"
      },
      "source": [
        "ECG_30k_butter_afib = Sequential()\n",
        "\n",
        "# 64, 64, 32, 16, 8, 32\n",
        "\n",
        "input_shape = (30000, 1)\n",
        "ECG_30k_butter_afib.add(InputLayer(input_shape=input_shape))\n",
        "\n",
        "ECG_30k_butter_afib.add(Conv1D(64, 2,padding='causal', activation=\"tanh\"))\n",
        "ECG_30k_butter_afib.add(MaxPooling1D(2))\n",
        "\n",
        "ECG_30k_butter_afib.add(Conv1D(64, 2,padding='same', activation=\"tanh\"))\n",
        "ECG_30k_butter_afib.add(MaxPooling1D(2))\n",
        "\n",
        "ECG_30k_butter_afib.add(LSTM(32,activation = \"tanh\", return_sequences = True))\n",
        "ECG_30k_butter_afib.add(LSTM(16, activation = \"tanh\", return_sequences = True))\n",
        "ECG_30k_butter_afib.add(LSTM(8, activation = \"tanh\"))\n",
        "\n",
        "ECG_30k_butter_afib.add(Dense(32, activation='tanh'))\n",
        "ECG_30k_butter_afib.add(BatchNormalization())\n",
        "ECG_30k_butter_afib.add(Dense(1, activation = 'sigmoid'))\n",
        "\n",
        "ECG_30k_butter_afib.summary()\n",
        "\n",
        "# set weights\n",
        "ECG_30k_butter_afib.set_weights(weights)"
      ],
      "execution_count": null,
      "outputs": []
    },
    {
      "cell_type": "code",
      "metadata": {
        "id": "R6OgykKOP0ye"
      },
      "source": [
        "# model training configuration \n",
        "ECG_30k_butter_afib.compile(optimizer = keras.optimizers.Adam(),\n",
        "                                loss      = keras.losses.BinaryCrossentropy(),\n",
        "                                metrics   = [keras.metrics.BinaryAccuracy()])\n",
        "\n",
        "#SGD(learning_rate=0.01, decay=1e-6, momentum=0.9, nesterov=True)\n",
        "\n",
        "# Callback to reduce the learning rate when the validation loss has stopped improving\n",
        "reduce_lr = keras.callbacks.ReduceLROnPlateau(monitor = 'val_loss', factor = 0.1, patience = 25, mode = 'min')\n",
        "\n",
        "# Callback to stop training the model when the validation loss has stopped improving\n",
        "early_stop = keras.callbacks.EarlyStopping(monitor = 'val_loss', patience = 35, mode = 'min')\n",
        "\n",
        "# CHECKPOINT callback\n",
        "filepath = \"Training_models/ECG_30k_butter_afib/Model_1/ECG.epoch_{epoch:02d}.TL_{loss:.4f}.VL_{val_loss:.4f}.TA_{binary_accuracy:.2f}.VA_{val_binary_accuracy:.2f}.hdf5\"\n",
        "\n",
        "# Save training model when there is an improvement in validation_accuracy from the previous checkpint\n",
        "model_save = keras.callbacks.ModelCheckpoint(filepath, \n",
        "                                             monitor = 'val_binary_accuracy',\n",
        "                                             save_best_only=True, \n",
        "                                             mode = 'max')\n",
        "\n",
        "\n"
      ],
      "execution_count": null,
      "outputs": []
    },
    {
      "cell_type": "code",
      "metadata": {
        "id": "L1HDOR1AP0ye"
      },
      "source": [
        "# Fitting the model\n",
        "ECG_30k_butter_afib_his = ECG_30k_butter_afib.fit(input_train, output_train,\n",
        "                                                          batch_size = batch_size , epochs = epochs, \n",
        "                                                          validation_data = (input_val, output_val),\n",
        "                                                          # class_weight=class_weight_dict_1,\n",
        "                                                          callbacks=[early_stop, reduce_lr,model_save])\n",
        "\n",
        "ECG_30k_butter_afib.save('Training_models/ECG_30k_butter_afib/Model_1/ECG.final_run.hdf5')"
      ],
      "execution_count": null,
      "outputs": []
    },
    {
      "cell_type": "code",
      "metadata": {
        "id": "u9N6w6mEP0yf"
      },
      "source": [
        "# list all data in history\n",
        "# print(model_history.history.keys())\n",
        "\n",
        "model_history = ECG_30k_butter_afib_his\n",
        "\n",
        "# summarize history for accuracy\n",
        "plt.plot(model_history.history['binary_accuracy'])\n",
        "plt.plot(model_history.history['val_binary_accuracy'])\n",
        "plt.title('Model Accuracy')\n",
        "plt.ylabel('Accuracy')\n",
        "plt.xlabel('Epoch')\n",
        "# plt.ylim([0.60, 1.00])\n",
        "plt.legend(['Training', 'Validation'], loc='lower right')\n",
        "plt.show()\n",
        "\n",
        "# summarize history for loss\n",
        "plt.plot(model_history.history['loss'])\n",
        "plt.plot(model_history.history['val_loss'])\n",
        "plt.title('Model Loss')\n",
        "plt.ylabel('Loss')\n",
        "plt.xlabel('Epoch')\n",
        "plt.legend(['Training', 'Validation'], loc='best')\n",
        "plt.show()"
      ],
      "execution_count": null,
      "outputs": []
    },
    {
      "cell_type": "markdown",
      "metadata": {
        "id": "c1UOnepdP0yf"
      },
      "source": [
        "Model Evaluation"
      ]
    },
    {
      "cell_type": "code",
      "metadata": {
        "id": "glRHxTNNP0yf"
      },
      "source": [
        "# Load the Final model\n",
        "model = keras.models.load_model('Training_models/ECG_30k_butter_afib/Model_1/ECG.epoch_14.TL_0.0600.VL_0.0162.TA_0.99.VA_1.00.hdf5')\n",
        "\n",
        "test_scores = model.evaluate(input_test, output_test, verbose = 0)\n",
        "print(\"Test loss:\", test_scores[0])               # 0.1305         \n",
        "print(\"Test accuracy:\", test_scores[1])           # 0.9650"
      ],
      "execution_count": null,
      "outputs": []
    },
    {
      "cell_type": "code",
      "metadata": {
        "id": "TPgHnORSP0yg"
      },
      "source": [
        "yhat = model.predict_classes(input_test)\n",
        "\n",
        "conf_matrix = confusion_matrix(output_test,yhat)"
      ],
      "execution_count": null,
      "outputs": []
    },
    {
      "cell_type": "code",
      "metadata": {
        "id": "p_pkf2UlP0yg"
      },
      "source": [
        "# Print the confusion matrix using Matplotlib\n",
        "\n",
        "fig, ax = plt.subplots()\n",
        "ax.matshow(conf_matrix, cmap=plt.cm.Blues, alpha=0.3)\n",
        "for i in range(conf_matrix.shape[0]):\n",
        "    for j in range(conf_matrix.shape[1]):\n",
        "        ax.text(x=j, y=i,s=conf_matrix[i, j], va='center', ha='center', size='xx-large')\n",
        " \n",
        "plt.xlabel('Predictions', fontsize=18)\n",
        "plt.ylabel('Actuals', fontsize=18)\n",
        "plt.title('Confusion Matrix', fontsize=18)\n",
        "plt.show()"
      ],
      "execution_count": null,
      "outputs": []
    },
    {
      "cell_type": "code",
      "metadata": {
        "id": "wgU4ycwxP0yg"
      },
      "source": [
        "accuracy = accuracy_score(output_test, yhat)\n",
        "print('Accuracy:\\t\\t', round(accuracy,4))\n",
        "\n",
        "# precision tp / (tp + fp)\n",
        "precision = precision_score(output_test, yhat)\n",
        "print('Precision:\\t\\t', round(precision,4))\n",
        "\n",
        "# recall: tp / (tp + fn)\n",
        "recall = recall_score(output_test, yhat)\n",
        "print('Recall: \\t\\t', round(recall,4))\n",
        "\n",
        "# f1: 2 tp / (2 tp + fp + fn)\n",
        "f1 = f1_score(output_test, yhat)\n",
        "print('F1 score:\\t\\t', round(f1,4))"
      ],
      "execution_count": null,
      "outputs": []
    },
    {
      "cell_type": "code",
      "metadata": {
        "id": "ANIgEnlpQpui"
      },
      "source": [
        ""
      ],
      "execution_count": null,
      "outputs": []
    }
  ]
}